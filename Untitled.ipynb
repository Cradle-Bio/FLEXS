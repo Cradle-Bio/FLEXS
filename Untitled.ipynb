{
 "cells": [
  {
   "cell_type": "code",
   "execution_count": 1,
   "metadata": {},
   "outputs": [],
   "source": [
    "%load_ext autoreload\n",
    "%autoreload 2"
   ]
  },
  {
   "cell_type": "code",
   "execution_count": 27,
   "metadata": {},
   "outputs": [],
   "source": [
    "from models.Ground_truth_oracles.Protein_landscape_models import Protein_landscape_folding_energy\n",
    "\n",
    "gt_oracle = Protein_landscape_folding_energy('data/Protein_landscapes/folding_landscapes/3msi.pdb')\n",
    "original_seq = gt_oracle.pose.sequence()"
   ]
  },
  {
   "cell_type": "code",
   "execution_count": 28,
   "metadata": {},
   "outputs": [
    {
     "name": "stdout",
     "output_type": "stream",
     "text": [
      "ACACAAACAAAAAAAAAAAAAAAAAAAAAAAAAACAAAAAAAAAAAAACAAAAAAAAAAAAAAACC\n",
      "376.9050250072801\n"
     ]
    }
   ],
   "source": [
    "energy = gt_oracle.get_fitness(original_seq)\n",
    "\n",
    "print(gt_oracle.pose.sequence())\n",
    "print(energy)"
   ]
  },
  {
   "cell_type": "code",
   "execution_count": 29,
   "metadata": {},
   "outputs": [
    {
     "name": "stdout",
     "output_type": "stream",
     "text": [
      "VCACAAACAAAAAAAAAAAAAAAAAAAAAAAAAACAAAAAAAAAAAAACAAAAAAAAAAAAAAACC\n",
      "416.6900910082058\n"
     ]
    }
   ],
   "source": [
    "new_seq = 'V' + original_seq[1:]\n",
    "energy = gt_oracle.get_fitness(new_seq)\n",
    "\n",
    "print(gt_oracle.pose.sequence())\n",
    "print(energy)"
   ]
  },
  {
   "cell_type": "code",
   "execution_count": 30,
   "metadata": {},
   "outputs": [
    {
     "name": "stdout",
     "output_type": "stream",
     "text": [
      "ACACAAACAAAAAAAAAAAAAAAAAAAAAAAAAACAAAAAAAAAAAAACAAAAAAAAAAAAAAACC\n",
      "376.88360500908993\n"
     ]
    }
   ],
   "source": [
    "energy = gt_oracle.get_fitness(original_seq)\n",
    "\n",
    "print(gt_oracle.pose.sequence())\n",
    "print(energy)"
   ]
  },
  {
   "cell_type": "code",
   "execution_count": 31,
   "metadata": {},
   "outputs": [
    {
     "name": "stdout",
     "output_type": "stream",
     "text": [
      "VCACAAACAAAAAAAAAAAAAAAAAAAAAAAAAACAAAAAAAAAAAAACAAAAAAAAAAAAAAACC\n",
      "416.6900910082058\n"
     ]
    }
   ],
   "source": [
    "energy = gt_oracle.get_fitness(new_seq)\n",
    "\n",
    "print(gt_oracle.pose.sequence())\n",
    "print(energy)"
   ]
  },
  {
   "cell_type": "code",
   "execution_count": 20,
   "metadata": {},
   "outputs": [
    {
     "data": {
      "text/plain": [
       "'MAQASVVANQLIPINTHLTLVMMRSEVVTPVGIPAEDIPRLVSMQVNRAVPLGTTLMPDMVKGYAA'"
      ]
     },
     "execution_count": 20,
     "metadata": {},
     "output_type": "execute_result"
    }
   ],
   "source": [
    "import pyrosetta as prs\n",
    "\n",
    "pose = prs.pose_from_pdb('data/Protein_landscapes/folding_landscapes/3msi.pdb')\n",
    "pose.sequence()"
   ]
  },
  {
   "cell_type": "code",
   "execution_count": 24,
   "metadata": {},
   "outputs": [],
   "source": [
    "mut_res_mover = prs.rosetta.protocols.simple_moves.MutateResidue(\n",
    "    target=40,\n",
    "    new_res='GLU')\n",
    "mut_res_mover.apply(pose)"
   ]
  },
  {
   "cell_type": "code",
   "execution_count": 25,
   "metadata": {},
   "outputs": [
    {
     "name": "stdout",
     "output_type": "stream",
     "text": [
      "1 66\n",
      "2 66\n",
      "3 66\n",
      "4 66\n",
      "5 66\n",
      "6 66\n",
      "7 66\n",
      "8 66\n",
      "9 66\n",
      "10 66\n",
      "11 66\n",
      "12 66\n",
      "13 66\n",
      "14 66\n",
      "15 66\n",
      "16 66\n",
      "17 66\n",
      "18 66\n",
      "19 66\n",
      "20 66\n",
      "21 66\n",
      "22 66\n",
      "23 66\n",
      "24 66\n",
      "25 66\n",
      "26 66\n",
      "27 66\n",
      "28 66\n",
      "29 66\n",
      "30 66\n",
      "31 66\n",
      "32 66\n",
      "33 66\n",
      "34 66\n",
      "35 66\n",
      "36 66\n",
      "37 66\n",
      "38 66\n",
      "39 66\n",
      "40 66\n",
      "41 66\n",
      "42 66\n",
      "43 66\n",
      "44 66\n",
      "45 66\n",
      "46 66\n",
      "47 66\n",
      "48 66\n",
      "49 66\n",
      "50 66\n",
      "51 66\n",
      "52 66\n",
      "53 66\n",
      "54 66\n",
      "55 66\n",
      "56 66\n",
      "57 66\n",
      "58 66\n",
      "59 66\n",
      "60 66\n",
      "61 66\n",
      "62 66\n",
      "63 66\n",
      "64 66\n",
      "65 66\n",
      "66 66\n"
     ]
    }
   ],
   "source": [
    "for i, wt_aa in enumerate(pose.sequence()):\n",
    "    print(i + 1, len(pose.sequence()))\n",
    "    new_aa = 'ASP' if wt_aa != 'A' else 'CYS'\n",
    "    mut_res_mover = prs.rosetta.protocols.simple_moves.MutateResidue(\n",
    "        target=i+1,\n",
    "        new_res=new_aa)\n",
    "    mut_res_mover.apply(pose)"
   ]
  },
  {
   "cell_type": "code",
   "execution_count": 33,
   "metadata": {},
   "outputs": [
    {
     "name": "stdout",
     "output_type": "stream",
     "text": [
      "loading landscapes RNA: [], TF: [], Protein: [1], GFP: [], Additive: None\n"
     ]
    },
    {
     "ename": "FileNotFoundError",
     "evalue": "[Errno 2] No such file or directory: '../data/RNA_landscapes/RNA_landscape_config.yaml'",
     "output_type": "error",
     "traceback": [
      "\u001b[0;31m---------------------------------------------------------------------------\u001b[0m",
      "\u001b[0;31mFileNotFoundError\u001b[0m                         Traceback (most recent call last)",
      "\u001b[0;32m<ipython-input-33-62efc04d88c3>\u001b[0m in \u001b[0;36m<module>\u001b[0;34m\u001b[0m\n\u001b[1;32m     19\u001b[0m     \u001b[0mbo_explorer_prod\u001b[0m\u001b[0;34m,\u001b[0m\u001b[0;34m\u001b[0m\u001b[0;34m\u001b[0m\u001b[0m\n\u001b[1;32m     20\u001b[0m     \u001b[0mlandscape_types\u001b[0m\u001b[0;34m=\u001b[0m\u001b[0mLANDSCAPE_TYPES_PROTEIN\u001b[0m\u001b[0;34m,\u001b[0m\u001b[0;34m\u001b[0m\u001b[0;34m\u001b[0m\u001b[0m\n\u001b[0;32m---> 21\u001b[0;31m     \u001b[0mpath\u001b[0m\u001b[0;34m=\u001b[0m\u001b[0;34m\"simulations/Protein/eval_greedy/\"\u001b[0m\u001b[0;34m,\u001b[0m\u001b[0;34m\u001b[0m\u001b[0;34m\u001b[0m\u001b[0m\n\u001b[0m\u001b[1;32m     22\u001b[0m )\n\u001b[1;32m     23\u001b[0m \u001b[0mevaluator_bo\u001b[0m\u001b[0;34m.\u001b[0m\u001b[0mevaluate_for_landscapes\u001b[0m\u001b[0;34m(\u001b[0m\u001b[0mevaluator_bo\u001b[0m\u001b[0;34m.\u001b[0m\u001b[0mefficiency\u001b[0m\u001b[0;34m,\u001b[0m \u001b[0mnum_starts\u001b[0m\u001b[0;34m=\u001b[0m\u001b[0;36m3\u001b[0m\u001b[0;34m)\u001b[0m\u001b[0;34m\u001b[0m\u001b[0;34m\u001b[0m\u001b[0m\n",
      "\u001b[0;32m~/Downloads/FLSD-Sandbox/evaluators/Evaluator.py\u001b[0m in \u001b[0;36m__init__\u001b[0;34m(self, explorer, landscape_types, path, ML_ensemble, adaptive_ensemble)\u001b[0m\n\u001b[1;32m     57\u001b[0m             \u001b[0mself\u001b[0m\u001b[0;34m.\u001b[0m\u001b[0mML_ensemble\u001b[0m \u001b[0;34m=\u001b[0m \u001b[0mself\u001b[0m\u001b[0;34m.\u001b[0m\u001b[0mload_ensemble\u001b[0m\u001b[0;34m(\u001b[0m\u001b[0mML_ensemble\u001b[0m\u001b[0;34m)\u001b[0m\u001b[0;34m\u001b[0m\u001b[0;34m\u001b[0m\u001b[0m\n\u001b[1;32m     58\u001b[0m         \u001b[0mself\u001b[0m\u001b[0;34m.\u001b[0m\u001b[0madaptive\u001b[0m \u001b[0;34m=\u001b[0m \u001b[0madaptive_ensemble\u001b[0m\u001b[0;34m\u001b[0m\u001b[0;34m\u001b[0m\u001b[0m\n\u001b[0;32m---> 59\u001b[0;31m         \u001b[0mself\u001b[0m\u001b[0;34m.\u001b[0m\u001b[0mload_landscapes\u001b[0m\u001b[0;34m(\u001b[0m\u001b[0;34m)\u001b[0m\u001b[0;34m\u001b[0m\u001b[0;34m\u001b[0m\u001b[0m\n\u001b[0m\u001b[1;32m     60\u001b[0m \u001b[0;34m\u001b[0m\u001b[0m\n\u001b[1;32m     61\u001b[0m     \u001b[0;32mdef\u001b[0m \u001b[0mload_landscapes\u001b[0m\u001b[0;34m(\u001b[0m\u001b[0mself\u001b[0m\u001b[0;34m)\u001b[0m\u001b[0;34m:\u001b[0m\u001b[0;34m\u001b[0m\u001b[0;34m\u001b[0m\u001b[0m\n",
      "\u001b[0;32m~/Downloads/FLSD-Sandbox/evaluators/Evaluator.py\u001b[0m in \u001b[0;36mload_landscapes\u001b[0;34m(self)\u001b[0m\n\u001b[1;32m     76\u001b[0m             RNALconstructor.load_landscapes(\n\u001b[1;32m     77\u001b[0m                 \u001b[0;34m\"../data/RNA_landscapes/RNA_landscape_config.yaml\"\u001b[0m\u001b[0;34m,\u001b[0m\u001b[0;34m\u001b[0m\u001b[0;34m\u001b[0m\u001b[0m\n\u001b[0;32m---> 78\u001b[0;31m                 \u001b[0mlandscapes_to_test\u001b[0m\u001b[0;34m=\u001b[0m\u001b[0mself\u001b[0m\u001b[0;34m.\u001b[0m\u001b[0mlandscape_types\u001b[0m\u001b[0;34m[\u001b[0m\u001b[0;34m\"RNA\"\u001b[0m\u001b[0;34m]\u001b[0m\u001b[0;34m,\u001b[0m\u001b[0;34m\u001b[0m\u001b[0;34m\u001b[0m\u001b[0m\n\u001b[0m\u001b[1;32m     79\u001b[0m             )\n\u001b[1;32m     80\u001b[0m             self.landscape_generator[\n",
      "\u001b[0;32m~/Downloads/FLSD-Sandbox/models/Ground_truth_oracles/RNA_landscape_models.py\u001b[0m in \u001b[0;36mload_landscapes\u001b[0;34m(self, config_file, landscapes_to_test)\u001b[0m\n\u001b[1;32m     16\u001b[0m \u001b[0;34m\u001b[0m\u001b[0m\n\u001b[1;32m     17\u001b[0m     \u001b[0;32mdef\u001b[0m \u001b[0mload_landscapes\u001b[0m\u001b[0;34m(\u001b[0m\u001b[0mself\u001b[0m\u001b[0;34m,\u001b[0m \u001b[0mconfig_file\u001b[0m\u001b[0;34m,\u001b[0m \u001b[0mlandscapes_to_test\u001b[0m\u001b[0;34m=\u001b[0m\u001b[0;32mNone\u001b[0m\u001b[0;34m)\u001b[0m\u001b[0;34m:\u001b[0m\u001b[0;34m\u001b[0m\u001b[0;34m\u001b[0m\u001b[0m\n\u001b[0;32m---> 18\u001b[0;31m         \u001b[0;32mwith\u001b[0m \u001b[0mopen\u001b[0m\u001b[0;34m(\u001b[0m\u001b[0mconfig_file\u001b[0m\u001b[0;34m)\u001b[0m \u001b[0;32mas\u001b[0m \u001b[0mcfgfile\u001b[0m\u001b[0;34m:\u001b[0m\u001b[0;34m\u001b[0m\u001b[0;34m\u001b[0m\u001b[0m\n\u001b[0m\u001b[1;32m     19\u001b[0m             \u001b[0mself\u001b[0m\u001b[0;34m.\u001b[0m\u001b[0mloaded_landscapes\u001b[0m \u001b[0;34m=\u001b[0m \u001b[0myaml\u001b[0m\u001b[0;34m.\u001b[0m\u001b[0mload\u001b[0m\u001b[0;34m(\u001b[0m\u001b[0mcfgfile\u001b[0m\u001b[0;34m)\u001b[0m\u001b[0;34m\u001b[0m\u001b[0;34m\u001b[0m\u001b[0m\n\u001b[1;32m     20\u001b[0m \u001b[0;34m\u001b[0m\u001b[0m\n",
      "\u001b[0;31mFileNotFoundError\u001b[0m: [Errno 2] No such file or directory: '../data/RNA_landscapes/RNA_landscape_config.yaml'"
     ]
    }
   ],
   "source": [
    "%autoreload 2\n",
    "import sys\n",
    "\n",
    "sys.path.append(\"../\")\n",
    "from utils.sequence_utils import generate_random_mutant\n",
    "from utils.model_architectures import Linear, NLNN, CNNa\n",
    "from models.Noisy_models.Neural_network_models import NN_model\n",
    "from models.Ground_truth_oracles.RNA_landscape_models import RNA_landscape_constructor\n",
    "from models.Noisy_models.Ensemble import Ensemble_models\n",
    "from evaluators.Evaluator import Evaluator\n",
    "from models.Ground_truth_oracles.TF_binding_landscape_models import *\n",
    "from utils.sequence_utils import AAS\n",
    "from explorers.elitist_explorers import Greedy\n",
    "\n",
    "LANDSCAPE_TYPES_PROTEIN = {\"RNA\": [], \"TF\": [], \"Protein\": [1], \"GFP\": []}\n",
    "bo_explorer_prod = Greedy(virtual_screen=20, alphabet=AAS)\n",
    "bo_explorer_prod.debug = False\n",
    "evaluator_bo = Evaluator(\n",
    "    bo_explorer_prod,\n",
    "    landscape_types=LANDSCAPE_TYPES_PROTEIN,\n",
    "    path=\"simulations/Protein/eval_greedy/\",\n",
    ")\n",
    "evaluator_bo.evaluate_for_landscapes(evaluator_bo.efficiency, num_starts=3)\n"
   ]
  },
  {
   "cell_type": "code",
   "execution_count": null,
   "metadata": {},
   "outputs": [],
   "source": []
  }
 ],
 "metadata": {
  "kernelspec": {
   "display_name": "Python 3",
   "language": "python",
   "name": "python3"
  },
  "language_info": {
   "codemirror_mode": {
    "name": "ipython",
    "version": 3
   },
   "file_extension": ".py",
   "mimetype": "text/x-python",
   "name": "python",
   "nbconvert_exporter": "python",
   "pygments_lexer": "ipython3",
   "version": "3.7.6"
  }
 },
 "nbformat": 4,
 "nbformat_minor": 4
}
