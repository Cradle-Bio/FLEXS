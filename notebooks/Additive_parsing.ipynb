{
 "cells": [
  {
   "cell_type": "code",
   "execution_count": 1,
   "metadata": {},
   "outputs": [],
   "source": [
    "%reload_ext autoreload\n",
    "%autoreload 2\n",
    "%matplotlib inline\n",
    "import editdistance\n",
    "import matplotlib.pyplot as plt\n",
    "import seaborn as sns\n",
    "import pandas as pd"
   ]
  },
  {
   "cell_type": "code",
   "execution_count": 2,
   "metadata": {},
   "outputs": [],
   "source": [
    "data=pd.read_csv(\"data/Additive_landscape/bio_distr_parsed.csv\")"
   ]
  },
  {
   "cell_type": "code",
   "execution_count": 3,
   "metadata": {},
   "outputs": [
    {
     "data": {
      "text/plain": [
       "Index(['Unnamed: 0', 'abs_pos', 'tile_num', 'aa', 'is_wt_aa', 'is_wt_codon',\n",
       "       'wt_bc', 'lib_type', 'enzyme', 'codon', 'aa-codon', 'CMV_plasmid',\n",
       "       'CMV_virus', 'CMV_log2_packaging', 'CMV_log2_packaging_v_tile_wt',\n",
       "       'CMV_log2_packaging_v_wt', 'Rep_plasmid', 'Rep_virus',\n",
       "       'Rep_log2_packaging', 'Rep_log2_packaging_v_tile_wt',\n",
       "       'Rep_log2_packaging_v_wt', 'mean_log2_packaging_v_tile_wt',\n",
       "       'mean_log2_packaging_v_wt', 'GP_heart', 'log2_GP_heart',\n",
       "       'log2_GP_heart_v_wt', 'GP_kidney', 'log2_GP_kidney',\n",
       "       'log2_GP_kidney_v_wt', 'GP_lung', 'log2_GP_lung', 'log2_GP_lung_v_wt',\n",
       "       'mini_heart', 'log2_mini_heart', 'log2_mini_heart_v_wt', 'mini_kidney',\n",
       "       'log2_mini_kidney', 'log2_mini_kidney_v_wt', 'mini_lung',\n",
       "       'log2_mini_lung', 'log2_mini_lung_v_wt', 'qiagen_blood',\n",
       "       'log2_qiagen_blood', 'log2_qiagen_blood_v_wt', 'qiagen_liver',\n",
       "       'log2_qiagen_liver', 'log2_qiagen_liver_v_wt', 'qiagen_spleen',\n",
       "       'log2_qiagen_spleen', 'log2_qiagen_spleen_v_wt'],\n",
       "      dtype='object')"
      ]
     },
     "execution_count": 3,
     "metadata": {},
     "output_type": "execute_result"
    }
   ],
   "source": [
    "data.columns"
   ]
  },
  {
   "cell_type": "code",
   "execution_count": 4,
   "metadata": {},
   "outputs": [
    {
     "data": {
      "text/plain": [
       "125183"
      ]
     },
     "execution_count": 4,
     "metadata": {},
     "output_type": "execute_result"
    }
   ],
   "source": [
    "len(data)"
   ]
  },
  {
   "cell_type": "code",
   "execution_count": 21,
   "metadata": {},
   "outputs": [
    {
     "data": {
      "text/html": [
       "<div>\n",
       "<style scoped>\n",
       "    .dataframe tbody tr th:only-of-type {\n",
       "        vertical-align: middle;\n",
       "    }\n",
       "\n",
       "    .dataframe tbody tr th {\n",
       "        vertical-align: top;\n",
       "    }\n",
       "\n",
       "    .dataframe thead th {\n",
       "        text-align: right;\n",
       "    }\n",
       "</style>\n",
       "<table border=\"1\" class=\"dataframe\">\n",
       "  <thead>\n",
       "    <tr style=\"text-align: right;\">\n",
       "      <th></th>\n",
       "      <th>log2_GP_heart</th>\n",
       "      <th>log2_GP_heart_v_wt</th>\n",
       "      <th>log2_GP_kidney</th>\n",
       "      <th>log2_GP_kidney_v_wt</th>\n",
       "      <th>log2_GP_lung</th>\n",
       "      <th>log2_GP_lung_v_wt</th>\n",
       "    </tr>\n",
       "  </thead>\n",
       "  <tbody>\n",
       "    <tr>\n",
       "      <th>log2_GP_heart</th>\n",
       "      <td>1.000000</td>\n",
       "      <td>1.000000</td>\n",
       "      <td>0.105389</td>\n",
       "      <td>0.125064</td>\n",
       "      <td>0.098331</td>\n",
       "      <td>0.096733</td>\n",
       "    </tr>\n",
       "    <tr>\n",
       "      <th>log2_GP_heart_v_wt</th>\n",
       "      <td>1.000000</td>\n",
       "      <td>1.000000</td>\n",
       "      <td>0.153473</td>\n",
       "      <td>0.239755</td>\n",
       "      <td>0.069715</td>\n",
       "      <td>0.255468</td>\n",
       "    </tr>\n",
       "    <tr>\n",
       "      <th>log2_GP_kidney</th>\n",
       "      <td>0.105389</td>\n",
       "      <td>0.153473</td>\n",
       "      <td>1.000000</td>\n",
       "      <td>1.000000</td>\n",
       "      <td>0.215506</td>\n",
       "      <td>0.259739</td>\n",
       "    </tr>\n",
       "    <tr>\n",
       "      <th>log2_GP_kidney_v_wt</th>\n",
       "      <td>0.125064</td>\n",
       "      <td>0.239755</td>\n",
       "      <td>1.000000</td>\n",
       "      <td>1.000000</td>\n",
       "      <td>0.222025</td>\n",
       "      <td>0.385616</td>\n",
       "    </tr>\n",
       "    <tr>\n",
       "      <th>log2_GP_lung</th>\n",
       "      <td>0.098331</td>\n",
       "      <td>0.069715</td>\n",
       "      <td>0.215506</td>\n",
       "      <td>0.222025</td>\n",
       "      <td>1.000000</td>\n",
       "      <td>1.000000</td>\n",
       "    </tr>\n",
       "    <tr>\n",
       "      <th>log2_GP_lung_v_wt</th>\n",
       "      <td>0.096733</td>\n",
       "      <td>0.255468</td>\n",
       "      <td>0.259739</td>\n",
       "      <td>0.385616</td>\n",
       "      <td>1.000000</td>\n",
       "      <td>1.000000</td>\n",
       "    </tr>\n",
       "  </tbody>\n",
       "</table>\n",
       "</div>"
      ],
      "text/plain": [
       "                     log2_GP_heart  log2_GP_heart_v_wt  log2_GP_kidney  \\\n",
       "log2_GP_heart             1.000000            1.000000        0.105389   \n",
       "log2_GP_heart_v_wt        1.000000            1.000000        0.153473   \n",
       "log2_GP_kidney            0.105389            0.153473        1.000000   \n",
       "log2_GP_kidney_v_wt       0.125064            0.239755        1.000000   \n",
       "log2_GP_lung              0.098331            0.069715        0.215506   \n",
       "log2_GP_lung_v_wt         0.096733            0.255468        0.259739   \n",
       "\n",
       "                     log2_GP_kidney_v_wt  log2_GP_lung  log2_GP_lung_v_wt  \n",
       "log2_GP_heart                   0.125064      0.098331           0.096733  \n",
       "log2_GP_heart_v_wt              0.239755      0.069715           0.255468  \n",
       "log2_GP_kidney                  1.000000      0.215506           0.259739  \n",
       "log2_GP_kidney_v_wt             1.000000      0.222025           0.385616  \n",
       "log2_GP_lung                    0.222025      1.000000           1.000000  \n",
       "log2_GP_lung_v_wt               0.385616      1.000000           1.000000  "
      ]
     },
     "execution_count": 21,
     "metadata": {},
     "output_type": "execute_result"
    }
   ],
   "source": [
    "data[[ col  for col in data.columns if \"log2_GP\" in col]].corr(\"spearman\")"
   ]
  },
  {
   "cell_type": "code",
   "execution_count": null,
   "metadata": {},
   "outputs": [],
   "source": []
  }
 ],
 "metadata": {
  "kernelspec": {
   "display_name": "Python 3",
   "language": "python",
   "name": "python3"
  },
  "language_info": {
   "codemirror_mode": {
    "name": "ipython",
    "version": 3
   },
   "file_extension": ".py",
   "mimetype": "text/x-python",
   "name": "python",
   "nbconvert_exporter": "python",
   "pygments_lexer": "ipython3",
   "version": "3.6.6"
  }
 },
 "nbformat": 4,
 "nbformat_minor": 2
}
