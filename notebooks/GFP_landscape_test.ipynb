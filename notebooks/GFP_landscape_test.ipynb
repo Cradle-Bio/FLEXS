{
 "cells": [
  {
   "cell_type": "code",
   "execution_count": 1,
   "metadata": {},
   "outputs": [],
   "source": [
    "%load_ext autoreload"
   ]
  },
  {
   "cell_type": "code",
   "execution_count": 2,
   "metadata": {},
   "outputs": [
    {
     "name": "stderr",
     "output_type": "stream",
     "text": [
      "/anaconda3/envs/tf3/lib/python3.6/site-packages/sklearn/ensemble/weight_boosting.py:29: DeprecationWarning: numpy.core.umath_tests is an internal NumPy module and should not be imported. It will be removed in a future NumPy release.\n",
      "  from numpy.core.umath_tests import inner1d\n"
     ]
    }
   ],
   "source": [
    "%autoreload 2\n",
    "import sys\n",
    "\n",
    "sys.path.append(\"../\")\n",
    "from utils.sequence_utils import generate_random_mutant\n",
    "from utils.model_architectures import Linear, NLNN, CNNa\n",
    "from models.Noisy_models.Neural_network_models import NN_model\n",
    "from models.Ground_truth_oracles.RNA_landscape_models import RNA_landscape_constructor\n",
    "from models.Noisy_models.Ensemble import Ensemble_models\n",
    "from evaluators.Evaluator import Evaluator\n",
    "from models.Ground_truth_oracles.TF_binding_landscape_models import *\n",
    "from utils.sequence_utils import AAS\n",
    "#from explorers.bo_explorer import BO_Explorer\n",
    "from explorers.elitist_explorers import Greedy\n",
    "LANDSCAPE_TYPES_GFP = {\"GFP\": [1,5,9]}\n"
   ]
  },
  {
   "cell_type": "code",
   "execution_count": 6,
   "metadata": {},
   "outputs": [
    {
     "name": "stdout",
     "output_type": "stream",
     "text": [
      "loading landscapes RNA: None, TF: None, Protein: None, GFP: [1, 5, 9]\n",
      "3 GFP landscapes loaded.\n",
      "Loading complete.\n"
     ]
    }
   ],
   "source": [
    "bo_explorer_prod = Greedy(virtual_screen=20, alphabet=AAS)\n",
    "bo_explorer_prod.debug = False\n",
    "evaluator_bo = Evaluator(\n",
    "    bo_explorer_prod,\n",
    "    landscape_types=LANDSCAPE_TYPES_GFP,\n",
    "    path=\"../simulations/Protein/eval_BO/\",\n",
    ")\n"
   ]
  },
  {
   "cell_type": "code",
   "execution_count": null,
   "metadata": {},
   "outputs": [
    {
     "name": "stdout",
     "output_type": "stream",
     "text": [
      "Downloading pytorch_model.bin\n",
      "Running on GFP\n",
      "start seq 1\n",
      "Evaluating for signal_strength: 0\n",
      "Running  NAM {'landscape_id': 'GFP', 'start_id': 1, 'signal_strength': 0}\n",
      "[0.3333333333333333, 0.3333333333333333, 0.3333333333333333]\n",
      "round: 0, cost: 1, evals: 0.0, top: 3.61514305135\n",
      "[0.17587488536734905, 0.5991695730261458, 0.22495554160650505]\n",
      "round: 1, cost: 101, evals: 2024.0, top: 3.61514305135\n",
      "[0.13930737037048174, 0.10989522580620684, 0.7507974038233115]\n",
      "round: 2, cost: 201, evals: 4069.0, top: 3.61514305135\n"
     ]
    }
   ],
   "source": [
    "evaluator_bo.evaluate_for_landscapes(evaluator_bo.consistency_robustness_independence, num_starts=3)"
   ]
  },
  {
   "cell_type": "code",
   "execution_count": null,
   "metadata": {},
   "outputs": [],
   "source": []
  }
 ],
 "metadata": {
  "kernelspec": {
   "display_name": "Python 3",
   "language": "python",
   "name": "python3"
  },
  "language_info": {
   "codemirror_mode": {
    "name": "ipython",
    "version": 3
   },
   "file_extension": ".py",
   "mimetype": "text/x-python",
   "name": "python",
   "nbconvert_exporter": "python",
   "pygments_lexer": "ipython3",
   "version": "3.6.6"
  }
 },
 "nbformat": 4,
 "nbformat_minor": 2
}
