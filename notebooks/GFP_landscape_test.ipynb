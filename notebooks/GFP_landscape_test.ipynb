{
 "cells": [
  {
   "cell_type": "code",
   "execution_count": 1,
   "metadata": {},
   "outputs": [],
   "source": [
    "%load_ext autoreload"
   ]
  },
  {
   "cell_type": "code",
   "execution_count": null,
   "metadata": {},
   "outputs": [
    {
     "name": "stdout",
     "output_type": "stream",
     "text": [
      "loading landscapes RNA: [], TF: [], Protein: [], GFP: [1, 5, 9]\n",
      "0 TF landscapes loaded.\n",
      "0 Protein landscapes loaded.\n"
     ]
    },
    {
     "name": "stderr",
     "output_type": "stream",
     "text": [
      "../models/Ground_truth_oracles/RNA_landscape_models.py:22: YAMLLoadWarning: calling yaml.load() without Loader=... is deprecated, as the default Loader is unsafe. Please read https://msg.pyyaml.org/load for full details.\n",
      "  self.loaded_landscapes = yaml.load(cfgfile)\n"
     ]
    },
    {
     "name": "stdout",
     "output_type": "stream",
     "text": [
      "3 GFP landscapes loaded.\n",
      "loading complete\n",
      "Running on GFP\n",
      "start seq 1\n",
      "Evaluating for virtual_screen: 1\n",
      "Running  NAM {'landscape_id': 'GFP', 'start_id': 1, 'signal_strength': 1}\n",
      "[0.3333333333333333, 0.3333333333333333, 0.3333333333333333]\n",
      "[0.3333333333333333, 0.3333333333333333, 0.3333333333333333]\n",
      "[0.3333333333333333, 0.3333333333333333, 0.3333333333333333]\n",
      "[0.3333333333333333, 0.3333333333333333, 0.3333333333333333]\n",
      "[0.3333333333333333, 0.3333333333333333, 0.3333333333333333]\n",
      "[0.3333333333333333, 0.3333333333333333, 0.3333333333333333]\n",
      "[0.3333333333333333, 0.3333333333333333, 0.3333333333333333]\n",
      "[0.3333333333333333, 0.3333333333333333, 0.3333333333333333]\n",
      "[0.33333333333333337, 0.33333333333333337, 0.33333333333333337]\n",
      "[0.3333333333333333, 0.3333333333333333, 0.3333333333333333]\n",
      "[0.3333333333333333, 0.3333333333333333, 0.3333333333333333]\n",
      "[0.33333333333333337, 0.33333333333333337, 0.33333333333333337]\n",
      "[0.3333333333333333, 0.3333333333333333, 0.3333333333333333]\n",
      "[0.3333333333333333, 0.3333333333333333, 0.3333333333333333]\n",
      "[0.3333333333333333, 0.3333333333333333, 0.3333333333333333]\n",
      "[0.3333333333333333, 0.3333333333333333, 0.3333333333333333]\n",
      "[0.3333333333333333, 0.3333333333333333, 0.3333333333333333]\n",
      "[0.3333333333333333, 0.3333333333333333, 0.3333333333333333]\n",
      "[0.3333333333333333, 0.3333333333333333, 0.3333333333333333]\n",
      "[0.3333333333333333, 0.3333333333333333, 0.3333333333333333]\n",
      "[0.3333333333333333, 0.3333333333333333, 0.3333333333333333]\n",
      "Evaluating for virtual_screen: 10\n",
      "Running  NAM {'landscape_id': 'GFP', 'start_id': 1, 'signal_strength': 1}\n",
      "[0.3333333333333333, 0.3333333333333333, 0.3333333333333333]\n"
     ]
    }
   ],
   "source": [
    "%autoreload 2\n",
    "import sys\n",
    "\n",
    "sys.path.append(\"../\")\n",
    "from utils.sequence_utils import generate_random_mutant\n",
    "from utils.model_architectures import Linear, NLNN, CNNa\n",
    "from models.Noisy_models.Neural_network_models import NN_model\n",
    "from models.Ground_truth_oracles.RNA_landscape_models import RNA_landscape_constructor\n",
    "from models.Noisy_models.Ensemble import Ensemble_models\n",
    "from evaluators.Evaluator import Evaluator\n",
    "from models.Ground_truth_oracles.TF_binding_landscape_models import *\n",
    "from utils.sequence_utils import AAS\n",
    "from explorers.bo_explorer import BO_Explorer\n",
    "\n",
    "LANDSCAPE_TYPES_PROTEIN = {\"RNA\": [], \"TF\": [], \"Protein\": [], \"GFP\": [1,5,9]}\n",
    "bo_explorer_prod = BO_Explorer(virtual_screen=20, alphabet=AAS)\n",
    "bo_explorer_prod.debug = False\n",
    "evaluator_bo = Evaluator(\n",
    "    bo_explorer_prod,\n",
    "    landscape_types=LANDSCAPE_TYPES_PROTEIN,\n",
    "    path=\"../simulations/Protein/eval_BO/\",\n",
    ")\n",
    "evaluator_bo.evaluate_for_landscapes(evaluator_bo.efficiency, num_starts=3)"
   ]
  },
  {
   "cell_type": "code",
   "execution_count": null,
   "metadata": {},
   "outputs": [],
   "source": []
  }
 ],
 "metadata": {
  "kernelspec": {
   "display_name": "Python 3",
   "language": "python",
   "name": "python3"
  },
  "language_info": {
   "codemirror_mode": {
    "name": "ipython",
    "version": 3
   },
   "file_extension": ".py",
   "mimetype": "text/x-python",
   "name": "python",
   "nbconvert_exporter": "python",
   "pygments_lexer": "ipython3",
   "version": "3.7.4"
  }
 },
 "nbformat": 4,
 "nbformat_minor": 2
}
