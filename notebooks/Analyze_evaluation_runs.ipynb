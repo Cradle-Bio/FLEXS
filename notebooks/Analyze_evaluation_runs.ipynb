{
 "cells": [
  {
   "cell_type": "code",
   "execution_count": 2,
   "metadata": {},
   "outputs": [],
   "source": [
    "%reload_ext autoreload\n",
    "%autoreload 2\n",
    "%matplotlib inline\n",
    "\n",
    "import matplotlib.pyplot as plt\n",
    "import seaborn as sns\n",
    "import pandas as pd\n",
    "import numpy as np"
   ]
  },
  {
   "cell_type": "code",
   "execution_count": 3,
   "metadata": {},
   "outputs": [
    {
     "ename": "FileNotFoundError",
     "evalue": "File b'simulations/eval/SCA/timesB1L100RNA1.csv' does not exist",
     "output_type": "error",
     "traceback": [
      "\u001b[0;31m---------------------------------------------------------------------------\u001b[0m",
      "\u001b[0;31mFileNotFoundError\u001b[0m                         Traceback (most recent call last)",
      "\u001b[0;32m<ipython-input-3-5f2460d31629>\u001b[0m in \u001b[0;36m<module>\u001b[0;34m()\u001b[0m\n\u001b[0;32m----> 1\u001b[0;31m \u001b[0mscalability_data\u001b[0m\u001b[0;34m=\u001b[0m\u001b[0mpd\u001b[0m\u001b[0;34m.\u001b[0m\u001b[0mread_csv\u001b[0m\u001b[0;34m(\u001b[0m\u001b[0;34m\"simulations/eval/SCA/timesB1L100RNA1.csv\"\u001b[0m\u001b[0;34m)\u001b[0m\u001b[0;34m\u001b[0m\u001b[0m\n\u001b[0m",
      "\u001b[0;32m/anaconda3/envs/tf3/lib/python3.6/site-packages/pandas/io/parsers.py\u001b[0m in \u001b[0;36mparser_f\u001b[0;34m(filepath_or_buffer, sep, delimiter, header, names, index_col, usecols, squeeze, prefix, mangle_dupe_cols, dtype, engine, converters, true_values, false_values, skipinitialspace, skiprows, nrows, na_values, keep_default_na, na_filter, verbose, skip_blank_lines, parse_dates, infer_datetime_format, keep_date_col, date_parser, dayfirst, iterator, chunksize, compression, thousands, decimal, lineterminator, quotechar, quoting, escapechar, comment, encoding, dialect, tupleize_cols, error_bad_lines, warn_bad_lines, skipfooter, doublequote, delim_whitespace, low_memory, memory_map, float_precision)\u001b[0m\n\u001b[1;32m    676\u001b[0m                     skip_blank_lines=skip_blank_lines)\n\u001b[1;32m    677\u001b[0m \u001b[0;34m\u001b[0m\u001b[0m\n\u001b[0;32m--> 678\u001b[0;31m         \u001b[0;32mreturn\u001b[0m \u001b[0m_read\u001b[0m\u001b[0;34m(\u001b[0m\u001b[0mfilepath_or_buffer\u001b[0m\u001b[0;34m,\u001b[0m \u001b[0mkwds\u001b[0m\u001b[0;34m)\u001b[0m\u001b[0;34m\u001b[0m\u001b[0m\n\u001b[0m\u001b[1;32m    679\u001b[0m \u001b[0;34m\u001b[0m\u001b[0m\n\u001b[1;32m    680\u001b[0m     \u001b[0mparser_f\u001b[0m\u001b[0;34m.\u001b[0m\u001b[0m__name__\u001b[0m \u001b[0;34m=\u001b[0m \u001b[0mname\u001b[0m\u001b[0;34m\u001b[0m\u001b[0m\n",
      "\u001b[0;32m/anaconda3/envs/tf3/lib/python3.6/site-packages/pandas/io/parsers.py\u001b[0m in \u001b[0;36m_read\u001b[0;34m(filepath_or_buffer, kwds)\u001b[0m\n\u001b[1;32m    438\u001b[0m \u001b[0;34m\u001b[0m\u001b[0m\n\u001b[1;32m    439\u001b[0m     \u001b[0;31m# Create the parser.\u001b[0m\u001b[0;34m\u001b[0m\u001b[0;34m\u001b[0m\u001b[0m\n\u001b[0;32m--> 440\u001b[0;31m     \u001b[0mparser\u001b[0m \u001b[0;34m=\u001b[0m \u001b[0mTextFileReader\u001b[0m\u001b[0;34m(\u001b[0m\u001b[0mfilepath_or_buffer\u001b[0m\u001b[0;34m,\u001b[0m \u001b[0;34m**\u001b[0m\u001b[0mkwds\u001b[0m\u001b[0;34m)\u001b[0m\u001b[0;34m\u001b[0m\u001b[0m\n\u001b[0m\u001b[1;32m    441\u001b[0m \u001b[0;34m\u001b[0m\u001b[0m\n\u001b[1;32m    442\u001b[0m     \u001b[0;32mif\u001b[0m \u001b[0mchunksize\u001b[0m \u001b[0;32mor\u001b[0m \u001b[0miterator\u001b[0m\u001b[0;34m:\u001b[0m\u001b[0;34m\u001b[0m\u001b[0m\n",
      "\u001b[0;32m/anaconda3/envs/tf3/lib/python3.6/site-packages/pandas/io/parsers.py\u001b[0m in \u001b[0;36m__init__\u001b[0;34m(self, f, engine, **kwds)\u001b[0m\n\u001b[1;32m    785\u001b[0m             \u001b[0mself\u001b[0m\u001b[0;34m.\u001b[0m\u001b[0moptions\u001b[0m\u001b[0;34m[\u001b[0m\u001b[0;34m'has_index_names'\u001b[0m\u001b[0;34m]\u001b[0m \u001b[0;34m=\u001b[0m \u001b[0mkwds\u001b[0m\u001b[0;34m[\u001b[0m\u001b[0;34m'has_index_names'\u001b[0m\u001b[0;34m]\u001b[0m\u001b[0;34m\u001b[0m\u001b[0m\n\u001b[1;32m    786\u001b[0m \u001b[0;34m\u001b[0m\u001b[0m\n\u001b[0;32m--> 787\u001b[0;31m         \u001b[0mself\u001b[0m\u001b[0;34m.\u001b[0m\u001b[0m_make_engine\u001b[0m\u001b[0;34m(\u001b[0m\u001b[0mself\u001b[0m\u001b[0;34m.\u001b[0m\u001b[0mengine\u001b[0m\u001b[0;34m)\u001b[0m\u001b[0;34m\u001b[0m\u001b[0m\n\u001b[0m\u001b[1;32m    788\u001b[0m \u001b[0;34m\u001b[0m\u001b[0m\n\u001b[1;32m    789\u001b[0m     \u001b[0;32mdef\u001b[0m \u001b[0mclose\u001b[0m\u001b[0;34m(\u001b[0m\u001b[0mself\u001b[0m\u001b[0;34m)\u001b[0m\u001b[0;34m:\u001b[0m\u001b[0;34m\u001b[0m\u001b[0m\n",
      "\u001b[0;32m/anaconda3/envs/tf3/lib/python3.6/site-packages/pandas/io/parsers.py\u001b[0m in \u001b[0;36m_make_engine\u001b[0;34m(self, engine)\u001b[0m\n\u001b[1;32m   1012\u001b[0m     \u001b[0;32mdef\u001b[0m \u001b[0m_make_engine\u001b[0m\u001b[0;34m(\u001b[0m\u001b[0mself\u001b[0m\u001b[0;34m,\u001b[0m \u001b[0mengine\u001b[0m\u001b[0;34m=\u001b[0m\u001b[0;34m'c'\u001b[0m\u001b[0;34m)\u001b[0m\u001b[0;34m:\u001b[0m\u001b[0;34m\u001b[0m\u001b[0m\n\u001b[1;32m   1013\u001b[0m         \u001b[0;32mif\u001b[0m \u001b[0mengine\u001b[0m \u001b[0;34m==\u001b[0m \u001b[0;34m'c'\u001b[0m\u001b[0;34m:\u001b[0m\u001b[0;34m\u001b[0m\u001b[0m\n\u001b[0;32m-> 1014\u001b[0;31m             \u001b[0mself\u001b[0m\u001b[0;34m.\u001b[0m\u001b[0m_engine\u001b[0m \u001b[0;34m=\u001b[0m \u001b[0mCParserWrapper\u001b[0m\u001b[0;34m(\u001b[0m\u001b[0mself\u001b[0m\u001b[0;34m.\u001b[0m\u001b[0mf\u001b[0m\u001b[0;34m,\u001b[0m \u001b[0;34m**\u001b[0m\u001b[0mself\u001b[0m\u001b[0;34m.\u001b[0m\u001b[0moptions\u001b[0m\u001b[0;34m)\u001b[0m\u001b[0;34m\u001b[0m\u001b[0m\n\u001b[0m\u001b[1;32m   1015\u001b[0m         \u001b[0;32melse\u001b[0m\u001b[0;34m:\u001b[0m\u001b[0;34m\u001b[0m\u001b[0m\n\u001b[1;32m   1016\u001b[0m             \u001b[0;32mif\u001b[0m \u001b[0mengine\u001b[0m \u001b[0;34m==\u001b[0m \u001b[0;34m'python'\u001b[0m\u001b[0;34m:\u001b[0m\u001b[0;34m\u001b[0m\u001b[0m\n",
      "\u001b[0;32m/anaconda3/envs/tf3/lib/python3.6/site-packages/pandas/io/parsers.py\u001b[0m in \u001b[0;36m__init__\u001b[0;34m(self, src, **kwds)\u001b[0m\n\u001b[1;32m   1706\u001b[0m         \u001b[0mkwds\u001b[0m\u001b[0;34m[\u001b[0m\u001b[0;34m'usecols'\u001b[0m\u001b[0;34m]\u001b[0m \u001b[0;34m=\u001b[0m \u001b[0mself\u001b[0m\u001b[0;34m.\u001b[0m\u001b[0musecols\u001b[0m\u001b[0;34m\u001b[0m\u001b[0m\n\u001b[1;32m   1707\u001b[0m \u001b[0;34m\u001b[0m\u001b[0m\n\u001b[0;32m-> 1708\u001b[0;31m         \u001b[0mself\u001b[0m\u001b[0;34m.\u001b[0m\u001b[0m_reader\u001b[0m \u001b[0;34m=\u001b[0m \u001b[0mparsers\u001b[0m\u001b[0;34m.\u001b[0m\u001b[0mTextReader\u001b[0m\u001b[0;34m(\u001b[0m\u001b[0msrc\u001b[0m\u001b[0;34m,\u001b[0m \u001b[0;34m**\u001b[0m\u001b[0mkwds\u001b[0m\u001b[0;34m)\u001b[0m\u001b[0;34m\u001b[0m\u001b[0m\n\u001b[0m\u001b[1;32m   1709\u001b[0m \u001b[0;34m\u001b[0m\u001b[0m\n\u001b[1;32m   1710\u001b[0m         \u001b[0mpassed_names\u001b[0m \u001b[0;34m=\u001b[0m \u001b[0mself\u001b[0m\u001b[0;34m.\u001b[0m\u001b[0mnames\u001b[0m \u001b[0;32mis\u001b[0m \u001b[0;32mNone\u001b[0m\u001b[0;34m\u001b[0m\u001b[0m\n",
      "\u001b[0;32mpandas/_libs/parsers.pyx\u001b[0m in \u001b[0;36mpandas._libs.parsers.TextReader.__cinit__\u001b[0;34m()\u001b[0m\n",
      "\u001b[0;32mpandas/_libs/parsers.pyx\u001b[0m in \u001b[0;36mpandas._libs.parsers.TextReader._setup_parser_source\u001b[0;34m()\u001b[0m\n",
      "\u001b[0;31mFileNotFoundError\u001b[0m: File b'simulations/eval/SCA/timesB1L100RNA1.csv' does not exist"
     ]
    }
   ],
   "source": [
    "scalability_data=pd.read_csv(\"simulations/eval/SCA/timesB1L100RNA1.csv\")"
   ]
  },
  {
   "cell_type": "code",
   "execution_count": null,
   "metadata": {},
   "outputs": [],
   "source": [
    "scalability_data.head()"
   ]
  },
  {
   "cell_type": "code",
   "execution_count": 24,
   "metadata": {},
   "outputs": [],
   "source": [
    "scalability_data[\"time1xround\"]=scalability_data[\"time_3xrounds\"]/3\n",
    "del scalability_data[\"time_3xrounds\"]"
   ]
  },
  {
   "cell_type": "code",
   "execution_count": 25,
   "metadata": {},
   "outputs": [],
   "source": [
    "sub_data = scalability_data.groupby(by=[\"batch_size\",\"virtual_screen\"], as_index=False).mean()"
   ]
  },
  {
   "cell_type": "code",
   "execution_count": 35,
   "metadata": {},
   "outputs": [
    {
     "data": {
      "text/plain": [
       "Text(0.5,1,'log10 seconds to propose a batch for \\n B1L100RNA1 landscape \\n(average of 3 consecutive steps)')"
      ]
     },
     "execution_count": 35,
     "metadata": {},
     "output_type": "execute_result"
    },
    {
     "data": {
      "image/png": "[encoded data removed]",
      "text/plain": [
       "<Figure size 432x288 with 2 Axes>"
      ]
     },
     "metadata": {
      "needs_background": "light"
     },
     "output_type": "display_data"
    }
   ],
   "source": [
    "sns.heatmap(np.log10(sub_data.pivot(\"batch_size\",\"virtual_screen\",\"time1xround\"))\\\n",
    "            , annot=True, fmt=\".2f\", square=True, cmap=\"Blues\")\n",
    "plt.title(\"log10 seconds to propose a batch for \\n B1L100RNA1 landscape \\n(average of 3 consecutive steps)\")"
   ]
  },
  {
   "cell_type": "code",
   "execution_count": 36,
   "metadata": {},
   "outputs": [],
   "source": [
    "efficiency_data=pd.read_csv(\"simulations/eval/EF/Greedy_mu0.02_tr0.05_r0.1_rho1.csv\")"
   ]
  },
  {
   "cell_type": "code",
   "execution_count": 37,
   "metadata": {},
   "outputs": [
    {
     "data": {
      "text/html": [
       "<div>\n",
       "<style scoped>\n",
       "    .dataframe tbody tr th:only-of-type {\n",
       "        vertical-align: middle;\n",
       "    }\n",
       "\n",
       "    .dataframe tbody tr th {\n",
       "        vertical-align: top;\n",
       "    }\n",
       "\n",
       "    .dataframe thead th {\n",
       "        text-align: right;\n",
       "    }\n",
       "</style>\n",
       "<table border=\"1\" class=\"dataframe\">\n",
       "  <thead>\n",
       "    <tr style=\"text-align: right;\">\n",
       "      <th></th>\n",
       "      <th>batch</th>\n",
       "      <th>sequence</th>\n",
       "      <th>true_score</th>\n",
       "      <th>model_score</th>\n",
       "      <th>batch_size</th>\n",
       "      <th>measurement_cost</th>\n",
       "      <th>virtual_evals</th>\n",
       "      <th>landscape_id</th>\n",
       "      <th>start_id</th>\n",
       "      <th>model_type</th>\n",
       "      <th>mo_ratio</th>\n",
       "      <th>horizon</th>\n",
       "      <th>explorer_type</th>\n",
       "    </tr>\n",
       "  </thead>\n",
       "  <tbody>\n",
       "    <tr>\n",
       "      <th>0</th>\n",
       "      <td>1</td>\n",
       "      <td>GAACGAGGCACAUUCCGGCUCGCCUGGCCUAUGUGAGCAUGGGCCG...</td>\n",
       "      <td>0.649750</td>\n",
       "      <td>0.649750</td>\n",
       "      <td>1000</td>\n",
       "      <td>1001</td>\n",
       "      <td>1091</td>\n",
       "      <td>B1L100RNA1</td>\n",
       "      <td>startRNAL100_0</td>\n",
       "      <td>NAMb0ss1maxunc4</td>\n",
       "      <td>1</td>\n",
       "      <td>10</td>\n",
       "      <td>Greedy_mu0.02_tr0.05_r0.1_rho1</td>\n",
       "    </tr>\n",
       "    <tr>\n",
       "      <th>1</th>\n",
       "      <td>1</td>\n",
       "      <td>GAACGAGGCACAUUCCGGCUCGCCCGGCCCAUGUGAGCAUGGGCCG...</td>\n",
       "      <td>0.649750</td>\n",
       "      <td>0.649750</td>\n",
       "      <td>1000</td>\n",
       "      <td>1001</td>\n",
       "      <td>1091</td>\n",
       "      <td>B1L100RNA1</td>\n",
       "      <td>startRNAL100_0</td>\n",
       "      <td>NAMb0ss1maxunc4</td>\n",
       "      <td>1</td>\n",
       "      <td>10</td>\n",
       "      <td>Greedy_mu0.02_tr0.05_r0.1_rho1</td>\n",
       "    </tr>\n",
       "    <tr>\n",
       "      <th>2</th>\n",
       "      <td>1</td>\n",
       "      <td>GAACGAGGCACAUUCCGGCUCGCCCGGCCCAUGUGAGCAUGGGCCG...</td>\n",
       "      <td>0.649750</td>\n",
       "      <td>0.649750</td>\n",
       "      <td>1000</td>\n",
       "      <td>1001</td>\n",
       "      <td>1091</td>\n",
       "      <td>B1L100RNA1</td>\n",
       "      <td>startRNAL100_0</td>\n",
       "      <td>NAMb0ss1maxunc4</td>\n",
       "      <td>1</td>\n",
       "      <td>10</td>\n",
       "      <td>Greedy_mu0.02_tr0.05_r0.1_rho1</td>\n",
       "    </tr>\n",
       "    <tr>\n",
       "      <th>3</th>\n",
       "      <td>1</td>\n",
       "      <td>GAACGAGGCACAUUCCGGCUCGCCCGGCCCAUGUGAGCAUGGGCCG...</td>\n",
       "      <td>0.638601</td>\n",
       "      <td>0.638601</td>\n",
       "      <td>1000</td>\n",
       "      <td>1001</td>\n",
       "      <td>1091</td>\n",
       "      <td>B1L100RNA1</td>\n",
       "      <td>startRNAL100_0</td>\n",
       "      <td>NAMb0ss1maxunc4</td>\n",
       "      <td>1</td>\n",
       "      <td>10</td>\n",
       "      <td>Greedy_mu0.02_tr0.05_r0.1_rho1</td>\n",
       "    </tr>\n",
       "    <tr>\n",
       "      <th>4</th>\n",
       "      <td>1</td>\n",
       "      <td>GAACGAGGCACAUUCCGGCUCGCCCGGCCCAUGUGAGCAUGGGCCG...</td>\n",
       "      <td>0.632449</td>\n",
       "      <td>0.632449</td>\n",
       "      <td>1000</td>\n",
       "      <td>1001</td>\n",
       "      <td>1091</td>\n",
       "      <td>B1L100RNA1</td>\n",
       "      <td>startRNAL100_0</td>\n",
       "      <td>NAMb0ss1maxunc4</td>\n",
       "      <td>1</td>\n",
       "      <td>10</td>\n",
       "      <td>Greedy_mu0.02_tr0.05_r0.1_rho1</td>\n",
       "    </tr>\n",
       "  </tbody>\n",
       "</table>\n",
       "</div>"
      ],
      "text/plain": [
       "   batch                                           sequence  true_score  \\\n",
       "0      1  GAACGAGGCACAUUCCGGCUCGCCUGGCCUAUGUGAGCAUGGGCCG...    0.649750   \n",
       "1      1  GAACGAGGCACAUUCCGGCUCGCCCGGCCCAUGUGAGCAUGGGCCG...    0.649750   \n",
       "2      1  GAACGAGGCACAUUCCGGCUCGCCCGGCCCAUGUGAGCAUGGGCCG...    0.649750   \n",
       "3      1  GAACGAGGCACAUUCCGGCUCGCCCGGCCCAUGUGAGCAUGGGCCG...    0.638601   \n",
       "4      1  GAACGAGGCACAUUCCGGCUCGCCCGGCCCAUGUGAGCAUGGGCCG...    0.632449   \n",
       "\n",
       "   model_score  batch_size  measurement_cost  virtual_evals landscape_id  \\\n",
       "0     0.649750        1000              1001           1091   B1L100RNA1   \n",
       "1     0.649750        1000              1001           1091   B1L100RNA1   \n",
       "2     0.649750        1000              1001           1091   B1L100RNA1   \n",
       "3     0.638601        1000              1001           1091   B1L100RNA1   \n",
       "4     0.632449        1000              1001           1091   B1L100RNA1   \n",
       "\n",
       "                                     start_id       model_type  mo_ratio  \\\n",
       "0                              startRNAL100_0  NAMb0ss1maxunc4         1   \n",
       "1                              startRNAL100_0  NAMb0ss1maxunc4         1   \n",
       "2                              startRNAL100_0  NAMb0ss1maxunc4         1   \n",
       "3                              startRNAL100_0  NAMb0ss1maxunc4         1   \n",
       "4                              startRNAL100_0  NAMb0ss1maxunc4         1   \n",
       "\n",
       "   horizon                   explorer_type  \n",
       "0       10  Greedy_mu0.02_tr0.05_r0.1_rho1  \n",
       "1       10  Greedy_mu0.02_tr0.05_r0.1_rho1  \n",
       "2       10  Greedy_mu0.02_tr0.05_r0.1_rho1  \n",
       "3       10  Greedy_mu0.02_tr0.05_r0.1_rho1  \n",
       "4       10  Greedy_mu0.02_tr0.05_r0.1_rho1  "
      ]
     },
     "execution_count": 37,
     "metadata": {},
     "output_type": "execute_result"
    }
   ],
   "source": [
    "efficiency_data.head()"
   ]
  },
  {
   "cell_type": "code",
   "execution_count": 46,
   "metadata": {},
   "outputs": [
    {
     "data": {
      "text/plain": [
       "<matplotlib.collections.PathCollection at 0x1a17054710>"
      ]
     },
     "execution_count": 46,
     "metadata": {},
     "output_type": "execute_result"
    },
    {
     "data": {
      "image/png": "[encoded data removed]",
      "text/plain": [
       "<Figure size 432x288 with 1 Axes>"
      ]
     },
     "metadata": {
      "needs_background": "light"
     },
     "output_type": "display_data"
    }
   ],
   "source": [
    "plt.scatter( efficiency_data.virtual_evals,efficiency_data.true_score,s=4)"
   ]
  },
  {
   "cell_type": "code",
   "execution_count": 5,
   "metadata": {},
   "outputs": [],
   "source": [
    "data1=pd.read_csv(\"../simulations/evaluations_test/consistency_robustness_independence/MLWFG_mu1_r0.1_rho1_beta100.csv\",index_col=False)\n",
    "data2=pd.read_csv(\"../simulations/evaluations_test/consistency_robustness_independence/WF_mu1_r0.1_rho1_beta100.csv\",index_col=False)\n",
    "data3=pd.read_csv(\"../simulations/evaluations_test/consistency_robustness_independence/Greedy_mu1_tr0.05_r0.1_rho1.csv\",index_col=False)\n"
   ]
  },
  {
   "cell_type": "code",
   "execution_count": 6,
   "metadata": {},
   "outputs": [],
   "source": [
    "data=data1.append(data2).append(data3)"
   ]
  },
  {
   "cell_type": "code",
   "execution_count": 7,
   "metadata": {},
   "outputs": [
    {
     "data": {
      "text/html": [
       "<div>\n",
       "<style scoped>\n",
       "    .dataframe tbody tr th:only-of-type {\n",
       "        vertical-align: middle;\n",
       "    }\n",
       "\n",
       "    .dataframe tbody tr th {\n",
       "        vertical-align: top;\n",
       "    }\n",
       "\n",
       "    .dataframe thead th {\n",
       "        text-align: right;\n",
       "    }\n",
       "</style>\n",
       "<table border=\"1\" class=\"dataframe\">\n",
       "  <thead>\n",
       "    <tr style=\"text-align: right;\">\n",
       "      <th></th>\n",
       "      <th>id</th>\n",
       "      <th>batch</th>\n",
       "      <th>sequence</th>\n",
       "      <th>true_score</th>\n",
       "      <th>model_score</th>\n",
       "      <th>batch_size</th>\n",
       "      <th>measurement_cost</th>\n",
       "      <th>virtual_evals</th>\n",
       "      <th>landscape_id</th>\n",
       "      <th>start_id</th>\n",
       "      <th>model_type</th>\n",
       "      <th>virtual_screen</th>\n",
       "      <th>horizon</th>\n",
       "      <th>explorer_type</th>\n",
       "    </tr>\n",
       "  </thead>\n",
       "  <tbody>\n",
       "    <tr>\n",
       "      <th>0</th>\n",
       "      <td>6ae1ab7a-3e07-11ea-abec-f218984ddad3</td>\n",
       "      <td>1</td>\n",
       "      <td>AUGGGACGGGCCCC</td>\n",
       "      <td>0.524524</td>\n",
       "      <td>3.266725</td>\n",
       "      <td>100</td>\n",
       "      <td>101</td>\n",
       "      <td>338</td>\n",
       "      <td>B1L14RNA1</td>\n",
       "      <td>startRNAL14_0</td>\n",
       "      <td>NAMb_ss0</td>\n",
       "      <td>20</td>\n",
       "      <td>10</td>\n",
       "      <td>MLWFG_mu1_r0.1_rho1_beta100</td>\n",
       "    </tr>\n",
       "    <tr>\n",
       "      <th>1</th>\n",
       "      <td>6ae1ab7a-3e07-11ea-abec-f218984ddad3</td>\n",
       "      <td>1</td>\n",
       "      <td>AUGCGCCGGACGCC</td>\n",
       "      <td>0.444884</td>\n",
       "      <td>3.230752</td>\n",
       "      <td>100</td>\n",
       "      <td>101</td>\n",
       "      <td>338</td>\n",
       "      <td>B1L14RNA1</td>\n",
       "      <td>startRNAL14_0</td>\n",
       "      <td>NAMb_ss0</td>\n",
       "      <td>20</td>\n",
       "      <td>10</td>\n",
       "      <td>MLWFG_mu1_r0.1_rho1_beta100</td>\n",
       "    </tr>\n",
       "    <tr>\n",
       "      <th>2</th>\n",
       "      <td>6ae1ab7a-3e07-11ea-abec-f218984ddad3</td>\n",
       "      <td>1</td>\n",
       "      <td>ACGUGCCGGACCCC</td>\n",
       "      <td>0.494315</td>\n",
       "      <td>3.204146</td>\n",
       "      <td>100</td>\n",
       "      <td>101</td>\n",
       "      <td>338</td>\n",
       "      <td>B1L14RNA1</td>\n",
       "      <td>startRNAL14_0</td>\n",
       "      <td>NAMb_ss0</td>\n",
       "      <td>20</td>\n",
       "      <td>10</td>\n",
       "      <td>MLWFG_mu1_r0.1_rho1_beta100</td>\n",
       "    </tr>\n",
       "    <tr>\n",
       "      <th>3</th>\n",
       "      <td>6ae1ab7a-3e07-11ea-abec-f218984ddad3</td>\n",
       "      <td>1</td>\n",
       "      <td>AUUGGCCGGACUCC</td>\n",
       "      <td>0.381721</td>\n",
       "      <td>2.688208</td>\n",
       "      <td>100</td>\n",
       "      <td>101</td>\n",
       "      <td>338</td>\n",
       "      <td>B1L14RNA1</td>\n",
       "      <td>startRNAL14_0</td>\n",
       "      <td>NAMb_ss0</td>\n",
       "      <td>20</td>\n",
       "      <td>10</td>\n",
       "      <td>MLWFG_mu1_r0.1_rho1_beta100</td>\n",
       "    </tr>\n",
       "    <tr>\n",
       "      <th>4</th>\n",
       "      <td>6ae1ab7a-3e07-11ea-abec-f218984ddad3</td>\n",
       "      <td>1</td>\n",
       "      <td>AUAGGGGGGACCCC</td>\n",
       "      <td>0.562970</td>\n",
       "      <td>2.561647</td>\n",
       "      <td>100</td>\n",
       "      <td>101</td>\n",
       "      <td>338</td>\n",
       "      <td>B1L14RNA1</td>\n",
       "      <td>startRNAL14_0</td>\n",
       "      <td>NAMb_ss0</td>\n",
       "      <td>20</td>\n",
       "      <td>10</td>\n",
       "      <td>MLWFG_mu1_r0.1_rho1_beta100</td>\n",
       "    </tr>\n",
       "  </tbody>\n",
       "</table>\n",
       "</div>"
      ],
      "text/plain": [
       "                                     id  batch        sequence  true_score  \\\n",
       "0  6ae1ab7a-3e07-11ea-abec-f218984ddad3      1  AUGGGACGGGCCCC    0.524524   \n",
       "1  6ae1ab7a-3e07-11ea-abec-f218984ddad3      1  AUGCGCCGGACGCC    0.444884   \n",
       "2  6ae1ab7a-3e07-11ea-abec-f218984ddad3      1  ACGUGCCGGACCCC    0.494315   \n",
       "3  6ae1ab7a-3e07-11ea-abec-f218984ddad3      1  AUUGGCCGGACUCC    0.381721   \n",
       "4  6ae1ab7a-3e07-11ea-abec-f218984ddad3      1  AUAGGGGGGACCCC    0.562970   \n",
       "\n",
       "   model_score  batch_size  measurement_cost  virtual_evals landscape_id  \\\n",
       "0     3.266725         100               101            338    B1L14RNA1   \n",
       "1     3.230752         100               101            338    B1L14RNA1   \n",
       "2     3.204146         100               101            338    B1L14RNA1   \n",
       "3     2.688208         100               101            338    B1L14RNA1   \n",
       "4     2.561647         100               101            338    B1L14RNA1   \n",
       "\n",
       "        start_id model_type   virtual_screen  horizon  \\\n",
       "0  startRNAL14_0   NAMb_ss0               20       10   \n",
       "1  startRNAL14_0   NAMb_ss0               20       10   \n",
       "2  startRNAL14_0   NAMb_ss0               20       10   \n",
       "3  startRNAL14_0   NAMb_ss0               20       10   \n",
       "4  startRNAL14_0   NAMb_ss0               20       10   \n",
       "\n",
       "                 explorer_type  \n",
       "0  MLWFG_mu1_r0.1_rho1_beta100  \n",
       "1  MLWFG_mu1_r0.1_rho1_beta100  \n",
       "2  MLWFG_mu1_r0.1_rho1_beta100  \n",
       "3  MLWFG_mu1_r0.1_rho1_beta100  \n",
       "4  MLWFG_mu1_r0.1_rho1_beta100  "
      ]
     },
     "execution_count": 7,
     "metadata": {},
     "output_type": "execute_result"
    }
   ],
   "source": [
    "data.head()"
   ]
  },
  {
   "cell_type": "code",
   "execution_count": 8,
   "metadata": {},
   "outputs": [],
   "source": [
    "sub_data=data[data.model_type==\"NAMb_ss1\"]"
   ]
  },
  {
   "cell_type": "code",
   "execution_count": 17,
   "metadata": {},
   "outputs": [
    {
     "name": "stderr",
     "output_type": "stream",
     "text": [
      "/anaconda3/envs/tf3/lib/python3.6/site-packages/scipy/stats/stats.py:1713: FutureWarning: Using a non-tuple sequence for multidimensional indexing is deprecated; use `arr[tuple(seq)]` instead of `arr[seq]`. In the future this will be interpreted as an array index, `arr[np.array(seq)]`, which will result either in an error or a different result.\n",
      "  return np.add.reduce(sorted[indexer] * weights, axis=axis) / sumval\n"
     ]
    },
    {
     "data": {
      "text/plain": [
       "<matplotlib.axes._subplots.AxesSubplot at 0x1a1b1287f0>"
      ]
     },
     "execution_count": 17,
     "metadata": {},
     "output_type": "execute_result"
    },
    {
     "data": {
      "image/png": "[encoded data removed]",
      "text/plain": [
       "<Figure size 864x360 with 1 Axes>"
      ]
     },
     "metadata": {
      "needs_background": "light"
     },
     "output_type": "display_data"
    }
   ],
   "source": [
    "plt.figure(figsize=(12,5))\n",
    "sns.lineplot(x=\"batch\",y=\"true_score\",hue=\"explorer_type\",data=sub_data )"
   ]
  },
  {
   "cell_type": "code",
   "execution_count": null,
   "metadata": {},
   "outputs": [],
   "source": []
  }
 ],
 "metadata": {
  "kernelspec": {
   "display_name": "Python 3",
   "language": "python",
   "name": "python3"
  },
  "language_info": {
   "codemirror_mode": {
    "name": "ipython",
    "version": 3
   },
   "file_extension": ".py",
   "mimetype": "text/x-python",
   "name": "python",
   "nbconvert_exporter": "python",
   "pygments_lexer": "ipython3",
   "version": "3.6.6"
  }
 },
 "nbformat": 4,
 "nbformat_minor": 2
}
