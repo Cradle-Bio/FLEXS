{
 "cells": [
  {
   "cell_type": "code",
   "execution_count": 30,
   "metadata": {},
   "outputs": [],
   "source": [
    "%reload_ext autoreload\n",
    "%autoreload 2\n",
    "%matplotlib inline\n",
    "\n",
    "import matplotlib.pyplot as plt\n",
    "import seaborn as sns\n",
    "import pandas as pd\n",
    "import numpy as np"
   ]
  },
  {
   "cell_type": "code",
   "execution_count": 22,
   "metadata": {},
   "outputs": [],
   "source": [
    "scalability_data=pd.read_csv(\"simulations/eval/SCA/timesB1L100RNA1.csv\")"
   ]
  },
  {
   "cell_type": "code",
   "execution_count": 23,
   "metadata": {},
   "outputs": [
    {
     "data": {
      "text/html": [
       "<div>\n",
       "<style scoped>\n",
       "    .dataframe tbody tr th:only-of-type {\n",
       "        vertical-align: middle;\n",
       "    }\n",
       "\n",
       "    .dataframe tbody tr th {\n",
       "        vertical-align: top;\n",
       "    }\n",
       "\n",
       "    .dataframe thead th {\n",
       "        text-align: right;\n",
       "    }\n",
       "</style>\n",
       "<table border=\"1\" class=\"dataframe\">\n",
       "  <thead>\n",
       "    <tr style=\"text-align: right;\">\n",
       "      <th></th>\n",
       "      <th>landscape_id</th>\n",
       "      <th>batch_size</th>\n",
       "      <th>virtual_screen</th>\n",
       "      <th>time_3xrounds</th>\n",
       "    </tr>\n",
       "  </thead>\n",
       "  <tbody>\n",
       "    <tr>\n",
       "      <th>0</th>\n",
       "      <td>B1L100RNA1</td>\n",
       "      <td>100</td>\n",
       "      <td>1</td>\n",
       "      <td>6.130012</td>\n",
       "    </tr>\n",
       "    <tr>\n",
       "      <th>1</th>\n",
       "      <td>B1L100RNA1</td>\n",
       "      <td>100</td>\n",
       "      <td>10</td>\n",
       "      <td>41.664757</td>\n",
       "    </tr>\n",
       "    <tr>\n",
       "      <th>2</th>\n",
       "      <td>B1L100RNA1</td>\n",
       "      <td>100</td>\n",
       "      <td>100</td>\n",
       "      <td>378.533593</td>\n",
       "    </tr>\n",
       "    <tr>\n",
       "      <th>3</th>\n",
       "      <td>B1L100RNA1</td>\n",
       "      <td>1000</td>\n",
       "      <td>1</td>\n",
       "      <td>43.800847</td>\n",
       "    </tr>\n",
       "    <tr>\n",
       "      <th>4</th>\n",
       "      <td>B1L100RNA1</td>\n",
       "      <td>1000</td>\n",
       "      <td>10</td>\n",
       "      <td>411.612171</td>\n",
       "    </tr>\n",
       "  </tbody>\n",
       "</table>\n",
       "</div>"
      ],
      "text/plain": [
       "  landscape_id  batch_size  virtual_screen  time_3xrounds\n",
       "0   B1L100RNA1         100               1       6.130012\n",
       "1   B1L100RNA1         100              10      41.664757\n",
       "2   B1L100RNA1         100             100     378.533593\n",
       "3   B1L100RNA1        1000               1      43.800847\n",
       "4   B1L100RNA1        1000              10     411.612171"
      ]
     },
     "execution_count": 23,
     "metadata": {},
     "output_type": "execute_result"
    }
   ],
   "source": [
    "scalability_data.head()"
   ]
  },
  {
   "cell_type": "code",
   "execution_count": 24,
   "metadata": {},
   "outputs": [],
   "source": [
    "scalability_data[\"time1xround\"]=scalability_data[\"time_3xrounds\"]/3\n",
    "del scalability_data[\"time_3xrounds\"]"
   ]
  },
  {
   "cell_type": "code",
   "execution_count": 25,
   "metadata": {},
   "outputs": [],
   "source": [
    "sub_data = scalability_data.groupby(by=[\"batch_size\",\"virtual_screen\"], as_index=False).mean()"
   ]
  },
  {
   "cell_type": "code",
   "execution_count": 35,
   "metadata": {},
   "outputs": [
    {
     "data": {
      "text/plain": [
       "Text(0.5,1,'log10 seconds to propose a batch for \\n B1L100RNA1 landscape \\n(average of 3 consecutive steps)')"
      ]
     },
     "execution_count": 35,
     "metadata": {},
     "output_type": "execute_result"
    },
    {
     "data": {
      "image/png": "[encoded data removed]",
      "text/plain": [
       "<Figure size 432x288 with 2 Axes>"
      ]
     },
     "metadata": {
      "needs_background": "light"
     },
     "output_type": "display_data"
    }
   ],
   "source": [
    "sns.heatmap(np.log10(sub_data.pivot(\"batch_size\",\"virtual_screen\",\"time1xround\"))\\\n",
    "            , annot=True, fmt=\".2f\", square=True, cmap=\"Blues\")\n",
    "plt.title(\"log10 seconds to propose a batch for \\n B1L100RNA1 landscape \\n(average of 3 consecutive steps)\")"
   ]
  },
  {
   "cell_type": "code",
   "execution_count": 36,
   "metadata": {},
   "outputs": [],
   "source": [
    "efficiency_data=pd.read_csv(\"simulations/eval/EF/Greedy_mu0.02_tr0.05_r0.1_rho1.csv\")"
   ]
  },
  {
   "cell_type": "code",
   "execution_count": 37,
   "metadata": {},
   "outputs": [
    {
     "data": {
      "text/html": [
       "<div>\n",
       "<style scoped>\n",
       "    .dataframe tbody tr th:only-of-type {\n",
       "        vertical-align: middle;\n",
       "    }\n",
       "\n",
       "    .dataframe tbody tr th {\n",
       "        vertical-align: top;\n",
       "    }\n",
       "\n",
       "    .dataframe thead th {\n",
       "        text-align: right;\n",
       "    }\n",
       "</style>\n",
       "<table border=\"1\" class=\"dataframe\">\n",
       "  <thead>\n",
       "    <tr style=\"text-align: right;\">\n",
       "      <th></th>\n",
       "      <th>batch</th>\n",
       "      <th>sequence</th>\n",
       "      <th>true_score</th>\n",
       "      <th>model_score</th>\n",
       "      <th>batch_size</th>\n",
       "      <th>measurement_cost</th>\n",
       "      <th>virtual_evals</th>\n",
       "      <th>landscape_id</th>\n",
       "      <th>start_id</th>\n",
       "      <th>model_type</th>\n",
       "      <th>mo_ratio</th>\n",
       "      <th>horizon</th>\n",
       "      <th>explorer_type</th>\n",
       "    </tr>\n",
       "  </thead>\n",
       "  <tbody>\n",
       "    <tr>\n",
       "      <th>0</th>\n",
       "      <td>1</td>\n",
       "      <td>GAACGAGGCACAUUCCGGCUCGCCUGGCCUAUGUGAGCAUGGGCCG...</td>\n",
       "      <td>0.649750</td>\n",
       "      <td>0.649750</td>\n",
       "      <td>1000</td>\n",
       "      <td>1001</td>\n",
       "      <td>1091</td>\n",
       "      <td>B1L100RNA1</td>\n",
       "      <td>startRNAL100_0</td>\n",
       "      <td>NAMb0ss1maxunc4</td>\n",
       "      <td>1</td>\n",
       "      <td>10</td>\n",
       "      <td>Greedy_mu0.02_tr0.05_r0.1_rho1</td>\n",
       "    </tr>\n",
       "    <tr>\n",
       "      <th>1</th>\n",
       "      <td>1</td>\n",
       "      <td>GAACGAGGCACAUUCCGGCUCGCCCGGCCCAUGUGAGCAUGGGCCG...</td>\n",
       "      <td>0.649750</td>\n",
       "      <td>0.649750</td>\n",
       "      <td>1000</td>\n",
       "      <td>1001</td>\n",
       "      <td>1091</td>\n",
       "      <td>B1L100RNA1</td>\n",
       "      <td>startRNAL100_0</td>\n",
       "      <td>NAMb0ss1maxunc4</td>\n",
       "      <td>1</td>\n",
       "      <td>10</td>\n",
       "      <td>Greedy_mu0.02_tr0.05_r0.1_rho1</td>\n",
       "    </tr>\n",
       "    <tr>\n",
       "      <th>2</th>\n",
       "      <td>1</td>\n",
       "      <td>GAACGAGGCACAUUCCGGCUCGCCCGGCCCAUGUGAGCAUGGGCCG...</td>\n",
       "      <td>0.649750</td>\n",
       "      <td>0.649750</td>\n",
       "      <td>1000</td>\n",
       "      <td>1001</td>\n",
       "      <td>1091</td>\n",
       "      <td>B1L100RNA1</td>\n",
       "      <td>startRNAL100_0</td>\n",
       "      <td>NAMb0ss1maxunc4</td>\n",
       "      <td>1</td>\n",
       "      <td>10</td>\n",
       "      <td>Greedy_mu0.02_tr0.05_r0.1_rho1</td>\n",
       "    </tr>\n",
       "    <tr>\n",
       "      <th>3</th>\n",
       "      <td>1</td>\n",
       "      <td>GAACGAGGCACAUUCCGGCUCGCCCGGCCCAUGUGAGCAUGGGCCG...</td>\n",
       "      <td>0.638601</td>\n",
       "      <td>0.638601</td>\n",
       "      <td>1000</td>\n",
       "      <td>1001</td>\n",
       "      <td>1091</td>\n",
       "      <td>B1L100RNA1</td>\n",
       "      <td>startRNAL100_0</td>\n",
       "      <td>NAMb0ss1maxunc4</td>\n",
       "      <td>1</td>\n",
       "      <td>10</td>\n",
       "      <td>Greedy_mu0.02_tr0.05_r0.1_rho1</td>\n",
       "    </tr>\n",
       "    <tr>\n",
       "      <th>4</th>\n",
       "      <td>1</td>\n",
       "      <td>GAACGAGGCACAUUCCGGCUCGCCCGGCCCAUGUGAGCAUGGGCCG...</td>\n",
       "      <td>0.632449</td>\n",
       "      <td>0.632449</td>\n",
       "      <td>1000</td>\n",
       "      <td>1001</td>\n",
       "      <td>1091</td>\n",
       "      <td>B1L100RNA1</td>\n",
       "      <td>startRNAL100_0</td>\n",
       "      <td>NAMb0ss1maxunc4</td>\n",
       "      <td>1</td>\n",
       "      <td>10</td>\n",
       "      <td>Greedy_mu0.02_tr0.05_r0.1_rho1</td>\n",
       "    </tr>\n",
       "  </tbody>\n",
       "</table>\n",
       "</div>"
      ],
      "text/plain": [
       "   batch                                           sequence  true_score  \\\n",
       "0      1  GAACGAGGCACAUUCCGGCUCGCCUGGCCUAUGUGAGCAUGGGCCG...    0.649750   \n",
       "1      1  GAACGAGGCACAUUCCGGCUCGCCCGGCCCAUGUGAGCAUGGGCCG...    0.649750   \n",
       "2      1  GAACGAGGCACAUUCCGGCUCGCCCGGCCCAUGUGAGCAUGGGCCG...    0.649750   \n",
       "3      1  GAACGAGGCACAUUCCGGCUCGCCCGGCCCAUGUGAGCAUGGGCCG...    0.638601   \n",
       "4      1  GAACGAGGCACAUUCCGGCUCGCCCGGCCCAUGUGAGCAUGGGCCG...    0.632449   \n",
       "\n",
       "   model_score  batch_size  measurement_cost  virtual_evals landscape_id  \\\n",
       "0     0.649750        1000              1001           1091   B1L100RNA1   \n",
       "1     0.649750        1000              1001           1091   B1L100RNA1   \n",
       "2     0.649750        1000              1001           1091   B1L100RNA1   \n",
       "3     0.638601        1000              1001           1091   B1L100RNA1   \n",
       "4     0.632449        1000              1001           1091   B1L100RNA1   \n",
       "\n",
       "                                     start_id       model_type  mo_ratio  \\\n",
       "0                              startRNAL100_0  NAMb0ss1maxunc4         1   \n",
       "1                              startRNAL100_0  NAMb0ss1maxunc4         1   \n",
       "2                              startRNAL100_0  NAMb0ss1maxunc4         1   \n",
       "3                              startRNAL100_0  NAMb0ss1maxunc4         1   \n",
       "4                              startRNAL100_0  NAMb0ss1maxunc4         1   \n",
       "\n",
       "   horizon                   explorer_type  \n",
       "0       10  Greedy_mu0.02_tr0.05_r0.1_rho1  \n",
       "1       10  Greedy_mu0.02_tr0.05_r0.1_rho1  \n",
       "2       10  Greedy_mu0.02_tr0.05_r0.1_rho1  \n",
       "3       10  Greedy_mu0.02_tr0.05_r0.1_rho1  \n",
       "4       10  Greedy_mu0.02_tr0.05_r0.1_rho1  "
      ]
     },
     "execution_count": 37,
     "metadata": {},
     "output_type": "execute_result"
    }
   ],
   "source": [
    "efficiency_data.head()"
   ]
  },
  {
   "cell_type": "code",
   "execution_count": 46,
   "metadata": {},
   "outputs": [
    {
     "data": {
      "text/plain": [
       "<matplotlib.collections.PathCollection at 0x1a17054710>"
      ]
     },
     "execution_count": 46,
     "metadata": {},
     "output_type": "execute_result"
    },
    {
     "data": {
      "image/png": "[encoded data removed]",
      "text/plain": [
       "<Figure size 432x288 with 1 Axes>"
      ]
     },
     "metadata": {
      "needs_background": "light"
     },
     "output_type": "display_data"
    }
   ],
   "source": [
    "plt.scatter( efficiency_data.virtual_evals,efficiency_data.true_score,s=4)"
   ]
  },
  {
   "cell_type": "code",
   "execution_count": null,
   "metadata": {},
   "outputs": [],
   "source": []
  }
 ],
 "metadata": {
  "kernelspec": {
   "display_name": "Python 3",
   "language": "python",
   "name": "python3"
  },
  "language_info": {
   "codemirror_mode": {
    "name": "ipython",
    "version": 3
   },
   "file_extension": ".py",
   "mimetype": "text/x-python",
   "name": "python",
   "nbconvert_exporter": "python",
   "pygments_lexer": "ipython3",
   "version": "3.6.6"
  }
 },
 "nbformat": 4,
 "nbformat_minor": 2
}
