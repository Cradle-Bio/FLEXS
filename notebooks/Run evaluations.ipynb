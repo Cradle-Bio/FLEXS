{
 "cells": [
  {
   "cell_type": "code",
   "execution_count": 2,
   "metadata": {},
   "outputs": [],
   "source": [
    "import sys\n",
    "sys.path.append('/usr/local/lib/python3.6/site-packages/')\n",
    "sys.path.append('../')"
   ]
  },
  {
   "cell_type": "code",
   "execution_count": 3,
   "metadata": {},
   "outputs": [],
   "source": [
    "%reload_ext autoreload\n",
    "%autoreload 2\n",
    "%matplotlib inline\n",
    "import editdistance\n",
    "import matplotlib.pyplot as plt\n",
    "import seaborn as sns\n",
    "import pandas as pd\n",
    "import numpy as np\n"
   ]
  },
  {
   "cell_type": "code",
   "execution_count": 4,
   "metadata": {},
   "outputs": [],
   "source": [
    "import RNA\n",
    "RAA=\"UGCA\""
   ]
  },
  {
   "cell_type": "code",
   "execution_count": 5,
   "metadata": {},
   "outputs": [
    {
     "name": "stderr",
     "output_type": "stream",
     "text": [
      "Using TensorFlow backend.\n"
     ]
    }
   ],
   "source": [
    "from evaluators.Evaluator import Evaluator"
   ]
  },
  {
   "cell_type": "code",
   "execution_count": 27,
   "metadata": {},
   "outputs": [],
   "source": [
    "from explorers.elitist_explorers import Greedy\n",
    "from explorers.evolutionary_explorers import WF, ML_WF"
   ]
  },
  {
   "cell_type": "code",
   "execution_count": 97,
   "metadata": {},
   "outputs": [],
   "source": [
    "greedy_exp= Greedy(recomb_rate=0.2, threshold=0.05, mu=2, virtual_screen=10)\n",
    "#genetic_exp = ML_WF(recomb_rate=0.1, mu=1, virtual_screen=50 ) "
   ]
  },
  {
   "cell_type": "code",
   "execution_count": 98,
   "metadata": {},
   "outputs": [],
   "source": [
    "LANDSCAPE_TYPES ={\"RNA\": [],\"TF\":['SIX6_REF_R1']} #This will take very long if not parallelized\n",
    "#LANDSCAPE_TYPES ={\"RNA\": [0,1,12,20,25,31],\\\n",
    "                #  \"TF\": ['POU3F4_REF_R1','PAX3_G48R_R1','SIX6_REF_R1', 'VAX2_REF_R1', 'VSX1_REF_R1']} #for testing\n"
   ]
  },
  {
   "cell_type": "code",
   "execution_count": 99,
   "metadata": {},
   "outputs": [
    {
     "name": "stdout",
     "output_type": "stream",
     "text": [
      "loading landscapes RNA: [], TF:['SIX6_REF_R1']\n",
      "1 TF landscapes loaded.\n",
      "loading complete\n"
     ]
    }
   ],
   "source": [
    "evaluator=Evaluator(greedy_exp,landscape_types=LANDSCAPE_TYPES, path=\"../simulations/evaluations_test_33/\",ML_ensemble=[\"CNNa\",\"CNNa\",\"RF\"])"
   ]
  },
  {
   "cell_type": "code",
   "execution_count": 100,
   "metadata": {},
   "outputs": [],
   "source": [
    "#evaluator.evaluate_for_landscapes(evaluator.adaptivity, num_starts=1)"
   ]
  },
  {
   "cell_type": "code",
   "execution_count": 102,
   "metadata": {
    "scrolled": false
   },
   "outputs": [],
   "source": [
    "evaluator.evaluate_for_landscapes(evaluator.consistency_robustness_independence, num_starts=1)"
   ]
  },
  {
   "cell_type": "code",
   "execution_count": 176,
   "metadata": {},
   "outputs": [
    {
     "data": {
      "text/html": [
       "<div>\n",
       "<style scoped>\n",
       "    .dataframe tbody tr th:only-of-type {\n",
       "        vertical-align: middle;\n",
       "    }\n",
       "\n",
       "    .dataframe tbody tr th {\n",
       "        vertical-align: top;\n",
       "    }\n",
       "\n",
       "    .dataframe thead th {\n",
       "        text-align: right;\n",
       "    }\n",
       "</style>\n",
       "<table border=\"1\" class=\"dataframe\">\n",
       "  <thead>\n",
       "    <tr style=\"text-align: right;\">\n",
       "      <th></th>\n",
       "      <th>id</th>\n",
       "      <th>batch</th>\n",
       "      <th>sequence</th>\n",
       "      <th>true_score</th>\n",
       "      <th>model_score</th>\n",
       "      <th>batch_size</th>\n",
       "      <th>measurement_cost</th>\n",
       "      <th>virtual_evals</th>\n",
       "      <th>landscape_id</th>\n",
       "      <th>start_id</th>\n",
       "      <th>model_type</th>\n",
       "      <th>virtual_screen</th>\n",
       "      <th>horizon</th>\n",
       "      <th>explorer_type</th>\n",
       "    </tr>\n",
       "  </thead>\n",
       "  <tbody>\n",
       "    <tr>\n",
       "      <th>0</th>\n",
       "      <td>0d5d2846-3e2f-11ea-9140-f218984ddad3</td>\n",
       "      <td>1</td>\n",
       "      <td>TTTTTTTC</td>\n",
       "      <td>0.406589</td>\n",
       "      <td>0.678143</td>\n",
       "      <td>100</td>\n",
       "      <td>101</td>\n",
       "      <td>2000</td>\n",
       "      <td>SIX6_REF_R1</td>\n",
       "      <td>TF0</td>\n",
       "      <td>NAMb_ss0</td>\n",
       "      <td>20</td>\n",
       "      <td>10</td>\n",
       "      <td>Greedy_mu1_tr0.05_r0.1_rho1</td>\n",
       "    </tr>\n",
       "    <tr>\n",
       "      <th>1</th>\n",
       "      <td>0d5d2846-3e2f-11ea-9140-f218984ddad3</td>\n",
       "      <td>1</td>\n",
       "      <td>TTTTTTTA</td>\n",
       "      <td>0.483528</td>\n",
       "      <td>0.678143</td>\n",
       "      <td>100</td>\n",
       "      <td>101</td>\n",
       "      <td>2000</td>\n",
       "      <td>SIX6_REF_R1</td>\n",
       "      <td>TF0</td>\n",
       "      <td>NAMb_ss0</td>\n",
       "      <td>20</td>\n",
       "      <td>10</td>\n",
       "      <td>Greedy_mu1_tr0.05_r0.1_rho1</td>\n",
       "    </tr>\n",
       "    <tr>\n",
       "      <th>2</th>\n",
       "      <td>0d5d2846-3e2f-11ea-9140-f218984ddad3</td>\n",
       "      <td>1</td>\n",
       "      <td>TTTTTTGA</td>\n",
       "      <td>0.519039</td>\n",
       "      <td>0.678143</td>\n",
       "      <td>100</td>\n",
       "      <td>101</td>\n",
       "      <td>2000</td>\n",
       "      <td>SIX6_REF_R1</td>\n",
       "      <td>TF0</td>\n",
       "      <td>NAMb_ss0</td>\n",
       "      <td>20</td>\n",
       "      <td>10</td>\n",
       "      <td>Greedy_mu1_tr0.05_r0.1_rho1</td>\n",
       "    </tr>\n",
       "    <tr>\n",
       "      <th>3</th>\n",
       "      <td>0d5d2846-3e2f-11ea-9140-f218984ddad3</td>\n",
       "      <td>1</td>\n",
       "      <td>TTTTTTCA</td>\n",
       "      <td>0.494021</td>\n",
       "      <td>0.678143</td>\n",
       "      <td>100</td>\n",
       "      <td>101</td>\n",
       "      <td>2000</td>\n",
       "      <td>SIX6_REF_R1</td>\n",
       "      <td>TF0</td>\n",
       "      <td>NAMb_ss0</td>\n",
       "      <td>20</td>\n",
       "      <td>10</td>\n",
       "      <td>Greedy_mu1_tr0.05_r0.1_rho1</td>\n",
       "    </tr>\n",
       "    <tr>\n",
       "      <th>4</th>\n",
       "      <td>0d5d2846-3e2f-11ea-9140-f218984ddad3</td>\n",
       "      <td>1</td>\n",
       "      <td>TTTTTTAT</td>\n",
       "      <td>0.501330</td>\n",
       "      <td>0.678143</td>\n",
       "      <td>100</td>\n",
       "      <td>101</td>\n",
       "      <td>2000</td>\n",
       "      <td>SIX6_REF_R1</td>\n",
       "      <td>TF0</td>\n",
       "      <td>NAMb_ss0</td>\n",
       "      <td>20</td>\n",
       "      <td>10</td>\n",
       "      <td>Greedy_mu1_tr0.05_r0.1_rho1</td>\n",
       "    </tr>\n",
       "  </tbody>\n",
       "</table>\n",
       "</div>"
      ],
      "text/plain": [
       "                                     id  batch  sequence  true_score  \\\n",
       "0  0d5d2846-3e2f-11ea-9140-f218984ddad3      1  TTTTTTTC    0.406589   \n",
       "1  0d5d2846-3e2f-11ea-9140-f218984ddad3      1  TTTTTTTA    0.483528   \n",
       "2  0d5d2846-3e2f-11ea-9140-f218984ddad3      1  TTTTTTGA    0.519039   \n",
       "3  0d5d2846-3e2f-11ea-9140-f218984ddad3      1  TTTTTTCA    0.494021   \n",
       "4  0d5d2846-3e2f-11ea-9140-f218984ddad3      1  TTTTTTAT    0.501330   \n",
       "\n",
       "   model_score  batch_size  measurement_cost  virtual_evals landscape_id  \\\n",
       "0     0.678143         100               101           2000  SIX6_REF_R1   \n",
       "1     0.678143         100               101           2000  SIX6_REF_R1   \n",
       "2     0.678143         100               101           2000  SIX6_REF_R1   \n",
       "3     0.678143         100               101           2000  SIX6_REF_R1   \n",
       "4     0.678143         100               101           2000  SIX6_REF_R1   \n",
       "\n",
       "  start_id model_type   virtual_screen  horizon                explorer_type  \n",
       "0      TF0   NAMb_ss0               20       10  Greedy_mu1_tr0.05_r0.1_rho1  \n",
       "1      TF0   NAMb_ss0               20       10  Greedy_mu1_tr0.05_r0.1_rho1  \n",
       "2      TF0   NAMb_ss0               20       10  Greedy_mu1_tr0.05_r0.1_rho1  \n",
       "3      TF0   NAMb_ss0               20       10  Greedy_mu1_tr0.05_r0.1_rho1  \n",
       "4      TF0   NAMb_ss0               20       10  Greedy_mu1_tr0.05_r0.1_rho1  "
      ]
     },
     "execution_count": 176,
     "metadata": {},
     "output_type": "execute_result"
    }
   ],
   "source": [
    "data=pd.read_csv(\"../simulations/evaluations_test_six6/consistency_robustness_independence/Greedy_mu1_tr0.05_r0.1_rho1.csv\",index_col=False)\n",
    "data.head()"
   ]
  },
  {
   "cell_type": "code",
   "execution_count": 177,
   "metadata": {},
   "outputs": [
    {
     "data": {
      "text/plain": [
       "array(['0d5d2846-3e2f-11ea-9140-f218984ddad3'], dtype=object)"
      ]
     },
     "execution_count": 177,
     "metadata": {},
     "output_type": "execute_result"
    }
   ],
   "source": [
    "data.id.unique()"
   ]
  },
  {
   "cell_type": "code",
   "execution_count": 29,
   "metadata": {},
   "outputs": [
    {
     "data": {
      "text/plain": [
       "array(['B1L14RNA1'], dtype=object)"
      ]
     },
     "execution_count": 29,
     "metadata": {},
     "output_type": "execute_result"
    }
   ],
   "source": [
    "data.landscape_id.unique()"
   ]
  },
  {
   "cell_type": "code",
   "execution_count": 183,
   "metadata": {},
   "outputs": [],
   "source": [
    "sub_data=data#[data.model_type==\"nn_arch=CNNa_hd100_f50\"]"
   ]
  },
  {
   "cell_type": "code",
   "execution_count": 185,
   "metadata": {},
   "outputs": [
    {
     "data": {
      "text/html": [
       "<div>\n",
       "<style scoped>\n",
       "    .dataframe tbody tr th:only-of-type {\n",
       "        vertical-align: middle;\n",
       "    }\n",
       "\n",
       "    .dataframe tbody tr th {\n",
       "        vertical-align: top;\n",
       "    }\n",
       "\n",
       "    .dataframe thead th {\n",
       "        text-align: right;\n",
       "    }\n",
       "</style>\n",
       "<table border=\"1\" class=\"dataframe\">\n",
       "  <thead>\n",
       "    <tr style=\"text-align: right;\">\n",
       "      <th></th>\n",
       "      <th>id</th>\n",
       "      <th>batch</th>\n",
       "      <th>sequence</th>\n",
       "      <th>true_score</th>\n",
       "      <th>model_score</th>\n",
       "      <th>batch_size</th>\n",
       "      <th>measurement_cost</th>\n",
       "      <th>virtual_evals</th>\n",
       "      <th>landscape_id</th>\n",
       "      <th>start_id</th>\n",
       "      <th>model_type</th>\n",
       "      <th>virtual_screen</th>\n",
       "      <th>horizon</th>\n",
       "      <th>explorer_type</th>\n",
       "    </tr>\n",
       "  </thead>\n",
       "  <tbody>\n",
       "    <tr>\n",
       "      <th>0</th>\n",
       "      <td>0d5d2846-3e2f-11ea-9140-f218984ddad3</td>\n",
       "      <td>1</td>\n",
       "      <td>TTTTTTTC</td>\n",
       "      <td>0.406589</td>\n",
       "      <td>0.678143</td>\n",
       "      <td>100</td>\n",
       "      <td>101</td>\n",
       "      <td>2000</td>\n",
       "      <td>SIX6_REF_R1</td>\n",
       "      <td>TF0</td>\n",
       "      <td>NAMb_ss0</td>\n",
       "      <td>20</td>\n",
       "      <td>10</td>\n",
       "      <td>Greedy_mu1_tr0.05_r0.1_rho1</td>\n",
       "    </tr>\n",
       "    <tr>\n",
       "      <th>1</th>\n",
       "      <td>0d5d2846-3e2f-11ea-9140-f218984ddad3</td>\n",
       "      <td>1</td>\n",
       "      <td>TTTTTTTA</td>\n",
       "      <td>0.483528</td>\n",
       "      <td>0.678143</td>\n",
       "      <td>100</td>\n",
       "      <td>101</td>\n",
       "      <td>2000</td>\n",
       "      <td>SIX6_REF_R1</td>\n",
       "      <td>TF0</td>\n",
       "      <td>NAMb_ss0</td>\n",
       "      <td>20</td>\n",
       "      <td>10</td>\n",
       "      <td>Greedy_mu1_tr0.05_r0.1_rho1</td>\n",
       "    </tr>\n",
       "    <tr>\n",
       "      <th>2</th>\n",
       "      <td>0d5d2846-3e2f-11ea-9140-f218984ddad3</td>\n",
       "      <td>1</td>\n",
       "      <td>TTTTTTGA</td>\n",
       "      <td>0.519039</td>\n",
       "      <td>0.678143</td>\n",
       "      <td>100</td>\n",
       "      <td>101</td>\n",
       "      <td>2000</td>\n",
       "      <td>SIX6_REF_R1</td>\n",
       "      <td>TF0</td>\n",
       "      <td>NAMb_ss0</td>\n",
       "      <td>20</td>\n",
       "      <td>10</td>\n",
       "      <td>Greedy_mu1_tr0.05_r0.1_rho1</td>\n",
       "    </tr>\n",
       "    <tr>\n",
       "      <th>3</th>\n",
       "      <td>0d5d2846-3e2f-11ea-9140-f218984ddad3</td>\n",
       "      <td>1</td>\n",
       "      <td>TTTTTTCA</td>\n",
       "      <td>0.494021</td>\n",
       "      <td>0.678143</td>\n",
       "      <td>100</td>\n",
       "      <td>101</td>\n",
       "      <td>2000</td>\n",
       "      <td>SIX6_REF_R1</td>\n",
       "      <td>TF0</td>\n",
       "      <td>NAMb_ss0</td>\n",
       "      <td>20</td>\n",
       "      <td>10</td>\n",
       "      <td>Greedy_mu1_tr0.05_r0.1_rho1</td>\n",
       "    </tr>\n",
       "    <tr>\n",
       "      <th>4</th>\n",
       "      <td>0d5d2846-3e2f-11ea-9140-f218984ddad3</td>\n",
       "      <td>1</td>\n",
       "      <td>TTTTTTAT</td>\n",
       "      <td>0.501330</td>\n",
       "      <td>0.678143</td>\n",
       "      <td>100</td>\n",
       "      <td>101</td>\n",
       "      <td>2000</td>\n",
       "      <td>SIX6_REF_R1</td>\n",
       "      <td>TF0</td>\n",
       "      <td>NAMb_ss0</td>\n",
       "      <td>20</td>\n",
       "      <td>10</td>\n",
       "      <td>Greedy_mu1_tr0.05_r0.1_rho1</td>\n",
       "    </tr>\n",
       "  </tbody>\n",
       "</table>\n",
       "</div>"
      ],
      "text/plain": [
       "                                     id  batch  sequence  true_score  \\\n",
       "0  0d5d2846-3e2f-11ea-9140-f218984ddad3      1  TTTTTTTC    0.406589   \n",
       "1  0d5d2846-3e2f-11ea-9140-f218984ddad3      1  TTTTTTTA    0.483528   \n",
       "2  0d5d2846-3e2f-11ea-9140-f218984ddad3      1  TTTTTTGA    0.519039   \n",
       "3  0d5d2846-3e2f-11ea-9140-f218984ddad3      1  TTTTTTCA    0.494021   \n",
       "4  0d5d2846-3e2f-11ea-9140-f218984ddad3      1  TTTTTTAT    0.501330   \n",
       "\n",
       "   model_score  batch_size  measurement_cost  virtual_evals landscape_id  \\\n",
       "0     0.678143         100               101           2000  SIX6_REF_R1   \n",
       "1     0.678143         100               101           2000  SIX6_REF_R1   \n",
       "2     0.678143         100               101           2000  SIX6_REF_R1   \n",
       "3     0.678143         100               101           2000  SIX6_REF_R1   \n",
       "4     0.678143         100               101           2000  SIX6_REF_R1   \n",
       "\n",
       "  start_id model_type   virtual_screen  horizon                explorer_type  \n",
       "0      TF0   NAMb_ss0               20       10  Greedy_mu1_tr0.05_r0.1_rho1  \n",
       "1      TF0   NAMb_ss0               20       10  Greedy_mu1_tr0.05_r0.1_rho1  \n",
       "2      TF0   NAMb_ss0               20       10  Greedy_mu1_tr0.05_r0.1_rho1  \n",
       "3      TF0   NAMb_ss0               20       10  Greedy_mu1_tr0.05_r0.1_rho1  \n",
       "4      TF0   NAMb_ss0               20       10  Greedy_mu1_tr0.05_r0.1_rho1  "
      ]
     },
     "execution_count": 185,
     "metadata": {},
     "output_type": "execute_result"
    }
   ],
   "source": [
    "sub_data.head()"
   ]
  },
  {
   "cell_type": "code",
   "execution_count": 186,
   "metadata": {},
   "outputs": [
    {
     "data": {
      "text/html": [
       "<div>\n",
       "<style scoped>\n",
       "    .dataframe tbody tr th:only-of-type {\n",
       "        vertical-align: middle;\n",
       "    }\n",
       "\n",
       "    .dataframe tbody tr th {\n",
       "        vertical-align: top;\n",
       "    }\n",
       "\n",
       "    .dataframe thead th {\n",
       "        text-align: right;\n",
       "    }\n",
       "</style>\n",
       "<table border=\"1\" class=\"dataframe\">\n",
       "  <thead>\n",
       "    <tr style=\"text-align: right;\">\n",
       "      <th></th>\n",
       "      <th>true_score</th>\n",
       "      <th>model_score</th>\n",
       "    </tr>\n",
       "  </thead>\n",
       "  <tbody>\n",
       "    <tr>\n",
       "      <th>true_score</th>\n",
       "      <td>1.000000</td>\n",
       "      <td>-0.108419</td>\n",
       "    </tr>\n",
       "    <tr>\n",
       "      <th>model_score</th>\n",
       "      <td>-0.108419</td>\n",
       "      <td>1.000000</td>\n",
       "    </tr>\n",
       "  </tbody>\n",
       "</table>\n",
       "</div>"
      ],
      "text/plain": [
       "             true_score  model_score\n",
       "true_score     1.000000    -0.108419\n",
       "model_score   -0.108419     1.000000"
      ]
     },
     "execution_count": 186,
     "metadata": {},
     "output_type": "execute_result"
    }
   ],
   "source": [
    "sub_data[[\"true_score\",\"model_score\"]].corr(\"pearson\")"
   ]
  },
  {
   "cell_type": "code",
   "execution_count": 187,
   "metadata": {},
   "outputs": [
    {
     "data": {
      "text/plain": [
       "<matplotlib.collections.PathCollection at 0x1a4c2e8390>"
      ]
     },
     "execution_count": 187,
     "metadata": {},
     "output_type": "execute_result"
    },
    {
     "data": {
      "image/png": "[encoded data removed]",
      "text/plain": [
       "<Figure size 432x288 with 1 Axes>"
      ]
     },
     "metadata": {
      "needs_background": "light"
     },
     "output_type": "display_data"
    }
   ],
   "source": [
    "plt.scatter(sub_data[\"true_score\"],sub_data[\"model_score\"])"
   ]
  },
  {
   "cell_type": "code",
   "execution_count": 189,
   "metadata": {},
   "outputs": [
    {
     "name": "stderr",
     "output_type": "stream",
     "text": [
      "/anaconda3/envs/tf3/lib/python3.6/site-packages/scipy/stats/stats.py:1713: FutureWarning: Using a non-tuple sequence for multidimensional indexing is deprecated; use `arr[tuple(seq)]` instead of `arr[seq]`. In the future this will be interpreted as an array index, `arr[np.array(seq)]`, which will result either in an error or a different result.\n",
      "  return np.add.reduce(sorted[indexer] * weights, axis=axis) / sumval\n"
     ]
    },
    {
     "data": {
      "text/plain": [
       "<matplotlib.axes._subplots.AxesSubplot at 0x1a4cb5d630>"
      ]
     },
     "execution_count": 189,
     "metadata": {},
     "output_type": "execute_result"
    },
    {
     "data": {
      "image/png": "[encoded data removed]",
      "text/plain": [
       "<Figure size 1008x360 with 1 Axes>"
      ]
     },
     "metadata": {
      "needs_background": "light"
     },
     "output_type": "display_data"
    }
   ],
   "source": [
    "plt.figure(figsize=(14,5))\n",
    "sns.lineplot(x=\"measurement_cost\",y=\"true_score\",hue=\"model_type\",data=sub_data)"
   ]
  },
  {
   "cell_type": "code",
   "execution_count": 82,
   "metadata": {},
   "outputs": [
    {
     "data": {
      "text/plain": [
       "array(['startRNAL14_0', 'startRNAL14_1', 'startRNAL14_2'], dtype=object)"
      ]
     },
     "execution_count": 82,
     "metadata": {},
     "output_type": "execute_result"
    }
   ],
   "source": [
    "data[\"start_id\"].unique()"
   ]
  },
  {
   "cell_type": "code",
   "execution_count": 83,
   "metadata": {},
   "outputs": [],
   "source": [
    "import timeit"
   ]
  },
  {
   "cell_type": "code",
   "execution_count": null,
   "metadata": {},
   "outputs": [],
   "source": [
    "def get_top_sequence_per_batch(data):\n",
    "    top_per_batch=[]\n",
    "    for i in data.batch.unique():\n",
    "        sub_data=data[data.batch==i] #must also group by model type and landscape id\n",
    "        #print (sub_data.true_score.max())\n",
    "        top_per_batch.append(sub_data.true_score.max())\n",
    "    return (top_per_batch)"
   ]
  },
  {
   "cell_type": "code",
   "execution_count": 163,
   "metadata": {},
   "outputs": [
    {
     "data": {
      "text/plain": [
       "True"
      ]
     },
     "execution_count": 163,
     "metadata": {},
     "output_type": "execute_result"
    }
   ],
   "source": [
    "type(\"st\")==str"
   ]
  },
  {
   "cell_type": "code",
   "execution_count": 281,
   "metadata": {},
   "outputs": [
    {
     "name": "stderr",
     "output_type": "stream",
     "text": [
      "/anaconda3/envs/tf3/lib/python3.6/site-packages/sklearn/ensemble/weight_boosting.py:29: DeprecationWarning: numpy.core.umath_tests is an internal NumPy module and should not be imported. It will be removed in a future NumPy release.\n",
      "  from numpy.core.umath_tests import inner1d\n"
     ]
    }
   ],
   "source": [
    "from sklearn.metrics import explained_variance_score, r2_score\n"
   ]
  },
  {
   "cell_type": "code",
   "execution_count": 292,
   "metadata": {},
   "outputs": [
    {
     "data": {
      "text/plain": [
       "1.0"
      ]
     },
     "execution_count": 292,
     "metadata": {},
     "output_type": "execute_result"
    }
   ],
   "source": [
    "explained_variance_score([1],[1])"
   ]
  },
  {
   "cell_type": "code",
   "execution_count": null,
   "metadata": {},
   "outputs": [],
   "source": [
    "[]==True"
   ]
  },
  {
   "cell_type": "code",
   "execution_count": null,
   "metadata": {},
   "outputs": [],
   "source": [
    "print 1"
   ]
  },
  {
   "cell_type": "code",
   "execution_count": null,
   "metadata": {},
   "outputs": [],
   "source": []
  }
 ],
 "metadata": {
  "kernelspec": {
   "display_name": "Python 3",
   "language": "python",
   "name": "python3"
  }
 },
 "nbformat": 4,
 "nbformat_minor": 2
}
