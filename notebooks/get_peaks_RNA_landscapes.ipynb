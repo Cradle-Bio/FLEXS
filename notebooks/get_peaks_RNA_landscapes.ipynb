{
 "cells": [
  {
   "cell_type": "code",
   "execution_count": null,
   "metadata": {},
   "outputs": [],
   "source": [
    "import os\n",
    "import itertools\n",
    "import pickle\n",
    "import matplotlib.pyplot as plt\n",
    "import seaborn as sns\n",
    "import pandas as pd\n",
    "import numpy as np\n",
    "import sys\n",
    "sys.path.append(\"../\")\n",
    "from models.Ground_truth_oracles.RNA_landscape_models import RNA_landscape_constructor\n",
    "from models.Ground_truth_oracles.TF_binding_landscape_models import *"
   ]
  },
  {
   "cell_type": "code",
   "execution_count": null,
   "metadata": {},
   "outputs": [],
   "source": [
    "def is_sequence_a_peak(model, sequence, peak_dict, alphabet=\"AGTC\"):\n",
    "    if sequence in peak_dict:\n",
    "        return peak_dict[sequence]\n",
    "    neighbor=[s for s in sequence]\n",
    "    sequence_fitness=model.get_fitness(sequence)\n",
    "    for position in range(len(sequence)):\n",
    "        for aa in alphabet:\n",
    "            if aa!=sequence[position]:\n",
    "               neighbor[position]=aa\n",
    "               neighbor_string=\"\".join(neighbor)\n",
    "               if sequence_fitness<model.get_fitness(neighbor_string):\n",
    "                  peak_dict[sequence] = 0\n",
    "                  return 0\n",
    "               elif sequence_fitness>model.get_fitness(neighbor_string):\n",
    "                  peak_dict[neighbor_string] = 0\n",
    "               neighbor[position]=sequence[position] # reset \n",
    "    peak_dict[sequence] = 1\n",
    "    return 1\n",
    "\n",
    "def get_all_peaks(landscape, alphabet='AGTC'):\n",
    "    peaks=set()\n",
    "    peak_dict = {}\n",
    "    for ind, seq in enumerate(itertools.product(alphabet, repeat=14)):\n",
    "        if ind % 10000 == 0:\n",
    "            print('Processed {} sequences and found {} peaks'.format(ind, len(peaks)))\n",
    "            print(len(peak_dict))\n",
    "        seq = ''.join(seq)\n",
    "        if is_sequence_a_peak(landscape, seq, peak_dict, alphabet):\n",
    "           peaks.add(seq)\n",
    "    return peaks\n",
    "\n",
    "if not os.path.isdir('../peaks'):\n",
    "    os.mkdir('../peaks')"
   ]
  },
  {
   "cell_type": "code",
   "execution_count": null,
   "metadata": {},
   "outputs": [],
   "source": [
    "rna_landscape_constructor_1=RNA_landscape_constructor()\n",
    "rna_landscape_constructor_1.load_landscapes(\"../data/RNA_landscapes/RNA_landscape_config.yaml\", \n",
    "                                      landscapes_to_test = [0])\n",
    "landscape1 = next(rna_landscape_constructor_1.generate_from_loaded_landscapes())\n",
    "rna_landscape_constructor_2=RNA_landscape_constructor()\n",
    "rna_landscape_constructor_2.load_landscapes(\"../data/RNA_landscapes/RNA_landscape_config.yaml\", \n",
    "                                      landscapes_to_test = [12])\n",
    "landscape2 = next(rna_landscape_constructor_2.generate_from_loaded_landscapes())"
   ]
  },
  {
   "cell_type": "code",
   "execution_count": null,
   "metadata": {},
   "outputs": [],
   "source": [
    "peaks_1 = get_all_peaks(landscape1[\"landscape_oracle\"], 'UGTC')\n",
    "pickle.dump(peaks_1, open('../peaks/peaks_B1L14RNA1.pkl'))"
   ]
  },
  {
   "cell_type": "code",
   "execution_count": null,
   "metadata": {},
   "outputs": [],
   "source": [
    "peaks_2 = get_all_peaks(rna_landscape_constructor_2[\"landscape_oracle\"], 'UGTC')\n",
    "pickle.dump(peaks_2, open('../peaks/peaks_B2L14RNA1+2.pkl'))"
   ]
  }
 ],
 "metadata": {
  "kernelspec": {
   "display_name": "conda_amazonei_mxnet_p36",
   "language": "python",
   "name": "conda_amazonei_mxnet_p36"
  },
  "language_info": {
   "codemirror_mode": {
    "name": "ipython",
    "version": 3
   },
   "file_extension": ".py",
   "mimetype": "text/x-python",
   "name": "python",
   "nbconvert_exporter": "python",
   "pygments_lexer": "ipython3",
   "version": "3.6.5"
  }
 },
 "nbformat": 4,
 "nbformat_minor": 4
}
