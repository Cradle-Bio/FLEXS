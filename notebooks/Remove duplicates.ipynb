{
 "cells": [
  {
   "cell_type": "code",
   "execution_count": null,
   "metadata": {},
   "outputs": [],
   "source": [
    "%reload_ext autoreload\n",
    "%autoreload 2\n",
    "%matplotlib inline\n",
    "import editdistance\n",
    "import matplotlib.pyplot as plt\n",
    "import seaborn as sns\n",
    "import pandas as pd"
   ]
  },
  {
   "cell_type": "code",
   "execution_count": null,
   "metadata": {},
   "outputs": [],
   "source": [
    "# great, can you write a scripts that takes a bunch of  CRI dataframes\n",
    "# and (1) takes out incomplete runs (e.g. something that stopped at the middle of batch 5 or something)\n",
    "# continuing my instructions above, can you also make sure it removes \"duplicates\" of the same run\n",
    "# (averaging may be too tricky) so if the same algo is run on the same landscape\n",
    "# with same parameters and same starting position, just take one run"
   ]
  },
  {
   "cell_type": "code",
   "execution_count": null,
   "metadata": {},
   "outputs": [],
   "source": [
    "data = pd.read_csv(\"path_to_CRI_runs\")"
   ]
  },
  {
   "cell_type": "code",
   "execution_count": null,
   "metadata": {},
   "outputs": [],
   "source": [
    "data.columns"
   ]
  },
  {
   "cell_type": "code",
   "execution_count": null,
   "metadata": {},
   "outputs": [],
   "source": [
    "len(data)"
   ]
  },
  {
   "cell_type": "code",
   "execution_count": null,
   "metadata": {},
   "outputs": [],
   "source": [
    "data.head()\n",
    "data.tail()"
   ]
  },
  {
   "cell_type": "code",
   "execution_count": null,
   "metadata": {},
   "outputs": [],
   "source": [
    "import os\n",
    "from collections import defaultdict\n",
    "\n",
    "class CRIData:\n",
    "    def __init__(self, verbose=False, warnings=True):\n",
    "        self.runs = dict()\n",
    "        self.verbose = verbose\n",
    "        self.warnings = warnings\n",
    "        self.dir = \"./\"\n",
    "        \n",
    "        self.landscapes = defaultdict(set)\n",
    "    \n",
    "    def set_dir(self, d):\n",
    "        self.dir = d\n",
    "        \n",
    "    def hash_item(self, r):\n",
    "        # hashes a single row of data\n",
    "        return (f\"{r.landscape_id},\"\n",
    "                f\"{r.start_id},\"\n",
    "                f\"{r.model_type},\"\n",
    "                f\"{r.virtual_screen},\"\n",
    "                f\"{r.explorer_type}\")\n",
    "        \n",
    "    def parse_file(self, filename):\n",
    "        data = pd.read_csv(os.path.join(self.dir, filename))\n",
    "        \n",
    "        start = 0\n",
    "        current_task = None\n",
    "        for i, row in data.iterrows():\n",
    "            h = self.hash_item(row)\n",
    "            if current_task != h or i == len(data)-1:\n",
    "                # store previous run\n",
    "                self.store_run(data, start=start, end=i, h=h)\n",
    "\n",
    "                # start new run\n",
    "                current_task = h\n",
    "                start = i\n",
    "                if self.verbose:\n",
    "                    print(f\"Start: {start}, Task: {h}\")\n",
    "                    \n",
    "    @staticmethod\n",
    "    def is_incomplete_run(df):\n",
    "        # bad metric\n",
    "        if df.iloc[-1].horizon == 1:\n",
    "            return False\n",
    "        return True\n",
    "        \n",
    "    def store_run(self, df, start, end, h):\n",
    "        \"\"\"\n",
    "        start: starting index of run\n",
    "        end: ending index of run\n",
    "        h: hash of run\n",
    "        \"\"\"\n",
    "        if end <= 0:\n",
    "            return\n",
    "        \n",
    "        candidate = df.iloc[start:end]\n",
    "        \n",
    "        if self.is_incomplete_run(candidate):\n",
    "            if self.warnings:\n",
    "                print(f\"WARNING: not a complete run\")\n",
    "            return\n",
    "\n",
    "        if h in self.runs:\n",
    "            if self.warnings:\n",
    "                print(f\"WARNING: {h} already in runs\")\n",
    "\n",
    "        self.runs[h] = candidate\n",
    "        self.store_completed_landscape(candidate)\n",
    "        \n",
    "    def store_completed_landscape(self, df):\n",
    "        landscape = df.iloc[0].landscape_id\n",
    "        start_seq = df.iloc[0].start_id\n",
    "        self.landscapes[landscape].add(start_seq)"
   ]
  },
  {
   "cell_type": "code",
   "execution_count": null,
   "metadata": {},
   "outputs": [],
   "source": [
    "cRNA = CRIData(warnings=False)\n",
    "cRNA.set_dir(\"path_to_CRI_runs\")\n",
    "cRNA.parse_file(\"DynaPPO_Agent_0.5_10_20_dens.csv\")\n",
    "cRNA.parse_file(\"DynaPPO_Agent_0.5_10_20_num2_dens.csv\")\n",
    "cRNA.parse_file(\"DynaPPO_Agent_0.5_10_20_num3_dens.csv\")"
   ]
  },
  {
   "cell_type": "code",
   "execution_count": null,
   "metadata": {},
   "outputs": [],
   "source": [
    "cRNA.landscapes"
   ]
  },
  {
   "cell_type": "code",
   "execution_count": null,
   "metadata": {},
   "outputs": [],
   "source": [
    "cTF = CRIData()\n",
    "cTF.set_dir(\"path_to_CRI_runs\")\n",
    "cTF.parse_file(\"DynaPPO_Agent_0.5_10_20_dens.csv\")\n",
    "cTF.parse_file(\"DynaPPO_Agent_0.5_10_20_num2_dens.csv\")\n",
    "cTF.parse_file(\"DynaPPO_Agent_0.5_10_20_num3_dens.csv\")"
   ]
  },
  {
   "cell_type": "code",
   "execution_count": null,
   "metadata": {},
   "outputs": [],
   "source": [
    "cTF.landscapes"
   ]
  },
  {
   "cell_type": "code",
   "execution_count": null,
   "metadata": {},
   "outputs": [],
   "source": [
    "cRNA_nodens = CRIData(warnings=False)\n",
    "cRNA_nodens.set_dir(\"path_to_CRI_runs\")\n",
    "cRNA_nodens.parse_file(\"DynaPPO_Agent_0.5_10_20.csv\")\n",
    "cRNA_nodens.parse_file(\"DynaPPO_Agent_0.5_10_20_num2.csv\")"
   ]
  },
  {
   "cell_type": "code",
   "execution_count": null,
   "metadata": {},
   "outputs": [],
   "source": [
    "cRNA_nodens.landscapes"
   ]
  },
  {
   "cell_type": "code",
   "execution_count": null,
   "metadata": {},
   "outputs": [],
   "source": [
    "cTF_nodens = CRIData()\n",
    "cTF_nodens.set_dir(\"path_to_CRI_runs\")\n",
    "cTF_nodens.parse_file(\"DynaPPO_Agent_0.5_10_20.csv\")\n",
    "cTF_nodens.parse_file(\"DynaPPO_Agent_0.5_10_20_num2.csv\")"
   ]
  },
  {
   "cell_type": "code",
   "execution_count": null,
   "metadata": {},
   "outputs": [],
   "source": [
    "cTF_nodens.landscapes"
   ]
  }
 ],
 "metadata": {
  "kernelspec": {
   "display_name": "flrl",
   "language": "python",
   "name": "flrl"
  },
  "language_info": {
   "codemirror_mode": {
    "name": "ipython",
    "version": 3
   },
   "file_extension": ".py",
   "mimetype": "text/x-python",
   "name": "python",
   "nbconvert_exporter": "python",
   "pygments_lexer": "ipython3",
   "version": "3.7.3"
  }
 },
 "nbformat": 4,
 "nbformat_minor": 2
}
