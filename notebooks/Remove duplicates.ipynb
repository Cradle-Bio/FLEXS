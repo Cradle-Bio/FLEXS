{
 "cells": [
  {
   "cell_type": "code",
   "execution_count": 1,
   "metadata": {},
   "outputs": [],
   "source": [
    "%reload_ext autoreload\n",
    "%autoreload 2\n",
    "%matplotlib inline\n",
    "import editdistance\n",
    "import matplotlib.pyplot as plt\n",
    "import seaborn as sns\n",
    "import pandas as pd"
   ]
  },
  {
   "cell_type": "code",
   "execution_count": null,
   "metadata": {},
   "outputs": [],
   "source": [
    "# great, can you write a scripts that takes a bunch of  CRI dataframes\n",
    "# and (1) takes out incomplete runs (e.g. something that stopped at the middle of batch 5 or something)\n",
    "# continuing my instructions above, can you also make sure it removes \"duplicates\" of the same run\n",
    "# (averaging may be too tricky) so if the same algo is run on the same landscape\n",
    "# with same parameters and same starting position, just take one run"
   ]
  },
  {
   "cell_type": "code",
   "execution_count": 3,
   "metadata": {},
   "outputs": [],
   "source": [
    "data = pd.read_csv(\"/Users/richard/Downloads/RichardRuns2/RNA/consistency_robustness_independence/DynaPPO_Agent_0.5_10_20_dens.csv\")"
   ]
  },
  {
   "cell_type": "code",
   "execution_count": 5,
   "metadata": {},
   "outputs": [
    {
     "data": {
      "text/plain": [
       "Index(['id', 'batch', 'sequence', 'true_score', 'model_score', 'batch_size',\n",
       "       'measurement_cost', 'virtual_evals', 'landscape_id', 'start_id',\n",
       "       'model_type', 'virtual_screen', 'horizon', 'explorer_type'],\n",
       "      dtype='object')"
      ]
     },
     "execution_count": 5,
     "metadata": {},
     "output_type": "execute_result"
    }
   ],
   "source": [
    "data.columns"
   ]
  },
  {
   "cell_type": "code",
   "execution_count": 6,
   "metadata": {},
   "outputs": [
    {
     "data": {
      "text/plain": [
       "52857"
      ]
     },
     "execution_count": 6,
     "metadata": {},
     "output_type": "execute_result"
    }
   ],
   "source": [
    "len(data)"
   ]
  },
  {
   "cell_type": "code",
   "execution_count": 21,
   "metadata": {},
   "outputs": [
    {
     "data": {
      "text/html": [
       "<div>\n",
       "<style scoped>\n",
       "    .dataframe tbody tr th:only-of-type {\n",
       "        vertical-align: middle;\n",
       "    }\n",
       "\n",
       "    .dataframe tbody tr th {\n",
       "        vertical-align: top;\n",
       "    }\n",
       "\n",
       "    .dataframe thead th {\n",
       "        text-align: right;\n",
       "    }\n",
       "</style>\n",
       "<table border=\"1\" class=\"dataframe\">\n",
       "  <thead>\n",
       "    <tr style=\"text-align: right;\">\n",
       "      <th></th>\n",
       "      <th>id</th>\n",
       "      <th>batch</th>\n",
       "      <th>sequence</th>\n",
       "      <th>true_score</th>\n",
       "      <th>model_score</th>\n",
       "      <th>batch_size</th>\n",
       "      <th>measurement_cost</th>\n",
       "      <th>virtual_evals</th>\n",
       "      <th>landscape_id</th>\n",
       "      <th>start_id</th>\n",
       "      <th>model_type</th>\n",
       "      <th>virtual_screen</th>\n",
       "      <th>horizon</th>\n",
       "      <th>explorer_type</th>\n",
       "    </tr>\n",
       "  </thead>\n",
       "  <tbody>\n",
       "    <tr>\n",
       "      <td>52852</td>\n",
       "      <td>c46b3c3e-48e9-11ea-b7bd-b1bacd5ad49f</td>\n",
       "      <td>10</td>\n",
       "      <td>GCGCGGGGCCAUGG</td>\n",
       "      <td>0.465842</td>\n",
       "      <td>0.465842</td>\n",
       "      <td>100</td>\n",
       "      <td>1001</td>\n",
       "      <td>19708.0</td>\n",
       "      <td>B2L14RNA1+2</td>\n",
       "      <td>startRNAL14_2</td>\n",
       "      <td>ENS_3_NAMb_ss1</td>\n",
       "      <td>20</td>\n",
       "      <td>1</td>\n",
       "      <td>DynaPPO_Agent_0.5_10_20</td>\n",
       "    </tr>\n",
       "    <tr>\n",
       "      <td>52853</td>\n",
       "      <td>c46b3c3e-48e9-11ea-b7bd-b1bacd5ad49f</td>\n",
       "      <td>10</td>\n",
       "      <td>UCGUGGGGGGCUCG</td>\n",
       "      <td>0.464514</td>\n",
       "      <td>0.464514</td>\n",
       "      <td>100</td>\n",
       "      <td>1001</td>\n",
       "      <td>19708.0</td>\n",
       "      <td>B2L14RNA1+2</td>\n",
       "      <td>startRNAL14_2</td>\n",
       "      <td>ENS_3_NAMb_ss1</td>\n",
       "      <td>20</td>\n",
       "      <td>1</td>\n",
       "      <td>DynaPPO_Agent_0.5_10_20</td>\n",
       "    </tr>\n",
       "    <tr>\n",
       "      <td>52854</td>\n",
       "      <td>c46b3c3e-48e9-11ea-b7bd-b1bacd5ad49f</td>\n",
       "      <td>10</td>\n",
       "      <td>GGGUGCGGCGCGGA</td>\n",
       "      <td>0.464448</td>\n",
       "      <td>0.464448</td>\n",
       "      <td>100</td>\n",
       "      <td>1001</td>\n",
       "      <td>19708.0</td>\n",
       "      <td>B2L14RNA1+2</td>\n",
       "      <td>startRNAL14_2</td>\n",
       "      <td>ENS_3_NAMb_ss1</td>\n",
       "      <td>20</td>\n",
       "      <td>1</td>\n",
       "      <td>DynaPPO_Agent_0.5_10_20</td>\n",
       "    </tr>\n",
       "    <tr>\n",
       "      <td>52855</td>\n",
       "      <td>c46b3c3e-48e9-11ea-b7bd-b1bacd5ad49f</td>\n",
       "      <td>10</td>\n",
       "      <td>GCGCGGGGCCAUUG</td>\n",
       "      <td>0.461894</td>\n",
       "      <td>0.461894</td>\n",
       "      <td>100</td>\n",
       "      <td>1001</td>\n",
       "      <td>19708.0</td>\n",
       "      <td>B2L14RNA1+2</td>\n",
       "      <td>startRNAL14_2</td>\n",
       "      <td>ENS_3_NAMb_ss1</td>\n",
       "      <td>20</td>\n",
       "      <td>1</td>\n",
       "      <td>DynaPPO_Agent_0.5_10_20</td>\n",
       "    </tr>\n",
       "    <tr>\n",
       "      <td>52856</td>\n",
       "      <td>c46b3c3e-48e9-11ea-b7bd-b1bacd5ad49f</td>\n",
       "      <td>0</td>\n",
       "      <td>UCUUGGGGACUUUU</td>\n",
       "      <td>0.077723</td>\n",
       "      <td>0.077723</td>\n",
       "      <td>100</td>\n",
       "      <td>1</td>\n",
       "      <td>0.0</td>\n",
       "      <td>B2L14RNA1+2</td>\n",
       "      <td>startRNAL14_2</td>\n",
       "      <td>ENS_3_arch=CNNa_hd100_f50</td>\n",
       "      <td>20</td>\n",
       "      <td>10</td>\n",
       "      <td>DynaPPO_Agent_0.5_10_20</td>\n",
       "    </tr>\n",
       "  </tbody>\n",
       "</table>\n",
       "</div>"
      ],
      "text/plain": [
       "                                         id  batch        sequence  \\\n",
       "52852  c46b3c3e-48e9-11ea-b7bd-b1bacd5ad49f     10  GCGCGGGGCCAUGG   \n",
       "52853  c46b3c3e-48e9-11ea-b7bd-b1bacd5ad49f     10  UCGUGGGGGGCUCG   \n",
       "52854  c46b3c3e-48e9-11ea-b7bd-b1bacd5ad49f     10  GGGUGCGGCGCGGA   \n",
       "52855  c46b3c3e-48e9-11ea-b7bd-b1bacd5ad49f     10  GCGCGGGGCCAUUG   \n",
       "52856  c46b3c3e-48e9-11ea-b7bd-b1bacd5ad49f      0  UCUUGGGGACUUUU   \n",
       "\n",
       "       true_score  model_score  batch_size  measurement_cost  virtual_evals  \\\n",
       "52852    0.465842     0.465842         100              1001        19708.0   \n",
       "52853    0.464514     0.464514         100              1001        19708.0   \n",
       "52854    0.464448     0.464448         100              1001        19708.0   \n",
       "52855    0.461894     0.461894         100              1001        19708.0   \n",
       "52856    0.077723     0.077723         100                 1            0.0   \n",
       "\n",
       "      landscape_id       start_id                 model_type  virtual_screen  \\\n",
       "52852  B2L14RNA1+2  startRNAL14_2             ENS_3_NAMb_ss1              20   \n",
       "52853  B2L14RNA1+2  startRNAL14_2             ENS_3_NAMb_ss1              20   \n",
       "52854  B2L14RNA1+2  startRNAL14_2             ENS_3_NAMb_ss1              20   \n",
       "52855  B2L14RNA1+2  startRNAL14_2             ENS_3_NAMb_ss1              20   \n",
       "52856  B2L14RNA1+2  startRNAL14_2  ENS_3_arch=CNNa_hd100_f50              20   \n",
       "\n",
       "       horizon            explorer_type  \n",
       "52852        1  DynaPPO_Agent_0.5_10_20  \n",
       "52853        1  DynaPPO_Agent_0.5_10_20  \n",
       "52854        1  DynaPPO_Agent_0.5_10_20  \n",
       "52855        1  DynaPPO_Agent_0.5_10_20  \n",
       "52856       10  DynaPPO_Agent_0.5_10_20  "
      ]
     },
     "execution_count": 21,
     "metadata": {},
     "output_type": "execute_result"
    }
   ],
   "source": [
    "data.head()\n",
    "data.tail()"
   ]
  },
  {
   "cell_type": "code",
   "execution_count": 98,
   "metadata": {},
   "outputs": [],
   "source": [
    "import os\n",
    "from collections import defaultdict\n",
    "\n",
    "class CRIData:\n",
    "    def __init__(self, verbose=False, warnings=True):\n",
    "        self.runs = dict()\n",
    "        self.verbose = verbose\n",
    "        self.warnings = warnings\n",
    "        self.dir = \"./\"\n",
    "        \n",
    "        self.landscapes = defaultdict(set)\n",
    "    \n",
    "    def set_dir(self, d):\n",
    "        self.dir = d\n",
    "        \n",
    "    def hash_item(self, r):\n",
    "        # hashes a single row of data\n",
    "        return (f\"{r.landscape_id},\"\n",
    "                f\"{r.start_id},\"\n",
    "                f\"{r.model_type},\"\n",
    "                f\"{r.virtual_screen},\"\n",
    "                f\"{r.explorer_type}\")\n",
    "        \n",
    "    def parse_file(self, filename):\n",
    "        data = pd.read_csv(os.path.join(self.dir, filename))\n",
    "        \n",
    "        start = 0\n",
    "        current_task = None\n",
    "        for i, row in data.iterrows():\n",
    "            h = self.hash_item(row)\n",
    "            if current_task != h or i == len(data)-1:\n",
    "                # store previous run\n",
    "                self.store_run(data, start=start, end=i, h=h)\n",
    "\n",
    "                # start new run\n",
    "                current_task = h\n",
    "                start = i\n",
    "                if self.verbose:\n",
    "                    print(f\"Start: {start}, Task: {h}\")\n",
    "                    \n",
    "    @staticmethod\n",
    "    def is_incomplete_run(df):\n",
    "        # bad metric\n",
    "        if df.iloc[-1].horizon == 1:\n",
    "            return False\n",
    "        return True\n",
    "        \n",
    "    def store_run(self, df, start, end, h):\n",
    "        \"\"\"\n",
    "        start: starting index of run\n",
    "        end: ending index of run\n",
    "        h: hash of run\n",
    "        \"\"\"\n",
    "        if end <= 0:\n",
    "            return\n",
    "        \n",
    "        candidate = df.iloc[start:end]\n",
    "        \n",
    "        if self.is_incomplete_run(candidate):\n",
    "            if self.warnings:\n",
    "                print(f\"WARNING: not a complete run\")\n",
    "            return\n",
    "\n",
    "        if h in self.runs:\n",
    "            if self.warnings:\n",
    "                print(f\"WARNING: {h} already in runs\")\n",
    "\n",
    "        self.runs[h] = candidate\n",
    "        self.store_completed_landscape(candidate)\n",
    "        \n",
    "    def store_completed_landscape(self, df):\n",
    "        landscape = df.iloc[0].landscape_id\n",
    "        start_seq = df.iloc[0].start_id\n",
    "        self.landscapes[landscape].add(start_seq)"
   ]
  },
  {
   "cell_type": "code",
   "execution_count": 99,
   "metadata": {},
   "outputs": [],
   "source": [
    "cRNA = CRIData(warnings=False)\n",
    "cRNA.set_dir(\"/Users/richard/Downloads/RichardRuns2/RNA/consistency_robustness_independence/\")\n",
    "cRNA.parse_file(\"DynaPPO_Agent_0.5_10_20_dens.csv\")\n",
    "cRNA.parse_file(\"DynaPPO_Agent_0.5_10_20_num2_dens.csv\")\n",
    "cRNA.parse_file(\"DynaPPO_Agent_0.5_10_20_num3_dens.csv\")"
   ]
  },
  {
   "cell_type": "code",
   "execution_count": 100,
   "metadata": {},
   "outputs": [
    {
     "data": {
      "text/plain": [
       "defaultdict(set,\n",
       "            {'B1L14RNA1': {'startRNAL14_0', 'startRNAL14_1', 'startRNAL14_2'},\n",
       "             'B1L50RNA1': {'startRNAL50_0', 'startRNAL50_1', 'startRNAL50_2'},\n",
       "             'B2L14RNA1+2': {'startRNAL14_0',\n",
       "              'startRNAL14_1',\n",
       "              'startRNAL14_2'},\n",
       "             'B2L50RNA1+4': {'startRNAL50_0', 'startRNAL50_1'}})"
      ]
     },
     "execution_count": 100,
     "metadata": {},
     "output_type": "execute_result"
    }
   ],
   "source": [
    "cRNA.landscapes"
   ]
  },
  {
   "cell_type": "code",
   "execution_count": 103,
   "metadata": {},
   "outputs": [
    {
     "name": "stdout",
     "output_type": "stream",
     "text": [
      "WARNING: SIX6_REF_R1,TF0,ENS_3_NAMb_ss0.5,20,DynaPPO_Agent_0.5_10_20 already in runs\n",
      "WARNING: not a complete run\n"
     ]
    }
   ],
   "source": [
    "cTF = CRIData()\n",
    "cTF.set_dir(\"/Users/richard/Downloads/RichardRuns2/TF/consistency_robustness_independence/\")\n",
    "cTF.parse_file(\"DynaPPO_Agent_0.5_10_20_dens.csv\")\n",
    "cTF.parse_file(\"DynaPPO_Agent_0.5_10_20_num2_dens.csv\")\n",
    "cTF.parse_file(\"DynaPPO_Agent_0.5_10_20_num3_dens.csv\")"
   ]
  },
  {
   "cell_type": "code",
   "execution_count": 104,
   "metadata": {},
   "outputs": [
    {
     "data": {
      "text/plain": [
       "defaultdict(set,\n",
       "            {'POU3F4_REF_R1': {'TF0', 'TF1', 'TF2'},\n",
       "             'PAX3_G48R_R1': {'TF0', 'TF1', 'TF2'},\n",
       "             'SIX6_REF_R1': {'TF0', 'TF1', 'TF2'}})"
      ]
     },
     "execution_count": 104,
     "metadata": {},
     "output_type": "execute_result"
    }
   ],
   "source": [
    "cTF.landscapes"
   ]
  },
  {
   "cell_type": "code",
   "execution_count": 106,
   "metadata": {},
   "outputs": [],
   "source": [
    "cRNA_nodens = CRIData(warnings=False)\n",
    "cRNA_nodens.set_dir(\"/Users/richard/Downloads/RichardRuns2/RNA/consistency_robustness_independence/\")\n",
    "cRNA_nodens.parse_file(\"DynaPPO_Agent_0.5_10_20.csv\")\n",
    "cRNA_nodens.parse_file(\"DynaPPO_Agent_0.5_10_20_num2.csv\")"
   ]
  },
  {
   "cell_type": "code",
   "execution_count": 107,
   "metadata": {},
   "outputs": [
    {
     "data": {
      "text/plain": [
       "defaultdict(set,\n",
       "            {'B1L14RNA1': {'startRNAL14_0', 'startRNAL14_1', 'startRNAL14_2'},\n",
       "             'B1L50RNA1': {'startRNAL50_0', 'startRNAL50_1', 'startRNAL50_2'},\n",
       "             'B2L14RNA1+2': {'startRNAL14_0',\n",
       "              'startRNAL14_1',\n",
       "              'startRNAL14_2'},\n",
       "             'B2L50RNA1+4': {'startRNAL50_0',\n",
       "              'startRNAL50_1',\n",
       "              'startRNAL50_2'}})"
      ]
     },
     "execution_count": 107,
     "metadata": {},
     "output_type": "execute_result"
    }
   ],
   "source": [
    "cRNA_nodens.landscapes"
   ]
  },
  {
   "cell_type": "code",
   "execution_count": 108,
   "metadata": {},
   "outputs": [
    {
     "name": "stdout",
     "output_type": "stream",
     "text": [
      "WARNING: not a complete run\n"
     ]
    }
   ],
   "source": [
    "cTF_nodens = CRIData()\n",
    "cTF_nodens.set_dir(\"/Users/richard/Downloads/RichardRuns2/TF/consistency_robustness_independence/\")\n",
    "cTF_nodens.parse_file(\"DynaPPO_Agent_0.5_10_20.csv\")\n",
    "cTF_nodens.parse_file(\"DynaPPO_Agent_0.5_10_20_num2.csv\")"
   ]
  },
  {
   "cell_type": "code",
   "execution_count": 109,
   "metadata": {},
   "outputs": [
    {
     "data": {
      "text/plain": [
       "defaultdict(set,\n",
       "            {'POU3F4_REF_R1': {'TF0'},\n",
       "             'SIX6_REF_R1': {'TF0', 'TF1', 'TF2', 'TF3', 'TF4'},\n",
       "             'VAX2_REF_R1': {'TF0'}})"
      ]
     },
     "execution_count": 109,
     "metadata": {},
     "output_type": "execute_result"
    }
   ],
   "source": [
    "cTF_nodens.landscapes"
   ]
  },
  {
   "cell_type": "code",
   "execution_count": null,
   "metadata": {},
   "outputs": [],
   "source": []
  }
 ],
 "metadata": {
  "kernelspec": {
   "display_name": "flrl",
   "language": "python",
   "name": "flrl"
  },
  "language_info": {
   "codemirror_mode": {
    "name": "ipython",
    "version": 3
   },
   "file_extension": ".py",
   "mimetype": "text/x-python",
   "name": "python",
   "nbconvert_exporter": "python",
   "pygments_lexer": "ipython3",
   "version": "3.7.3"
  }
 },
 "nbformat": 4,
 "nbformat_minor": 2
}
