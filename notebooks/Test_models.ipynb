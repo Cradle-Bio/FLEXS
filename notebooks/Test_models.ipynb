{
 "cells": [
  {
   "cell_type": "code",
   "execution_count": null,
   "metadata": {},
   "outputs": [],
   "source": [
    "import sys\n",
    "sys.path.append('/usr/local/lib/python3.6/site-packages/')\n",
    "sys.path.append('../')"
   ]
  },
  {
   "cell_type": "code",
   "execution_count": null,
   "metadata": {},
   "outputs": [],
   "source": [
    "%reload_ext autoreload\n",
    "%autoreload 2\n",
    "%matplotlib inline\n",
    "from models.Noisy_models.Noisy_abstract_model import Noisy_abstract_model, Null_model\n",
    "from utils.sequence_utils import *\n",
    "import editdistance\n",
    "import matplotlib.pyplot as plt\n",
    "import seaborn as sns\n",
    "import pandas as pd\n"
   ]
  },
  {
   "cell_type": "code",
   "execution_count": null,
   "metadata": {},
   "outputs": [],
   "source": [
    "import RNA\n",
    "RAA=\"UGCA\""
   ]
  },
  {
   "cell_type": "code",
   "execution_count": null,
   "metadata": {},
   "outputs": [],
   "source": [
    "target='GAACGAGGCACAUUCCGGCUCGCCCGGCCCAUGUGAGCAUGGGCCGGACCCCGUCCGCGCGGGGCCCCCGCGCGGACGGGGGCGAGCCGGAAUGUGCCUC'\n",
    "wt=\"AGUC\"*20"
   ]
  },
  {
   "cell_type": "code",
   "execution_count": null,
   "metadata": {},
   "outputs": [],
   "source": [
    "from models.Ground_truth_oracles.RNA_landscape_models import RNA_landscape_binding"
   ]
  },
  {
   "cell_type": "code",
   "execution_count": null,
   "metadata": {},
   "outputs": [],
   "source": [
    "len(wt)"
   ]
  },
  {
   "cell_type": "code",
   "execution_count": null,
   "metadata": {},
   "outputs": [],
   "source": [
    "wt=generate_random_sequences(100,1,alphabet=RAA)[0]"
   ]
  },
  {
   "cell_type": "code",
   "execution_count": null,
   "metadata": {},
   "outputs": [],
   "source": [
    "wt"
   ]
  },
  {
   "cell_type": "code",
   "execution_count": null,
   "metadata": {},
   "outputs": [],
   "source": [
    "base_landscape=RNA_landscape_binding(target)\n",
    "#base_landscape=Conserved_landscape(base_landscape, wt[:2],0)\n",
    "base_landscape.get_fitness(wt)"
   ]
  },
  {
   "cell_type": "code",
   "execution_count": null,
   "metadata": {},
   "outputs": [],
   "source": [
    "noisy_landscape= Noisy_abstract_model(base_landscape,signal_strength=0.5)\n",
    "noisy_landscape = Null_model(base_landscape)\n",
    "noisy_landscape.reset([wt])"
   ]
  },
  {
   "cell_type": "code",
   "execution_count": null,
   "metadata": {},
   "outputs": [],
   "source": [
    "noisy_landscape.get_fitness(wt)"
   ]
  },
  {
   "cell_type": "code",
   "execution_count": null,
   "metadata": {},
   "outputs": [],
   "source": [
    "len(\"AUGUUUCUUUUAUUUAUCUGAGCAUGGGCGGGGCAUUUGCCCAUGCAAUU\")"
   ]
  },
  {
   "cell_type": "code",
   "execution_count": null,
   "metadata": {},
   "outputs": [],
   "source": [
    "noisy_landscape.get_fitness(\"ACCGUGGUUCCAGGUGAAAACGAUAUGCUACCUGCUAAACGAGAAAGACGGGAACUUGAUAAGCGAGCAAAGCCAGUAUUUAGUUACAGCAGGAAUGUCC\")"
   ]
  },
  {
   "cell_type": "code",
   "execution_count": null,
   "metadata": {},
   "outputs": [],
   "source": [
    "noisy_landscape.cost"
   ]
  },
  {
   "cell_type": "code",
   "execution_count": null,
   "metadata": {},
   "outputs": [],
   "source": [
    "def walk_out(start,steps):\n",
    "    seqs=[start]\n",
    "    for i in range(steps):\n",
    "        seqs.append(random.choice(generate_single_mutants(seqs[-1],alphabet=RAA)))\n",
    "\n",
    "    return seqs"
   ]
  },
  {
   "cell_type": "code",
   "execution_count": null,
   "metadata": {},
   "outputs": [],
   "source": [
    "walk=walk_out(wt,15)"
   ]
  },
  {
   "cell_type": "code",
   "execution_count": null,
   "metadata": {},
   "outputs": [],
   "source": [
    "fitnesses=[base_landscape.get_fitness(x) for x in walk]"
   ]
  },
  {
   "cell_type": "code",
   "execution_count": null,
   "metadata": {},
   "outputs": [],
   "source": [
    "noisy_fitnesses=[]\n",
    "indices=[]\n",
    "ndf=pd.DataFrame()\n",
    "for i in range(1000):\n",
    "    noisy_landscape.reset([wt])\n",
    "    plt.scatter(range(16), [noisy_landscape.get_fitness(x) for x in walk],c=\"r\",alpha=0.25,s=2)\n",
    "    noisy_fitnesses.extend([noisy_landscape.get_fitness(x) for x in walk])\n",
    "    indices.extend([x for x in range(16)])\n",
    "    \n",
    "len(indices),len(noisy_fitnesses)\n",
    "ndf[\"distance\"]=indices\n",
    "ndf[\"nfit\"]=noisy_fitnesses\n",
    "plt.plot(fitnesses)\n",
    "\n",
    "#plt.ylim(0,1)"
   ]
  },
  {
   "cell_type": "code",
   "execution_count": null,
   "metadata": {},
   "outputs": [],
   "source": [
    "plt.plot(fitnesses)\n",
    "\n",
    "sns.lineplot(x=\"distance\",y=\"nfit\",data=ndf,color=\"r\")\n",
    "#plt.ylim(0.4,0.8)"
   ]
  },
  {
   "cell_type": "code",
   "execution_count": null,
   "metadata": {},
   "outputs": [],
   "source": [
    "some_sequences= [generate_random_mutant(wt,0.05, RAA) for i in range(0,1000)]\n",
    "plt.scatter([base_landscape.get_fitness(s) for s in some_sequences],\\\n",
    "           [noisy_landscape.get_fitness(s) for s in some_sequences])"
   ]
  },
  {
   "cell_type": "code",
   "execution_count": null,
   "metadata": {},
   "outputs": [],
   "source": [
    "from explorers.base_explorer import Base_explorer, Random_explorer"
   ]
  },
  {
   "cell_type": "code",
   "execution_count": null,
   "metadata": {},
   "outputs": [],
   "source": [
    "noisy_landscape.reset([wt])"
   ]
  },
  {
   "cell_type": "code",
   "execution_count": null,
   "metadata": {},
   "outputs": [],
   "source": [
    "bexp= Random_explorer(alphabet=\"UCGA\",mu=0.03)\n",
    "bexp.set_model(noisy_landscape)"
   ]
  },
  {
   "cell_type": "code",
   "execution_count": null,
   "metadata": {},
   "outputs": [],
   "source": [
    "#bexp.batches"
   ]
  },
  {
   "cell_type": "code",
   "execution_count": null,
   "metadata": {},
   "outputs": [],
   "source": [
    "bexp.run(5,overwrite=True)"
   ]
  },
  {
   "cell_type": "code",
   "execution_count": null,
   "metadata": {},
   "outputs": [],
   "source": [
    "data=pd.read_csv(\"./simulations/Random_mu0.03.csv\",index_col=False)"
   ]
  },
  {
   "cell_type": "code",
   "execution_count": null,
   "metadata": {},
   "outputs": [],
   "source": [
    "data.head()"
   ]
  },
  {
   "cell_type": "code",
   "execution_count": null,
   "metadata": {},
   "outputs": [],
   "source": [
    "\n",
    "\n",
    "plt.scatter(data[\"true_score\"],data[\"model_score\"])"
   ]
  },
  {
   "cell_type": "code",
   "execution_count": null,
   "metadata": {},
   "outputs": [],
   "source": [
    "from scipy.stats import pearsonr\n",
    "for i in data.batch.unique():\n",
    "    sub_data=data[data.batch==i] #must also group by model type and landscape id\n",
    "    print(len(sub_data))\n",
    "    print (pearsonr(sub_data[\"true_score\"],sub_data[\"model_score\"]))"
   ]
  },
  {
   "cell_type": "code",
   "execution_count": null,
   "metadata": {},
   "outputs": [],
   "source": [
    "def get_top_sequence_per_batch(data):\n",
    "    top_per_batch=[]\n",
    "    for i in data.batch.unique():\n",
    "        sub_data=data[data.batch==i] #must also group by model type and landscape id\n",
    "        #print (sub_data.true_score.max())\n",
    "        top_per_batch.append(sub_data.true_score.max())\n",
    "    return (top_per_batch)\n",
    "    "
   ]
  },
  {
   "cell_type": "code",
   "execution_count": null,
   "metadata": {},
   "outputs": [],
   "source": [
    "get_top_sequence_per_batch(data)"
   ]
  },
  {
   "cell_type": "code",
   "execution_count": null,
   "metadata": {},
   "outputs": [],
   "source": [
    "from explorers.evolutionary_explorers import WF"
   ]
  },
  {
   "cell_type": "code",
   "execution_count": null,
   "metadata": {},
   "outputs": [],
   "source": [
    "wt= \"AUGUUUCUUUUAUUUAUCUGAGCAUGGGCGGGGCAUUUGCCCAUGCAAUU\""
   ]
  },
  {
   "cell_type": "code",
   "execution_count": null,
   "metadata": {},
   "outputs": [],
   "source": [
    "noisy_landscape.reset([wt])"
   ]
  },
  {
   "cell_type": "code",
   "execution_count": null,
   "metadata": {},
   "outputs": [],
   "source": [
    "bexp= WF(mu=0.01, recomb_rate=0.1,beta=100)\n",
    "bexp.set_model(noisy_landscape)"
   ]
  },
  {
   "cell_type": "code",
   "execution_count": null,
   "metadata": {},
   "outputs": [],
   "source": [
    "bexp.run(15,overwrite=True,verbose=True)"
   ]
  },
  {
   "cell_type": "code",
   "execution_count": null,
   "metadata": {},
   "outputs": [],
   "source": [
    "data=pd.read_csv(\"./simulations/WF_mu0.01_r0.1_rho1_beta100.csv\",index_col=False)"
   ]
  },
  {
   "cell_type": "code",
   "execution_count": null,
   "metadata": {},
   "outputs": [],
   "source": [
    "data.tail()"
   ]
  },
  {
   "cell_type": "code",
   "execution_count": null,
   "metadata": {},
   "outputs": [],
   "source": [
    "get_top_sequence_per_batch(data)"
   ]
  },
  {
   "cell_type": "code",
   "execution_count": null,
   "metadata": {},
   "outputs": [],
   "source": [
    "from scipy.stats import pearsonr\n",
    "for i in data.batch.unique():\n",
    "    sub_data=data[data.batch==i] #must also group by model type and landscape id\n",
    "    print(len(sub_data))\n",
    "    print (pearsonr(sub_data[\"true_score\"],sub_data[\"model_score\"]))"
   ]
  },
  {
   "cell_type": "code",
   "execution_count": null,
   "metadata": {},
   "outputs": [],
   "source": [
    "from explorers.elitist_explorers import XE_IS, Greedy"
   ]
  },
  {
   "cell_type": "code",
   "execution_count": null,
   "metadata": {},
   "outputs": [],
   "source": [
    "noisy_landscape.reset([wt])"
   ]
  },
  {
   "cell_type": "code",
   "execution_count": null,
   "metadata": {},
   "outputs": [],
   "source": [
    "bexp= XE_IS(beta=100, recomb_rate=0.1, threshold=0.05)\n",
    "bexp.set_model(noisy_landscape)"
   ]
  },
  {
   "cell_type": "code",
   "execution_count": null,
   "metadata": {},
   "outputs": [],
   "source": [
    "bexp.run(10,overwrite=True,verbose=True)"
   ]
  },
  {
   "cell_type": "code",
   "execution_count": null,
   "metadata": {},
   "outputs": [],
   "source": [
    "noisy_landscape.reset([wt])\n",
    "bexp= Greedy(recomb_rate=0.1, threshold=0.05, mu=0.02, virtual_screen=100)\n",
    "bexp.set_model(noisy_landscape)"
   ]
  },
  {
   "cell_type": "code",
   "execution_count": null,
   "metadata": {},
   "outputs": [],
   "source": [
    "bexp.run(11,overwrite=True,verbose=True)"
   ]
  },
  {
   "cell_type": "code",
   "execution_count": null,
   "metadata": {},
   "outputs": [],
   "source": [
    "from utils.model_architectues import Linear, NLNN, CNNa"
   ]
  },
  {
   "cell_type": "code",
   "execution_count": null,
   "metadata": {},
   "outputs": [],
   "source": [
    "cnn_model=NLNN(len(wt), alphabet=\"UCGA\")"
   ]
  },
  {
   "cell_type": "code",
   "execution_count": null,
   "metadata": {},
   "outputs": [],
   "source": [
    "cnn_model.seq_len"
   ]
  },
  {
   "cell_type": "code",
   "execution_count": null,
   "metadata": {},
   "outputs": [],
   "source": [
    "from models.Noisy_models.Neural_network_models import NN_model"
   ]
  },
  {
   "cell_type": "code",
   "execution_count": null,
   "metadata": {},
   "outputs": [],
   "source": [
    "nnModel=NN_model(base_landscape,cnn_model)"
   ]
  },
  {
   "cell_type": "code",
   "execution_count": null,
   "metadata": {},
   "outputs": [],
   "source": [
    "nnModel.reset()"
   ]
  },
  {
   "cell_type": "code",
   "execution_count": null,
   "metadata": {},
   "outputs": [],
   "source": [
    "some_sequences= [generate_random_mutant(wt,0.05, RAA) for i in range(0,1000)]\n",
    "some_other_sequences= [generate_random_mutant(wt,0.02, RAA) for i in range(0,1000)]\n"
   ]
  },
  {
   "cell_type": "code",
   "execution_count": null,
   "metadata": {},
   "outputs": [],
   "source": [
    "nnModel.measure_true_landscape(some_sequences)"
   ]
  },
  {
   "cell_type": "code",
   "execution_count": null,
   "metadata": {},
   "outputs": [],
   "source": [
    "nnModel.update_model(some_sequences)"
   ]
  },
  {
   "cell_type": "code",
   "execution_count": null,
   "metadata": {},
   "outputs": [],
   "source": [
    "plt.scatter([base_landscape.get_fitness(s) for s in some_other_sequences],\\\n",
    "           [nnModel.get_fitness(s) for s in some_other_sequences])"
   ]
  },
  {
   "cell_type": "code",
   "execution_count": null,
   "metadata": {},
   "outputs": [],
   "source": [
    "pearsonr([base_landscape.get_fitness(s) for s in some_other_sequences],\\\n",
    "           [nnModel.get_fitness(s) for s in some_other_sequences])"
   ]
  },
  {
   "cell_type": "code",
   "execution_count": null,
   "metadata": {},
   "outputs": [],
   "source": [
    "from models.Ground_truth_oracles.RNA_landscape_models import *"
   ]
  },
  {
   "cell_type": "code",
   "execution_count": null,
   "metadata": {},
   "outputs": [],
   "source": [
    "rna_l_constrctr.import_landscapes(\"data/RNA_landscapes/RNA_landscape_config.yaml\")"
   ]
  },
  {
   "cell_type": "code",
   "execution_count": null,
   "metadata": {},
   "outputs": [],
   "source": [
    "new_landscape = rna_l_constrctr.construct(rna_l_constrctr.imported_landscapes[0])"
   ]
  },
  {
   "cell_type": "code",
   "execution_count": null,
   "metadata": {},
   "outputs": [],
   "source": [
    "new_landscape.get_fitness('AUGGGCCGGACCCC')"
   ]
  },
  {
   "cell_type": "code",
   "execution_count": null,
   "metadata": {},
   "outputs": [],
   "source": [
    "rna_l_constrctr = RNA_landscape_constructor() \n",
    "rna_l_constrctr.load_landscapes(\"data/RNA_landscapes/RNA_landscape_config.yaml\")\n",
    "#new_landscape ,starts,lid=  rna_l_constrctr.construct(rna_l_constrctr.loaded_landscapes[-1])"
   ]
  },
  {
   "cell_type": "code",
   "execution_count": null,
   "metadata": {
    "scrolled": true
   },
   "outputs": [],
   "source": [
    "for landscape in rna_l_constrctr.imported_landscapes:\n",
    "    #print (landscape)\n",
    "    new_landscape,starts,lid=  rna_l_constrctr.construct(landscape)\n",
    "    print (lid)\n",
    "    for start in starts: \n",
    "        print (new_landscape.get_fitness(starts[start]), start)"
   ]
  },
  {
   "cell_type": "code",
   "execution_count": null,
   "metadata": {},
   "outputs": [],
   "source": [
    "from models.Ground_truth_oracles.TF_binding_landscape_models import *"
   ]
  },
  {
   "cell_type": "code",
   "execution_count": null,
   "metadata": {},
   "outputs": [],
   "source": [
    "TFc=TF_binding_landscape_constructor()"
   ]
  },
  {
   "cell_type": "code",
   "execution_count": null,
   "metadata": {},
   "outputs": [],
   "source": [
    "TFc.load_landscapes()"
   ]
  },
  {
   "cell_type": "code",
   "execution_count": null,
   "metadata": {},
   "outputs": [],
   "source": [
    "TFgen= TFc.generate_from_loaded_landscapes()"
   ]
  },
  {
   "cell_type": "code",
   "execution_count": null,
   "metadata": {
    "scrolled": true
   },
   "outputs": [],
   "source": [
    "for landscape in TFgen:\n",
    "    print (landscape[\"landscape_id\"])\n",
    "    for seq in landscape[\"starting_seqs\"]:\n",
    "        print (landscape[\"landscape_obj\"].get_fitness(landscape[\"starting_seqs\"][seq]))"
   ]
  },
  {
   "cell_type": "code",
   "execution_count": null,
   "metadata": {},
   "outputs": [],
   "source": [
    "#data=pd.read_csv(\"./simulations/eval/CRI/Greedy_mu0.02_tr0.05_r0.1_rho1.csv\",index_col=False)\n",
    "data=pd.read_csv(\"./simulations/eval/EF/Greedy_mu0.02_tr0.05_r0.1_rho1.csv\",index_col=False)\n"
   ]
  },
  {
   "cell_type": "code",
   "execution_count": null,
   "metadata": {},
   "outputs": [],
   "source": [
    "data.head()"
   ]
  },
  {
   "cell_type": "code",
   "execution_count": null,
   "metadata": {},
   "outputs": [],
   "source": [
    "data.columns"
   ]
  },
  {
   "cell_type": "code",
   "execution_count": null,
   "metadata": {},
   "outputs": [],
   "source": [
    "data.groupby( 'mo_ratio').max()"
   ]
  },
  {
   "cell_type": "code",
   "execution_count": null,
   "metadata": {},
   "outputs": [],
   "source": [
    "plt.figure(figsize=(14,5))\n",
    "sns.boxplot(x='mo_ratio',y=\"true_score\",data=data)"
   ]
  },
  {
   "cell_type": "code",
   "execution_count": null,
   "metadata": {},
   "outputs": [],
   "source": [
    "sns.lineplot(x=\"measurement_cost\",y=\"true_score\",hue=\"model_type\",data=data)"
   ]
  },
  {
   "cell_type": "code",
   "execution_count": null,
   "metadata": {},
   "outputs": [],
   "source": [
    "sns.lineplot(x=\"measurement_cost\",y=\"true_score\",hue=\"model_type\",\n",
    "             data=data.groupby([\"measurement_cost\",\"landscape_id\",\"model_type\"]).max())"
   ]
  },
  {
   "cell_type": "code",
   "execution_count": null,
   "metadata": {},
   "outputs": [],
   "source": [
    "data.groupby([\"measurement_cost\",\"landscape_id\",\"model_type\"]).max()"
   ]
  },
  {
   "cell_type": "code",
   "execution_count": null,
   "metadata": {},
   "outputs": [],
   "source": [
    "import timeit"
   ]
  },
  {
   "cell_type": "code",
   "execution_count": null,
   "metadata": {},
   "outputs": [],
   "source": []
  }
 ],
 "metadata": {
  "kernelspec": {
   "display_name": "Python 3",
   "language": "python",
   "name": "python3"
  },
  "language_info": {
   "codemirror_mode": {
    "name": "ipython",
    "version": 3
   },
   "file_extension": ".py",
   "mimetype": "text/x-python",
   "name": "python",
   "nbconvert_exporter": "python",
   "pygments_lexer": "ipython3",
   "version": "3.7.4"
  }
 },
 "nbformat": 4,
 "nbformat_minor": 2
}
