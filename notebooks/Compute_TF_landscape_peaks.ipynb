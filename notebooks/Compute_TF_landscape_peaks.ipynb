{
 "cells": [
  {
   "cell_type": "code",
   "execution_count": null,
   "metadata": {},
   "outputs": [],
   "source": [
    "%matplotlib inline\n",
    "import editdistance\n",
    "import matplotlib.pyplot as plt\n",
    "import pandas as pd\n",
    "import numpy as np\n",
    "import seaborn as sns\n"
   ]
  },
  {
   "cell_type": "code",
   "execution_count": null,
   "metadata": {},
   "outputs": [],
   "source": [
    "from glob import glob"
   ]
  },
  {
   "cell_type": "code",
   "execution_count": null,
   "metadata": {},
   "outputs": [],
   "source": [
    "landscapes=glob(\"data/TF_binding_landscapes/*\")"
   ]
  },
  {
   "cell_type": "code",
   "execution_count": null,
   "metadata": {},
   "outputs": [],
   "source": [
    "def is_sequence_a_peak(model,sequence,alphabet=\"AGTC\"):\n",
    "    neighbor=[s for s in sequence]\n",
    "    sequence_fitness=model.get_fitness(sequence)\n",
    "    for position in range(len(sequence)):\n",
    "        for aa in alphabet:\n",
    "            if aa!=sequence[position]:\n",
    "               neighbor[position]=aa\n",
    "               neighbor_string=\"\".join(neighbor)\n",
    "               if sequence_fitness<model.get_fitness(neighbor_string):\n",
    "                  return 0\n",
    "               neighbor=[s for s in sequence]\n",
    "    return 1"
   ]
  },
  {
   "cell_type": "code",
   "execution_count": null,
   "metadata": {},
   "outputs": [],
   "source": [
    "from models.Ground_truth_oracles.TF_binding_landscape_models import TF_binding_landscape"
   ]
  },
  {
   "cell_type": "code",
   "execution_count": null,
   "metadata": {},
   "outputs": [],
   "source": [
    "model=TF_binding_landscape()"
   ]
  },
  {
   "cell_type": "code",
   "execution_count": null,
   "metadata": {},
   "outputs": [],
   "source": [
    "model.construct(landscapes[10])"
   ]
  },
  {
   "cell_type": "code",
   "execution_count": null,
   "metadata": {},
   "outputs": [],
   "source": [
    "len(model.sequences)"
   ]
  },
  {
   "cell_type": "code",
   "execution_count": null,
   "metadata": {},
   "outputs": [],
   "source": [
    "all_seqs={}\n",
    "for landscape in landscapes:\n",
    "    model=TF_binding_landscape()\n",
    "    model.construct(landscape)\n",
    "    max_peak=-1\n",
    "    current_max=\"AAAAAAAA\"\n",
    "    for seq in model.sequences:\n",
    "        if not seq in all_seqs:\n",
    "           all_seqs[seq]=[0,[]]\n",
    "        if is_sequence_a_peak(model,seq):\n",
    "           all_seqs[seq][0]+=1\n",
    "           if model.get_fitness(seq)>max_peak:\n",
    "              max_peak = model.get_fitness(seq)\n",
    "              current_max= seq\n",
    "    all_seqs[current_max][1].append(landscape[landscape.index(\"data/TF_binding_landscapes/\"):landscape.index(\".txt\")])\n",
    "        "
   ]
  },
  {
   "cell_type": "code",
   "execution_count": null,
   "metadata": {
    "scrolled": false
   },
   "outputs": [],
   "source": [
    "count=0\n",
    "\n",
    "for k in sorted(all_seqs, key=all_seqs.get, reverse=False):\n",
    "    count+=1\n",
    "    print(k, all_seqs[k])\n",
    "    if count>10:\n",
    "        break"
   ]
  },
  {
   "cell_type": "code",
   "execution_count": null,
   "metadata": {},
   "outputs": [],
   "source": [
    "count=0\n",
    "\n",
    "for k in sorted(all_seqs, key=all_seqs.get, reverse=True):\n",
    "    count+=1\n",
    "    print(k, all_seqs[k])\n",
    "    if count>10:\n",
    "        break"
   ]
  },
  {
   "cell_type": "code",
   "execution_count": null,
   "metadata": {},
   "outputs": [],
   "source": [
    "selected_sequences=[ 'TTAATTAA',   #  often global peak\n",
    "                     'GCTCGAGC','GCGCGCGC','TGCGCGCC','ATATAGCC','GTTTGGTA',\"ATTATGTT\",  #  often local peaks\n",
    "                    \"CAGTTTTT\",\"AAAAATTT\", \"AAAAACGC\", \"GTTGTTTT\", \"TGCTTTTT\",\"AAAGATAG\",\"CCTTCTTT\",\"AAAGAGAG\"] # never local peaks "
   ]
  },
  {
   "cell_type": "code",
   "execution_count": null,
   "metadata": {},
   "outputs": [],
   "source": [
    "with open(\"TF_starting_id.csv\",\"w\") as outfile:\n",
    "    count=0\n",
    "    outfile.write(\"id,start,local_peak_in_num_landscapes,global_peak_in_landscapes\\n\")\n",
    "    \n",
    "    for seq in selected_sequences:\n",
    "        if len(all_seqs[seq][1])>0:\n",
    "            last_col=\";\".join([x.strip(\"data/TF_binding_landscapes/\").strip(\"_8mers\") for x in all_seqs[seq][1]])\n",
    "        else:\n",
    "            last_col=\"\"\n",
    "        outfile.write(f'TF{count},{seq},{all_seqs[seq][0]},{last_col}\\n')\n",
    "        count+=1"
   ]
  }
 ],
 "metadata": {
  "kernelspec": {
   "display_name": "Python 3",
   "language": "python",
   "name": "python3"
  },
  "language_info": {
   "codemirror_mode": {
    "name": "ipython",
    "version": 3
   },
   "file_extension": ".py",
   "mimetype": "text/x-python",
   "name": "python",
   "nbconvert_exporter": "python",
   "pygments_lexer": "ipython3",
   "version": "3.7.4"
  }
 },
 "nbformat": 4,
 "nbformat_minor": 2
}
