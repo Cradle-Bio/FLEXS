{
 "cells": [
  {
   "cell_type": "code",
   "execution_count": null,
   "metadata": {},
   "outputs": [],
   "source": [
    "import sys\n",
    "sys.path.append('/usr/local/lib/python3.6/site-packages/')\n",
    "sys.path.append('../')"
   ]
  },
  {
   "cell_type": "code",
   "execution_count": null,
   "metadata": {},
   "outputs": [],
   "source": [
    "%reload_ext autoreload\n",
    "%autoreload 2\n",
    "%matplotlib inline\n",
    "import editdistance\n",
    "import matplotlib.pyplot as plt\n",
    "import seaborn as sns\n",
    "import pandas as pd\n",
    "import numpy as np\n"
   ]
  },
  {
   "cell_type": "code",
   "execution_count": null,
   "metadata": {},
   "outputs": [],
   "source": [
    "data=pd.read_csv(\"../simulations/evaluations3/consistency_robustness_independence/Greedy_mu1_tr0.05_r0.1_rho1.csv\",index_col=False)\n",
    "data.head()"
   ]
  },
  {
   "cell_type": "code",
   "execution_count": null,
   "metadata": {},
   "outputs": [],
   "source": [
    "data.landscape_id.unique()"
   ]
  },
  {
   "cell_type": "code",
   "execution_count": null,
   "metadata": {},
   "outputs": [],
   "source": [
    "sub_data=data[(data.model_type.str.startswith(\"NAMb_ss1\"))&\\\n",
    "              (data.landscape_id=='B1L14RNA1')]"
   ]
  },
  {
   "cell_type": "code",
   "execution_count": null,
   "metadata": {},
   "outputs": [],
   "source": [
    "sub_data[[\"true_score\",\"model_score\"]].corr(\"pearson\")"
   ]
  },
  {
   "cell_type": "code",
   "execution_count": null,
   "metadata": {},
   "outputs": [],
   "source": [
    "plt.scatter(sub_data[\"true_score\"],sub_data[\"model_score\"])"
   ]
  },
  {
   "cell_type": "code",
   "execution_count": null,
   "metadata": {},
   "outputs": [],
   "source": [
    "plt.figure(figsize=(14,5))\n",
    "sns.stripplot(x=\"measurement_cost\",y=\"true_score\",hue=\"model_type\",data=sub_data)"
   ]
  },
  {
   "cell_type": "code",
   "execution_count": null,
   "metadata": {},
   "outputs": [],
   "source": [
    "data[\"start_id\"].unique()"
   ]
  },
  {
   "cell_type": "code",
   "execution_count": null,
   "metadata": {},
   "outputs": [],
   "source": [
    "import timeit"
   ]
  },
  {
   "cell_type": "code",
   "execution_count": null,
   "metadata": {},
   "outputs": [],
   "source": [
    "def get_top_sequence_per_batch(data):\n",
    "    top_per_batch=[]\n",
    "    for i in data.batch.unique():\n",
    "        sub_data=data[data.batch==i] #must also group by model type and landscape id\n",
    "        #print (sub_data.true_score.max())\n",
    "        top_per_batch.append(sub_data.true_score.max())\n",
    "    return (top_per_batch)"
   ]
  },
  {
   "cell_type": "code",
   "execution_count": null,
   "metadata": {},
   "outputs": [],
   "source": [
    "outcomes=pd.DataFrame(columns=[\"landscape_id\",\"start_id\",\"model_type\",\"batch\",\"max_fitness\",\"cum_max_fitness\"])\n",
    "for landscape in data.landscape_id.unique():\n",
    "    if landscape==str(-1) or start_id==str(-1):\n",
    "        continue\n",
    "    print(landscape)\n",
    "    valid_start_ids=[x for x in data.start_id.unique() if landscape[landscape.index(\"L\"): landscape.index(\"R\")] in x]\n",
    "    for start_id in valid_start_ids:\n",
    "        for noisy_model in data.model_type.unique():\n",
    "            sub_data = data[(data.landscape_id==landscape)&\\\n",
    "                           (data.start_id==start_id)&\\\n",
    "                           (data.model_type==noisy_model)] \n",
    "            cum_fit=0\n",
    "            for batch, max_fitness in enumerate(get_top_sequence_per_batch(sub_data)):\n",
    "                if max_fitness>cum_fit:\n",
    "                   cum_fit = max_fitness \n",
    "                outcomes = outcomes.append(pd.DataFrame.from_records([{\"landscape_id\":landscape,\\\n",
    "                                      \"start_id\":start_id,\\\n",
    "                                      \"model_type\": noisy_model,\\\n",
    "                                      \"batch\": batch+1, \\\n",
    "                                      \"max_fitness\": max_fitness,\\\n",
    "                                      \"cum_max_fitness\": cum_fit}])) "
   ]
  },
  {
   "cell_type": "code",
   "execution_count": null,
   "metadata": {},
   "outputs": [],
   "source": [
    "outcomes.head()"
   ]
  },
  {
   "cell_type": "code",
   "execution_count": null,
   "metadata": {},
   "outputs": [],
   "source": [
    "plt.figure(figsize=(14,5))\n",
    "\n",
    "sns.lineplot(x=\"batch\",y=\"cum_max_fitness\",hue=\"model_type\",data= outcomes[outcomes.landscape_id==\"B1L50RNA1\"])"
   ]
  },
  {
   "cell_type": "code",
   "execution_count": null,
   "metadata": {},
   "outputs": [],
   "source": []
  }
 ],
 "metadata": {
  "kernelspec": {
   "display_name": "Python 3",
   "language": "python",
   "name": "python3"
  },
  "language_info": {
   "codemirror_mode": {
    "name": "ipython",
    "version": 3
   },
   "file_extension": ".py",
   "mimetype": "text/x-python",
   "name": "python",
   "nbconvert_exporter": "python",
   "pygments_lexer": "ipython3",
   "version": "3.7.4"
  }
 },
 "nbformat": 4,
 "nbformat_minor": 2
}
