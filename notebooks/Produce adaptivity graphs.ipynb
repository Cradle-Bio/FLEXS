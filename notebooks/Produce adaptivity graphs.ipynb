{
 "cells": [
  {
   "cell_type": "code",
   "execution_count": null,
   "metadata": {},
   "outputs": [],
   "source": [
    "%matplotlib inline\n",
    "\n",
    "\n",
    "import os\n",
    "import numpy as np\n",
    "import matplotlib.pyplot as plt\n",
    "import pandas as pd\n",
    "import seaborn as sns"
   ]
  },
  {
   "cell_type": "code",
   "execution_count": null,
   "metadata": {},
   "outputs": [],
   "source": [
    "# df = df.groupby(['explorer_name', 'num_batches_log']).max().reset_index()"
   ]
  },
  {
   "cell_type": "code",
   "execution_count": null,
   "metadata": {},
   "outputs": [],
   "source": [
    "fp = \"path_to_adaptivity_runs\"\n",
    "data = [pd.read_csv(os.path.join(fp, \"CMAES.csv\")),\n",
    "        pd.read_csv(os.path.join(fp, \"PPO_Agent.csv\")),\n",
    "        pd.read_csv(os.path.join(fp, \"DynaPPO_Agent_0.5_10_20.csv\")), \n",
    "        pd.read_csv(os.path.join(fp, \"DynaPPO_Agent_0.5_10_20_dens.csv\"))]"
   ]
  },
  {
   "cell_type": "code",
   "execution_count": null,
   "metadata": {},
   "outputs": [],
   "source": [
    "class AdaptivityData:\n",
    "    def __init__(self, filename, explorer_name):\n",
    "        self.load_data(filename)\n",
    "        self.explorer_name = explorer_name\n",
    "        self.add_explorer_name()\n",
    "    \n",
    "    def add_explorer_name(self):\n",
    "        if self.data is None:\n",
    "            return\n",
    "        self.data['explorer_name'] = self.explorer_name\n",
    "    \n",
    "    def load_data(self, filename):\n",
    "        self.data = pd.read_csv(filename)\n",
    "        \n",
    "class AdaptivityPlot:\n",
    "    def __init__(self, adaptivity_data_list):\n",
    "        self.adaptivity_data_list = adaptivity_data_list\n",
    "        self.data = pd.concat([df.data for df in adaptivity_data_list])\n",
    "        \n",
    "        self.total_seqs = 1000\n",
    "        \n",
    "    def add_num_batches_log(self):\n",
    "        self.data['num_batches_log'] = np.log10(self.total_seqs/self.data['batch_size'])\n",
    "        \n",
    "    def plot_data(self, x_axis, y_axis, x_label=None, y_label=None, hue=\"explorer_name\"):\n",
    "        fig, ax = plt.subplots(figsize=(5,3), dpi=300)\n",
    "#         self.data = self.data.groupby(['explorer_name', 'num_batches_log']).max().reset_index()\n",
    "        self.data = self.data[self.data.start_id == 'startRNAL14_2']\n",
    "        \n",
    "        sns.lineplot(x=x_axis, y=y_axis, hue=hue, data=self.data)\n",
    "        handles, labels = ax.get_legend_handles_labels()\n",
    "        ax.legend(handles=handles[1:], labels=labels[1:])\n",
    "        if x_label is not None:\n",
    "            plt.xlabel(x_label)\n",
    "        if y_label is not None:\n",
    "            plt.ylabel(y_label)\n",
    "        plt.show()\n",
    "        \n",
    "CMAES = AdaptivityData(filename=os.path.join(fp, \"CMAES.csv\"), explorer_name=\"CMAES\")\n",
    "PPO = AdaptivityData(filename=os.path.join(fp, \"PPO_Agent.csv\"), explorer_name=\"PPO\")\n",
    "DynaPPO = AdaptivityData(filename=os.path.join(fp, \"DynaPPO_Agent_0.5_10_20_dens.csv\"), explorer_name=\"DynaPPO\")\n",
    "DynaPPONoDens = AdaptivityData(filename=os.path.join(fp, \"DynaPPO_Agent_0.5_10_20.csv\"), explorer_name=\"DynaPPONoDens\")\n",
    "\n",
    "AdaLead = AdaptivityData(filename=os.path.join(\"path_to_adaptivity_runs\", \"Greedy_mu1_tr0.05_r0.2_rho1.csv\"), explorer_name=\"AdaLead\")\n",
    "CbAS = AdaptivityData(filename=os.path.join(\"path_to_adaptivity_runs\", \"CbAS_Q0.8_generatorVAE_adaptivity.csv\"), explorer_name=\"CbAS\")\n",
    "BO = AdaptivityData(filename=os.path.join(\"path_to_adaptivity_runs\", \"BO_adaptivity.csv\"), explorer_name=\"BayesOpt\")\n",
    "\n",
    "adaptivity_plot = AdaptivityPlot([CMAES, PPO, DynaPPO, DynaPPONoDens, AdaLead, CbAS, BO])\n",
    "adaptivity_plot = AdaptivityPlot([DynaPPO, AdaLead, CbAS, BO])"
   ]
  },
  {
   "cell_type": "code",
   "execution_count": null,
   "metadata": {},
   "outputs": [],
   "source": [
    "adaptivity_plot.add_num_batches_log()\n",
    "adaptivity_plot.plot_data('num_batches_log',\n",
    "                          'true_score',\n",
    "                          x_label='number of batches (log$_{10}$)',\n",
    "                          y_label='average $\\phi$',\n",
    "                          hue='explorer_name')"
   ]
  },
  {
   "cell_type": "code",
   "execution_count": null,
   "metadata": {},
   "outputs": [],
   "source": [
    "adaptivity_plot.data.start_id.unique()"
   ]
  },
  {
   "cell_type": "code",
   "execution_count": null,
   "metadata": {},
   "outputs": [],
   "source": [
    "adaptivity_plot.plot_data('num_batches_log',\n",
    "                          'true_score',\n",
    "                          x_label='log$_{10}$ (number of batches)',\n",
    "                          y_label='average $\\phi$',\n",
    "                          hue='explorer_name')"
   ]
  },
  {
   "cell_type": "code",
   "execution_count": null,
   "metadata": {},
   "outputs": [],
   "source": [
    "import itertools\n",
    "from sklearn.metrics import r2_score\n",
    "def add_column_with_r2(df):\n",
    "    \"\"\"\n",
    "    Given a pandas data frame that contains colums 'batch', 'sequence', 'true_score', 'model_score',\n",
    "    'landscape_id', 'start_id', 'model_type', and 'explorer_type', add a column called 'r2' that,\n",
    "    for each landscape_id, start_id, model_type, and explorer_type combination, returns the r2 value within\n",
    "    each batch (i.e., takes the true_score and model_score for each batch and calculates the r2)\n",
    "    \"\"\"\n",
    "    r2_dict = dict() #key: tuple(model_type, explorer_type, landscape_id, start_id, batch), value: r2 score for batch\n",
    "    model_types = df.model_type.unique()\n",
    "    explorer_types = df.explorer_type.unique()\n",
    "    landscape_types = df.landscape_id.unique()\n",
    "    start_id_types = df.start_id.unique()\n",
    "    for combination in itertools.product(model_types, explorer_types, landscape_types, start_id_types):\n",
    "        (model, explorer, landscape, start_seq) = combination\n",
    "        df_subset = df[(df.model_type == model) &\n",
    "                       (df.explorer_type == explorer) &\n",
    "                       (df.landscape_id == landscape) &\n",
    "                       (df.start_id == start_seq)]\n",
    "        if len(df_subset) != 0:\n",
    "            for batch in df_subset.batch.unique():\n",
    "                df_batch = df_subset[df_subset.batch == batch]\n",
    "                y_true = list(df_batch.true_score)\n",
    "                y_pred = list(df_batch.model_score)\n",
    "                r2 = r2_score(y_true, y_pred)\n",
    "                r2_dict[(model, explorer, landscape, start_seq, batch)] = r2\n",
    "    r2_column = []\n",
    "    for i, row in df.iterrows():\n",
    "        r2_column.append(r2_dict[(row.model_type,\n",
    "                                 row.explorer_type,\n",
    "                                 row.landscape_id,\n",
    "                                 row.start_id,\n",
    "                                 row.batch)])\n",
    "    df['r2_score'] = r2_column\n",
    "    return df\n",
    "\n",
    "def plot_consistency(list_of_dfs):\n",
    "    \"\"\"\n",
    "    Takes a list of data frames [df1, df2, df3, ...] and plots the top score as a function of the r2 score.\n",
    "    \"\"\"\n",
    "    #concatenate all dfs, add a column with r2 scores, add clean explorer names, collapse by true_score using max()\n",
    "    df = pd.concat(list_of_dfs)\n",
    "    df = add_column_with_r2(df)\n",
    "    df = add_clean_explorer_names(df, explorer_names_dict)\n",
    "    df = df.groupby(['explorer_name', 'r2_score']).max().reset_index()\n",
    "    #plotting\n",
    "    fig, ax = plt.subplots(figsize=(5,3), dpi=300)\n",
    "    sns.lineplot(x=\"measurement_cost\", y=\"r2_score\", hue=\"explorer_name\", data=df)\n",
    "    handles, labels = ax.get_legend_handles_labels()\n",
    "    ax.legend(handles=handles[1:], labels=labels[1:], loc=2)\n",
    "    plt.xlabel('R$^2$ score of the model prediction')\n",
    "    plt.ylabel('Top $\\phi$')\n",
    "    return"
   ]
  },
  {
   "cell_type": "code",
   "execution_count": null,
   "metadata": {},
   "outputs": [],
   "source": [
    "DynaPPO = AdaptivityData(filename=os.path.join(fp, \"DynaPPO_Agent_0.5_10_20_dens.csv\"), explorer_name=\"DynaPPO\")\n",
    "# DynaPPONoDens = AdaptivityData(filename=os.path.join(fp, \"DynaPPO_Agent_0.5_10_20.csv\"), explorer_name=\"DynaPPONoDens\")"
   ]
  },
  {
   "cell_type": "code",
   "execution_count": null,
   "metadata": {},
   "outputs": [],
   "source": [
    "plot_consistency([DynaPPO.data])"
   ]
  },
  {
   "cell_type": "code",
   "execution_count": null,
   "metadata": {},
   "outputs": [],
   "source": [
    "DynaPPO.data.head()"
   ]
  },
  {
   "cell_type": "code",
   "execution_count": null,
   "metadata": {},
   "outputs": [],
   "source": []
  }
 ],
 "metadata": {
  "kernelspec": {
   "display_name": "flrl",
   "language": "python",
   "name": "flrl"
  },
  "language_info": {
   "codemirror_mode": {
    "name": "ipython",
    "version": 3
   },
   "file_extension": ".py",
   "mimetype": "text/x-python",
   "name": "python",
   "nbconvert_exporter": "python",
   "pygments_lexer": "ipython3",
   "version": "3.7.3"
  }
 },
 "nbformat": 4,
 "nbformat_minor": 2
}
