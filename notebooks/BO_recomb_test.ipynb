{
 "cells": [
  {
   "cell_type": "code",
   "execution_count": 5,
   "metadata": {},
   "outputs": [],
   "source": [
    "%load_ext autoreload"
   ]
  },
  {
   "cell_type": "code",
   "execution_count": null,
   "metadata": {},
   "outputs": [],
   "source": [
    "%autoreload 2\n",
    "\n",
    "import sys\n",
    "\n",
    "sys.path.append(\"../\")\n",
    "import RNA\n",
    "from utils.sequence_utils import generate_random_mutant\n",
    "from utils.model_architectures import Linear, NLNN, CNNa\n",
    "from models.Noisy_models.Neural_network_models import NN_model\n",
    "from models.Ground_truth_oracles.RNA_landscape_models import RNA_landscape_constructor\n",
    "from models.Noisy_models.Ensemble import Ensemble_models\n",
    "from evaluators.Evaluator import Evaluator\n",
    "from models.Ground_truth_oracles.TF_binding_landscape_models import *\n",
    "from explorers.bo_explorer import BO_Explorer\n",
    "\n",
    "LANDSCAPE_TYPES = {\"RNA\": [0, 1], \"TF\": [\"SIX6_REF_R1\"], 'Protein': [], 'GFP': []}  # for testing\n",
    "LANDSCAPE_TYPES_RNA = {\"RNA\": [0, 1, 12, 20, 25, 31], \"TF\": [], 'Protein': [], 'GFP': []}\n",
    "LANDSCAPE_TYPES_TF = {\n",
    "    \"RNA\": [],\n",
    "    \"TF\": [\n",
    "        \"POU3F4_REF_R1\",\n",
    "        \"PAX3_G48R_R1\",\n",
    "        \"SIX6_REF_R1\",\n",
    "        \"VAX2_REF_R1\",\n",
    "        \"VSX1_REF_R1\",\n",
    "    ],\n",
    "}\n",
    "bo_explorer_prod = BO_Explorer(virtual_screen=20, recomb_rate=0.1)\n",
    "bo_explorer_prod.debug = False\n",
    "evaluator_bo = Evaluator(\n",
    "    bo_explorer_prod,\n",
    "    landscape_types=LANDSCAPE_TYPES_RNA,\n",
    "    path=\"../simulations/eval_BO_consistency/\",\n",
    ")\n",
    "evaluator_bo.evaluate_for_landscapes(\n",
    "    evaluator_bo.consistency_robustness_independence, num_starts=3\n",
    ")\n",
    "evaluator_bo = Evaluator(\n",
    "    bo_explorer_prod,\n",
    "    landscape_types=LANDSCAPE_TYPES_TF,\n",
    "    path=\"../simulations/eval_BO_consistency/\",\n",
    ")\n",
    "evaluator_bo.evaluate_for_landscapes(\n",
    "    evaluator_bo.consistency_robustness_independence, num_starts=5\n",
    ")\n"
   ]
  },
  {
   "cell_type": "code",
   "execution_count": null,
   "metadata": {},
   "outputs": [],
   "source": []
  }
 ],
 "metadata": {
  "kernelspec": {
   "display_name": "Python 3",
   "language": "python",
   "name": "python3"
  },
  "language_info": {
   "codemirror_mode": {
    "name": "ipython",
    "version": 3
   },
   "file_extension": ".py",
   "mimetype": "text/x-python",
   "name": "python",
   "nbconvert_exporter": "python",
   "pygments_lexer": "ipython3",
   "version": "3.7.4"
  }
 },
 "nbformat": 4,
 "nbformat_minor": 2
}
