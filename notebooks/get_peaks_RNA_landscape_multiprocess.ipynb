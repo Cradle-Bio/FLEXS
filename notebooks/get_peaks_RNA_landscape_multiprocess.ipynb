{
 "cells": [
  {
   "cell_type": "code",
   "execution_count": null,
   "metadata": {},
   "outputs": [],
   "source": [
    "!conda install -c bioconda viennarna -y"
   ]
  },
  {
   "cell_type": "code",
   "execution_count": null,
   "metadata": {},
   "outputs": [],
   "source": [
    "import os\n",
    "import itertools\n",
    "import pickle\n",
    "import matplotlib.pyplot as plt\n",
    "import seaborn as sns\n",
    "import pandas as pd\n",
    "import numpy as np\n",
    "import sys\n",
    "sys.path.append(\"../\")\n",
    "from models.Ground_truth_oracles.RNA_landscape_models import RNA_landscape_constructor\n",
    "from models.Ground_truth_oracles.TF_binding_landscape_models import *\n",
    "import multiprocessing \n",
    "from pathos.multiprocessing import ProcessingPool as Pool\n",
    "print('Number of CPUs', multiprocessing.cpu_count())"
   ]
  },
  {
   "cell_type": "code",
   "execution_count": null,
   "metadata": {},
   "outputs": [],
   "source": [
    "def is_sequence_a_peak(model, sequence, peak_dict, alphabet=\"AGTC\"):\n",
    "    if sequence in peak_dict:\n",
    "        return peak_dict[sequence]\n",
    "    neighbor=[s for s in sequence]\n",
    "    sequence_fitness=model.get_fitness(sequence)\n",
    "    for position in range(len(sequence)):\n",
    "        for aa in alphabet:\n",
    "            if aa!=sequence[position]:\n",
    "               neighbor[position]=aa\n",
    "               neighbor_string=\"\".join(neighbor)\n",
    "               if sequence_fitness<model.get_fitness(neighbor_string):\n",
    "                  peak_dict[sequence] = 0\n",
    "                  return 0\n",
    "               elif sequence_fitness>model.get_fitness(neighbor_string):\n",
    "                  peak_dict[neighbor_string] = 0\n",
    "               neighbor[position]=sequence[position] # reset \n",
    "    peak_dict[sequence] = 1\n",
    "    return 1\n",
    "\n",
    "def get_peaks_subset(start_subset, model, alphabet):\n",
    "    peaks=set()\n",
    "    peak_dict = {}\n",
    "    for ind, sub_seq in enumerate(itertools.product(alphabet, repeat=11)):\n",
    "        seq = start_subset + sub_seq\n",
    "        if ind % 100000 == 0:\n",
    "            print('Processed {} sequences and found {} peaks in processing sequences starting with {}'.format(ind, len(peaks), start_subset))\n",
    "        seq = ''.join(seq)\n",
    "        if is_sequence_a_peak(model, seq, peak_dict, alphabet):\n",
    "           peaks.add(seq)\n",
    "    return peaks\n",
    "\n",
    "def get_all_peaks(landscape, alphabet='AGTC'):\n",
    "    # we will be running 4^3 = 64 processes, so each individual function will be running on sequences that start with the same XYZ\n",
    "    pool = multiprocessing.Pool(64)\n",
    "    start_subset_seqs = itertools.product(alphabet, repeat=3)\n",
    "    args = [(subset_seq, landscape, alphabet) for subset_seq in start_subset_seqs]\n",
    "    all_found_peaks = pool.map(get_peaks_subset, args)\n",
    "    peaks = set()\n",
    "    for peak_subset in all_found_peaks:\n",
    "        peaks.update(peak_subset)\n",
    "    peaks = list(peaks)\n",
    "    return peaks\n",
    "\n",
    "if not os.path.isdir('../peaks'):\n",
    "    os.mkdir('../peaks')"
   ]
  },
  {
   "cell_type": "code",
   "execution_count": null,
   "metadata": {},
   "outputs": [],
   "source": [
    "rna_landscape_constructor_1=RNA_landscape_constructor()\n",
    "rna_landscape_constructor_1.load_landscapes(\"../data/RNA_landscapes/RNA_landscape_config.yaml\", \n",
    "                                      landscapes_to_test = [0])\n",
    "landscape1 = next(rna_landscape_constructor_1.generate_from_loaded_landscapes())\n",
    "rna_landscape_constructor_2=RNA_landscape_constructor()\n",
    "rna_landscape_constructor_2.load_landscapes(\"../data/RNA_landscapes/RNA_landscape_config.yaml\", \n",
    "                                      landscapes_to_test = [12])\n",
    "landscape2 = next(rna_landscape_constructor_2.generate_from_loaded_landscapes())"
   ]
  },
  {
   "cell_type": "code",
   "execution_count": null,
   "metadata": {},
   "outputs": [],
   "source": [
    "peaks_1 = get_all_peaks(landscape1[\"landscape_oracle\"], 'AUCG')\n",
    "pickle.dump(peaks_1, open('../peaks/peaks_B1L14RNA1.pkl', 'wb'))"
   ]
  },
  {
   "cell_type": "code",
   "execution_count": null,
   "metadata": {},
   "outputs": [],
   "source": [
    "peaks_2 = get_all_peaks(landscape2[\"landscape_oracle\"], 'AUCG')\n",
    "pickle.dump(peaks_2, open('../peaks/peaks_B2L14RNA1+2.pkl', 'wb'))"
   ]
  },
  {
   "cell_type": "code",
   "execution_count": null,
   "metadata": {},
   "outputs": [],
   "source": [
    "rna_landscape_constructor_add_1=RNA_landscape_constructor()\n",
    "rna_landscape_constructor_add_1.load_landscapes(\"../data/RNA_landscapes/RNA_landscape_config.yaml\", \n",
    "                                      landscapes_to_test = [3])\n",
    "landscape_add_1 = next(rna_landscape_constructor_add_1.generate_from_loaded_landscapes())\n",
    "peaks_add_1 = get_all_peaks(landscape_add_1[\"landscape_oracle\"], 'AUCG')\n",
    "pickle.dump(peaks_add_1, open('../peaks/peaks_B1L14RNA2.pkl', 'wb'))"
   ]
  },
  {
   "cell_type": "code",
   "execution_count": null,
   "metadata": {},
   "outputs": [],
   "source": [
    "rna_landscape_constructor_add_2=RNA_landscape_constructor()\n",
    "rna_landscape_constructor_add_2.load_landscapes(\"../data/RNA_landscapes/RNA_landscape_config.yaml\", \n",
    "                                      landscapes_to_test = [6])\n",
    "landscape_add_2 = next(rna_landscape_constructor_add_2.generate_from_loaded_landscapes())\n",
    "peaks_add_2 = get_all_peaks(landscape_add_2[\"landscape_oracle\"], 'AUCG')\n",
    "pickle.dump(peaks_add_2, open('../peaks/peaks_B1L14RNA3.pkl', 'wb'))"
   ]
  },
  {
   "cell_type": "code",
   "execution_count": null,
   "metadata": {},
   "outputs": [],
   "source": [
    "rna_landscape_constructor_add_3=RNA_landscape_constructor()\n",
    "rna_landscape_constructor_add_3.load_landscapes(\"../data/RNA_landscapes/RNA_landscape_config.yaml\", \n",
    "                                      landscapes_to_test = [9])\n",
    "landscape_add_3 = next(rna_landscape_constructor_add_3.generate_from_loaded_landscapes())\n",
    "peaks_add_3 = get_all_peaks(landscape_add_3[\"landscape_oracle\"], 'AUCG')\n",
    "pickle.dump(peaks_add_3, open('../peaks/peaks_B1L14RNA4.pkl', 'wb'))"
   ]
  }
 ],
 "metadata": {
  "kernelspec": {
   "display_name": "Python 3",
   "language": "python",
   "name": "python3"
  },
  "language_info": {
   "codemirror_mode": {
    "name": "ipython",
    "version": 3
   },
   "file_extension": ".py",
   "mimetype": "text/x-python",
   "name": "python",
   "nbconvert_exporter": "python",
   "pygments_lexer": "ipython3",
   "version": "3.7.4"
  }
 },
 "nbformat": 4,
 "nbformat_minor": 4
}
