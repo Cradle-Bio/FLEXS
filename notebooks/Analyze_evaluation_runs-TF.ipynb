{
 "cells": [
  {
   "cell_type": "code",
   "execution_count": null,
   "metadata": {},
   "outputs": [],
   "source": [
    "%reload_ext autoreload\n",
    "%autoreload 2\n",
    "%matplotlib inline\n",
    "\n",
    "import matplotlib.pyplot as plt\n",
    "import seaborn as sns\n",
    "import pandas as pd\n",
    "import numpy as np\n",
    "import sys"
   ]
  },
  {
   "cell_type": "code",
   "execution_count": null,
   "metadata": {},
   "outputs": [],
   "source": [
    "sys.path.append(\"../\")"
   ]
  },
  {
   "cell_type": "code",
   "execution_count": null,
   "metadata": {},
   "outputs": [],
   "source": [
    "def is_sequence_a_peak(model,sequence,alphabet=\"AGTC\"):\n",
    "    neighbor=[s for s in sequence]\n",
    "    sequence_fitness=model.get_fitness(sequence)\n",
    "    for position in range(len(sequence)):\n",
    "        for aa in alphabet:\n",
    "            if aa!=sequence[position]:\n",
    "               neighbor[position]=aa\n",
    "               neighbor_string=\"\".join(neighbor)\n",
    "               if sequence_fitness<model.get_fitness(neighbor_string):\n",
    "                  return 0\n",
    "               neighbor=[s for s in sequence]\n",
    "    return 1"
   ]
  },
  {
   "cell_type": "code",
   "execution_count": null,
   "metadata": {},
   "outputs": [],
   "source": [
    "def get_all_peaks(landscape):\n",
    "    peaks=set()\n",
    "    for seq in landscape.sequences:\n",
    "        if is_sequence_a_peak(landscape,seq):\n",
    "           peaks.add(seq)\n",
    "    return peaks"
   ]
  },
  {
   "cell_type": "code",
   "execution_count": null,
   "metadata": {},
   "outputs": [],
   "source": [
    "from models.Ground_truth_oracles.TF_binding_landscape_models import *"
   ]
  },
  {
   "cell_type": "code",
   "execution_count": null,
   "metadata": {},
   "outputs": [],
   "source": [
    "landscape_constructor=TF_binding_landscape_constructor()\n",
    "landscape_constructor.load_landscapes(landscapes_to_test = ['SIX6_REF_R1'])"
   ]
  },
  {
   "cell_type": "code",
   "execution_count": null,
   "metadata": {},
   "outputs": [],
   "source": [
    "landscape_constructor=landscape_constructor.generate_from_loaded_landscapes()\n",
    "landscape=next(landscape_constructor)"
   ]
  },
  {
   "cell_type": "code",
   "execution_count": null,
   "metadata": {},
   "outputs": [],
   "source": [
    "peaks= get_all_peaks(landscape[\"landscape_oracle\"])"
   ]
  },
  {
   "cell_type": "code",
   "execution_count": null,
   "metadata": {},
   "outputs": [],
   "source": [
    "len(peaks)"
   ]
  },
  {
   "cell_type": "code",
   "execution_count": null,
   "metadata": {},
   "outputs": [],
   "source": [
    "data=pd.read_csv(\"../simulations/evaluations_test_six6/consistency_robustness_independence/Greedy_mu1_tr0.05_r0.1_rho1.csv\")"
   ]
  },
  {
   "cell_type": "code",
   "execution_count": null,
   "metadata": {},
   "outputs": [],
   "source": [
    "data1=pd.read_csv(\"../simulations/evaluations_test_six6/consistency_robustness_independence/MLWFG_mu1_r0.1_rho1_beta100.csv\")"
   ]
  },
  {
   "cell_type": "code",
   "execution_count": null,
   "metadata": {},
   "outputs": [],
   "source": [
    "data2=pd.read_csv(\"../simulations/evaluations_test_six6_1/consistency_robustness_independence/Greedy_mu1_tr0.05_r0.1_rho1.csv\")"
   ]
  },
  {
   "cell_type": "code",
   "execution_count": null,
   "metadata": {},
   "outputs": [],
   "source": [
    "data.tail()"
   ]
  },
  {
   "cell_type": "code",
   "execution_count": null,
   "metadata": {},
   "outputs": [],
   "source": [
    "data.model_type.unique()"
   ]
  },
  {
   "cell_type": "code",
   "execution_count": null,
   "metadata": {},
   "outputs": [],
   "source": [
    "data.columns"
   ]
  },
  {
   "cell_type": "code",
   "execution_count": null,
   "metadata": {},
   "outputs": [],
   "source": [
    "data['id'].unique()"
   ]
  },
  {
   "cell_type": "code",
   "execution_count": null,
   "metadata": {},
   "outputs": [],
   "source": [
    "sub_data=data[(data['virtual_screen']==50)]# &(data['id']=='48eb64e4-3f1b-11ea-8fd5-f218984ddad3')]#[data.model_type==\"nn_arch=CNNa_hd100_f50\"]"
   ]
  },
  {
   "cell_type": "code",
   "execution_count": null,
   "metadata": {},
   "outputs": [],
   "source": [
    "sub_data1= data1[(data1['virtual_screen']==50)]"
   ]
  },
  {
   "cell_type": "code",
   "execution_count": null,
   "metadata": {},
   "outputs": [],
   "source": [
    "sub_data2= data2[(data2['virtual_screen']==10)]"
   ]
  },
  {
   "cell_type": "code",
   "execution_count": null,
   "metadata": {},
   "outputs": [],
   "source": [
    "plt.figure(figsize=(12,5))\n",
    "sns.lineplot(x=\"batch\",y=\"true_score\",hue=\"model_type\",data=sub_data2 )\n",
    "plt.legend(bbox_to_anchor=(1,1))"
   ]
  },
  {
   "cell_type": "code",
   "execution_count": null,
   "metadata": {},
   "outputs": [],
   "source": [
    "sub_data=data[data.model_type=='nn_arch=CNNa_hd100_f50']\n",
    "sub_data1=data1[data.model_type=='nn_arch=CNNa_hd100_f50']"
   ]
  },
  {
   "cell_type": "code",
   "execution_count": null,
   "metadata": {},
   "outputs": [],
   "source": [
    "sub_data1=data1[data1.model_type=='nn_arch=CNNa_hd100_f50']"
   ]
  },
  {
   "cell_type": "code",
   "execution_count": null,
   "metadata": {},
   "outputs": [],
   "source": [
    "sub_data2=data2[data2.model_type.str.startswith('ENS_nn_arch=CNNa_hd100_f50')]"
   ]
  },
  {
   "cell_type": "code",
   "execution_count": null,
   "metadata": {},
   "outputs": [],
   "source": [
    "all_seqs=sub_data2[sub_data2.start_id==\"TF0\"].sequence.unique()"
   ]
  },
  {
   "cell_type": "code",
   "execution_count": null,
   "metadata": {},
   "outputs": [],
   "source": [
    "count=0\n",
    "found_peaks=[]\n",
    "for seq in all_seqs:\n",
    "    if seq in peaks:\n",
    "       found_peaks.append(seq) \n",
    "       count+=1\n",
    "count"
   ]
  },
  {
   "cell_type": "code",
   "execution_count": null,
   "metadata": {},
   "outputs": [],
   "source": [
    "sns.distplot([landscape[\"landscape_oracle\"].get_fitness(x) for x in peaks])\n",
    "sns.distplot([landscape[\"landscape_oracle\"].get_fitness(x) for x in found_peaks])"
   ]
  },
  {
   "cell_type": "code",
   "execution_count": null,
   "metadata": {},
   "outputs": [],
   "source": [
    "def get_top_sequence_per_batch(data):\n",
    "    top_per_batch=[]\n",
    "    for i in data.batch.unique():\n",
    "        sub_data=data[data.batch==i] #must also group by model type and landscape id\n",
    "        #print (sub_data.true_score.max())\n",
    "        top_per_batch.append(sub_data.true_score.max())\n",
    "    return (top_per_batch)"
   ]
  },
  {
   "cell_type": "code",
   "execution_count": null,
   "metadata": {},
   "outputs": [],
   "source": [
    "def compute_cumulative_outcomes(data): \n",
    "    outcomes=pd.DataFrame(columns=[\"landscape_id\",\"start_id\",\"model_type\",\"batch\",\"max_fitness\",\"cum_max_fitness\"])\n",
    "    for landscape in data.landscape_id.unique():\n",
    "        if landscape==str(-1): #or start_id==str(-1):\n",
    "            continue\n",
    "        print(landscape)\n",
    "        valid_start_ids=[x for x in data.start_id.unique()]# if landscape[landscape.index(\"L\"): landscape.index(\"R\")] in x]\n",
    "        for start_id in valid_start_ids:\n",
    "            for noisy_model in data.model_type.unique():\n",
    "                sub_data = data[(data.landscape_id==landscape)&\\\n",
    "                               (data.start_id==start_id)&\\\n",
    "                               (data.model_type==noisy_model)] \n",
    "                cum_fit=0\n",
    "                for batch, max_fitness in enumerate(get_top_sequence_per_batch(sub_data)):\n",
    "                    if max_fitness>cum_fit:\n",
    "                       cum_fit = max_fitness \n",
    "                    outcomes = outcomes.append(pd.DataFrame.from_records([{\"landscape_id\":landscape,\\\n",
    "                                          \"start_id\":start_id,\\\n",
    "                                          \"model_type\": noisy_model,\\\n",
    "                                          \"batch\": batch+1, \\\n",
    "                                          \"max_fitness\": max_fitness,\\\n",
    "                                          \"cum_max_fitness\": cum_fit}])) \n",
    "                    \n",
    "    return outcomes"
   ]
  },
  {
   "cell_type": "code",
   "execution_count": null,
   "metadata": {},
   "outputs": [],
   "source": [
    "outcomes=compute_cumulative_outcomes(sub_data)\n",
    "outcomes1=compute_cumulative_outcomes(sub_data1)\n",
    "outcomes1=compute_cumulative_outcomes(sub_data2)\n",
    "\n",
    "outcomes.head()"
   ]
  },
  {
   "cell_type": "code",
   "execution_count": null,
   "metadata": {},
   "outputs": [],
   "source": [
    "plt.figure(figsize=(14,5))\n",
    "\n",
    "#sns.lineplot(x=\"batch\",y=\"cum_max_fitness\",hue=\"model_type\",data= outcomes)\n",
    "sns.lineplot(x=\"batch\",y=\"cum_max_fitness\",hue=\"model_type\",data= outcomes1, color=\"r\")"
   ]
  },
  {
   "cell_type": "code",
   "execution_count": null,
   "metadata": {},
   "outputs": [],
   "source": [
    "(\"_\").join(set(['a','a','a']))"
   ]
  },
  {
   "cell_type": "code",
   "execution_count": null,
   "metadata": {},
   "outputs": [],
   "source": []
  }
 ],
 "metadata": {
  "kernelspec": {
   "display_name": "Python 3",
   "language": "python",
   "name": "python3"
  },
  "language_info": {
   "codemirror_mode": {
    "name": "ipython",
    "version": 3
   },
   "file_extension": ".py",
   "mimetype": "text/x-python",
   "name": "python",
   "nbconvert_exporter": "python",
   "pygments_lexer": "ipython3",
   "version": "3.7.4"
  }
 },
 "nbformat": 4,
 "nbformat_minor": 2
}
