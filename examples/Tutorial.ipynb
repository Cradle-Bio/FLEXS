{
 "cells": [
  {
   "cell_type": "markdown",
   "metadata": {},
   "source": [
    "# Tutorial for using the Fitness Landscape Sequence Design Simulator"
   ]
  },
  {
   "cell_type": "markdown",
   "metadata": {},
   "source": [
    "* [Building oracles for landscapes](#section-one)\n",
    "* [Building a model of the landscape](#section-two)\n",
    "* [Exploring a landscape with a model](#section-three)\n",
    "* [Evaluating an exploration algorithm](#section-four)"
   ]
  },
  {
   "cell_type": "code",
   "execution_count": 1,
   "metadata": {},
   "outputs": [],
   "source": [
    "%reload_ext autoreload\n",
    "%autoreload 2\n",
    "%matplotlib inline\n",
    "import editdistance\n",
    "import matplotlib.pyplot as plt\n",
    "import seaborn as sns\n",
    "import pandas as pd\n",
    "import numpy as np"
   ]
  },
  {
   "cell_type": "code",
   "execution_count": 3,
   "metadata": {},
   "outputs": [],
   "source": [
    "import sys\n",
    "sys.path.append('/usr/local/lib/python3.6/site-packages/') \n",
    "sys.path.append('../')\n",
    "import RNA "
   ]
  },
  {
   "cell_type": "markdown",
   "metadata": {},
   "source": [
    "## 1. Building oracles for landscapes <a class=\"anchor\" id=\"section-one\"></a>"
   ]
  },
  {
   "cell_type": "code",
   "execution_count": 4,
   "metadata": {},
   "outputs": [],
   "source": [
    "from models.Ground_truth_oracles.RNA_landscape_models import RNA_landscape_constructor"
   ]
  },
  {
   "cell_type": "code",
   "execution_count": 6,
   "metadata": {},
   "outputs": [
    {
     "name": "stdout",
     "output_type": "stream",
     "text": [
      "B1L14RNA1 loaded\n"
     ]
    }
   ],
   "source": [
    "landscape_constructor = RNA_landscape_constructor()\n",
    "#load a pre-specified landscapes  (here, index 0), you can also specify to just take a few of them\n",
    "landscape_constructor.load_landscapes(\"../data/RNA_landscapes/RNA_landscape_config.yaml\", landscapes_to_test=[0])\n",
    "landscape_generator = landscape_constructor.generate_from_loaded_landscapes()"
   ]
  },
  {
   "cell_type": "code",
   "execution_count": 7,
   "metadata": {},
   "outputs": [
    {
     "data": {
      "text/plain": [
       "[{'B1L14RNA1': {'self_fold_max': False,\n",
       "   'seq_size': 14,\n",
       "   'conserved_start': False,\n",
       "   'conserved_pattern': False,\n",
       "   'targets': ['GAACGAGGCACAUUCCGGCUCGCCCGGCCCAUGUGAGCAUGGGCCGGACCCCGUCCGCGCGGGGCCCCCGCGCGGACGGGGGCGAGCCGGAAUGUGCCUC'],\n",
       "   'starts': {'startRNAL14_0': 'AUGGGCCGGACCCC',\n",
       "    'startRNAL14_1': 'GCCCCGCCGGAAUG',\n",
       "    'startRNAL14_2': 'UCUUGGGGACUUUU',\n",
       "    'startRNAL14_3': 'GGAUAACAAUUCAU',\n",
       "    'startRNAL14_4': 'CCCAUGCGCGAUCA'}}}]"
      ]
     },
     "execution_count": 7,
     "metadata": {},
     "output_type": "execute_result"
    }
   ],
   "source": [
    "landscape_constructor.loaded_landscapes"
   ]
  },
  {
   "cell_type": "code",
   "execution_count": 8,
   "metadata": {},
   "outputs": [],
   "source": [
    "#take one landscape oracle from the generator\n",
    "landscape_object=next(landscape_generator)"
   ]
  },
  {
   "cell_type": "code",
   "execution_count": 9,
   "metadata": {},
   "outputs": [
    {
     "name": "stdout",
     "output_type": "stream",
     "text": [
      "B1L14RNA1\n",
      "{'startRNAL14_0': 'AUGGGCCGGACCCC', 'startRNAL14_1': 'GCCCCGCCGGAAUG', 'startRNAL14_2': 'UCUUGGGGACUUUU', 'startRNAL14_3': 'GGAUAACAAUUCAU', 'startRNAL14_4': 'CCCAUGCGCGAUCA'}\n"
     ]
    }
   ],
   "source": [
    "print(landscape_object['landscape_id'])\n",
    "print (landscape_object['starting_seqs'])"
   ]
  },
  {
   "cell_type": "code",
   "execution_count": 10,
   "metadata": {},
   "outputs": [],
   "source": [
    "landscape_oracle = landscape_object['landscape_oracle']"
   ]
  },
  {
   "cell_type": "markdown",
   "metadata": {},
   "source": [
    "You can now query the landscape for ground truth sequence fitnesses, note: you should never do this when testing an algorithm, landscapes should be accessed through their approximators (so that your number of measurments are recorded)"
   ]
  },
  {
   "cell_type": "code",
   "execution_count": 11,
   "metadata": {},
   "outputs": [
    {
     "data": {
      "text/plain": [
       "0.14554841726711917"
      ]
     },
     "execution_count": 11,
     "metadata": {},
     "output_type": "execute_result"
    }
   ],
   "source": [
    "landscape_oracle.get_fitness('GGAUAACAAUUCAU')"
   ]
  },
  {
   "cell_type": "markdown",
   "metadata": {},
   "source": [
    "While we show this process on RNA landscapes there are other empirical landscapes that we have similar wrappers around. You can also make your own *custom* landscapes, but making RNA landcsapes with different targets, or a combination of targets (see the RNA_landscape_model_constructor for examples of how these can be made). "
   ]
  },
  {
   "cell_type": "markdown",
   "metadata": {},
   "source": [
    "## 2. Building a model of the landscape <a class=\"anchor\" id=\"section-two\"></a>\n",
    "\n",
    "In reality, you don't have access to the ground truth landscape oracles except through costly experiments. Instead you can access an approximate version of it either by modeling the landscape through your current observations. In section 2.1 we use an abstract model to simulate the situation where you have a model with arbitrary noise. In section 2.2 we show some standard neural nets and use them as models of the landscape. It is easy to implement your own model. All they need to do is to implement `_fitness_function(sequence)` which gives you the model's estimate of a sequences fitness, and `update_model([sequence1, sequence2,...])` which will pay a cost to learn on the true labels of sequences."
   ]
  },
  {
   "cell_type": "markdown",
   "metadata": {},
   "source": [
    "### 2.1. Null model"
   ]
  },
  {
   "cell_type": "markdown",
   "metadata": {},
   "source": [
    "The null model is the most simple model of the landscape. At each epoch, the model guesses the fitness of a variant by drawing a random sample from the exponential distribution $\\lambda e^{-\\lambda x}$, with $\\lambda = \\mathbb{E}[f_\\text{measured_sequences}]$. "
   ]
  },
  {
   "cell_type": "code",
   "execution_count": 37,
   "metadata": {},
   "outputs": [],
   "source": [
    "from models.Noisy_models.Noisy_abstract_model import Null_model"
   ]
  },
  {
   "cell_type": "code",
   "execution_count": 40,
   "metadata": {},
   "outputs": [],
   "source": [
    "null_model = Null_model(landscape_oracle)"
   ]
  },
  {
   "cell_type": "markdown",
   "metadata": {},
   "source": [
    "We want to \"measure\" the true fitness of at least one sequence to start with (otherwise we can't have a model). We can do that by calling `measure_true_landscape` on the noisy model. This will charge you a \"measurment cost\", but in return tells you the true fitness of the sequence. When starting out or reusing the landscape, `reset` lets you zero the cost in the landscape, and if you pass it any sequences, it will measure those.  "
   ]
  },
  {
   "cell_type": "code",
   "execution_count": 47,
   "metadata": {},
   "outputs": [
    {
     "name": "stdout",
     "output_type": "stream",
     "text": [
      "GGAUAACAAUUCAU\n",
      "cost of measurement: 1\n"
     ]
    }
   ],
   "source": [
    "wt = landscape_object['starting_seqs']['startRNAL14_3'] # any start sequence can be used, \n",
    "                                            #we picked a few for you to use that \n",
    "                                            #are diverse in sequence and performance\n",
    "print(wt)\n",
    "\n",
    "null_model.reset([wt])\n",
    "print (f'cost of measurement: {null_model.cost}')\n"
   ]
  },
  {
   "cell_type": "markdown",
   "metadata": {},
   "source": [
    "let's ask it for the fitness of a random sequence (we will show more complex results later)."
   ]
  },
  {
   "cell_type": "code",
   "execution_count": 49,
   "metadata": {},
   "outputs": [
    {
     "data": {
      "text/plain": [
       "(0.07216889024043867, 0.08787828781766369)"
      ]
     },
     "execution_count": 49,
     "metadata": {},
     "output_type": "execute_result"
    }
   ],
   "source": [
    "null_model.get_fitness('UUAUAACAAUUCAU'), landscape_oracle.get_fitness('UUAUAACAAUUCAU')"
   ]
  },
  {
   "cell_type": "markdown",
   "metadata": {},
   "source": [
    "### 2.2 Abstract model "
   ]
  },
  {
   "cell_type": "markdown",
   "metadata": {},
   "source": [
    "This is an abstract model that \"emulates\" a real model of the landscape. It works by guessing the fitness of a new sequence as a combination of it's real fitness and fitness of the closest known neighbor. "
   ]
  },
  {
   "cell_type": "code",
   "execution_count": 12,
   "metadata": {},
   "outputs": [],
   "source": [
    "from models.Noisy_models.Noisy_abstract_model import Noisy_abstract_model"
   ]
  },
  {
   "cell_type": "markdown",
   "metadata": {},
   "source": [
    "To build a noisy model, you need to have an oracle, and a `signal_strength` $\\alpha \\in [0,1]$. This parameter $\\alpha$ determines how much your oracle signal is corrupted by noise:\n",
    "\n",
    "$f_{model}= \\alpha^d f_{oracle} + (1-\\alpha^d)\\epsilon$\n",
    "\n",
    "here $d$ is the distance to the closest measured neighbor, and $\\epsilon$ is a sample from an exponential distribution $\\lambda e^{-\\lambda x}$, with $\\lambda = f_\\text{closest_neighbor}$ (for each queried sample, this is sampled once and then fixed for that batch). "
   ]
  },
  {
   "cell_type": "code",
   "execution_count": 13,
   "metadata": {},
   "outputs": [],
   "source": [
    "noisy_model = Noisy_abstract_model(landscape_oracle, signal_strength=0.9)"
   ]
  },
  {
   "cell_type": "code",
   "execution_count": 14,
   "metadata": {},
   "outputs": [
    {
     "name": "stdout",
     "output_type": "stream",
     "text": [
      "GGAUAACAAUUCAU\n"
     ]
    },
    {
     "data": {
      "text/plain": [
       "1"
      ]
     },
     "execution_count": 14,
     "metadata": {},
     "output_type": "execute_result"
    }
   ],
   "source": [
    "\n",
    "noisy_model.reset([wt])\n",
    "noisy_model.cost"
   ]
  },
  {
   "cell_type": "markdown",
   "metadata": {},
   "source": [
    "Let's measure the fitness of some samples through the model"
   ]
  },
  {
   "cell_type": "code",
   "execution_count": 15,
   "metadata": {},
   "outputs": [],
   "source": [
    "from utils.sequence_utils import generate_random_mutant"
   ]
  },
  {
   "cell_type": "code",
   "execution_count": 16,
   "metadata": {},
   "outputs": [
    {
     "data": {
      "text/plain": [
       "['GGAAAACGAUGCAC',\n",
       " 'GGGGAAUGAUUCUC',\n",
       " 'GAAAAUCGACUCCU',\n",
       " 'GUCCAACUACACGU',\n",
       " 'GGAUACACAUUUCU']"
      ]
     },
     "execution_count": 16,
     "metadata": {},
     "output_type": "execute_result"
    }
   ],
   "source": [
    "mutation_rate = 0.5\n",
    "RNA_alphabet = \"UCGA\" \n",
    "samples = [generate_random_mutant(wt, mutation_rate, alphabet= RNA_alphabet) for i in range(1000)]\n",
    "samples[:5]"
   ]
  },
  {
   "cell_type": "code",
   "execution_count": 17,
   "metadata": {},
   "outputs": [],
   "source": [
    "from scipy.stats import pearsonr,spearmanr "
   ]
  },
  {
   "cell_type": "code",
   "execution_count": 18,
   "metadata": {},
   "outputs": [
    {
     "name": "stderr",
     "output_type": "stream",
     "text": [
      "/anaconda3/envs/tf3/lib/python3.6/site-packages/scipy/stats/stats.py:1713: FutureWarning: Using a non-tuple sequence for multidimensional indexing is deprecated; use `arr[tuple(seq)]` instead of `arr[seq]`. In the future this will be interpreted as an array index, `arr[np.array(seq)]`, which will result either in an error or a different result.\n",
      "  return np.add.reduce(sorted[indexer] * weights, axis=axis) / sumval\n"
     ]
    },
    {
     "data": {
      "text/plain": [
       "<matplotlib.axes._subplots.AxesSubplot at 0x1a235fbcf8>"
      ]
     },
     "execution_count": 18,
     "metadata": {},
     "output_type": "execute_result"
    },
    {
     "data": {
      "image/png": "[encoded data removed]",
      "text/plain": [
       "<Figure size 432x288 with 1 Axes>"
      ]
     },
     "metadata": {
      "needs_background": "light"
     },
     "output_type": "display_data"
    }
   ],
   "source": [
    "distances = []\n",
    "for sequence in samples:\n",
    "    distances.append(editdistance.eval(sequence, wt))\n",
    "    \n",
    "sns.distplot(distances, kde=False)"
   ]
  },
  {
   "cell_type": "code",
   "execution_count": 19,
   "metadata": {},
   "outputs": [],
   "source": [
    "def get_corr_per_distance(samples,distances, model):\n",
    "    corrs=[]\n",
    "    for i in range(1,11):\n",
    "        samples_at_distance=[]\n",
    "        for j in range(len(samples)):\n",
    "            if distances[j]==i:\n",
    "               samples_at_distance.append(samples[j])\n",
    "        if len(samples_at_distance)>20:\n",
    "            corrs.append(pearsonr(np.array([landscape_oracle.get_fitness(x) for x in samples_at_distance]),\\\n",
    "                              np.array([model.get_fitness(x) for x in samples_at_distance]))[0]**2)\n",
    "        else:\n",
    "            corrs.append(np.nan)\n",
    "    return corrs"
   ]
  },
  {
   "cell_type": "code",
   "execution_count": 20,
   "metadata": {},
   "outputs": [],
   "source": [
    "corrs = get_corr_per_distance(samples,distances,noisy_model)"
   ]
  },
  {
   "cell_type": "code",
   "execution_count": 21,
   "metadata": {},
   "outputs": [
    {
     "data": {
      "text/plain": [
       "Text(0.5,0,'Distance from wt')"
      ]
     },
     "execution_count": 21,
     "metadata": {},
     "output_type": "execute_result"
    },
    {
     "data": {
      "image/png": "[encoded data removed]",
      "text/plain": [
       "<Figure size 432x288 with 1 Axes>"
      ]
     },
     "metadata": {
      "needs_background": "light"
     },
     "output_type": "display_data"
    }
   ],
   "source": [
    "plt.plot(range(1,11),corrs,'o-')\n",
    "plt.ylabel(\"$r^2$ between true\\nfitness and model estimate\")\n",
    "plt.xlabel(\"Distance from wt\")"
   ]
  },
  {
   "cell_type": "code",
   "execution_count": 22,
   "metadata": {},
   "outputs": [
    {
     "data": {
      "text/plain": [
       "0.14554841726711917"
      ]
     },
     "execution_count": 22,
     "metadata": {},
     "output_type": "execute_result"
    }
   ],
   "source": [
    "noisy_model.get_fitness(wt)"
   ]
  },
  {
   "cell_type": "markdown",
   "metadata": {},
   "source": [
    "### 2.3 Models of landscapes built from data"
   ]
  },
  {
   "cell_type": "markdown",
   "metadata": {},
   "source": [
    "Similarly, we can approximate the landscape by training a model on it. Some basic architectures are provided for convenience. "
   ]
  },
  {
   "cell_type": "code",
   "execution_count": 23,
   "metadata": {},
   "outputs": [
    {
     "name": "stderr",
     "output_type": "stream",
     "text": [
      "Using TensorFlow backend.\n"
     ]
    }
   ],
   "source": [
    "from utils.model_architectues import Linear, NLNN, CNNa\n",
    "from models.Noisy_models.Neural_network_models import NN_model"
   ]
  },
  {
   "cell_type": "markdown",
   "metadata": {},
   "source": [
    "For real models, it's more sensible to train them on more than just the WT"
   ]
  },
  {
   "cell_type": "code",
   "execution_count": 24,
   "metadata": {},
   "outputs": [
    {
     "name": "stdout",
     "output_type": "stream",
     "text": [
      "training data consisted of 357 unique sequences\n"
     ]
    }
   ],
   "source": [
    "training_sequences = list(set([generate_random_mutant(wt,0.2, RNA_alphabet) for i in range(0,500)]))\n",
    "print (f'training data consisted of {len(training_sequences)} unique sequences')"
   ]
  },
  {
   "cell_type": "code",
   "execution_count": 25,
   "metadata": {},
   "outputs": [],
   "source": [
    "linear_architecture=Linear(len(wt), alphabet=RNA_alphabet)\n",
    "noisy_nn_model=NN_model(landscape_oracle,linear_architecture)\n",
    "noisy_nn_model.reset()\n",
    "noisy_nn_model.update_model(training_sequences)\n",
    "corrs_LNN= get_corr_per_distance(samples,distances,noisy_nn_model)"
   ]
  },
  {
   "cell_type": "code",
   "execution_count": 26,
   "metadata": {},
   "outputs": [],
   "source": [
    "global_epistasis_architecture=NLNN(len(wt), alphabet=RNA_alphabet)\n",
    "noisy_nn_model=NN_model(landscape_oracle,global_epistasis_architecture)\n",
    "noisy_nn_model.reset()\n",
    "noisy_nn_model.update_model(training_sequences)\n",
    "corrs_NLNN= get_corr_per_distance(samples,distances,noisy_nn_model)"
   ]
  },
  {
   "cell_type": "code",
   "execution_count": 27,
   "metadata": {},
   "outputs": [],
   "source": [
    "cnn_architecture=CNNa(len(wt), alphabet=RNA_alphabet)\n",
    "noisy_nn_model=NN_model(landscape_oracle,cnn_architecture)\n",
    "noisy_nn_model.reset()\n",
    "noisy_nn_model.update_model(training_sequences)\n",
    "corrs= get_corr_per_distance(samples,distances,noisy_nn_model)"
   ]
  },
  {
   "cell_type": "code",
   "execution_count": 28,
   "metadata": {},
   "outputs": [
    {
     "data": {
      "text/plain": [
       "<matplotlib.legend.Legend at 0x1a34ab7c18>"
      ]
     },
     "execution_count": 28,
     "metadata": {},
     "output_type": "execute_result"
    },
    {
     "data": {
      "image/png": "[encoded data removed]",
      "text/plain": [
       "<Figure size 432x288 with 1 Axes>"
      ]
     },
     "metadata": {
      "needs_background": "light"
     },
     "output_type": "display_data"
    }
   ],
   "source": [
    "plt.plot(range(1,11),corrs_LNN,'o-', label=\"LNN\")\n",
    "plt.plot(range(1,11),corrs_NLNN,'o-', label=\"NLNN\")\n",
    "plt.plot(range(1,11),corrs,'o-', label=\"CNN\")\n",
    "plt.ylabel(\"$r^2$ between true\\nfitness and model estimate\")\n",
    "plt.xlabel(\"Distance from WT\")\n",
    "plt.legend()"
   ]
  },
  {
   "cell_type": "markdown",
   "metadata": {},
   "source": [
    "Now that we have models, we can use them with an exploration algorithm to search the landscape. "
   ]
  },
  {
   "cell_type": "markdown",
   "metadata": {},
   "source": [
    "## 3. Exploring the landscape with a model <a class=\"anchor\" id=\"section-three\"></a>\n",
    "\n",
    "All exploration algorithms in this package inherit from `Base_explorer` which performs some house-keeping tasks. We recommend doing the same when you \"bring your own\" explorer. It's very easy to implement an explorer in this framework, all it needs to implement is a `propose_sequences` method, that suggest new sequences for which a \"costly\" measurment to the oracle is performed.  "
   ]
  },
  {
   "cell_type": "code",
   "execution_count": 29,
   "metadata": {},
   "outputs": [],
   "source": [
    "from explorers.base_explorer import Random_explorer"
   ]
  },
  {
   "cell_type": "code",
   "execution_count": 30,
   "metadata": {},
   "outputs": [],
   "source": [
    "mutation_rate = 0.05\n",
    "explorer1 = Random_explorer(mutation_rate, batch_size = 100, alphabet= RNA_alphabet, virtual_screen = 10)"
   ]
  },
  {
   "cell_type": "markdown",
   "metadata": {},
   "source": [
    "- `batch_size` denotes the experimental batch size\n",
    "- `virtual_screen` is the number of computational queries to the model that is allowed per batch. \n",
    "- `alphabet` is the alphabet that is permissive on the current landscape."
   ]
  },
  {
   "cell_type": "code",
   "execution_count": 31,
   "metadata": {},
   "outputs": [],
   "source": [
    "explorer1.debug = True #don't save any results\n",
    "explorer1.set_model(noisy_nn_model)"
   ]
  },
  {
   "cell_type": "code",
   "execution_count": 32,
   "metadata": {},
   "outputs": [
    {
     "name": "stdout",
     "output_type": "stream",
     "text": [
      "round: 0, cost: 357, evals: 958, top: 0.4476300009492011\n",
      "round: 1, cost: 457, evals: 1054, top: 0.4476300009492011\n",
      "round: 2, cost: 557, evals: 1154, top: 0.538254515338481\n",
      "round: 3, cost: 657, evals: 1254, top: 0.538254515338481\n",
      "round: 4, cost: 757, evals: 1354, top: 0.538254515338481\n"
     ]
    }
   ],
   "source": [
    "num_of_rounds = 5\n",
    "explorer1.run(num_of_rounds, verbose=True)"
   ]
  },
  {
   "cell_type": "markdown",
   "metadata": {},
   "source": [
    "Let's see what was printed:\n",
    "- The number of **rounds** represents how many experiments was done\n",
    "- The **cost** shows how many total calls to the oracle was made (experimental cost). Because training the model had an overhead, that is accounted in the total cost. \n",
    "- The **evals** shows how many total calls to the model was made (computational cost).\n",
    "- **Top** simply lists the top fitness (cumulative) observed through the exploration"
   ]
  },
  {
   "cell_type": "markdown",
   "metadata": {},
   "source": [
    "## 4. Evaluating an exploration algorithm <a class=\"anchor\" id=\"section-four\"></a>\n"
   ]
  },
  {
   "cell_type": "code",
   "execution_count": 33,
   "metadata": {},
   "outputs": [],
   "source": [
    "from evaluators.Evaluator import Evaluator"
   ]
  },
  {
   "cell_type": "markdown",
   "metadata": {},
   "source": [
    "Pick the landscapes you want to run the evaluation suite on. This can be done by including indexes or \"all\" which results in loading all pre-defined landscapes. \n",
    "\n",
    "**WARNING**: Running evaluators on all landscapes would take forever if not done in a parallel fashion. Debug your process with a couple of landscapes first. We recommend sending each evaluation-landscape pair to a separate worker.  "
   ]
  },
  {
   "cell_type": "code",
   "execution_count": 34,
   "metadata": {},
   "outputs": [],
   "source": [
    "LANDSCAPE_TYPES ={\"RNA\": [2,3],\"TF\": [1]}#[\"GFP\": \"all\",\"ADDITIVE\":\"all\"]\n"
   ]
  },
  {
   "cell_type": "code",
   "execution_count": 36,
   "metadata": {},
   "outputs": [
    {
     "name": "stdout",
     "output_type": "stream",
     "text": [
      "loading landscapes RNA: [2, 3], TF:[1]\n",
      "B1L100RNA1 loaded\n",
      "B1L14RNA2 loaded\n",
      "1 TF landscapes loaded.\n",
      "loading complete\n"
     ]
    }
   ],
   "source": [
    "evaluator=Evaluator(explorer1,landscape_types=LANDSCAPE_TYPES, path=\"../simulations/eval/\")\\\n",
    "                                                                    #path to where the results are saved"
   ]
  },
  {
   "cell_type": "markdown",
   "metadata": {},
   "source": [
    "The evaluator can run tests aimed at different properties of the explorer. \n",
    "\n",
    "The tests include:\n",
    "- `consistency_robustness_independence`: shows how explorer performance changes given different models.\n",
    "- `efficiency`: shows how explorer performance changes when more computational evals are allowed\n",
    "- `adaptivity`: shows how the explorer is sensitive to the number of batches it is allowed to sample\n",
    "- `scalability`: shows how fast the explorer produces a batch. \n",
    "\n",
    "Note that once you run a particular test (among these), if you want to run more tests, you need to re-run `load_landscapes` on the evaluator (as the generator stack is depleted.  "
   ]
  },
  {
   "cell_type": "code",
   "execution_count": null,
   "metadata": {},
   "outputs": [],
   "source": [
    "evaluator.evaluate_for_landscapes(evaluator.adaptivity,\\\n",
    "                                  num_starts=1) #num starts determines how many starting points\n",
    "                                                #should be tested per landscape"
   ]
  }
 ],
 "metadata": {
  "kernelspec": {
   "display_name": "Python 3",
   "language": "python",
   "name": "python3"
  },
  "language_info": {
   "codemirror_mode": {
    "name": "ipython",
    "version": 3
   },
   "file_extension": ".py",
   "mimetype": "text/x-python",
   "name": "python",
   "nbconvert_exporter": "python",
   "pygments_lexer": "ipython3",
   "version": "3.6.6"
  }
 },
 "nbformat": 4,
 "nbformat_minor": 2
}
