{
 "cells": [
  {
   "cell_type": "markdown",
   "metadata": {},
   "source": [
    "# Tutorial for using the Fitness Landscape Sequence Design Simulator"
   ]
  },
  {
   "cell_type": "markdown",
   "metadata": {},
   "source": [
    "* [Building oracles for landscapes](#section-one)\n",
    "* [Building a model of the landscape](#section-two)\n",
    "* [Exploring a landscape with a model](#section-three)\n",
    "* [Evaluating an exploration algorithm](#section-four)"
   ]
  },
  {
   "cell_type": "code",
   "execution_count": null,
   "metadata": {},
   "outputs": [],
   "source": [
    "%reload_ext autoreload\n",
    "%autoreload 2\n",
    "%matplotlib inline\n",
    "import editdistance\n",
    "import matplotlib.pyplot as plt\n",
    "import seaborn as sns\n",
    "import pandas as pd\n",
    "import numpy as np"
   ]
  },
  {
   "cell_type": "code",
   "execution_count": null,
   "metadata": {},
   "outputs": [],
   "source": [
    "import sys\n",
    "sys.path.append('/usr/local/lib/python3.6/site-packages/') \n",
    "sys.path.append('../')\n",
    "import RNA "
   ]
  },
  {
   "cell_type": "markdown",
   "metadata": {},
   "source": [
    "## 1. Building oracles for landscapes <a class=\"anchor\" id=\"section-one\"></a>"
   ]
  },
  {
   "cell_type": "code",
   "execution_count": null,
   "metadata": {},
   "outputs": [],
   "source": [
    "from models.Ground_truth_oracles.RNA_landscape_models import RNA_landscape_constructor"
   ]
  },
  {
   "cell_type": "code",
   "execution_count": null,
   "metadata": {},
   "outputs": [],
   "source": [
    "landscape_constructor = RNA_landscape_constructor()\n",
    "#load a pre-specified landscapes  (here, index 0), you can also specify to just take a few of them\n",
    "landscape_constructor.load_landscapes(\"../data/RNA_landscapes/RNA_landscape_config.yaml\", landscapes_to_test=[0])\n",
    "landscape_generator = landscape_constructor.generate_from_loaded_landscapes()"
   ]
  },
  {
   "cell_type": "code",
   "execution_count": null,
   "metadata": {},
   "outputs": [],
   "source": [
    "landscape_constructor.loaded_landscapes"
   ]
  },
  {
   "cell_type": "code",
   "execution_count": null,
   "metadata": {},
   "outputs": [],
   "source": [
    "#take one landscape oracle from the generator\n",
    "landscape_object=next(landscape_generator)"
   ]
  },
  {
   "cell_type": "code",
   "execution_count": null,
   "metadata": {},
   "outputs": [],
   "source": [
    "print(landscape_object['landscape_id'])\n",
    "print (landscape_object['starting_seqs'])"
   ]
  },
  {
   "cell_type": "code",
   "execution_count": null,
   "metadata": {},
   "outputs": [],
   "source": [
    "landscape_oracle = landscape_object['landscape_oracle']"
   ]
  },
  {
   "cell_type": "markdown",
   "metadata": {},
   "source": [
    "You can now query the landscape for ground truth sequence fitnesses, note: you should never do this when testing an algorithm, landscapes should be accessed through their approximators (so that your number of measurments are recorded)"
   ]
  },
  {
   "cell_type": "code",
   "execution_count": null,
   "metadata": {},
   "outputs": [],
   "source": [
    "landscape_oracle.get_fitness('GGAUAACAAUUCAU')"
   ]
  },
  {
   "cell_type": "markdown",
   "metadata": {},
   "source": [
    "While we show this process on RNA landscapes there are other empirical landscapes that we have similar wrappers around. You can also make your own *custom* landscapes, but making RNA landcsapes with different targets, or a combination of targets (see the RNA_landscape_model_constructor for examples of how these can be made). "
   ]
  },
  {
   "cell_type": "markdown",
   "metadata": {},
   "source": [
    "## 2. Building a model of the landscape <a class=\"anchor\" id=\"section-two\"></a>\n",
    "\n",
    "In reality, you don't have access to the ground truth landscape oracles except through costly experiments. Instead you can access an approximate version of it either by modeling the landscape through your current observations. In section 2.1 we use an abstract model to simulate the situation where you have a model with arbitrary noise. In section 2.2 we show some standard neural nets and use them as models of the landscape. It is easy to implement your own model. All they need to do is to implement `_fitness_function(sequence)` which gives you the model's estimate of a sequences fitness, and `update_model([sequence1, sequence2,...])` which will pay a cost to learn on the true labels of sequences."
   ]
  },
  {
   "cell_type": "markdown",
   "metadata": {},
   "source": [
    "### 2.1. Null model"
   ]
  },
  {
   "cell_type": "markdown",
   "metadata": {},
   "source": [
    "The null model is the most simple model of the landscape. At each epoch, the model guesses the fitness of a variant by drawing a random sample from the exponential distribution $\\lambda e^{-\\lambda x}$, with $\\lambda = \\mathbb{E}[f_\\text{measured_sequences}]$. "
   ]
  },
  {
   "cell_type": "code",
   "execution_count": null,
   "metadata": {},
   "outputs": [],
   "source": [
    "from models.Noisy_models.Noisy_abstract_model import Null_model"
   ]
  },
  {
   "cell_type": "code",
   "execution_count": null,
   "metadata": {},
   "outputs": [],
   "source": [
    "null_model = Null_model(landscape_oracle)"
   ]
  },
  {
   "cell_type": "markdown",
   "metadata": {},
   "source": [
    "We want to \"measure\" the true fitness of at least one sequence to start with (otherwise we can't have a model). We can do that by calling `measure_true_landscape` on the noisy model. This will charge you a \"measurment cost\", but in return tells you the true fitness of the sequence. When starting out or reusing the landscape, `reset` lets you zero the cost in the landscape, and if you pass it any sequences, it will measure those.  "
   ]
  },
  {
   "cell_type": "code",
   "execution_count": null,
   "metadata": {},
   "outputs": [],
   "source": [
    "wt = landscape_object['starting_seqs']['startRNAL14_3'] # any start sequence can be used, \n",
    "                                            #we picked a few for you to use that \n",
    "                                            #are diverse in sequence and performance\n",
    "print(wt)\n",
    "\n",
    "null_model.reset([wt])\n",
    "print (f'cost of measurement: {null_model.cost}')\n"
   ]
  },
  {
   "cell_type": "markdown",
   "metadata": {},
   "source": [
    "let's ask it for the fitness of a random sequence (we will show more complex results later)."
   ]
  },
  {
   "cell_type": "code",
   "execution_count": null,
   "metadata": {},
   "outputs": [],
   "source": [
    "null_model.get_fitness('UUAUAACAAUUCAU'), landscape_oracle.get_fitness('UUAUAACAAUUCAU')"
   ]
  },
  {
   "cell_type": "markdown",
   "metadata": {},
   "source": [
    "### 2.2 Abstract model "
   ]
  },
  {
   "cell_type": "markdown",
   "metadata": {},
   "source": [
    "This is an abstract model that \"emulates\" a real model of the landscape. It works by guessing the fitness of a new sequence as a combination of it's real fitness and fitness of the closest known neighbor. "
   ]
  },
  {
   "cell_type": "code",
   "execution_count": null,
   "metadata": {},
   "outputs": [],
   "source": [
    "from models.Noisy_models.Noisy_abstract_model import Noisy_abstract_model"
   ]
  },
  {
   "cell_type": "markdown",
   "metadata": {},
   "source": [
    "To build a noisy model, you need to have an oracle, and a `signal_strength` $\\alpha \\in [0,1]$. This parameter $\\alpha$ determines how much your oracle signal is corrupted by noise:\n",
    "\n",
    "$f_{model}= \\alpha^d f_{oracle} + (1-\\alpha^d)\\epsilon$\n",
    "\n",
    "here $d$ is the distance to the closest measured neighbor, and $\\epsilon$ is a sample from an exponential distribution $\\lambda e^{-\\lambda x}$, with $\\lambda = f_\\text{closest_neighbor}$ (for each queried sample, this is sampled once and then fixed for that batch). "
   ]
  },
  {
   "cell_type": "code",
   "execution_count": null,
   "metadata": {},
   "outputs": [],
   "source": [
    "noisy_model_1 = Noisy_abstract_model(landscape_oracle, signal_strength=1)\n",
    "noisy_model_2 = Noisy_abstract_model(landscape_oracle, signal_strength=0.9)\n",
    "noisy_model_3 = Noisy_abstract_model(landscape_oracle, signal_strength=0.75)\n",
    "noisy_model_4 = Noisy_abstract_model(landscape_oracle, signal_strength=0.0)\n",
    "noisy_models=[noisy_model_1,noisy_model_2,noisy_model_3,noisy_model_4]"
   ]
  },
  {
   "cell_type": "code",
   "execution_count": null,
   "metadata": {},
   "outputs": [],
   "source": [
    "for noisy_model in noisy_models:\n",
    "    noisy_model.reset([wt])\n"
   ]
  },
  {
   "cell_type": "markdown",
   "metadata": {},
   "source": [
    "Let's measure the fitness of some samples through the model"
   ]
  },
  {
   "cell_type": "code",
   "execution_count": null,
   "metadata": {},
   "outputs": [],
   "source": [
    "from utils.sequence_utils import generate_random_mutant"
   ]
  },
  {
   "cell_type": "code",
   "execution_count": null,
   "metadata": {},
   "outputs": [],
   "source": [
    "mutation_rate = 0.5\n",
    "RNA_alphabet = \"UCGA\" \n",
    "samples = [generate_random_mutant(wt, mutation_rate, alphabet= RNA_alphabet) for i in range(10000)]\n",
    "[(s, noisy_model_3.get_fitness(s)) for s in samples[:5]]"
   ]
  },
  {
   "cell_type": "code",
   "execution_count": null,
   "metadata": {},
   "outputs": [],
   "source": [
    "from scipy.stats import pearsonr,spearmanr "
   ]
  },
  {
   "cell_type": "code",
   "execution_count": null,
   "metadata": {},
   "outputs": [],
   "source": [
    "distances = []\n",
    "for sequence in samples:\n",
    "    distances.append(editdistance.eval(sequence, wt))\n",
    "    \n",
    "sns.distplot(distances, kde=False)"
   ]
  },
  {
   "cell_type": "code",
   "execution_count": null,
   "metadata": {},
   "outputs": [],
   "source": [
    "def get_corr_per_distance(samples,distances, model):\n",
    "    corrs=[]\n",
    "    for i in range(1,11):\n",
    "        samples_at_distance=[]\n",
    "        for j in range(len(samples)):\n",
    "            if distances[j]==i:\n",
    "               samples_at_distance.append(samples[j])\n",
    "        if len(samples_at_distance)>50:\n",
    "            corrs.append(pearsonr(np.array([landscape_oracle.get_fitness(x) for x in samples_at_distance]),\\\n",
    "                              np.array([model.get_fitness(x) for x in samples_at_distance]))[0]**2)\n",
    "        else:\n",
    "            corrs.append(np.nan)\n",
    "    return corrs"
   ]
  },
  {
   "cell_type": "code",
   "execution_count": null,
   "metadata": {},
   "outputs": [],
   "source": [
    "corrs = [get_corr_per_distance(samples,distances,noisy_model) for noisy_model in noisy_models] \n",
    "corrs_null = get_corr_per_distance(samples, distances, null_model)"
   ]
  },
  {
   "cell_type": "code",
   "execution_count": null,
   "metadata": {},
   "outputs": [],
   "source": [
    "plt.plot(range(1,11),corrs[0],'o-', label=\"noisy_ss=1\")\n",
    "plt.plot(range(1,11),corrs[1],'o-', label=\"noisy_ss=0.9\")\n",
    "plt.plot(range(1,11),corrs[2],'o-', label=\"noisy_ss=0.75\")\n",
    "plt.plot(range(1,11),corrs[3],'o-', label=\"noisy_ss=0.0\")\n",
    "plt.plot(range(1,11),corrs_null,'o-',label=\"null\")\n",
    "plt.ylabel(\"$r^2$ between true\\nfitness and model estimate\")\n",
    "plt.xlabel(\"Distance from wt\")\n",
    "plt.legend()"
   ]
  },
  {
   "cell_type": "code",
   "execution_count": null,
   "metadata": {},
   "outputs": [],
   "source": [
    "from models.Noisy_models.Ensemble import Ensemble_models"
   ]
  },
  {
   "cell_type": "code",
   "execution_count": null,
   "metadata": {},
   "outputs": [],
   "source": [
    "ensemble = Ensemble_models(noisy_models)"
   ]
  },
  {
   "cell_type": "code",
   "execution_count": null,
   "metadata": {},
   "outputs": [],
   "source": [
    "ensemble.reset([wt])"
   ]
  },
  {
   "cell_type": "code",
   "execution_count": null,
   "metadata": {},
   "outputs": [],
   "source": [
    "ensemble.get_fitness('GGAUGCCAAAUCUC')"
   ]
  },
  {
   "cell_type": "code",
   "execution_count": null,
   "metadata": {},
   "outputs": [],
   "source": [
    "ensemble.get_fitness_distribution('GGAUGCCAAAUCUC')"
   ]
  },
  {
   "cell_type": "markdown",
   "metadata": {},
   "source": [
    "### 2.3 Models of landscapes built from data"
   ]
  },
  {
   "cell_type": "markdown",
   "metadata": {},
   "source": [
    "Similarly, we can approximate the landscape by training a model on it. Some basic architectures are provided for convenience. "
   ]
  },
  {
   "cell_type": "code",
   "execution_count": null,
   "metadata": {},
   "outputs": [],
   "source": [
    "from utils.model_architectures import Linear, NLNN, CNNa, SKLasso, SKLinear, SKNeighbors, SKRF, SKGB\n",
    "from models.Noisy_models.Neural_network_models import NN_model"
   ]
  },
  {
   "cell_type": "markdown",
   "metadata": {},
   "source": [
    "For real models, it's more sensible to train them on more than just the WT"
   ]
  },
  {
   "cell_type": "code",
   "execution_count": null,
   "metadata": {},
   "outputs": [],
   "source": [
    "training_sequences = list(set([generate_random_mutant(wt,0.2, RNA_alphabet) for i in range(0,500)]))\n",
    "print (f'training data consisted of {len(training_sequences)} unique sequences')"
   ]
  },
  {
   "cell_type": "code",
   "execution_count": null,
   "metadata": {},
   "outputs": [],
   "source": [
    "linear_architecture=Linear(len(wt), alphabet=RNA_alphabet)\n",
    "noisy_lnn_model=NN_model(landscape_oracle,linear_architecture)\n",
    "noisy_lnn_model.reset()\n",
    "noisy_lnn_model.update_model(training_sequences)\n",
    "corrs_LNN= get_corr_per_distance(samples,distances,noisy_lnn_model)"
   ]
  },
  {
   "cell_type": "code",
   "execution_count": null,
   "metadata": {},
   "outputs": [],
   "source": [
    "skarchitecture=SKLinear(len(wt), alphabet=RNA_alphabet)\n",
    "noisy_sklnn_model=NN_model(landscape_oracle,skarchitecture)\n",
    "noisy_sklnn_model.reset()\n",
    "noisy_sklnn_model.update_model(training_sequences)\n",
    "corrs_skLNN= get_corr_per_distance(samples,distances,noisy_sklnn_model)"
   ]
  },
  {
   "cell_type": "code",
   "execution_count": null,
   "metadata": {},
   "outputs": [],
   "source": [
    "skarchitecture=SKRF(len(wt), alphabet=RNA_alphabet)\n",
    "noisy_skrf_model=NN_model(landscape_oracle,skarchitecture)\n",
    "noisy_skrf_model.reset()\n",
    "noisy_skrf_model.update_model(training_sequences)\n",
    "corrs_skrf= get_corr_per_distance(samples,distances,noisy_skrf_model)"
   ]
  },
  {
   "cell_type": "code",
   "execution_count": null,
   "metadata": {},
   "outputs": [],
   "source": [
    "global_epistasis_architecture=NLNN(len(wt), alphabet=RNA_alphabet)\n",
    "noisy_gnn_model=NN_model(landscape_oracle,global_epistasis_architecture)\n",
    "noisy_gnn_model.reset()\n",
    "noisy_gnn_model.update_model(training_sequences)\n",
    "corrs_NLNN= get_corr_per_distance(samples,distances,noisy_gnn_model)"
   ]
  },
  {
   "cell_type": "code",
   "execution_count": null,
   "metadata": {},
   "outputs": [],
   "source": [
    "cnn_architecture=CNNa(len(wt), alphabet=RNA_alphabet)\n",
    "noisy_cnn_model=NN_model(landscape_oracle,cnn_architecture)\n",
    "noisy_cnn_model.reset()\n",
    "noisy_cnn_model.update_model(training_sequences)\n",
    "corrs= get_corr_per_distance(samples,distances,noisy_cnn_model)"
   ]
  },
  {
   "cell_type": "code",
   "execution_count": null,
   "metadata": {},
   "outputs": [],
   "source": [
    "plt.plot(range(1,11),corrs_LNN,'o-', label=\"LNN\")\n",
    "plt.plot(range(1,11),corrs_skLNN,'o-', label=\"skLNN\")\n",
    "plt.plot(range(1,11),corrs_skrf,'o-', label=\"skRF\")\n",
    "plt.plot(range(1,11),corrs_NLNN,'o-', label=\"NLNN\")\n",
    "plt.plot(range(1,11),corrs,'o-', label=\"CNN\")\n",
    "plt.ylabel(\"$r^2$ between true\\nfitness and model estimate\")\n",
    "plt.xlabel(\"Distance from WT\")\n",
    "plt.legend()"
   ]
  },
  {
   "cell_type": "markdown",
   "metadata": {},
   "source": [
    "We can easily ensemble these models of the landscape as well. "
   ]
  },
  {
   "cell_type": "code",
   "execution_count": null,
   "metadata": {},
   "outputs": [],
   "source": [
    "ensemble = Ensemble_models([noisy_sklnn_model,noisy_gnn_model,noisy_cnn_model])"
   ]
  },
  {
   "cell_type": "code",
   "execution_count": null,
   "metadata": {},
   "outputs": [],
   "source": [
    "ensemble.reset(training_sequences)"
   ]
  },
  {
   "cell_type": "code",
   "execution_count": null,
   "metadata": {},
   "outputs": [],
   "source": [
    "plt.figure(figsize=(12,5),dpi=300)\n",
    "test_sequences = list(set([generate_random_mutant(wt,0.5, RNA_alphabet) for i in range(0,100)]))\n",
    "lnn_preds = []\n",
    "gnn_preds = []\n",
    "cnn_preds = []\n",
    "real_fitnesses = []\n",
    "all_fitnesses = [ ]\n",
    "for sequence in test_sequences:\n",
    "    all_fitnesses.append((landscape_oracle.get_fitness(sequence),ensemble.get_fitness_distribution(sequence), ensemble.get_fitness(sequence)))\n",
    "\n",
    "all_fitnesses = sorted(all_fitnesses)\n",
    "lnn_preds = [x[1][0] for x in all_fitnesses]\n",
    "gnn_preds = [x[1][1] for x in all_fitnesses]\n",
    "cnn_preds = [x[1][2] for x in all_fitnesses]\n",
    "ensemble_preds = [x[2] for x in all_fitnesses]\n",
    "\n",
    "real_fitnesses = [x[0] for x in all_fitnesses]\n",
    "\n",
    "plt.scatter(range(len(test_sequences)), real_fitnesses,c=\"k\", s=15, label=\"ground_truth\")\n",
    "plt.scatter(range(len(test_sequences)), lnn_preds, c=\"royalblue\",s=5,label=\"linear_model\")\n",
    "plt.scatter(range(len(test_sequences)), gnn_preds, c=\"cyan\",s=5,label=\"non-linear_model\")\n",
    "plt.scatter(range(len(test_sequences)), cnn_preds, c=\"red\",s=5,label=\"cnn_model\")\n",
    "plt.scatter(range(len(test_sequences)), ensemble_preds, c=\"salmon\",s=5,label=\"ensemble_model\")\n",
    "plt.legend()\n",
    "plt.ylim(0,1)"
   ]
  },
  {
   "cell_type": "markdown",
   "metadata": {},
   "source": [
    "Now that we have models, we can use them with an exploration algorithm to search the landscape. "
   ]
  },
  {
   "cell_type": "markdown",
   "metadata": {},
   "source": [
    "## 3. Exploring the landscape with a model <a class=\"anchor\" id=\"section-three\"></a>\n",
    "\n",
    "All exploration algorithms in this package inherit from `Base_explorer` which performs some house-keeping tasks. We recommend doing the same when you \"bring your own\" explorer. It's very easy to implement an explorer in this framework, all it needs to implement is a `propose_sequences` method, that suggest new sequences for which a \"costly\" measurment to the oracle is performed.  "
   ]
  },
  {
   "cell_type": "code",
   "execution_count": null,
   "metadata": {},
   "outputs": [],
   "source": [
    "from explorers.base_explorer import Random_explorer"
   ]
  },
  {
   "cell_type": "code",
   "execution_count": null,
   "metadata": {},
   "outputs": [],
   "source": [
    "mutation_rate = 0.05\n",
    "explorer1 = Random_explorer(mutation_rate, batch_size = 100, alphabet= RNA_alphabet, virtual_screen = 10)"
   ]
  },
  {
   "cell_type": "markdown",
   "metadata": {},
   "source": [
    "- `batch_size` denotes the experimental batch size\n",
    "- `virtual_screen` is the number of computational queries to the model that is allowed per batch. \n",
    "- `alphabet` is the alphabet that is permissive on the current landscape."
   ]
  },
  {
   "cell_type": "code",
   "execution_count": null,
   "metadata": {},
   "outputs": [],
   "source": [
    "explorer1.debug = True #don't save any results\n",
    "explorer1.set_model(noisy_cnn_model)"
   ]
  },
  {
   "cell_type": "code",
   "execution_count": null,
   "metadata": {},
   "outputs": [],
   "source": [
    "num_of_rounds = 5\n",
    "explorer1.run(num_of_rounds, verbose=True)"
   ]
  },
  {
   "cell_type": "markdown",
   "metadata": {},
   "source": [
    "Let's see what was printed:\n",
    "- The number of **rounds** represents how many experiments was done\n",
    "- The **cost** shows how many total calls to the oracle was made (experimental cost). Because training the model had an overhead, that is accounted in the total cost. \n",
    "- The **evals** shows how many total calls to the model was made (computational cost).\n",
    "- **Top** simply lists the top fitness (cumulative) observed through the exploration"
   ]
  },
  {
   "cell_type": "markdown",
   "metadata": {},
   "source": [
    "## 4. Evaluating an exploration algorithm <a class=\"anchor\" id=\"section-four\"></a>\n"
   ]
  },
  {
   "cell_type": "code",
   "execution_count": null,
   "metadata": {},
   "outputs": [],
   "source": [
    "from evaluators.Evaluator import Evaluator"
   ]
  },
  {
   "cell_type": "markdown",
   "metadata": {},
   "source": [
    "Pick the landscapes you want to run the evaluation suite on. This can be done by including indexes or \"all\" which results in loading all pre-defined landscapes. \n",
    "\n",
    "**WARNING**: Running evaluators on all landscapes would take forever if not done in a parallel fashion. Debug your process with a couple of landscapes first. We recommend sending each evaluation-landscape pair to a separate worker.  "
   ]
  },
  {
   "cell_type": "code",
   "execution_count": null,
   "metadata": {},
   "outputs": [],
   "source": [
    "from explorers.elitist_explorers import Greedy #this needs to be removed before the sandbox release?"
   ]
  },
  {
   "cell_type": "code",
   "execution_count": null,
   "metadata": {},
   "outputs": [],
   "source": [
    "greedy_exp= Greedy(recomb_rate=0.2, threshold=0.05, mu=2, virtual_screen=20)"
   ]
  },
  {
   "cell_type": "code",
   "execution_count": null,
   "metadata": {},
   "outputs": [],
   "source": [
    "LANDSCAPE_TYPES ={\"RNA\": [0],\"TF\": []}#[\"GFP\": \"all\",\"ADDITIVE\":\"all\"]\n"
   ]
  },
  {
   "cell_type": "code",
   "execution_count": null,
   "metadata": {},
   "outputs": [],
   "source": [
    "evaluator=Evaluator(greedy_exp,landscape_types=LANDSCAPE_TYPES, path=\"../simulations/eval/\",ML_ensemble=[\"GB\",\"Linear\",\"CNNa\", \"CNNa\"])\\\n",
    "                                                                    #path to where the results are saved"
   ]
  },
  {
   "cell_type": "markdown",
   "metadata": {},
   "source": [
    "The evaluator can run tests aimed at different properties of the explorer. \n",
    "\n",
    "The tests include:\n",
    "- `consistency_robustness_independence`: shows how explorer performance changes given different models.\n",
    "- `efficiency`: shows how explorer performance changes when more computational evals are allowed\n",
    "- `adaptivity`: shows how the explorer is sensitive to the number of batches it is allowed to sample\n",
    "- `scalability`: shows how fast the explorer produces a batch. \n",
    "\n",
    "Note that once you run a particular test (among these), if you want to run more tests, you need to re-run `load_landscapes` on the evaluator (as the generator stack is depleted.  "
   ]
  },
  {
   "cell_type": "code",
   "execution_count": null,
   "metadata": {},
   "outputs": [],
   "source": [
    "evaluator.evaluate_for_landscapes(evaluator.consistency_robustness_independence,\\\n",
    "                                  num_starts=2) #num starts determines how many starting points\n",
    "                                                #should be tested per landscape"
   ]
  },
  {
   "cell_type": "code",
   "execution_count": null,
   "metadata": {},
   "outputs": [],
   "source": []
  }
 ],
 "metadata": {
  "kernelspec": {
   "display_name": "Python 3",
   "language": "python",
   "name": "python3"
  },
  "language_info": {
   "codemirror_mode": {
    "name": "ipython",
    "version": 3
   },
   "file_extension": ".py",
   "mimetype": "text/x-python",
   "name": "python",
   "nbconvert_exporter": "python",
   "pygments_lexer": "ipython3",
   "version": "3.7.4"
  }
 },
 "nbformat": 4,
 "nbformat_minor": 2
}
