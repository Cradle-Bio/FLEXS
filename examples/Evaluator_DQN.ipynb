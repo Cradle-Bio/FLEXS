{
 "cells": [
  {
   "cell_type": "code",
   "execution_count": null,
   "metadata": {},
   "outputs": [],
   "source": [
    "%matplotlib inline\n",
    "import sys\n",
    "sys.path.append('../')\n",
    "import RNA \n",
    "from utils.sequence_utils import generate_random_mutant\n",
    "from utils.model_architectures import Linear, NLNN, CNNa\n",
    "from models.Noisy_models.Neural_network_models import NN_model\n",
    "from models.Ground_truth_oracles.RNA_landscape_models import RNA_landscape_constructor\n",
    "from models.Noisy_models.Ensemble import Ensemble_models\n",
    "from evaluators.Evaluator import Evaluator\n",
    "from models.Ground_truth_oracles.TF_binding_landscape_models import *\n",
    "from explorers.bo_explorer import BO_Explorer\n",
    "from explorers.dqn_explorer import DQN_Explorer \n",
    "\n",
    "LANDSCAPE_TYPES ={\"RNA\": [0, 1], 'TF':['SIX6_REF_R1']} # for testing \n",
    "LANDSCAPE_TYPES_RNA = {\"RNA\" : [0,1,12,20,25,31], \"TF\": []}\n",
    "LANDSCAPE_TYPES_TF = {\"RNA\": [], \n",
    "                      \"TF\": ['POU3F4_REF_R1','PAX3_G48R_R1','SIX6_REF_R1', 'VAX2_REF_R1', 'VSX1_REF_R1']}"
   ]
  },
  {
   "cell_type": "code",
   "execution_count": null,
   "metadata": {},
   "outputs": [],
   "source": [
    "dqn_explorer_prod = DQN_Explorer(train_epochs=10)\n",
    "dqn_explorer_prod.debug = False"
   ]
  },
  {
   "cell_type": "code",
   "execution_count": null,
   "metadata": {},
   "outputs": [],
   "source": [
    "evaluator_dqn=Evaluator(dqn_explorer_prod,landscape_types=LANDSCAPE_TYPES_RNA, path=\"../simulations/eval/\")\n",
    "evaluator_dqn.evaluate_for_landscapes(evaluator_dqn.consistency_robustness_independence, num_starts=3)\n",
    "evaluator_dqn=Evaluator(dqn_explorer_prod,landscape_types=LANDSCAPE_TYPES_TF, path=\"../simulations/eval/\")\n",
    "evaluator_dqn.evaluate_for_landscapes(evaluator_dqn.consistency_robustness_independence, num_starts=5)"
   ]
  },
  {
   "cell_type": "code",
   "execution_count": null,
   "metadata": {},
   "outputs": [],
   "source": [
    "evaluator_dqn=Evaluator(dqn_explorer_prod,landscape_types=LANDSCAPE_TYPES_RNA, path=\"../simulations/eval/\")\n",
    "evaluator_dqn.evaluate_for_landscapes(evaluator_dqn.adaptivity, num_starts=3)\n",
    "evaluator_dqn=Evaluator(dqn_explorer_prod,landscape_types=LANDSCAPE_TYPES_TF, path=\"../simulations/eval/\")\n",
    "evaluator_dqn.evaluate_for_landscapes(evaluator_dqn.adaptivity, num_starts=5)\n",
    "\n",
    "evaluator_dqn=Evaluator(dqn_explorer_prod,landscape_types=LANDSCAPE_TYPES_RNA, path=\"../simulations/eval/\")\n",
    "evaluator_dqn.evaluate_for_landscapes(evaluator_dqn.efficiency, num_starts=3)\n",
    "evaluator_dqn=Evaluator(dqn_explorer_prod,landscape_types=LANDSCAPE_TYPES_TF, path=\"../simulations/eval/\")\n",
    "evaluator_dqn.evaluate_for_landscapes(evaluator_dqn.efficiency, num_starts=5)\n",
    "\n",
    "evaluator_dqn=Evaluator(dqn_explorer_prod,landscape_types=LANDSCAPE_TYPES_RNA, path=\"../simulations/eval/\")\n",
    "evaluator_dqn.evaluate_for_landscapes(evaluator_dqn.scalability, num_starts=3)\n",
    "evaluator_dqn=Evaluator(dqn_explorer_prod,landscape_types=LANDSCAPE_TYPES_TF, path=\"../simulations/eval/\")\n",
    "evaluator_dqn.evaluate_for_landscapes(evaluator_dqn.scalability, num_starts=5)"
   ]
  }
 ],
 "metadata": {
  "kernelspec": {
   "display_name": "Python 3",
   "language": "python",
   "name": "python3"
  },
  "language_info": {
   "codemirror_mode": {
    "name": "ipython",
    "version": 3
   },
   "file_extension": ".py",
   "mimetype": "text/x-python",
   "name": "python",
   "nbconvert_exporter": "python",
   "pygments_lexer": "ipython3",
   "version": "3.7.4"
  }
 },
 "nbformat": 4,
 "nbformat_minor": 2
}
