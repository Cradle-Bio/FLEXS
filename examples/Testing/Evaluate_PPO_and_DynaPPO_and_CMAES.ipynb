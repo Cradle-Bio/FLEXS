{
 "cells": [
  {
   "cell_type": "code",
   "execution_count": null,
   "metadata": {},
   "outputs": [],
   "source": [
    "%load_ext autoreload\n",
    "%autoreload 2"
   ]
  },
  {
   "cell_type": "code",
   "execution_count": null,
   "metadata": {},
   "outputs": [],
   "source": [
    "from explorers.PPO_explorer import PPO_explorer\n",
    "from explorers.DynaPPO_explorer import DynaPPO_explorer\n",
    "from explorers.CMAES_explorer import CMAES_explorer\n",
    "from evaluators.Evaluator import Evaluator\n",
    "\n",
    "from utils.sequence_utils import generate_random_mutant, generate_random_sequences\n",
    "\n",
    "from models.Ground_truth_oracles.RNA_landscape_models import RNA_landscape_constructor\n",
    "from models.Ground_truth_oracles.TF_binding_landscape_models import *"
   ]
  },
  {
   "cell_type": "code",
   "execution_count": null,
   "metadata": {},
   "outputs": [],
   "source": [
    "RNA_LANDSCAPE_TYPES = {\"RNA\": [0,1,12,20,25,31], \"TF\": []}\n",
    "TF_LANDSCAPE_TYPES =  {\"RNA\": [], \"TF\": ['POU3F4_REF_R1','PAX3_G48R_R1','SIX6_REF_R1', 'VAX2_REF_R1', 'VSX1_REF_R1']}"
   ]
  },
  {
   "cell_type": "code",
   "execution_count": null,
   "metadata": {},
   "outputs": [],
   "source": [
    "ppo_explorer = PPO_explorer()\n",
    "ppo_explorer.debug = False\n",
    "\n",
    "num_starts = 3\n",
    "print(\"Evaluating adaptivity.\")\n",
    "evaluator_ppo = Evaluator(ppo_explorer, landscape_types=RNA_LANDSCAPE_TYPES, path=\"../simulations/eval/RNA/\")\n",
    "evaluator_ppo.verbose = False\n",
    "evaluator_ppo.evaluate_for_landscapes(evaluator_ppo.adaptivity, num_starts=num_starts)\n",
    "\n",
    "print(\"Evaluating efficiency.\")\n",
    "evaluator_ppo = Evaluator(ppo_explorer, landscape_types=RNA_LANDSCAPE_TYPES, path=\"../simulations/eval/RNA/\")\n",
    "evaluator_ppo.verbose = False\n",
    "evaluator_ppo.evaluate_for_landscapes(evaluator_ppo.efficiency, num_starts=num_starts)\n",
    "\n",
    "print(\"Evaluating scalability.\")\n",
    "evaluator_ppo = Evaluator(ppo_explorer, landscape_types=RNA_LANDSCAPE_TYPES, path=\"../simulations/eval/RNA/\")\n",
    "evaluator_ppo.verbose = False\n",
    "evaluator_ppo.evaluate_for_landscapes(evaluator_ppo.scalability, num_starts=num_starts)\n",
    "\n",
    "print(\"Evaluating consistency.\")\n",
    "evaluator_ppo = Evaluator(ppo_explorer, landscape_types=RNA_LANDSCAPE_TYPES, path=\"../simulations/eval/RNA/\")\n",
    "evaluator_ppo.verbose = False\n",
    "evaluator_ppo.evaluate_for_landscapes(evaluator_ppo.consistency_robustness_independence, num_starts=num_starts)"
   ]
  },
  {
   "cell_type": "code",
   "execution_count": null,
   "metadata": {},
   "outputs": [],
   "source": [
    "ppo_explorer = PPO_explorer()\n",
    "ppo_explorer.debug = False\n",
    "\n",
    "num_starts = 5\n",
    "print(\"Evaluating adaptivity.\")\n",
    "evaluator_ppo = Evaluator(ppo_explorer, landscape_types=TF_LANDSCAPE_TYPES, path=\"../simulations/eval/TF/\")\n",
    "evaluator_ppo.verbose = False\n",
    "evaluator_ppo.evaluate_for_landscapes(evaluator_ppo.adaptivity, num_starts=num_starts)\n",
    "\n",
    "print(\"Evaluating efficiency.\")\n",
    "evaluator_ppo = Evaluator(ppo_explorer, landscape_types=TF_LANDSCAPE_TYPES, path=\"../simulations/eval/TF/\")\n",
    "evaluator_ppo.verbose = False\n",
    "evaluator_ppo.evaluate_for_landscapes(evaluator_ppo.efficiency, num_starts=num_starts)\n",
    "\n",
    "print(\"Evaluating scalability.\")\n",
    "evaluator_ppo = Evaluator(ppo_explorer, landscape_types=TF_LANDSCAPE_TYPES, path=\"../simulations/eval/TF/\")\n",
    "evaluator_ppo.verbose = False\n",
    "evaluator_ppo.evaluate_for_landscapes(evaluator_ppo.scalability, num_starts=num_starts)\n",
    "\n",
    "print(\"Evaluating consistency.\")\n",
    "evaluator_ppo = Evaluator(ppo_explorer, landscape_types=TF_LANDSCAPE_TYPES, path=\"../simulations/eval/TF/\")\n",
    "evaluator_ppo.verbose = False\n",
    "evaluator_ppo.evaluate_for_landscapes(evaluator_ppo.consistency_robustness_independence, num_starts=num_starts)"
   ]
  },
  {
   "cell_type": "code",
   "execution_count": null,
   "metadata": {},
   "outputs": [],
   "source": [
    "cmaes_explorer = CMAES_explorer()\n",
    "cmaes_explorer.debug = False\n",
    "\n",
    "num_starts = 3\n",
    "print(\"Evaluating adaptivity.\")\n",
    "evaluator_cmaes = Evaluator(cmaes_explorer, landscape_types=RNA_LANDSCAPE_TYPES, path=\"../simulations/eval/RNA/\")\n",
    "evaluator_cmaes.verbose = False\n",
    "evaluator_cmaes.evaluate_for_landscapes(evaluator_cmaes.adaptivity, num_starts=num_starts)\n",
    "\n",
    "print(\"Evaluating efficiency.\")\n",
    "evaluator_cmaes = Evaluator(cmaes_explorer, landscape_types=RNA_LANDSCAPE_TYPES, path=\"../simulations/eval/RNA/\")\n",
    "evaluator_cmaes.verbose = False\n",
    "evaluator_cmaes.evaluate_for_landscapes(evaluator_cmaes.efficiency, num_starts=num_starts)\n",
    "\n",
    "print(\"Evaluating scalability.\")\n",
    "evaluator_cmaes = Evaluator(cmaes_explorer, landscape_types=RNA_LANDSCAPE_TYPES, path=\"../simulations/eval/RNA/\")\n",
    "evaluator_cmaes.verbose = False\n",
    "evaluator_cmaes.evaluate_for_landscapes(evaluator_cmaes.scalability, num_starts=num_starts)\n",
    "\n",
    "print(\"Evaluating consistency.\")\n",
    "evaluator_cmaes = Evaluator(cmaes_explorer, landscape_types=RNA_LANDSCAPE_TYPES, path=\"../simulations/eval/RNA/\")\n",
    "evaluator_cmaes.verbose = False\n",
    "evaluator_cmaes.evaluate_for_landscapes(evaluator_cmaes.consistency_robustness_independence, num_starts=num_starts)"
   ]
  },
  {
   "cell_type": "code",
   "execution_count": null,
   "metadata": {},
   "outputs": [],
   "source": [
    "cmaes_explorer = CMAES_explorer()\n",
    "cmaes_explorer.debug = False\n",
    "\n",
    "num_starts = 5\n",
    "print(\"Evaluating adaptivity.\")\n",
    "evaluator_cmaes = Evaluator(cmaes_explorer, landscape_types=TF_LANDSCAPE_TYPES, path=\"../simulations/eval/TF/\")\n",
    "evaluator_cmaes.verbose = False\n",
    "evaluator_cmaes.evaluate_for_landscapes(evaluator_cmaes.adaptivity, num_starts=num_starts)\n",
    "\n",
    "print(\"Evaluating efficiency.\")\n",
    "evaluator_cmaes = Evaluator(cmaes_explorer, landscape_types=TF_LANDSCAPE_TYPES, path=\"../simulations/eval/TF/\")\n",
    "evaluator_cmaes.verbose = False\n",
    "evaluator_cmaes.evaluate_for_landscapes(evaluator_cmaes.efficiency, num_starts=num_starts)\n",
    "\n",
    "print(\"Evaluating scalability.\")\n",
    "evaluator_cmaes = Evaluator(cmaes_explorer, landscape_types=TF_LANDSCAPE_TYPES, path=\"../simulations/eval/TF/\")\n",
    "evaluator_cmaes.verbose = False\n",
    "evaluator_cmaes.evaluate_for_landscapes(evaluator_cmaes.scalability, num_starts=num_starts)\n",
    "\n",
    "print(\"Evaluating consistency.\")\n",
    "evaluator_cmaes = Evaluator(cmaes_explorer, landscape_types=TF_LANDSCAPE_TYPES, path=\"../simulations/eval/TF/\")\n",
    "evaluator_cmaes.verbose = False\n",
    "evaluator_cmaes.evaluate_for_landscapes(evaluator_cmaes.consistency_robustness_independence, num_starts=num_starts)"
   ]
  },
  {
   "cell_type": "code",
   "execution_count": null,
   "metadata": {},
   "outputs": [],
   "source": [
    "dynappo_explorer = DynaPPO_explorer()\n",
    "dynappo_explorer.debug = False\n",
    "\n",
    "num_starts = 3\n",
    "print(\"Evaluating adaptivity.\")\n",
    "evaluator_dynappo = Evaluator(dynappo_explorer, landscape_types=RNA_LANDSCAPE_TYPES, path=\"../simulations/eval/RNA/\")\n",
    "evaluator_dynappo.verbose = False\n",
    "evaluator_dynappo.evaluate_for_landscapes(evaluator_dynappo.adaptivity, num_starts=num_starts)\n",
    "\n",
    "print(\"Evaluating efficiency.\")\n",
    "evaluator_dynappo = Evaluator(dynappo_explorer, landscape_types=RNA_LANDSCAPE_TYPES, path=\"../simulations/eval/RNA/\")\n",
    "evaluator_dynappo.verbose = False\n",
    "evaluator_dynappo.evaluate_for_landscapes(evaluator_dynappo.efficiency, num_starts=num_starts)\n",
    "\n",
    "print(\"Evaluating scalability.\")\n",
    "evaluator_dynappo = Evaluator(dynappo_explorer, landscape_types=RNA_LANDSCAPE_TYPES, path=\"../simulations/eval/RNA/\")\n",
    "evaluator_dynappo.verbose = False\n",
    "evaluator_dynappo.evaluate_for_landscapes(evaluator_dynappo.scalability, num_starts=num_starts)\n",
    "\n",
    "print(\"Evaluating consistency.\")\n",
    "evaluator_dynappo = Evaluator(dynappo_explorer, landscape_types=RNA_LANDSCAPE_TYPES, path=\"../simulations/eval/RNA/\")\n",
    "evaluator_dynappo.verbose = False\n",
    "evaluator_dynappo.evaluate_for_landscapes(evaluator_dynappo.consistency_robustness_independence, num_starts=num_starts)"
   ]
  },
  {
   "cell_type": "code",
   "execution_count": null,
   "metadata": {},
   "outputs": [],
   "source": [
    "dynappo_explorer = DynaPPO_explorer()\n",
    "dynappo_explorer.debug = False\n",
    "\n",
    "num_starts = 5\n",
    "print(\"Evaluating adaptivity.\")\n",
    "evaluator_dynappo = Evaluator(dynappo_explorer, landscape_types=TF_LANDSCAPE_TYPES, path=\"../simulations/eval/TF/\")\n",
    "evaluator_dynappo.verbose = False\n",
    "evaluator_dynappo.evaluate_for_landscapes(evaluator_dynappo.adaptivity, num_starts=num_starts)\n",
    "\n",
    "print(\"Evaluating efficiency.\")\n",
    "evaluator_dynappo = Evaluator(dynappo_explorer, landscape_types=TF_LANDSCAPE_TYPES, path=\"../simulations/eval/TF/\")\n",
    "evaluator_dynappo.verbose = False\n",
    "evaluator_dynappo.evaluate_for_landscapes(evaluator_dynappo.efficiency, num_starts=num_starts)\n",
    "\n",
    "print(\"Evaluating scalability.\")\n",
    "evaluator_dynappo = Evaluator(dynappo_explorer, landscape_types=TF_LANDSCAPE_TYPES, path=\"../simulations/eval/TF/\")\n",
    "evaluator_dynappo.verbose = False\n",
    "evaluator_dynappo.evaluate_for_landscapes(evaluator_dynappo.scalability, num_starts=num_starts)\n",
    "\n",
    "print(\"Evaluating consistency.\")\n",
    "evaluator_dynappo = Evaluator(dynappo_explorer, landscape_types=TF_LANDSCAPE_TYPES, path=\"../simulations/eval/TF/\")\n",
    "evaluator_dynappo.verbose = False\n",
    "evaluator_dynappo.evaluate_for_landscapes(evaluator_dynappo.consistency_robustness_independence, num_starts=num_starts)"
   ]
  }
 ],
 "metadata": {
  "kernelspec": {
   "display_name": "Python 3",
   "language": "python",
   "name": "python3"
  },
  "language_info": {
   "codemirror_mode": {
    "name": "ipython",
    "version": 3
   },
   "file_extension": ".py",
   "mimetype": "text/x-python",
   "name": "python",
   "nbconvert_exporter": "python",
   "pygments_lexer": "ipython3",
   "version": "3.7.4"
  }
 },
 "nbformat": 4,
 "nbformat_minor": 2
}
