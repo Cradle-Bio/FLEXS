{
 "cells": [
  {
   "cell_type": "code",
   "execution_count": null,
   "metadata": {},
   "outputs": [],
   "source": [
    "%load_ext autoreload\n",
    "%autoreload 2"
   ]
  },
  {
   "cell_type": "code",
   "execution_count": null,
   "metadata": {},
   "outputs": [],
   "source": [
    "from explorers.PPO_explorer import PPO_explorer\n",
    "from explorers.DynaPPO_explorer import DynaPPO_explorer\n",
    "from explorers.CMAES_explorer import CMAES_explorer\n",
    "from evaluators.Evaluator import Evaluator\n",
    "\n",
    "from utils.sequence_utils import generate_random_mutant, generate_random_sequences"
   ]
  },
  {
   "cell_type": "markdown",
   "metadata": {},
   "source": [
    "## 1. Building oracles for landscapes"
   ]
  },
  {
   "cell_type": "code",
   "execution_count": null,
   "metadata": {},
   "outputs": [],
   "source": [
    "from models.Ground_truth_oracles.RNA_landscape_models import RNA_landscape_constructor\n",
    "from models.Ground_truth_oracles.TF_binding_landscape_models import *"
   ]
  },
  {
   "cell_type": "code",
   "execution_count": null,
   "metadata": {},
   "outputs": [],
   "source": [
    "LANDSCAPE_TYPES ={\"RNA\": [0, 1], 'TF':['SIX6_REF_R1']}\n",
    "\n",
    "landscape_constructor=TF_binding_landscape_constructor()\n",
    "landscape_constructor.load_landscapes(landscapes_to_test = ['SIX6_REF_R1'])\n",
    "\n",
    "landscape_generator = landscape_constructor.generate_from_loaded_landscapes()\n",
    "\n",
    "#take one landscape oracle from the generator\n",
    "landscape_object=next(landscape_generator)\n",
    "\n",
    "print(landscape_object['landscape_id'])\n",
    "print(landscape_object['starting_seqs'])\n",
    "landscape_oracle = landscape_object['landscape_oracle']\n",
    "\n",
    "wt = landscape_object['starting_seqs']['TF0']"
   ]
  },
  {
   "cell_type": "markdown",
   "metadata": {},
   "source": [
    "## 2. Building a model of the landscape"
   ]
  },
  {
   "cell_type": "code",
   "execution_count": null,
   "metadata": {},
   "outputs": [],
   "source": [
    "from utils.model_architectures import CNNa\n",
    "from models.Noisy_models.Neural_network_models import NN_model\n",
    "\n",
    "alphabet = \"ATGC\"\n",
    "\n",
    "training_sequences = list(set([generate_random_mutant(wt, 0.2, alphabet) for i in range(0, 100)]))\n",
    "cnn_architecture=CNNa(len(wt), alphabet=alphabet)\n",
    "noisy_nn_model=NN_model(landscape_oracle, cnn_architecture)\n",
    "noisy_nn_model.reset()\n",
    "noisy_nn_model.update_model(training_sequences)"
   ]
  },
  {
   "cell_type": "markdown",
   "metadata": {},
   "source": [
    "## 3. Exploring the landscape with a model"
   ]
  },
  {
   "cell_type": "markdown",
   "metadata": {},
   "source": [
    "### CMA-ES explorer"
   ]
  },
  {
   "cell_type": "code",
   "execution_count": null,
   "metadata": {},
   "outputs": [],
   "source": [
    "cmaes_explorer = CMAES_explorer(alphabet=alphabet)\n",
    "cmaes_explorer.debug = True\n",
    "cmaes_explorer.set_model(noisy_nn_model)\n",
    "cmaes_explorer.initialize_params()"
   ]
  },
  {
   "cell_type": "code",
   "execution_count": null,
   "metadata": {},
   "outputs": [],
   "source": [
    "cmaes_explorer.propose_samples()"
   ]
  },
  {
   "cell_type": "code",
   "execution_count": null,
   "metadata": {},
   "outputs": [],
   "source": [
    "num_of_rounds = 5\n",
    "cmaes_explorer.run(num_of_rounds, verbose=True)"
   ]
  },
  {
   "cell_type": "markdown",
   "metadata": {},
   "source": [
    "### DyNA-PPO explorer"
   ]
  },
  {
   "cell_type": "code",
   "execution_count": null,
   "metadata": {},
   "outputs": [],
   "source": [
    "from models.Noisy_models.Ensemble import Ensemble_models\n",
    "\n",
    "ensemble_model = Ensemble_models(list_of_models=[NN_model(landscape_oracle, cnn_architecture),\n",
    "                                                NN_model(landscape_oracle, cnn_architecture),\n",
    "                                                NN_model(landscape_oracle, cnn_architecture)])\n",
    "ensemble_model.reset()\n",
    "ensemble_model.update_model(training_sequences)\n",
    "\n",
    "dynappo_explorer = DynaPPO_explorer(\n",
    "    alphabet=alphabet,\n",
    "    oracle=landscape_oracle,\n",
    "    num_experiment_rounds=1,\n",
    "    num_model_rounds=1)\n",
    "dynappo_explorer.debug = True\n",
    "dynappo_explorer.set_model(ensemble_model)\n",
    "\n",
    "dynappo_explorer.learn_policy()"
   ]
  },
  {
   "cell_type": "code",
   "execution_count": null,
   "metadata": {},
   "outputs": [],
   "source": [
    "num_of_rounds = 5\n",
    "dynappo_explorer.run(num_of_rounds, verbose=True)"
   ]
  },
  {
   "cell_type": "markdown",
   "metadata": {},
   "source": [
    "### PPO explorer"
   ]
  },
  {
   "cell_type": "code",
   "execution_count": null,
   "metadata": {},
   "outputs": [],
   "source": [
    "ppo_explorer = PPO_explorer(\n",
    "    alphabet=alphabet)\n",
    "ppo_explorer.debug = True\n",
    "ppo_explorer.set_model(noisy_nn_model)"
   ]
  },
  {
   "cell_type": "code",
   "execution_count": null,
   "metadata": {},
   "outputs": [],
   "source": [
    "ppo_explorer.pretrain_agent()"
   ]
  },
  {
   "cell_type": "code",
   "execution_count": null,
   "metadata": {},
   "outputs": [],
   "source": [
    "noisy_nn_model=NN_model(landscape_oracle, cnn_architecture)\n",
    "noisy_nn_model.reset()\n",
    "noisy_nn_model.update_model(training_sequences)\n",
    "\n",
    "num_of_rounds = 5\n",
    "ppo_explorer.run(num_of_rounds, verbose=True)"
   ]
  },
  {
   "cell_type": "code",
   "execution_count": null,
   "metadata": {},
   "outputs": [],
   "source": []
  }
 ],
 "metadata": {
  "kernelspec": {
   "display_name": "flrl",
   "language": "python",
   "name": "flrl"
  },
  "language_info": {
   "codemirror_mode": {
    "name": "ipython",
    "version": 3
   },
   "file_extension": ".py",
   "mimetype": "text/x-python",
   "name": "python",
   "nbconvert_exporter": "python",
   "pygments_lexer": "ipython3",
   "version": "3.7.3"
  }
 },
 "nbformat": 4,
 "nbformat_minor": 2
}
