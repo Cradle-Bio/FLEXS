{
 "cells": [
  {
   "cell_type": "code",
   "execution_count": 9,
   "metadata": {},
   "outputs": [],
   "source": [
    "%load_ext autoreload\n",
    "%autoreload 2"
   ]
  },
  {
   "cell_type": "code",
   "execution_count": 10,
   "metadata": {},
   "outputs": [],
   "source": [
    "from models.Ensemble_models.ensemble_models import EnsembleModel\n",
    "\n",
    "from models.Ground_truth_oracles.RNA_landscape_models import RNA_landscape_constructor"
   ]
  },
  {
   "cell_type": "code",
   "execution_count": 11,
   "metadata": {},
   "outputs": [
    {
     "name": "stdout",
     "output_type": "stream",
     "text": [
      "B1L14RNA1 loaded\n",
      "B1L14RNA1\n",
      "{'startRNAL14_0': 'AUGGGCCGGACCCC', 'startRNAL14_1': 'GCCCCGCCGGAAUG', 'startRNAL14_2': 'UCUUGGGGACUUUU', 'startRNAL14_3': 'GGAUAACAAUUCAU', 'startRNAL14_4': 'CCCAUGCGCGAUCA'}\n",
      "0.14554841726711917\n"
     ]
    }
   ],
   "source": [
    "landscape_constructor = RNA_landscape_constructor()\n",
    "#load a pre-specified landscapes  (here, index 0), you can also specify to just take a few of them\n",
    "landscape_constructor.load_landscapes(\"../data/RNA_landscapes/RNA_landscape_config.yaml\", landscapes_to_test=[0])\n",
    "landscape_generator = landscape_constructor.generate_from_loaded_landscapes()\n",
    "\n",
    "landscape_constructor.loaded_landscapes\n",
    "\n",
    "#take one landscape oracle from the generator\n",
    "landscape_object=next(landscape_generator)\n",
    "\n",
    "print(landscape_object['landscape_id'])\n",
    "print(landscape_object['starting_seqs'])\n",
    "landscape_oracle = landscape_object['landscape_oracle']\n",
    "print(landscape_oracle.get_fitness('GGAUAACAAUUCAU'))\n",
    "wt = landscape_object['starting_seqs']['startRNAL14_3']"
   ]
  },
  {
   "cell_type": "code",
   "execution_count": 123,
   "metadata": {},
   "outputs": [],
   "source": [
    "from utils.model_architectures import Linear, NLNN, CNNa, Logistic, KNN, \\\n",
    "    GradientBoosting, RandomForest, Bayesian, ExtraTrees, GaussianProcess\n",
    "\n",
    "ensemble = EnsembleModel(ground_truth_oracle=landscape_oracle,\n",
    "#                          architectures=[CNNa(len(wt)), Linear(len(wt))],\n",
    "                         architectures=[KNN(len(wt)),\n",
    "                                       GradientBoosting(len(wt)),\n",
    "                                       RandomForest(len(wt)),\n",
    "                                       Bayesian(len(wt)),\n",
    "                                       ExtraTrees(len(wt)),\n",
    "                                       GaussianProcess(len(wt))],\n",
    "                         model_score_threshold=0.5,\n",
    "                         cache=False)"
   ]
  },
  {
   "cell_type": "code",
   "execution_count": 124,
   "metadata": {},
   "outputs": [],
   "source": [
    "from utils.sequence_utils import generate_random_mutant\n",
    "\n",
    "RNA_alphabet = \"UCGA\"\n",
    "training_sequences = list(set([generate_random_mutant(wt, 0.2, RNA_alphabet) for i in range(0,500)]))"
   ]
  },
  {
   "cell_type": "code",
   "execution_count": 125,
   "metadata": {},
   "outputs": [
    {
     "name": "stderr",
     "output_type": "stream",
     "text": [
      "/Users/richard/Documents/Research/FLRL/venv/lib/python3.7/site-packages/sklearn/ensemble/forest.py:245: FutureWarning: The default value of n_estimators will change from 10 in version 0.20 to 100 in 0.22.\n",
      "  \"10 in version 0.20 to 100 in 0.22.\", FutureWarning)\n",
      "/Users/richard/Documents/Research/FLRL/venv/lib/python3.7/site-packages/sklearn/ensemble/forest.py:245: FutureWarning: The default value of n_estimators will change from 10 in version 0.20 to 100 in 0.22.\n",
      "  \"10 in version 0.20 to 100 in 0.22.\", FutureWarning)\n"
     ]
    }
   ],
   "source": [
    "ensemble.fit_candidate_models(training_sequences)"
   ]
  },
  {
   "cell_type": "code",
   "execution_count": 126,
   "metadata": {},
   "outputs": [],
   "source": [
    "ensemble.score_candidate_models(training_sequences)"
   ]
  },
  {
   "cell_type": "code",
   "execution_count": 127,
   "metadata": {},
   "outputs": [
    {
     "data": {
      "text/plain": [
       "array([0.65950705, 0.91443543, 0.9227756 , 0.79086758, 1.        ,\n",
       "       1.        ])"
      ]
     },
     "execution_count": 127,
     "metadata": {},
     "output_type": "execute_result"
    }
   ],
   "source": [
    "ensemble.model_r2s"
   ]
  },
  {
   "cell_type": "code",
   "execution_count": null,
   "metadata": {},
   "outputs": [],
   "source": []
  }
 ],
 "metadata": {
  "kernelspec": {
   "display_name": "flrl",
   "language": "python",
   "name": "flrl"
  },
  "language_info": {
   "codemirror_mode": {
    "name": "ipython",
    "version": 3
   },
   "file_extension": ".py",
   "mimetype": "text/x-python",
   "name": "python",
   "nbconvert_exporter": "python",
   "pygments_lexer": "ipython3",
   "version": "3.7.3"
  }
 },
 "nbformat": 4,
 "nbformat_minor": 2
}
