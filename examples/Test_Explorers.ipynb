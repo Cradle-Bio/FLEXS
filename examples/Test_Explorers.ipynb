{
 "cells": [
  {
   "cell_type": "code",
   "execution_count": 4,
   "metadata": {},
   "outputs": [
    {
     "name": "stderr",
     "output_type": "stream",
     "text": [
      "../models/Ground_truth_oracles/RNA_landscape_models.py:21: YAMLLoadWarning: calling yaml.load() without Loader=... is deprecated, as the default Loader is unsafe. Please read https://msg.pyyaml.org/load for full details.\n",
      "  self.loaded_landscapes = yaml.load(cfgfile)\n"
     ]
    },
    {
     "name": "stdout",
     "output_type": "stream",
     "text": [
      "B1L14RNA1 loaded\n"
     ]
    }
   ],
   "source": [
    "%reload_ext autoreload\n",
    "%autoreload 2\n",
    "%matplotlib inline\n",
    "import sys\n",
    "sys.path.append('/usr/local/lib/python3.6/site-packages/') \n",
    "sys.path.append('../')\n",
    "import RNA \n",
    "from utils.sequence_utils import generate_random_mutant\n",
    "from utils.model_architectues import Linear, NLNN, CNNa\n",
    "from models.Noisy_models.Neural_network_models import NN_model\n",
    "from models.Ground_truth_oracles.RNA_landscape_models import RNA_landscape_constructor\n",
    "from explorers.dqn_explorer import DQN_Explorer \n",
    "from explorers.bo_explorer import BO_Explorer\n",
    "from evaluators.Evaluator import Evaluator\n",
    "\n",
    "LANDSCAPE_TYPES ={\"RNA\": [2,3],\"TF\": [1]}\n",
    "mutation_rate = 0.5\n",
    "RNA_alphabet = \"UCGA\" \n",
    "landscape_constructor = RNA_landscape_constructor()\n",
    "#load a pre-specified landscapes  (here, index 0), you can also specify to just take a few of them\n",
    "landscape_constructor.load_landscapes(\"../data/RNA_landscapes/RNA_landscape_config.yaml\", landscapes_to_test=[0])\n",
    "landscape_generator = landscape_constructor.generate_from_loaded_landscapes()\n",
    "landscape_object=next(landscape_generator)\n",
    "wt = landscape_object['starting_seqs']['startRNAL14_3']\n",
    "landscape_oracle = landscape_object['landscape_oracle']\n",
    "\n",
    "training_sequences = list(set([generate_random_mutant(wt, 0.2, RNA_alphabet) for i in range(0,500)]))\n",
    "cnn_architecture=CNNa(len(wt), alphabet=RNA_alphabet)\n",
    "noisy_nn_model=NN_model(landscape_oracle, cnn_architecture)\n",
    "noisy_nn_model.reset()\n",
    "noisy_nn_model.update_model(training_sequences)"
   ]
  },
  {
   "cell_type": "code",
   "execution_count": 6,
   "metadata": {},
   "outputs": [
    {
     "name": "stdout",
     "output_type": "stream",
     "text": [
      "Q_Network(\n",
      "  (linear1): Linear(in_features=112, out_features=56, bias=True)\n",
      "  (bn1): BatchNorm1d(56, eps=1e-05, momentum=0.1, affine=True, track_running_stats=True)\n",
      "  (linear2): Linear(in_features=56, out_features=14, bias=True)\n",
      "  (bn2): BatchNorm1d(14, eps=1e-05, momentum=0.1, affine=True, track_running_stats=True)\n",
      "  (linear3): Linear(in_features=14, out_features=1, bias=True)\n",
      ")\n",
      "round: 0, cost: 579, evals: 245, top: 0.6453561665444114\n",
      "round: 1, cost: 580, evals: 246, top: 0.6453561665444114\n",
      "round: 2, cost: 580, evals: 246, top: 0.6453561665444114\n",
      "round: 3, cost: 580, evals: 246, top: 0.6453561665444114\n",
      "round: 4, cost: 580, evals: 246, top: 0.6453561665444114\n"
     ]
    }
   ],
   "source": [
    "num_of_rounds = 5\n",
    "\n",
    "# evaluate DQN Explorer \n",
    "dqn_explorer = DQN_Explorer(seq_len=14)\n",
    "dqn_explorer.debug = True\n",
    "dqn_explorer.set_model(noisy_nn_model)\n",
    "dqn_explorer.run(num_of_rounds, verbose=True)"
   ]
  },
  {
   "cell_type": "code",
   "execution_count": null,
   "metadata": {},
   "outputs": [
    {
     "name": "stdout",
     "output_type": "stream",
     "text": [
      "loading landscapes RNA: [2, 3], TF:[1]\n",
      "B1L100RNA1 loaded\n",
      "B1L14RNA2 loaded\n"
     ]
    },
    {
     "name": "stderr",
     "output_type": "stream",
     "text": [
      "../models/Ground_truth_oracles/RNA_landscape_models.py:21: YAMLLoadWarning: calling yaml.load() without Loader=... is deprecated, as the default Loader is unsafe. Please read https://msg.pyyaml.org/load for full details.\n",
      "  self.loaded_landscapes = yaml.load(cfgfile)\n"
     ]
    },
    {
     "name": "stdout",
     "output_type": "stream",
     "text": [
      "1 TF landscapes loaded.\n",
      "loading complete\n",
      "Running on B1L100RNA1\n",
      "start seq startRNAL100_0\n"
     ]
    }
   ],
   "source": [
    "evaluator_dqn=Evaluator(dqn_explorer,landscape_types=LANDSCAPE_TYPES, path=\"../simulations/eval/\")\n",
    "evaluator_dqn.evaluate_for_landscapes(evaluator_dqn.adaptivity, num_starts=1)"
   ]
  },
  {
   "cell_type": "code",
   "execution_count": 5,
   "metadata": {},
   "outputs": [
    {
     "name": "stdout",
     "output_type": "stream",
     "text": [
      "round: 0, cost: 336, evals: 0, top: 0.6151479950813181\n",
      "round: 1, cost: 417, evals: 82, top: 0.6453561665444114\n",
      "round: 2, cost: 476, evals: 141, top: 0.6453561665444114\n",
      "round: 3, cost: 513, evals: 179, top: 0.6453561665444114\n",
      "round: 4, cost: 552, evals: 218, top: 0.6453561665444114\n"
     ]
    }
   ],
   "source": [
    "# evaluate BO Explorer \n",
    "bo_explorer = BO_Explorer(seq_len=14)\n",
    "bo_explorer.debug = True\n",
    "bo_explorer.set_model(noisy_nn_model)\n",
    "bo_explorer.run(num_of_rounds, verbose=True)"
   ]
  },
  {
   "cell_type": "code",
   "execution_count": null,
   "metadata": {},
   "outputs": [],
   "source": [
    "evaluator_bo=Evaluator(bo_explorer,landscape_types=LANDSCAPE_TYPES, path=\"../simulations/eval/\")\n",
    "evaluator_bo.evaluate_for_landscapes(evaluator_bo.adaptivity, num_starts=1)"
   ]
  },
  {
   "cell_type": "code",
   "execution_count": null,
   "metadata": {},
   "outputs": [],
   "source": []
  }
 ],
 "metadata": {
  "kernelspec": {
   "display_name": "Python 3",
   "language": "python",
   "name": "python3"
  },
  "language_info": {
   "codemirror_mode": {
    "name": "ipython",
    "version": 3
   },
   "file_extension": ".py",
   "mimetype": "text/x-python",
   "name": "python",
   "nbconvert_exporter": "python",
   "pygments_lexer": "ipython3",
   "version": "3.7.4"
  }
 },
 "nbformat": 4,
 "nbformat_minor": 4
}
