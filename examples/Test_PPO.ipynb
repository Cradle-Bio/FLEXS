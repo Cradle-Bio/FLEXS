{
 "cells": [
  {
   "cell_type": "code",
   "execution_count": 15,
   "metadata": {},
   "outputs": [
    {
     "name": "stdout",
     "output_type": "stream",
     "text": [
      "The autoreload extension is already loaded. To reload it, use:\n",
      "  %reload_ext autoreload\n"
     ]
    }
   ],
   "source": [
    "%load_ext autoreload\n",
    "%autoreload 2"
   ]
  },
  {
   "cell_type": "code",
   "execution_count": 19,
   "metadata": {},
   "outputs": [],
   "source": [
    "from tf_agents.environments import tf_py_environment\n",
    "from tf_agents.environments.utils import validate_py_environment\n",
    "\n",
    "from environments.PPO_environment import FitnessLandscapeEnvironment as FLEnv\n",
    "from explorers.PPO_explorer import PPO_explorer\n",
    "\n",
    "from utils.sequence_utils import generate_random_mutant, generate_random_sequences"
   ]
  },
  {
   "cell_type": "markdown",
   "metadata": {},
   "source": [
    "## 1. Building oracles for landscapes"
   ]
  },
  {
   "cell_type": "code",
   "execution_count": 20,
   "metadata": {},
   "outputs": [],
   "source": [
    "from models.Ground_truth_oracles.RNA_landscape_models import RNA_landscape_constructor"
   ]
  },
  {
   "cell_type": "code",
   "execution_count": 31,
   "metadata": {},
   "outputs": [
    {
     "name": "stdout",
     "output_type": "stream",
     "text": [
      "B1L14RNA1 loaded\n"
     ]
    }
   ],
   "source": [
    "landscape_constructor = RNA_landscape_constructor()\n",
    "#load a pre-specified landscapes  (here, index 0), you can also specify to just take a few of them\n",
    "landscape_constructor.load_landscapes(\"../data/RNA_landscapes/RNA_landscape_config.yaml\", landscapes_to_test=[0])\n",
    "landscape_generator = landscape_constructor.generate_from_loaded_landscapes()"
   ]
  },
  {
   "cell_type": "code",
   "execution_count": 32,
   "metadata": {},
   "outputs": [
    {
     "data": {
      "text/plain": [
       "[{'B1L14RNA1': {'self_fold_max': False,\n",
       "   'seq_size': 14,\n",
       "   'conserved_start': False,\n",
       "   'conserved_pattern': False,\n",
       "   'targets': ['GAACGAGGCACAUUCCGGCUCGCCCGGCCCAUGUGAGCAUGGGCCGGACCCCGUCCGCGCGGGGCCCCCGCGCGGACGGGGGCGAGCCGGAAUGUGCCUC'],\n",
       "   'starts': {'startRNAL14_0': 'AUGGGCCGGACCCC',\n",
       "    'startRNAL14_1': 'GCCCCGCCGGAAUG',\n",
       "    'startRNAL14_2': 'UCUUGGGGACUUUU',\n",
       "    'startRNAL14_3': 'GGAUAACAAUUCAU',\n",
       "    'startRNAL14_4': 'CCCAUGCGCGAUCA'}}}]"
      ]
     },
     "execution_count": 32,
     "metadata": {},
     "output_type": "execute_result"
    }
   ],
   "source": [
    "landscape_constructor.loaded_landscapes"
   ]
  },
  {
   "cell_type": "code",
   "execution_count": 33,
   "metadata": {},
   "outputs": [],
   "source": [
    "#take one landscape oracle from the generator\n",
    "landscape_object=next(landscape_generator)"
   ]
  },
  {
   "cell_type": "code",
   "execution_count": 38,
   "metadata": {},
   "outputs": [
    {
     "name": "stdout",
     "output_type": "stream",
     "text": [
      "B1L14RNA1\n",
      "{'startRNAL14_0': 'AUGGGCCGGACCCC', 'startRNAL14_1': 'GCCCCGCCGGAAUG', 'startRNAL14_2': 'UCUUGGGGACUUUU', 'startRNAL14_3': 'GGAUAACAAUUCAU', 'startRNAL14_4': 'CCCAUGCGCGAUCA'}\n",
      "0.14554841726711917\n"
     ]
    }
   ],
   "source": [
    "print(landscape_object['landscape_id'])\n",
    "print(landscape_object['starting_seqs'])\n",
    "landscape_oracle = landscape_object['landscape_oracle']\n",
    "print(landscape_oracle.get_fitness('GGAUAACAAUUCAU'))\n",
    "wt = landscape_object['starting_seqs']['startRNAL14_3']"
   ]
  },
  {
   "cell_type": "markdown",
   "metadata": {},
   "source": [
    "## 2. Building a model of the landscape"
   ]
  },
  {
   "cell_type": "code",
   "execution_count": 40,
   "metadata": {},
   "outputs": [],
   "source": [
    "from utils.model_architectues import CNNa\n",
    "from models.Noisy_models.Neural_network_models import NN_model\n",
    "\n",
    "RNA_alphabet = \"UCGA\"\n",
    "training_sequences = list(set([generate_random_mutant(wt, 0.2, RNA_alphabet) for i in range(0,500)]))\n",
    "cnn_architecture=CNNa(len(wt), alphabet=RNA_alphabet)\n",
    "noisy_nn_model=NN_model(landscape_oracle, cnn_architecture)\n",
    "noisy_nn_model.reset()\n",
    "noisy_nn_model.update_model(training_sequences)"
   ]
  },
  {
   "cell_type": "markdown",
   "metadata": {},
   "source": [
    "## 3. Exploring the landscape with a model"
   ]
  },
  {
   "cell_type": "code",
   "execution_count": 41,
   "metadata": {},
   "outputs": [],
   "source": [
    "from explorers.base_explorer import Random_explorer\n",
    "\n",
    "mutation_rate = 0.05\n",
    "explorer = Random_explorer(mutation_rate,\n",
    "                           batch_size=100,\n",
    "                           alphabet=RNA_alphabet,\n",
    "                           virtual_screen=10)\n",
    "explorer.debug = True # don't save results\n",
    "explorer.set_model(noisy_nn_model)"
   ]
  },
  {
   "cell_type": "code",
   "execution_count": 43,
   "metadata": {},
   "outputs": [
    {
     "name": "stdout",
     "output_type": "stream",
     "text": [
      "round: 0, cost: 452, evals: 100, top: 0.5245235330715786\n"
     ]
    }
   ],
   "source": [
    "num_of_rounds = 1\n",
    "explorer.run(num_of_rounds, verbose=True)"
   ]
  },
  {
   "cell_type": "markdown",
   "metadata": {},
   "source": [
    "### PPO explorer"
   ]
  },
  {
   "cell_type": "code",
   "execution_count": 48,
   "metadata": {},
   "outputs": [],
   "source": [
    "fle = FLEnv(alphabet=RNA_alphabet,\n",
    "          starting_seq=wt,\n",
    "          landscape=noisy_nn_model,\n",
    "          max_num_steps=10)\n",
    "\n",
    "validate_py_environment(fle, episodes=1)\n",
    "\n",
    "tf_fle = tf_py_environment.TFPyEnvironment(fle)"
   ]
  },
  {
   "cell_type": "code",
   "execution_count": 49,
   "metadata": {},
   "outputs": [
    {
     "name": "stdout",
     "output_type": "stream",
     "text": [
      "WARNING:tensorflow:From /Users/richard/Documents/Research/FLRL/venv/lib/python3.7/site-packages/tf_agents/specs/tensor_spec.py:295: SeedStream.__init__ (from tensorflow_probability.python.util.seed_stream) is deprecated and will be removed after 2019-10-01.\n",
      "Instructions for updating:\n",
      "SeedStream has moved to `tfp.util.SeedStream`.\n"
     ]
    }
   ],
   "source": [
    "agent = PPO_explorer.initialize_new_agent(tf_fle)"
   ]
  },
  {
   "cell_type": "code",
   "execution_count": 54,
   "metadata": {},
   "outputs": [],
   "source": [
    "ppo_explorer = PPO_explorer(\n",
    "    ppo_agent=agent,\n",
    "    tf_env=tf_fle,\n",
    "    alphabet=RNA_alphabet)\n",
    "ppo_explorer.debug = True\n",
    "ppo_explorer.set_model(noisy_nn_model)"
   ]
  },
  {
   "cell_type": "code",
   "execution_count": 53,
   "metadata": {},
   "outputs": [
    {
     "name": "stdout",
     "output_type": "stream",
     "text": [
      "Episodes: 0/10000\n",
      "Number of measured sequences: 599\n",
      "New top sequence: (0.5245235330715786, 'GGAGCCCUGGUCUA', 552)\n",
      "Episodes: 164/10000\n",
      "Number of measured sequences: 660\n",
      "Episodes: 347/10000\n",
      "Number of measured sequences: 711\n",
      "New top sequence: (0.5268175, 'GGGGCUCGUAUCCU', 552)\n",
      "Episodes: 521/10000\n",
      "Number of measured sequences: 762\n",
      "New top sequence: (0.5278955, 'GGGCGACAGCUCCU', 552)\n",
      "Episodes: 687/10000\n",
      "Number of measured sequences: 822\n",
      "New top sequence: (0.5659919, 'GGGCCAUGUCGCCU', 552)\n",
      "Episodes: 863/10000\n",
      "Number of measured sequences: 873\n",
      "Episodes: 1035/10000\n",
      "Number of measured sequences: 917\n",
      "Episodes: 1190/10000\n",
      "Number of measured sequences: 969\n",
      "New top sequence: (0.59951544, 'GGCGCCCGUGUCCU', 552)\n",
      "Episodes: 1360/10000\n",
      "Number of measured sequences: 1015\n",
      "Episodes: 1517/10000\n",
      "Number of measured sequences: 1059\n",
      "Episodes: 1672/10000\n",
      "Number of measured sequences: 1116\n",
      "New top sequence: (0.6445927, 'GGGGCGCGGGGGGU', 552)\n",
      "Episodes: 1843/10000\n",
      "Number of measured sequences: 1171\n",
      "Episodes: 2007/10000\n",
      "Number of measured sequences: 1218\n",
      "Episodes: 2173/10000\n",
      "Number of measured sequences: 1262\n",
      "Episodes: 2326/10000\n",
      "Number of measured sequences: 1304\n",
      "New top sequence: (0.66662353, 'GGGGCUCGGCCCCU', 552)\n",
      "Episodes: 2483/10000\n",
      "Number of measured sequences: 1353\n",
      "New top sequence: (0.6789384, 'GGGGCGCGGGGGCC', 552)\n",
      "Episodes: 2637/10000\n",
      "Number of measured sequences: 1393\n",
      "Episodes: 2783/10000\n",
      "Number of measured sequences: 1444\n",
      "Episodes: 2949/10000\n",
      "Number of measured sequences: 1489\n",
      "New top sequence: (0.7024092, 'GGGGCCCGGCCCCU', 552)\n",
      "Episodes: 3105/10000\n",
      "Number of measured sequences: 1529\n",
      "Episodes: 3252/10000\n",
      "Number of measured sequences: 1574\n",
      "Episodes: 3405/10000\n",
      "Number of measured sequences: 1622\n",
      "Episodes: 3564/10000\n",
      "Number of measured sequences: 1674\n",
      "Episodes: 3726/10000\n",
      "Number of measured sequences: 1718\n",
      "Episodes: 3874/10000\n",
      "Number of measured sequences: 1771\n",
      "Episodes: 4039/10000\n",
      "Number of measured sequences: 1822\n",
      "New top sequence: (0.7064452, 'GGGGCGGGGGGCCU', 552)\n",
      "Episodes: 4208/10000\n",
      "Number of measured sequences: 1868\n",
      "New top sequence: (0.71497786, 'GGGGGCCGGCGCCU', 552)\n",
      "Episodes: 4361/10000\n",
      "Number of measured sequences: 1919\n",
      "Episodes: 4525/10000\n",
      "Number of measured sequences: 1967\n",
      "Episodes: 4677/10000\n",
      "Number of measured sequences: 2016\n",
      "Episodes: 4834/10000\n",
      "Number of measured sequences: 2062\n",
      "Episodes: 4992/10000\n",
      "Number of measured sequences: 2104\n",
      "Episodes: 5138/10000\n",
      "Number of measured sequences: 2154\n",
      "Episodes: 5298/10000\n",
      "Number of measured sequences: 2197\n",
      "Episodes: 5452/10000\n",
      "Number of measured sequences: 2249\n",
      "Episodes: 5612/10000\n",
      "Number of measured sequences: 2295\n",
      "Episodes: 5767/10000\n",
      "Number of measured sequences: 2339\n",
      "Episodes: 5920/10000\n",
      "Number of measured sequences: 2385\n",
      "Episodes: 6070/10000\n",
      "Number of measured sequences: 2426\n",
      "New top sequence: (0.7167627, 'GGCGCGCGGGGCCU', 552)\n",
      "Episodes: 6225/10000\n",
      "Number of measured sequences: 2482\n",
      "Episodes: 6396/10000\n",
      "Number of measured sequences: 2531\n",
      "New top sequence: (0.7221457, 'GGGGGGCGGCGCCU', 552)\n",
      "Episodes: 6550/10000\n",
      "Number of measured sequences: 2575\n",
      "Episodes: 6699/10000\n",
      "Number of measured sequences: 2622\n",
      "Episodes: 6854/10000\n",
      "Number of measured sequences: 2661\n",
      "Episodes: 7003/10000\n",
      "Number of measured sequences: 2703\n",
      "Episodes: 7156/10000\n",
      "Number of measured sequences: 2750\n",
      "Episodes: 7323/10000\n",
      "Number of measured sequences: 2796\n",
      "Episodes: 7480/10000\n",
      "Number of measured sequences: 2844\n",
      "Episodes: 7642/10000\n",
      "Number of measured sequences: 2893\n",
      "Episodes: 7804/10000\n",
      "Number of measured sequences: 2934\n",
      "Episodes: 7958/10000\n",
      "Number of measured sequences: 2974\n",
      "Episodes: 8107/10000\n",
      "Number of measured sequences: 3020\n",
      "Episodes: 8266/10000\n",
      "Number of measured sequences: 3064\n",
      "Episodes: 8421/10000\n",
      "Number of measured sequences: 3105\n",
      "Episodes: 8575/10000\n",
      "Number of measured sequences: 3147\n",
      "Episodes: 8728/10000\n",
      "Number of measured sequences: 3190\n",
      "Episodes: 8879/10000\n",
      "Number of measured sequences: 3226\n",
      "Episodes: 9028/10000\n",
      "Number of measured sequences: 3268\n",
      "Episodes: 9185/10000\n",
      "Number of measured sequences: 3315\n",
      "Episodes: 9345/10000\n",
      "Number of measured sequences: 3361\n",
      "Episodes: 9508/10000\n",
      "Number of measured sequences: 3407\n",
      "Episodes: 9670/10000\n",
      "Number of measured sequences: 3441\n",
      "Episodes: 9813/10000\n",
      "Number of measured sequences: 3485\n",
      "Episodes: 9970/10000\n",
      "Number of measured sequences: 3530\n"
     ]
    }
   ],
   "source": [
    "ppo_explorer.train_agent()"
   ]
  },
  {
   "cell_type": "code",
   "execution_count": 60,
   "metadata": {},
   "outputs": [
    {
     "name": "stdout",
     "output_type": "stream",
     "text": [
      "round: 0, cost: 834, evals: 3378, top: 0.8403361252103332\n"
     ]
    }
   ],
   "source": [
    "num_of_rounds = 1\n",
    "ppo_explorer.run(num_of_rounds, verbose=True)"
   ]
  },
  {
   "cell_type": "code",
   "execution_count": null,
   "metadata": {},
   "outputs": [],
   "source": []
  }
 ],
 "metadata": {
  "kernelspec": {
   "display_name": "flrl",
   "language": "python",
   "name": "flrl"
  },
  "language_info": {
   "codemirror_mode": {
    "name": "ipython",
    "version": 3
   },
   "file_extension": ".py",
   "mimetype": "text/x-python",
   "name": "python",
   "nbconvert_exporter": "python",
   "pygments_lexer": "ipython3",
   "version": "3.7.3"
  }
 },
 "nbformat": 4,
 "nbformat_minor": 2
}
