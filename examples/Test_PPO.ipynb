{
 "cells": [
  {
   "cell_type": "code",
   "execution_count": 15,
   "metadata": {},
   "outputs": [
    {
     "name": "stdout",
     "output_type": "stream",
     "text": [
      "The autoreload extension is already loaded. To reload it, use:\n",
      "  %reload_ext autoreload\n"
     ]
    }
   ],
   "source": [
    "%load_ext autoreload\n",
    "%autoreload 2"
   ]
  },
  {
   "cell_type": "code",
   "execution_count": 19,
   "metadata": {},
   "outputs": [],
   "source": [
    "from tf_agents.environments import tf_py_environment\n",
    "from tf_agents.environments.utils import validate_py_environment\n",
    "\n",
    "from environments.PPO_environment import FitnessLandscapeEnvironment as FLEnv\n",
    "from explorers.PPO_explorer import PPO_explorer\n",
    "\n",
    "from utils.sequence_utils import generate_random_mutant, generate_random_sequences"
   ]
  },
  {
   "cell_type": "markdown",
   "metadata": {},
   "source": [
    "## 1. Building oracles for landscapes"
   ]
  },
  {
   "cell_type": "code",
   "execution_count": 20,
   "metadata": {},
   "outputs": [],
   "source": [
    "from models.Ground_truth_oracles.RNA_landscape_models import RNA_landscape_constructor"
   ]
  },
  {
   "cell_type": "code",
   "execution_count": 31,
   "metadata": {},
   "outputs": [
    {
     "name": "stdout",
     "output_type": "stream",
     "text": [
      "B1L14RNA1 loaded\n"
     ]
    }
   ],
   "source": [
    "landscape_constructor = RNA_landscape_constructor()\n",
    "#load a pre-specified landscapes  (here, index 0), you can also specify to just take a few of them\n",
    "landscape_constructor.load_landscapes(\"../data/RNA_landscapes/RNA_landscape_config.yaml\", landscapes_to_test=[0])\n",
    "landscape_generator = landscape_constructor.generate_from_loaded_landscapes()"
   ]
  },
  {
   "cell_type": "code",
   "execution_count": 32,
   "metadata": {},
   "outputs": [
    {
     "data": {
      "text/plain": [
       "[{'B1L14RNA1': {'self_fold_max': False,\n",
       "   'seq_size': 14,\n",
       "   'conserved_start': False,\n",
       "   'conserved_pattern': False,\n",
       "   'targets': ['GAACGAGGCACAUUCCGGCUCGCCCGGCCCAUGUGAGCAUGGGCCGGACCCCGUCCGCGCGGGGCCCCCGCGCGGACGGGGGCGAGCCGGAAUGUGCCUC'],\n",
       "   'starts': {'startRNAL14_0': 'AUGGGCCGGACCCC',\n",
       "    'startRNAL14_1': 'GCCCCGCCGGAAUG',\n",
       "    'startRNAL14_2': 'UCUUGGGGACUUUU',\n",
       "    'startRNAL14_3': 'GGAUAACAAUUCAU',\n",
       "    'startRNAL14_4': 'CCCAUGCGCGAUCA'}}}]"
      ]
     },
     "execution_count": 32,
     "metadata": {},
     "output_type": "execute_result"
    }
   ],
   "source": [
    "landscape_constructor.loaded_landscapes"
   ]
  },
  {
   "cell_type": "code",
   "execution_count": 33,
   "metadata": {},
   "outputs": [],
   "source": [
    "#take one landscape oracle from the generator\n",
    "landscape_object=next(landscape_generator)"
   ]
  },
  {
   "cell_type": "code",
   "execution_count": 38,
   "metadata": {},
   "outputs": [
    {
     "name": "stdout",
     "output_type": "stream",
     "text": [
      "B1L14RNA1\n",
      "{'startRNAL14_0': 'AUGGGCCGGACCCC', 'startRNAL14_1': 'GCCCCGCCGGAAUG', 'startRNAL14_2': 'UCUUGGGGACUUUU', 'startRNAL14_3': 'GGAUAACAAUUCAU', 'startRNAL14_4': 'CCCAUGCGCGAUCA'}\n",
      "0.14554841726711917\n"
     ]
    }
   ],
   "source": [
    "print(landscape_object['landscape_id'])\n",
    "print(landscape_object['starting_seqs'])\n",
    "landscape_oracle = landscape_object['landscape_oracle']\n",
    "print(landscape_oracle.get_fitness('GGAUAACAAUUCAU'))\n",
    "wt = landscape_object['starting_seqs']['startRNAL14_3']"
   ]
  },
  {
   "cell_type": "markdown",
   "metadata": {},
   "source": [
    "## 2. Building a model of the landscape"
   ]
  },
  {
   "cell_type": "code",
   "execution_count": 61,
   "metadata": {},
   "outputs": [],
   "source": [
    "from utils.model_architectues import CNNa\n",
    "from models.Noisy_models.Neural_network_models import NN_model\n",
    "\n",
    "RNA_alphabet = \"UCGA\"\n",
    "training_sequences = list(set([generate_random_mutant(wt, 0.2, RNA_alphabet) for i in range(0,500)]))\n",
    "cnn_architecture=CNNa(len(wt), alphabet=RNA_alphabet)\n",
    "noisy_nn_model=NN_model(landscape_oracle, cnn_architecture)\n",
    "noisy_nn_model.reset()\n",
    "noisy_nn_model.update_model(training_sequences)"
   ]
  },
  {
   "cell_type": "markdown",
   "metadata": {},
   "source": [
    "## 3. Exploring the landscape with a model"
   ]
  },
  {
   "cell_type": "code",
   "execution_count": 62,
   "metadata": {},
   "outputs": [],
   "source": [
    "from explorers.base_explorer import Random_explorer\n",
    "\n",
    "mutation_rate = 0.05\n",
    "explorer = Random_explorer(mutation_rate,\n",
    "                           batch_size=100,\n",
    "                           alphabet=RNA_alphabet,\n",
    "                           virtual_screen=10)\n",
    "explorer.debug = True # don't save results\n",
    "explorer.set_model(noisy_nn_model)"
   ]
  },
  {
   "cell_type": "code",
   "execution_count": 63,
   "metadata": {},
   "outputs": [
    {
     "name": "stdout",
     "output_type": "stream",
     "text": [
      "round: 0, cost: 341, evals: 0, top: 0.41192946800707114\n",
      "round: 1, cost: 441, evals: 100, top: 0.41192946800707114\n",
      "round: 2, cost: 541, evals: 200, top: 0.4366452256115873\n",
      "round: 3, cost: 641, evals: 300, top: 0.45037620787848964\n",
      "round: 4, cost: 741, evals: 400, top: 0.4668533970746806\n"
     ]
    }
   ],
   "source": [
    "num_of_rounds = 5\n",
    "explorer.run(num_of_rounds, verbose=True)"
   ]
  },
  {
   "cell_type": "markdown",
   "metadata": {},
   "source": [
    "### PPO explorer"
   ]
  },
  {
   "cell_type": "code",
   "execution_count": 64,
   "metadata": {},
   "outputs": [],
   "source": [
    "fle = FLEnv(alphabet=RNA_alphabet,\n",
    "          starting_seq=wt,\n",
    "          landscape=noisy_nn_model,\n",
    "          max_num_steps=10)\n",
    "\n",
    "validate_py_environment(fle, episodes=1)\n",
    "\n",
    "tf_fle = tf_py_environment.TFPyEnvironment(fle)"
   ]
  },
  {
   "cell_type": "code",
   "execution_count": 65,
   "metadata": {},
   "outputs": [],
   "source": [
    "agent = PPO_explorer.initialize_new_agent(tf_fle)"
   ]
  },
  {
   "cell_type": "code",
   "execution_count": 54,
   "metadata": {},
   "outputs": [],
   "source": [
    "ppo_explorer = PPO_explorer(\n",
    "    ppo_agent=agent,\n",
    "    tf_env=tf_fle,\n",
    "    alphabet=RNA_alphabet)\n",
    "ppo_explorer.debug = True\n",
    "ppo_explorer.set_model(noisy_nn_model)"
   ]
  },
  {
   "cell_type": "code",
   "execution_count": null,
   "metadata": {},
   "outputs": [],
   "source": [
    "ppo_explorer.train_agent()"
   ]
  },
  {
   "cell_type": "code",
   "execution_count": 67,
   "metadata": {},
   "outputs": [
    {
     "name": "stdout",
     "output_type": "stream",
     "text": [
      "round: 0, cost: 1384, evals: 3928, top: 0.9117372434741337\n",
      "round: 1, cost: 1473, evals: 4017, top: 0.9117372434741337\n",
      "round: 2, cost: 1568, evals: 4112, top: 0.9117372434741337\n",
      "round: 3, cost: 1657, evals: 4201, top: 0.9117372434741337\n",
      "round: 4, cost: 1750, evals: 4294, top: 0.9117372434741337\n"
     ]
    }
   ],
   "source": [
    "noisy_nn_model=NN_model(landscape_oracle, cnn_architecture)\n",
    "noisy_nn_model.reset()\n",
    "noisy_nn_model.update_model(training_sequences)\n",
    "\n",
    "num_of_rounds = 5\n",
    "ppo_explorer.run(num_of_rounds, verbose=True)"
   ]
  },
  {
   "cell_type": "code",
   "execution_count": null,
   "metadata": {},
   "outputs": [],
   "source": []
  }
 ],
 "metadata": {
  "kernelspec": {
   "display_name": "flrl",
   "language": "python",
   "name": "flrl"
  },
  "language_info": {
   "codemirror_mode": {
    "name": "ipython",
    "version": 3
   },
   "file_extension": ".py",
   "mimetype": "text/x-python",
   "name": "python",
   "nbconvert_exporter": "python",
   "pygments_lexer": "ipython3",
   "version": "3.7.3"
  }
 },
 "nbformat": 4,
 "nbformat_minor": 2
}
