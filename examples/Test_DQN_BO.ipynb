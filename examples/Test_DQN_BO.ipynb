{
 "cells": [
  {
   "cell_type": "code",
   "execution_count": null,
   "metadata": {},
   "outputs": [],
   "source": [
    "%load_ext autoreload"
   ]
  },
  {
   "cell_type": "code",
   "execution_count": null,
   "metadata": {},
   "outputs": [],
   "source": [
    "%autoreload 2"
   ]
  },
  {
   "cell_type": "code",
   "execution_count": null,
   "metadata": {},
   "outputs": [],
   "source": [
    "%matplotlib inline\n",
    "import sys\n",
    "sys.path.append('../')\n",
    "import RNA \n",
    "from utils.sequence_utils import generate_random_mutant\n",
    "from utils.model_architectures import Linear, NLNN, CNNa\n",
    "from models.Noisy_models.Neural_network_models import NN_model\n",
    "from models.Ground_truth_oracles.RNA_landscape_models import RNA_landscape_constructor\n",
    "from models.Noisy_models.Ensemble import Ensemble_models\n",
    "from evaluators.Evaluator import Evaluator\n",
    "from models.Ground_truth_oracles.TF_binding_landscape_models import *\n",
    "\n",
    "LANDSCAPE_TYPES ={\"RNA\": [0, 1], 'TF':['SIX6_REF_R1']} # for testing \n",
    "LANDSCAPE_TYPES_RNA = {\"RNA\" : [0,1,12,20,25,31], \"TF\": []}\n",
    "LANDSCAPE_TYPES_TF = {\"RNA\": [], \n",
    "                      \"TF\": ['POU3F4_REF_R1','PAX3_G48R_R1','SIX6_REF_R1', 'VAX2_REF_R1', 'VSX1_REF_R1']}\n",
    "mutation_rate = 0.5\n",
    "RNA_alphabet = \"UCGA\" \n",
    "DNA_alphabet = \"TCGA\"\n",
    "landscape_constructor = RNA_landscape_constructor()\n",
    "#load a pre-specified landscapes  (here, index 0), you can also specify to just take a few of them\n",
    "landscape_constructor.load_landscapes(\"../data/RNA_landscapes/RNA_landscape_config.yaml\", landscapes_to_test=[0])\n",
    "landscape_generator = landscape_constructor.generate_from_loaded_landscapes()\n",
    "landscape_object=next(landscape_generator)\n",
    "wt = landscape_object['starting_seqs']['startRNAL14_3']\n",
    "landscape_oracle = landscape_object['landscape_oracle']\n",
    "\n",
    "training_sequences = [wt]\n",
    "cnn_architecture=CNNa(len(wt), alphabet=RNA_alphabet)\n",
    "noisy_nn_model=NN_model(landscape_oracle, cnn_architecture)\n",
    "noisy_nn_model.reset()\n",
    "noisy_nn_model.update_model(training_sequences)"
   ]
  },
  {
   "cell_type": "markdown",
   "metadata": {},
   "source": [
    "## DQN Explorer"
   ]
  },
  {
   "cell_type": "code",
   "execution_count": null,
   "metadata": {},
   "outputs": [],
   "source": [
    "from explorers.dqn_explorer import DQN_Explorer \n",
    "\n",
    "num_of_rounds = 5\n",
    "\n",
    "# reset model if it already exists \n",
    "training_sequences = [wt]\n",
    "cnn_architecture=CNNa(len(wt), alphabet=RNA_alphabet)\n",
    "noisy_nn_model=NN_model(landscape_oracle, cnn_architecture)\n",
    "noisy_nn_model.reset()\n",
    "noisy_nn_model.update_model(training_sequences)\n",
    "\n",
    "# evaluate DQN Explorer \n",
    "dqn_explorer = DQN_Explorer(train_epochs=10)\n",
    "dqn_explorer.debug = True\n",
    "dqn_explorer.set_model(noisy_nn_model)\n",
    "dqn_explorer.run(num_of_rounds, verbose=True)"
   ]
  },
  {
   "cell_type": "code",
   "execution_count": null,
   "metadata": {},
   "outputs": [],
   "source": [
    "landscape_constructor=TF_binding_landscape_constructor()\n",
    "landscape_constructor.load_landscapes(landscapes_to_test = ['SIX6_REF_R1'])\n",
    "landscape_generator = landscape_constructor.generate_from_loaded_landscapes()\n",
    "landscape_object = next(landscape_generator)\n",
    "wt = landscape_object['starting_seqs']['TF0']\n",
    "landscape_oracle = landscape_object['landscape_oracle']\n",
    "\n",
    "# reset model if it already exists \n",
    "training_sequences = [wt]\n",
    "cnn_architecture=CNNa(len(wt), alphabet=DNA_alphabet)\n",
    "noisy_nn_model=NN_model(landscape_oracle, cnn_architecture)\n",
    "noisy_nn_model.reset()\n",
    "noisy_nn_model.update_model(training_sequences)\n",
    "\n",
    "# evaluate DQN Explorer \n",
    "dqn_explorer = DQN_Explorer(alphabet=DNA_alphabet, train_epochs=10, virtual_screen=20)\n",
    "dqn_explorer.debug = True\n",
    "dqn_explorer.set_model(noisy_nn_model)\n",
    "dqn_explorer.run(num_of_rounds, verbose=True)"
   ]
  },
  {
   "cell_type": "code",
   "execution_count": null,
   "metadata": {},
   "outputs": [],
   "source": [
    "from explorers.dqn_explorer import DQN_Explorer \n",
    "\n",
    "dqn_explorer_prod = DQN_Explorer(train_epochs=10)\n",
    "dqn_explorer_prod.debug = False"
   ]
  },
  {
   "cell_type": "code",
   "execution_count": null,
   "metadata": {},
   "outputs": [],
   "source": [
    "# run all evaluations \n",
    "evaluator_dqn=Evaluator(dqn_explorer_prod,landscape_types=LANDSCAPE_TYPES_RNA, path=\"../simulations/eval/\")\n",
    "evaluator_dqn.evaluate_for_landscapes(evaluator_dqn.adaptivity, num_starts=3)\n",
    "evaluator_dqn=Evaluator(dqn_explorer_prod,landscape_types=LANDSCAPE_TYPES_TF, path=\"../simulations/eval/\")\n",
    "evaluator_dqn.evaluate_for_landscapes(evaluator_dqn.adaptivity, num_starts=5)\n",
    "evaluator_dqn=Evaluator(dqn_explorer_prod,landscape_types=LANDSCAPE_TYPES_RNA, path=\"../simulations/eval/\")\n",
    "evaluator_dqn.evaluate_for_landscapes(evaluator_dqn.efficiency, num_starts=3)\n",
    "evaluator_dqn=Evaluator(dqn_explorer_prod,landscape_types=LANDSCAPE_TYPES_TF, path=\"../simulations/eval/\")\n",
    "evaluator_dqn.evaluate_for_landscapes(evaluator_dqn.efficiency, num_starts=5)\n",
    "evaluator_dqn=Evaluator(dqn_explorer_prod,landscape_types=LANDSCAPE_TYPES_RNA, path=\"../simulations/eval/\")\n",
    "evaluator_dqn.evaluate_for_landscapes(evaluator_dqn.scalability, num_starts=3)\n",
    "evaluator_dqn=Evaluator(dqn_explorer_prod,landscape_types=LANDSCAPE_TYPES_TF, path=\"../simulations/eval/\")\n",
    "evaluator_dqn.evaluate_for_landscapes(evaluator_dqn.scalability, num_starts=5)"
   ]
  },
  {
   "cell_type": "code",
   "execution_count": null,
   "metadata": {},
   "outputs": [],
   "source": [
    "evaluator_dqn=Evaluator(dqn_explorer_prod,landscape_types=LANDSCAPE_TYPES_RNA, path=\"../simulations/eval/\")\n",
    "evaluator_dqn.evaluate_for_landscapes(evaluator_dqn.consistency_robustness_independence, num_starts=3)\n",
    "evaluator_dqn=Evaluator(dqn_explorer_prod,landscape_types=LANDSCAPE_TYPES_TF, path=\"../simulations/eval/\")\n",
    "evaluator_dqn.evaluate_for_landscapes(evaluator_dqn.consistency_robustness_independence, num_starts=5)"
   ]
  },
  {
   "cell_type": "markdown",
   "metadata": {},
   "source": [
    "## BO Explorer"
   ]
  },
  {
   "cell_type": "code",
   "execution_count": null,
   "metadata": {},
   "outputs": [],
   "source": [
    "%autoreload 2\n",
    "from explorers.bo_explorer import BO_Explorer\n",
    "\n",
    "num_of_rounds = 5\n",
    "arch1 = NLNN(len(wt), hidden_dims=10, epochs=20)\n",
    "arch2 = NLNN(len(wt), hidden_dims=20, epochs=20)\n",
    "arch3 = NLNN(len(wt), hidden_dims=30, epochs=20)\n",
    "arch4 = NLNN(len(wt), hidden_dims=40, epochs=20)\n",
    "# ensemble we will use for BO Explorer\n",
    "nn_model_1 = NN_model(landscape_oracle, arch1)\n",
    "nn_model_2 = NN_model(landscape_oracle, arch2)\n",
    "nn_model_3 = NN_model(landscape_oracle, arch3)\n",
    "nn_model_4 = NN_model(landscape_oracle, arch4)\n",
    "models = [nn_model_1, nn_model_2, nn_model_3, nn_model_4]\n",
    "ensemble_model = Ensemble_models(models)\n",
    "ensemble_model.update_model(training_sequences)"
   ]
  },
  {
   "cell_type": "code",
   "execution_count": null,
   "metadata": {},
   "outputs": [],
   "source": [
    "# evaluate BO Explorer \n",
    "bo_explorer = BO_Explorer()\n",
    "bo_explorer.debug = True\n",
    "bo_explorer.set_model(ensemble_model)\n",
    "bo_explorer.run(num_of_rounds, verbose=True)"
   ]
  },
  {
   "cell_type": "code",
   "execution_count": null,
   "metadata": {},
   "outputs": [],
   "source": [
    "from explorers.bo_explorer import BO_Explorer\n",
    "\n",
    "bo_explorer_prod = BO_Explorer()\n",
    "bo_explorer_prod.debug = False"
   ]
  },
  {
   "cell_type": "code",
   "execution_count": null,
   "metadata": {},
   "outputs": [],
   "source": [
    "# run all evaluations \n",
    "evaluator_bo=Evaluator(bo_explorer_prod,landscape_types=LANDSCAPE_TYPES_RNA, path=\"../simulations/eval/\")\n",
    "evaluator_bo.evaluate_for_landscapes(evaluator_bo.adaptivity, num_starts=3)\n",
    "evaluator_bo=Evaluator(bo_explorer_prod,landscape_types=LANDSCAPE_TYPES_TF, path=\"../simulations/eval/\")\n",
    "evaluator_bo.evaluate_for_landscapes(evaluator_bo.adaptivity, num_starts=5)\n",
    "evaluator_bo=Evaluator(bo_explorer_prod,landscape_types=LANDSCAPE_TYPES_RNA, path=\"../simulations/eval/\")\n",
    "evaluator_bo.evaluate_for_landscapes(evaluator_bo.efficiency, num_starts=3)\n",
    "evaluator_bo=Evaluator(bo_explorer_prod,landscape_types=LANDSCAPE_TYPES_TF, path=\"../simulations/eval/\")\n",
    "evaluator_bo.evaluate_for_landscapes(evaluator_bo.efficiency, num_starts=5)\n",
    "evaluator_bo=Evaluator(bo_explorer_prod,landscape_types=LANDSCAPE_TYPES_RNA, path=\"../simulations/eval/\")\n",
    "evaluator_bo.evaluate_for_landscapes(evaluator_bo.scalability, num_starts=3)\n",
    "evaluator_bo=Evaluator(bo_explorer_prod,landscape_types=LANDSCAPE_TYPES_TF, path=\"../simulations/eval/\")\n",
    "evaluator_bo.evaluate_for_landscapes(evaluator_bo.scalability, num_starts=5)"
   ]
  },
  {
   "cell_type": "code",
   "execution_count": null,
   "metadata": {},
   "outputs": [],
   "source": [
    "evaluator_bo=Evaluator(bo_explorer_prod,landscape_types=LANDSCAPE_TYPES_RNA, path=\"../simulations/eval/\")\n",
    "evaluator_bo.evaluate_for_landscapes(evaluator_bo.consistency_robustness_independence, num_starts=3)\n",
    "evaluator_bo=Evaluator(bo_explorer_prod,landscape_types=LANDSCAPE_TYPES_TF, path=\"../simulations/eval/\")\n",
    "evaluator_bo.evaluate_for_landscapes(evaluator_bo.consistency_robustness_independence, num_starts=5)"
   ]
  },
  {
   "cell_type": "code",
   "execution_count": null,
   "metadata": {},
   "outputs": [],
   "source": []
  }
 ],
 "metadata": {
  "kernelspec": {
   "display_name": "Python 3",
   "language": "python",
   "name": "python3"
  },
  "language_info": {
   "codemirror_mode": {
    "name": "ipython",
    "version": 3
   },
   "file_extension": ".py",
   "mimetype": "text/x-python",
   "name": "python",
   "nbconvert_exporter": "python",
   "pygments_lexer": "ipython3",
   "version": "3.7.4"
  }
 },
 "nbformat": 4,
 "nbformat_minor": 4
}
