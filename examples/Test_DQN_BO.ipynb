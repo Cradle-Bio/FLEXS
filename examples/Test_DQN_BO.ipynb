{
 "cells": [
  {
   "cell_type": "code",
   "execution_count": 3,
   "metadata": {},
   "outputs": [],
   "source": [
    "%load_ext autoreload"
   ]
  },
  {
   "cell_type": "code",
   "execution_count": 4,
   "metadata": {},
   "outputs": [],
   "source": [
    "%autoreload 2"
   ]
  },
  {
   "cell_type": "code",
   "execution_count": 5,
   "metadata": {},
   "outputs": [
    {
     "name": "stderr",
     "output_type": "stream",
     "text": [
      "Using TensorFlow backend.\n"
     ]
    },
    {
     "name": "stdout",
     "output_type": "stream",
     "text": [
      "B1L14RNA1 loaded\n",
      "WARNING:tensorflow:From /home/alexander/anaconda3/lib/python3.7/site-packages/keras/backend/tensorflow_backend.py:74: The name tf.get_default_graph is deprecated. Please use tf.compat.v1.get_default_graph instead.\n",
      "\n",
      "WARNING:tensorflow:From /home/alexander/anaconda3/lib/python3.7/site-packages/keras/backend/tensorflow_backend.py:517: The name tf.placeholder is deprecated. Please use tf.compat.v1.placeholder instead.\n",
      "\n",
      "WARNING:tensorflow:From /home/alexander/anaconda3/lib/python3.7/site-packages/keras/backend/tensorflow_backend.py:4138: The name tf.random_uniform is deprecated. Please use tf.random.uniform instead.\n",
      "\n"
     ]
    },
    {
     "name": "stderr",
     "output_type": "stream",
     "text": [
      "../models/Ground_truth_oracles/RNA_landscape_models.py:21: YAMLLoadWarning: calling yaml.load() without Loader=... is deprecated, as the default Loader is unsafe. Please read https://msg.pyyaml.org/load for full details.\n",
      "  self.loaded_landscapes = yaml.load(cfgfile)\n"
     ]
    },
    {
     "name": "stdout",
     "output_type": "stream",
     "text": [
      "WARNING:tensorflow:From /home/alexander/anaconda3/lib/python3.7/site-packages/keras/backend/tensorflow_backend.py:3976: The name tf.nn.max_pool is deprecated. Please use tf.nn.max_pool2d instead.\n",
      "\n",
      "WARNING:tensorflow:From /home/alexander/anaconda3/lib/python3.7/site-packages/keras/backend/tensorflow_backend.py:133: The name tf.placeholder_with_default is deprecated. Please use tf.compat.v1.placeholder_with_default instead.\n",
      "\n",
      "WARNING:tensorflow:From /home/alexander/anaconda3/lib/python3.7/site-packages/keras/backend/tensorflow_backend.py:3445: calling dropout (from tensorflow.python.ops.nn_ops) with keep_prob is deprecated and will be removed in a future version.\n",
      "Instructions for updating:\n",
      "Please use `rate` instead of `keep_prob`. Rate should be set to `rate = 1 - keep_prob`.\n",
      "WARNING:tensorflow:From /home/alexander/anaconda3/lib/python3.7/site-packages/keras/optimizers.py:790: The name tf.train.Optimizer is deprecated. Please use tf.compat.v1.train.Optimizer instead.\n",
      "\n",
      "WARNING:tensorflow:From /home/alexander/anaconda3/lib/python3.7/site-packages/keras/backend/tensorflow_backend.py:2741: The name tf.Session is deprecated. Please use tf.compat.v1.Session instead.\n",
      "\n",
      "WARNING:tensorflow:From /home/alexander/anaconda3/lib/python3.7/site-packages/keras/backend/tensorflow_backend.py:174: The name tf.get_default_session is deprecated. Please use tf.compat.v1.get_default_session instead.\n",
      "\n",
      "WARNING:tensorflow:From /home/alexander/anaconda3/lib/python3.7/site-packages/keras/backend/tensorflow_backend.py:181: The name tf.ConfigProto is deprecated. Please use tf.compat.v1.ConfigProto instead.\n",
      "\n",
      "WARNING:tensorflow:From /home/alexander/anaconda3/lib/python3.7/site-packages/keras/backend/tensorflow_backend.py:190: The name tf.global_variables is deprecated. Please use tf.compat.v1.global_variables instead.\n",
      "\n",
      "WARNING:tensorflow:From /home/alexander/anaconda3/lib/python3.7/site-packages/keras/backend/tensorflow_backend.py:199: The name tf.is_variable_initialized is deprecated. Please use tf.compat.v1.is_variable_initialized instead.\n",
      "\n",
      "WARNING:tensorflow:From /home/alexander/anaconda3/lib/python3.7/site-packages/keras/backend/tensorflow_backend.py:206: The name tf.variables_initializer is deprecated. Please use tf.compat.v1.variables_initializer instead.\n",
      "\n"
     ]
    },
    {
     "name": "stderr",
     "output_type": "stream",
     "text": [
      "/home/alexander/anaconda3/lib/python3.7/site-packages/sklearn/metrics/_regression.py:582: UndefinedMetricWarning: R^2 score is not well-defined with less than two samples.\n",
      "  warnings.warn(msg, UndefinedMetricWarning)\n"
     ]
    },
    {
     "name": "stdout",
     "output_type": "stream",
     "text": [
      "WARNING:tensorflow:From /home/alexander/anaconda3/lib/python3.7/site-packages/keras/backend/tensorflow_backend.py:986: The name tf.assign_add is deprecated. Please use tf.compat.v1.assign_add instead.\n",
      "\n",
      "WARNING:tensorflow:From /home/alexander/anaconda3/lib/python3.7/site-packages/keras/backend/tensorflow_backend.py:973: The name tf.assign is deprecated. Please use tf.compat.v1.assign instead.\n",
      "\n"
     ]
    }
   ],
   "source": [
    "%matplotlib inline\n",
    "import sys\n",
    "sys.path.append('../')\n",
    "import RNA \n",
    "from utils.sequence_utils import generate_random_mutant\n",
    "from utils.model_architectures import Linear, NLNN, CNNa\n",
    "from models.Noisy_models.Neural_network_models import NN_model\n",
    "from models.Ground_truth_oracles.RNA_landscape_models import RNA_landscape_constructor\n",
    "from models.Noisy_models.Ensemble import Ensemble_models\n",
    "from evaluators.Evaluator import Evaluator\n",
    "from models.Ground_truth_oracles.TF_binding_landscape_models import *\n",
    "\n",
    "LANDSCAPE_TYPES ={\"RNA\": [3,2], 'TF':[1]}\n",
    "LANDSCAPE_TYPES2 = {'RNA': [], 'TF' : ['SIX6_REF_R1']}\n",
    "mutation_rate = 0.5\n",
    "RNA_alphabet = \"UCGA\" \n",
    "DNA_alphabet = \"TCGA\"\n",
    "landscape_constructor = RNA_landscape_constructor()\n",
    "#load a pre-specified landscapes  (here, index 0), you can also specify to just take a few of them\n",
    "landscape_constructor.load_landscapes(\"../data/RNA_landscapes/RNA_landscape_config.yaml\", landscapes_to_test=[0])\n",
    "landscape_generator = landscape_constructor.generate_from_loaded_landscapes()\n",
    "landscape_object=next(landscape_generator)\n",
    "wt = landscape_object['starting_seqs']['startRNAL14_3']\n",
    "landscape_oracle = landscape_object['landscape_oracle']\n",
    "\n",
    "training_sequences = [wt]\n",
    "cnn_architecture=CNNa(len(wt), alphabet=RNA_alphabet)\n",
    "noisy_nn_model=NN_model(landscape_oracle, cnn_architecture)\n",
    "noisy_nn_model.reset()\n",
    "noisy_nn_model.update_model(training_sequences)"
   ]
  },
  {
   "cell_type": "markdown",
   "metadata": {},
   "source": [
    "## DQN Explorer"
   ]
  },
  {
   "cell_type": "code",
   "execution_count": 19,
   "metadata": {},
   "outputs": [
    {
     "name": "stderr",
     "output_type": "stream",
     "text": [
      "/home/alexander/anaconda3/lib/python3.7/site-packages/sklearn/metrics/_regression.py:582: UndefinedMetricWarning: R^2 score is not well-defined with less than two samples.\n",
      "  warnings.warn(msg, UndefinedMetricWarning)\n"
     ]
    },
    {
     "name": "stdout",
     "output_type": "stream",
     "text": [
      "round: 0, cost: 1, evals: 0, top: 0.14554841726711917\n",
      "round: 1, cost: 101, evals: 854, top: 0.590432237476802\n",
      "round: 2, cost: 201, evals: 1656, top: 0.6590871488113138\n",
      "round: 3, cost: 301, evals: 2355, top: 0.6975338886827324\n",
      "round: 4, cost: 401, evals: 2840, top: 0.6975338886827324\n"
     ]
    }
   ],
   "source": [
    "from explorers.dqn_explorer import DQN_Explorer \n",
    "\n",
    "num_of_rounds = 5\n",
    "\n",
    "# reset model if it already exists \n",
    "training_sequences = [wt]\n",
    "cnn_architecture=CNNa(len(wt), alphabet=RNA_alphabet)\n",
    "noisy_nn_model=NN_model(landscape_oracle, cnn_architecture)\n",
    "noisy_nn_model.reset()\n",
    "noisy_nn_model.update_model(training_sequences)\n",
    "\n",
    "# evaluate DQN Explorer \n",
    "dqn_explorer = DQN_Explorer(train_epochs=10)\n",
    "dqn_explorer.debug = True\n",
    "dqn_explorer.set_model(noisy_nn_model)\n",
    "dqn_explorer.run(num_of_rounds, verbose=True)"
   ]
  },
  {
   "cell_type": "code",
   "execution_count": 21,
   "metadata": {},
   "outputs": [
    {
     "name": "stdout",
     "output_type": "stream",
     "text": [
      "1 TF landscapes loaded.\n"
     ]
    },
    {
     "name": "stderr",
     "output_type": "stream",
     "text": [
      "/home/alexander/anaconda3/lib/python3.7/site-packages/sklearn/metrics/_regression.py:582: UndefinedMetricWarning: R^2 score is not well-defined with less than two samples.\n",
      "  warnings.warn(msg, UndefinedMetricWarning)\n"
     ]
    },
    {
     "name": "stdout",
     "output_type": "stream",
     "text": [
      "round: 0, cost: 1, evals: 0, top: 0.6781429101554447\n",
      "round: 1, cost: 101, evals: 1498, top: 0.9804354100523647\n",
      "round: 2, cost: 197, evals: 2773, top: 0.9929802498659959\n",
      "round: 3, cost: 286, evals: 3773, top: 0.9929802498659959\n",
      "round: 4, cost: 357, evals: 4548, top: 0.9929802498659959\n"
     ]
    }
   ],
   "source": [
    "landscape_constructor=TF_binding_landscape_constructor()\n",
    "landscape_constructor.load_landscapes(landscapes_to_test = ['SIX6_REF_R1'])\n",
    "landscape_generator = landscape_constructor.generate_from_loaded_landscapes()\n",
    "landscape_object = next(landscape_generator)\n",
    "wt = landscape_object['starting_seqs']['TF0']\n",
    "landscape_oracle = landscape_object['landscape_oracle']\n",
    "\n",
    "# reset model if it already exists \n",
    "training_sequences = [wt]\n",
    "cnn_architecture=CNNa(len(wt), alphabet=DNA_alphabet)\n",
    "noisy_nn_model=NN_model(landscape_oracle, cnn_architecture)\n",
    "noisy_nn_model.reset()\n",
    "noisy_nn_model.update_model(training_sequences)\n",
    "\n",
    "# evaluate DQN Explorer \n",
    "dqn_explorer = DQN_Explorer(alphabet=DNA_alphabet, train_epochs=10, virtual_screen=20)\n",
    "dqn_explorer.debug = True\n",
    "dqn_explorer.set_model(noisy_nn_model)\n",
    "dqn_explorer.run(num_of_rounds, verbose=True)"
   ]
  },
  {
   "cell_type": "code",
   "execution_count": 4,
   "metadata": {},
   "outputs": [],
   "source": [
    "from explorers.dqn_explorer import DQN_Explorer \n",
    "\n",
    "dqn_explorer_prod = DQN_Explorer(train_epochs=10)\n",
    "dqn_explorer_prod.debug = False"
   ]
  },
  {
   "cell_type": "code",
   "execution_count": 23,
   "metadata": {
    "scrolled": true
   },
   "outputs": [
    {
     "name": "stdout",
     "output_type": "stream",
     "text": [
      "loading landscapes RNA: [3, 2], TF:[1]\n",
      "B1L14RNA2 loaded\n",
      "B1L100RNA1 loaded\n",
      "1 TF landscapes loaded.\n",
      "loading complete\n",
      "Running on B1L14RNA2\n",
      "start seq startRNAL14_0\n"
     ]
    },
    {
     "name": "stderr",
     "output_type": "stream",
     "text": [
      "../models/Ground_truth_oracles/RNA_landscape_models.py:21: YAMLLoadWarning: calling yaml.load() without Loader=... is deprecated, as the default Loader is unsafe. Please read https://msg.pyyaml.org/load for full details.\n",
      "  self.loaded_landscapes = yaml.load(cfgfile)\n"
     ]
    },
    {
     "name": "stdout",
     "output_type": "stream",
     "text": [
      "Running on B1L100RNA1\n",
      "start seq startRNAL100_0\n",
      "Running on CRX_R41W_R1\n",
      "start seq TF0\n"
     ]
    }
   ],
   "source": [
    "evaluator_dqn=Evaluator(dqn_explorer_prod,landscape_types=LANDSCAPE_TYPES, path=\"../simulations/eval/\")\n",
    "evaluator_dqn.evaluate_for_landscapes(evaluator_dqn.adaptivity, num_starts=1)"
   ]
  },
  {
   "cell_type": "code",
   "execution_count": 5,
   "metadata": {},
   "outputs": [
    {
     "name": "stdout",
     "output_type": "stream",
     "text": [
      "loading landscapes RNA: [3, 2], TF:[1]\n",
      "B1L14RNA2 loaded\n",
      "B1L100RNA1 loaded\n"
     ]
    },
    {
     "name": "stderr",
     "output_type": "stream",
     "text": [
      "../models/Ground_truth_oracles/RNA_landscape_models.py:21: YAMLLoadWarning: calling yaml.load() without Loader=... is deprecated, as the default Loader is unsafe. Please read https://msg.pyyaml.org/load for full details.\n",
      "  self.loaded_landscapes = yaml.load(cfgfile)\n"
     ]
    },
    {
     "name": "stdout",
     "output_type": "stream",
     "text": [
      "1 TF landscapes loaded.\n",
      "loading complete\n",
      "Running on B1L14RNA2\n",
      "start seq startRNAL14_0\n",
      "Running on B1L100RNA1\n",
      "start seq startRNAL100_0\n",
      "Running on CRX_R41W_R1\n",
      "start seq TF0\n"
     ]
    }
   ],
   "source": [
    "evaluator_dqn=Evaluator(dqn_explorer_prod,landscape_types=LANDSCAPE_TYPES, path=\"../simulations/eval/\")\n",
    "evaluator_dqn.evaluate_for_landscapes(evaluator_dqn.efficiency, num_starts=1)"
   ]
  },
  {
   "cell_type": "code",
   "execution_count": 6,
   "metadata": {},
   "outputs": [
    {
     "name": "stdout",
     "output_type": "stream",
     "text": [
      "loading landscapes RNA: [3, 2], TF:[1]\n",
      "B1L14RNA2 loaded\n",
      "B1L100RNA1 loaded\n",
      "1 TF landscapes loaded.\n",
      "loading complete\n",
      "Running on B1L14RNA2\n",
      "start seq startRNAL14_0\n",
      "B1L14RNA2,100,1,0.2407999038696289\n",
      "\n",
      "B1L14RNA2,100,10,2.756357192993164\n",
      "\n",
      "B1L14RNA2,100,100,11.276934385299683\n",
      "\n",
      "B1L14RNA2,1000,1,2.217010021209717\n",
      "\n",
      "B1L14RNA2,1000,10,12.318877935409546\n",
      "\n",
      "B1L14RNA2,1000,100,112.82714009284973\n",
      "\n",
      "Running on B1L100RNA1\n",
      "start seq startRNAL100_0\n",
      "B1L100RNA1,100,1,3.2316184043884277\n",
      "\n",
      "B1L100RNA1,100,10,14.342337608337402\n",
      "\n",
      "B1L100RNA1,100,100,130.99797320365906\n",
      "\n",
      "B1L100RNA1,1000,1,25.335120677947998\n",
      "\n",
      "B1L100RNA1,1000,10,435.85530281066895\n",
      "\n",
      "B1L100RNA1,1000,100,1268.5383896827698\n",
      "\n",
      "Running on CRX_R41W_R1\n",
      "start seq TF0\n",
      "CRX_R41W_R1,100,1,0.20346808433532715\n",
      "\n",
      "CRX_R41W_R1,100,10,1.070932149887085\n",
      "\n",
      "CRX_R41W_R1,100,100,10.134784698486328\n",
      "\n",
      "CRX_R41W_R1,1000,1,1.966050148010254\n",
      "\n",
      "CRX_R41W_R1,1000,10,10.439759969711304\n",
      "\n",
      "CRX_R41W_R1,1000,100,96.29717946052551\n",
      "\n"
     ]
    }
   ],
   "source": [
    "evaluator_dqn=Evaluator(dqn_explorer_prod,landscape_types=LANDSCAPE_TYPES, path=\"../simulations/eval/\")\n",
    "evaluator_dqn.evaluate_for_landscapes(evaluator_dqn.scalability, num_starts=1)"
   ]
  },
  {
   "cell_type": "code",
   "execution_count": 8,
   "metadata": {},
   "outputs": [
    {
     "name": "stdout",
     "output_type": "stream",
     "text": [
      "loading landscapes RNA: [], TF:['SIX6_REF_R1']\n",
      "1 TF landscapes loaded.\n",
      "loading complete\n",
      "Running on SIX6_REF_R1\n",
      "start seq TF0\n"
     ]
    }
   ],
   "source": [
    "evaluator_dqn=Evaluator(dqn_explorer_prod,landscape_types=LANDSCAPE_TYPES2, path=\"../simulations/eval/\")\n",
    "evaluator_dqn.evaluate_for_landscapes(evaluator_dqn.adaptivity, num_starts=1)\n",
    "evaluator_dqn.evaluate_for_landscapes(evaluator_dqn.efficiency, num_starts=1)\n",
    "evaluator_dqn.evaluate_for_landscapes(evaluator_dqn.scalability, num_starts=1)"
   ]
  },
  {
   "cell_type": "markdown",
   "metadata": {},
   "source": [
    "## BO Explorer"
   ]
  },
  {
   "cell_type": "code",
   "execution_count": 8,
   "metadata": {},
   "outputs": [
    {
     "name": "stderr",
     "output_type": "stream",
     "text": [
      "/home/alexander/anaconda3/lib/python3.7/site-packages/sklearn/metrics/_regression.py:582: UndefinedMetricWarning: R^2 score is not well-defined with less than two samples.\n",
      "  warnings.warn(msg, UndefinedMetricWarning)\n",
      "/home/alexander/anaconda3/lib/python3.7/site-packages/sklearn/metrics/_regression.py:582: UndefinedMetricWarning: R^2 score is not well-defined with less than two samples.\n",
      "  warnings.warn(msg, UndefinedMetricWarning)\n",
      "/home/alexander/anaconda3/lib/python3.7/site-packages/sklearn/metrics/_regression.py:582: UndefinedMetricWarning: R^2 score is not well-defined with less than two samples.\n",
      "  warnings.warn(msg, UndefinedMetricWarning)\n",
      "/home/alexander/anaconda3/lib/python3.7/site-packages/sklearn/metrics/_regression.py:582: UndefinedMetricWarning: R^2 score is not well-defined with less than two samples.\n",
      "  warnings.warn(msg, UndefinedMetricWarning)\n"
     ]
    }
   ],
   "source": [
    "%autoreload 2\n",
    "from explorers.bo_explorer import BO_Explorer\n",
    "\n",
    "num_of_rounds = 5\n",
    "arch1 = NLNN(len(wt), hidden_dims=10, epochs=20)\n",
    "arch2 = NLNN(len(wt), hidden_dims=20, epochs=20)\n",
    "arch3 = NLNN(len(wt), hidden_dims=30, epochs=20)\n",
    "arch4 = NLNN(len(wt), hidden_dims=40, epochs=20)\n",
    "# ensemble we will use for BO Explorer\n",
    "nn_model_1 = NN_model(landscape_oracle, arch1)\n",
    "nn_model_2 = NN_model(landscape_oracle, arch2)\n",
    "nn_model_3 = NN_model(landscape_oracle, arch3)\n",
    "nn_model_4 = NN_model(landscape_oracle, arch4)\n",
    "models = [nn_model_1, nn_model_2, nn_model_3, nn_model_4]\n",
    "ensemble_model = Ensemble_models(models)\n",
    "ensemble_model.update_model(training_sequences)"
   ]
  },
  {
   "cell_type": "code",
   "execution_count": 9,
   "metadata": {},
   "outputs": [
    {
     "name": "stdout",
     "output_type": "stream",
     "text": [
      "round: 0, cost: 1, evals: 0.0, top: 0.14554841726711917\n",
      "round: 1, cost: 101, evals: 3975.0, top: 0.55747785908442\n",
      "round: 2, cost: 201, evals: 7819.0, top: 0.55747785908442\n",
      "round: 3, cost: 301, evals: 13007.0, top: 0.6069094266729929\n",
      "round: 4, cost: 401, evals: 22512.0, top: 0.6151479950813181\n"
     ]
    }
   ],
   "source": [
    "# evaluate BO Explorer \n",
    "bo_explorer = BO_Explorer()\n",
    "bo_explorer.debug = True\n",
    "bo_explorer.set_model(ensemble_model)\n",
    "bo_explorer.run(num_of_rounds, verbose=True)"
   ]
  },
  {
   "cell_type": "code",
   "execution_count": 10,
   "metadata": {},
   "outputs": [
    {
     "name": "stdout",
     "output_type": "stream",
     "text": [
      "loading landscapes RNA: [3, 2], TF:[1]\n",
      "B1L14RNA2 loaded\n",
      "B1L100RNA1 loaded\n",
      "1 TF landscapes loaded.\n",
      "loading complete\n",
      "Running on B1L14RNA2\n",
      "start seq startRNAL14_0\n"
     ]
    },
    {
     "name": "stderr",
     "output_type": "stream",
     "text": [
      "../models/Ground_truth_oracles/RNA_landscape_models.py:21: YAMLLoadWarning: calling yaml.load() without Loader=... is deprecated, as the default Loader is unsafe. Please read https://msg.pyyaml.org/load for full details.\n",
      "  self.loaded_landscapes = yaml.load(cfgfile)\n"
     ]
    },
    {
     "name": "stdout",
     "output_type": "stream",
     "text": [
      "Running on B1L100RNA1\n",
      "start seq startRNAL100_0\n",
      "Running on CRX_R41W_R1\n",
      "start seq TF0\n"
     ]
    }
   ],
   "source": [
    "bo_explorer_prod = BO_Explorer()\n",
    "bo_explorer_prod.debug = False\n",
    "\n",
    "evaluator_bo=Evaluator(bo_explorer,landscape_types=LANDSCAPE_TYPES, path=\"../simulations/eval/\")\n",
    "evaluator_bo.evaluate_for_landscapes(evaluator_bo.adaptivity, num_starts=1)"
   ]
  },
  {
   "cell_type": "code",
   "execution_count": null,
   "metadata": {},
   "outputs": [],
   "source": []
  }
 ],
 "metadata": {
  "kernelspec": {
   "display_name": "Python 3",
   "language": "python",
   "name": "python3"
  },
  "language_info": {
   "codemirror_mode": {
    "name": "ipython",
    "version": 3
   },
   "file_extension": ".py",
   "mimetype": "text/x-python",
   "name": "python",
   "nbconvert_exporter": "python",
   "pygments_lexer": "ipython3",
   "version": "3.7.4"
  }
 },
 "nbformat": 4,
 "nbformat_minor": 4
}
