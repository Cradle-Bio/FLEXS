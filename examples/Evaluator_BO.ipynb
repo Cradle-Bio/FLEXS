{
 "cells": [
  {
   "cell_type": "code",
   "execution_count": 1,
   "metadata": {},
   "outputs": [
    {
     "name": "stderr",
     "output_type": "stream",
     "text": [
      "Using TensorFlow backend.\n"
     ]
    }
   ],
   "source": [
    "%matplotlib inline\n",
    "import sys\n",
    "sys.path.append('../')\n",
    "import RNA \n",
    "from utils.sequence_utils import generate_random_mutant\n",
    "from utils.model_architectures import Linear, NLNN, CNNa\n",
    "from models.Noisy_models.Neural_network_models import NN_model\n",
    "from models.Ground_truth_oracles.RNA_landscape_models import RNA_landscape_constructor\n",
    "from models.Noisy_models.Ensemble import Ensemble_models\n",
    "from evaluators.Evaluator import Evaluator\n",
    "from models.Ground_truth_oracles.TF_binding_landscape_models import *\n",
    "from explorers.bo_explorer import BO_Explorer\n",
    "from explorers.dqn_explorer import DQN_Explorer \n",
    "#from explorers.PPO_explorer import PPO_explorer\n",
    "#from explorers.DynaPPO_explorer import DynaPPO_explorer\n",
    "#from explorers.CMAES_explorer import CMAES_explorer\n",
    "\n",
    "LANDSCAPE_TYPES ={\"RNA\": [0, 1], 'TF':['SIX6_REF_R1']} # for testing \n",
    "LANDSCAPE_TYPES_RNA = {\"RNA\" : [0,1,12,20,25,31], \"TF\": []}\n",
    "LANDSCAPE_TYPES_TF = {\"RNA\": [], \n",
    "                      \"TF\": ['POU3F4_REF_R1','PAX3_G48R_R1','SIX6_REF_R1', 'VAX2_REF_R1', 'VSX1_REF_R1']}"
   ]
  },
  {
   "cell_type": "code",
   "execution_count": 2,
   "metadata": {},
   "outputs": [],
   "source": [
    "bo_explorer_prod = BO_Explorer()\n",
    "bo_explorer_prod.debug = False"
   ]
  },
  {
   "cell_type": "code",
   "execution_count": null,
   "metadata": {},
   "outputs": [
    {
     "name": "stdout",
     "output_type": "stream",
     "text": [
      "loading landscapes RNA: [0, 1, 12, 20, 25, 31], TF:[]\n",
      "B1L14RNA1 loaded\n",
      "B1L50RNA1 loaded\n",
      "B2L14RNA1+2 loaded\n",
      "B2L50RNA1+4 loaded\n",
      "B2L100RNA1+3 loaded\n",
      "C20B2L100RNA1+3 loaded\n",
      "0 TF landscapes loaded.\n",
      "loading complete\n",
      "Running on B1L14RNA1\n",
      "start seq startRNAL14_0\n",
      "Evaluating for signal_strength: 0\n",
      "Running  NAM {'landscape_id': 'B1L14RNA1', 'start_id': 'startRNAL14_0', 'signal_strength': 0}\n",
      "[0.3333333333333333, 0.3333333333333333, 0.3333333333333333]\n",
      "round: 0, cost: 1, evals: 0.0, top: 0.5437468768175177\n"
     ]
    },
    {
     "name": "stderr",
     "output_type": "stream",
     "text": [
      "../models/Ground_truth_oracles/RNA_landscape_models.py:21: YAMLLoadWarning: calling yaml.load() without Loader=... is deprecated, as the default Loader is unsafe. Please read https://msg.pyyaml.org/load for full details.\n",
      "  self.loaded_landscapes = yaml.load(cfgfile)\n"
     ]
    },
    {
     "name": "stdout",
     "output_type": "stream",
     "text": [
      "[0.0593683701214521, 0.8697897529111598, 0.07084187696738807]\n",
      "round: 1, cost: 101, evals: 1012.0, top: 0.5464930837468063\n",
      "[0.6088642652139132, 0.18251394387534003, 0.20862179091074662]\n",
      "round: 2, cost: 201, evals: 2020.0, top: 0.6645795626698909\n",
      "[0.6859004168750356, 0.23793741939284946, 0.0761621637321149]\n",
      "round: 3, cost: 301, evals: 3028.0, top: 0.6645795626698909\n"
     ]
    }
   ],
   "source": [
    "evaluator_bo=Evaluator(bo_explorer_prod,landscape_types=LANDSCAPE_TYPES_RNA, path=\"../simulations/eval/\")\n",
    "evaluator_bo.evaluate_for_landscapes(evaluator_bo.consistency_robustness_independence, num_starts=3)\n",
    "evaluator_bo=Evaluator(bo_explorer_prod,landscape_types=LANDSCAPE_TYPES_TF, path=\"../simulations/eval/\")\n",
    "evaluator_bo.evaluate_for_landscapes(evaluator_bo.consistency_robustness_independence, num_starts=5)"
   ]
  },
  {
   "cell_type": "code",
   "execution_count": null,
   "metadata": {},
   "outputs": [],
   "source": [
    "evaluator_bo=Evaluator(bo_explorer_prod,landscape_types=LANDSCAPE_TYPES_RNA, path=\"../simulations/eval/\")\n",
    "evaluator_bo.evaluate_for_landscapes(evaluator_bo.adaptivity, num_starts=3)\n",
    "evaluator_bo=Evaluator(bo_explorer_prod,landscape_types=LANDSCAPE_TYPES_TF, path=\"../simulations/eval/\")\n",
    "evaluator_bo.evaluate_for_landscapes(evaluator_bo.adaptivity, num_starts=5)"
   ]
  },
  {
   "cell_type": "code",
   "execution_count": null,
   "metadata": {},
   "outputs": [],
   "source": [
    "evaluator_bo=Evaluator(bo_explorer_prod,landscape_types=LANDSCAPE_TYPES_RNA, path=\"../simulations/eval/\")\n",
    "evaluator_bo.evaluate_for_landscapes(evaluator_bo.efficiency, num_starts=3)\n",
    "evaluator_bo=Evaluator(bo_explorer_prod,landscape_types=LANDSCAPE_TYPES_TF, path=\"../simulations/eval/\")\n",
    "evaluator_bo.evaluate_for_landscapes(evaluator_bo.efficiency, num_starts=5)"
   ]
  }
 ],
 "metadata": {
  "kernelspec": {
   "display_name": "Python 3",
   "language": "python",
   "name": "python3"
  },
  "language_info": {
   "codemirror_mode": {
    "name": "ipython",
    "version": 3
   },
   "file_extension": ".py",
   "mimetype": "text/x-python",
   "name": "python",
   "nbconvert_exporter": "python",
   "pygments_lexer": "ipython3",
   "version": "3.7.4"
  }
 },
 "nbformat": 4,
 "nbformat_minor": 2
}
