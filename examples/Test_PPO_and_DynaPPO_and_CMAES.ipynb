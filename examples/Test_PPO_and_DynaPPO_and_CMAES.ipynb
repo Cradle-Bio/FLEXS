{
 "cells": [
  {
   "cell_type": "code",
   "execution_count": 4,
   "metadata": {},
   "outputs": [
    {
     "name": "stdout",
     "output_type": "stream",
     "text": [
      "The autoreload extension is already loaded. To reload it, use:\n",
      "  %reload_ext autoreload\n"
     ]
    }
   ],
   "source": [
    "%load_ext autoreload\n",
    "%autoreload 2"
   ]
  },
  {
   "cell_type": "code",
   "execution_count": 12,
   "metadata": {},
   "outputs": [],
   "source": [
    "from explorers.PPO_explorer import PPO_explorer\n",
    "from explorers.DynaPPO_explorer import DynaPPO_explorer\n",
    "from explorers.CMAES_explorer import CMAES_explorer\n",
    "from evaluators.Evaluator import Evaluator\n",
    "\n",
    "from utils.sequence_utils import generate_random_mutant, generate_random_sequences"
   ]
  },
  {
   "cell_type": "markdown",
   "metadata": {},
   "source": [
    "## 1. Building oracles for landscapes"
   ]
  },
  {
   "cell_type": "code",
   "execution_count": 6,
   "metadata": {},
   "outputs": [],
   "source": [
    "from models.Ground_truth_oracles.RNA_landscape_models import RNA_landscape_constructor\n",
    "from models.Ground_truth_oracles.TF_binding_landscape_models import *"
   ]
  },
  {
   "cell_type": "code",
   "execution_count": 7,
   "metadata": {},
   "outputs": [
    {
     "name": "stdout",
     "output_type": "stream",
     "text": [
      "1 TF landscapes loaded.\n",
      "SIX6_REF_R1\n",
      "{'TF0': 'TTAATTAA', 'TF1': 'GCTCGAGC', 'TF2': 'GCGCGCGC', 'TF3': 'TGCGCGCC', 'TF4': 'ATATAGCC', 'TF5': 'GTTTGGTA', 'TF6': 'ATTATGTT', 'TF7': 'CAGTTTTT', 'TF8': 'AAAAATTT', 'TF9': 'AAAAACGC', 'TF10': 'GTTGTTTT', 'TF11': 'TGCTTTTT', 'TF12': 'AAAGATAG', 'TF13': 'CCTTCTTT', 'TF14': 'AAAGAGAG'}\n"
     ]
    }
   ],
   "source": [
    "LANDSCAPE_TYPES ={\"RNA\": [0, 1], 'TF':['SIX6_REF_R1']}\n",
    "\n",
    "landscape_constructor=TF_binding_landscape_constructor()\n",
    "landscape_constructor.load_landscapes(landscapes_to_test = ['SIX6_REF_R1'])\n",
    "\n",
    "landscape_generator = landscape_constructor.generate_from_loaded_landscapes()\n",
    "\n",
    "#take one landscape oracle from the generator\n",
    "landscape_object=next(landscape_generator)\n",
    "\n",
    "print(landscape_object['landscape_id'])\n",
    "print(landscape_object['starting_seqs'])\n",
    "landscape_oracle = landscape_object['landscape_oracle']\n",
    "\n",
    "wt = landscape_object['starting_seqs']['TF0']"
   ]
  },
  {
   "cell_type": "markdown",
   "metadata": {},
   "source": [
    "## 2. Building a model of the landscape"
   ]
  },
  {
   "cell_type": "code",
   "execution_count": 8,
   "metadata": {},
   "outputs": [
    {
     "name": "stderr",
     "output_type": "stream",
     "text": [
      "Using TensorFlow backend.\n"
     ]
    }
   ],
   "source": [
    "from utils.model_architectures import CNNa\n",
    "from models.Noisy_models.Neural_network_models import NN_model\n",
    "\n",
    "alphabet = \"ATGC\"\n",
    "\n",
    "training_sequences = list(set([generate_random_mutant(wt, 0.2, alphabet) for i in range(0, 100)]))\n",
    "cnn_architecture=CNNa(len(wt), alphabet=alphabet)\n",
    "noisy_nn_model=NN_model(landscape_oracle, cnn_architecture)\n",
    "noisy_nn_model.reset()\n",
    "noisy_nn_model.update_model(training_sequences)"
   ]
  },
  {
   "cell_type": "markdown",
   "metadata": {},
   "source": [
    "## 3. Exploring the landscape with a model"
   ]
  },
  {
   "cell_type": "markdown",
   "metadata": {},
   "source": [
    "### CMA-ES explorer"
   ]
  },
  {
   "cell_type": "code",
   "execution_count": 14,
   "metadata": {},
   "outputs": [],
   "source": [
    "cmaes_explorer = CMAES_explorer(alphabet=alphabet)\n",
    "cmaes_explorer.debug = True\n",
    "cmaes_explorer.set_model(noisy_nn_model)\n",
    "cmaes_explorer.initialize_params()"
   ]
  },
  {
   "cell_type": "code",
   "execution_count": 10,
   "metadata": {},
   "outputs": [],
   "source": [
    "cmaes_explorer.propose_samples()"
   ]
  },
  {
   "cell_type": "code",
   "execution_count": 11,
   "metadata": {},
   "outputs": [
    {
     "name": "stdout",
     "output_type": "stream",
     "text": [
      "round: 0, cost: 45, evals: 0, top: 0.8246402506906363\n"
     ]
    },
    {
     "name": "stderr",
     "output_type": "stream",
     "text": [
      "/Users/richard/Documents/Research/FLSD-Sandbox/explorers/CMAES_explorer.py:100: RuntimeWarning: divide by zero encountered in double_scalars\n",
      "  return int(np.linalg.norm(self.ps)/np.sqrt(1-(1-self.cs)**(2*self.round/self.lam))/self.chiN < 1.4 + 2/(self.N+1))\n"
     ]
    },
    {
     "name": "stdout",
     "output_type": "stream",
     "text": [
      "round: 1, cost: 145, evals: 100, top: 0.9621490124932999\n"
     ]
    },
    {
     "name": "stderr",
     "output_type": "stream",
     "text": [
      "/Users/richard/Documents/Research/FLSD-Sandbox/explorers/CMAES_explorer.py:69: RuntimeWarning: covariance is not positive-semidefinite.\n",
      "  x = np.random.multivariate_normal(self.mean, (self.sigma**2)*self.cov)\n"
     ]
    },
    {
     "name": "stdout",
     "output_type": "stream",
     "text": [
      "round: 2, cost: 245, evals: 200, top: 0.9700449428936627\n"
     ]
    },
    {
     "name": "stderr",
     "output_type": "stream",
     "text": [
      "/Users/richard/Documents/Research/FLSD-Sandbox/explorers/CMAES_explorer.py:69: RuntimeWarning: covariance is not positive-semidefinite.\n",
      "  x = np.random.multivariate_normal(self.mean, (self.sigma**2)*self.cov)\n"
     ]
    },
    {
     "name": "stdout",
     "output_type": "stream",
     "text": [
      "round: 3, cost: 345, evals: 300, top: 0.989691996866367\n"
     ]
    },
    {
     "name": "stderr",
     "output_type": "stream",
     "text": [
      "/Users/richard/Documents/Research/FLSD-Sandbox/explorers/CMAES_explorer.py:69: RuntimeWarning: covariance is not positive-semidefinite.\n",
      "  x = np.random.multivariate_normal(self.mean, (self.sigma**2)*self.cov)\n"
     ]
    },
    {
     "name": "stdout",
     "output_type": "stream",
     "text": [
      "round: 4, cost: 444, evals: 399, top: 0.989691996866367\n"
     ]
    },
    {
     "name": "stderr",
     "output_type": "stream",
     "text": [
      "/Users/richard/Documents/Research/FLSD-Sandbox/explorers/CMAES_explorer.py:69: RuntimeWarning: covariance is not positive-semidefinite.\n",
      "  x = np.random.multivariate_normal(self.mean, (self.sigma**2)*self.cov)\n"
     ]
    }
   ],
   "source": [
    "num_of_rounds = 5\n",
    "cmaes_explorer.run(num_of_rounds, verbose=True)"
   ]
  },
  {
   "cell_type": "markdown",
   "metadata": {},
   "source": [
    "### DyNA-PPO explorer"
   ]
  },
  {
   "cell_type": "code",
   "execution_count": 137,
   "metadata": {},
   "outputs": [
    {
     "ename": "ValueError",
     "evalue": "No candidate models passed threshold.",
     "output_type": "error",
     "traceback": [
      "\u001b[0;31m---------------------------------------------------------------------------\u001b[0m",
      "\u001b[0;31mValueError\u001b[0m                                Traceback (most recent call last)",
      "\u001b[0;32m<ipython-input-137-aceee3693454>\u001b[0m in \u001b[0;36m<module>\u001b[0;34m\u001b[0m\n\u001b[1;32m     15\u001b[0m \u001b[0mdynappo_explorer\u001b[0m\u001b[0;34m.\u001b[0m\u001b[0mset_model\u001b[0m\u001b[0;34m(\u001b[0m\u001b[0mensemble_model\u001b[0m\u001b[0;34m)\u001b[0m\u001b[0;34m\u001b[0m\u001b[0;34m\u001b[0m\u001b[0m\n\u001b[1;32m     16\u001b[0m \u001b[0;34m\u001b[0m\u001b[0m\n\u001b[0;32m---> 17\u001b[0;31m \u001b[0mdynappo_explorer\u001b[0m\u001b[0;34m.\u001b[0m\u001b[0mlearn_policy\u001b[0m\u001b[0;34m(\u001b[0m\u001b[0;34m)\u001b[0m\u001b[0;34m\u001b[0m\u001b[0;34m\u001b[0m\u001b[0m\n\u001b[0m",
      "\u001b[0;32m~/Documents/Research/FLSD-Sandbox/explorers/DynaPPO_explorer.py\u001b[0m in \u001b[0;36mlearn_policy\u001b[0;34m(self)\u001b[0m\n\u001b[1;32m    233\u001b[0m \u001b[0;34m\u001b[0m\u001b[0m\n\u001b[1;32m    234\u001b[0m         \u001b[0;32mfor\u001b[0m \u001b[0mn\u001b[0m \u001b[0;32min\u001b[0m \u001b[0mrange\u001b[0m\u001b[0;34m(\u001b[0m\u001b[0mself\u001b[0m\u001b[0;34m.\u001b[0m\u001b[0mnum_experiment_rounds\u001b[0m\u001b[0;34m)\u001b[0m\u001b[0;34m:\u001b[0m\u001b[0;34m\u001b[0m\u001b[0;34m\u001b[0m\u001b[0m\n\u001b[0;32m--> 235\u001b[0;31m             \u001b[0mself\u001b[0m\u001b[0;34m.\u001b[0m\u001b[0mperform_experiment_based_training_step\u001b[0m\u001b[0;34m(\u001b[0m\u001b[0;34m)\u001b[0m\u001b[0;34m\u001b[0m\u001b[0;34m\u001b[0m\u001b[0m\n\u001b[0m\u001b[1;32m    236\u001b[0m \u001b[0;34m\u001b[0m\u001b[0m\n\u001b[1;32m    237\u001b[0m     \u001b[0;32mdef\u001b[0m \u001b[0mpropose_samples\u001b[0m\u001b[0;34m(\u001b[0m\u001b[0mself\u001b[0m\u001b[0;34m)\u001b[0m\u001b[0;34m:\u001b[0m\u001b[0;34m\u001b[0m\u001b[0;34m\u001b[0m\u001b[0m\n",
      "\u001b[0;32m~/Documents/Research/FLSD-Sandbox/explorers/DynaPPO_explorer.py\u001b[0m in \u001b[0;36mperform_experiment_based_training_step\u001b[0;34m(self)\u001b[0m\n\u001b[1;32m    214\u001b[0m         \u001b[0mself\u001b[0m\u001b[0;34m.\u001b[0m\u001b[0mmodel\u001b[0m\u001b[0;34m.\u001b[0m\u001b[0mmodels\u001b[0m \u001b[0;34m=\u001b[0m \u001b[0;34m[\u001b[0m\u001b[0mself\u001b[0m\u001b[0;34m.\u001b[0m\u001b[0mmodel\u001b[0m\u001b[0;34m.\u001b[0m\u001b[0mmodels\u001b[0m\u001b[0;34m[\u001b[0m\u001b[0mi\u001b[0m\u001b[0;34m]\u001b[0m \u001b[0;32mfor\u001b[0m \u001b[0mi\u001b[0m\u001b[0;34m,\u001b[0m \u001b[0mr2\u001b[0m \u001b[0;32min\u001b[0m \u001b[0menumerate\u001b[0m\u001b[0;34m(\u001b[0m\u001b[0mr2s\u001b[0m\u001b[0;34m)\u001b[0m \u001b[0;32mif\u001b[0m \u001b[0mr2\u001b[0m \u001b[0;34m>=\u001b[0m \u001b[0mself\u001b[0m\u001b[0;34m.\u001b[0m\u001b[0mthreshold\u001b[0m\u001b[0;34m]\u001b[0m\u001b[0;34m\u001b[0m\u001b[0;34m\u001b[0m\u001b[0m\n\u001b[1;32m    215\u001b[0m         \u001b[0;32mif\u001b[0m \u001b[0mlen\u001b[0m\u001b[0;34m(\u001b[0m\u001b[0mself\u001b[0m\u001b[0;34m.\u001b[0m\u001b[0mmodel\u001b[0m\u001b[0;34m.\u001b[0m\u001b[0mmodels\u001b[0m\u001b[0;34m)\u001b[0m \u001b[0;34m==\u001b[0m \u001b[0;36m0\u001b[0m\u001b[0;34m:\u001b[0m\u001b[0;34m\u001b[0m\u001b[0;34m\u001b[0m\u001b[0m\n\u001b[0;32m--> 216\u001b[0;31m             \u001b[0;32mraise\u001b[0m \u001b[0mValueError\u001b[0m\u001b[0;34m(\u001b[0m\u001b[0;34m\"No candidate models passed threshold.\"\u001b[0m\u001b[0;34m)\u001b[0m\u001b[0;34m\u001b[0m\u001b[0;34m\u001b[0m\u001b[0m\n\u001b[0m\u001b[1;32m    217\u001b[0m \u001b[0;34m\u001b[0m\u001b[0m\n\u001b[1;32m    218\u001b[0m         \u001b[0;32mfor\u001b[0m \u001b[0mm\u001b[0m \u001b[0;32min\u001b[0m \u001b[0mrange\u001b[0m\u001b[0;34m(\u001b[0m\u001b[0mself\u001b[0m\u001b[0;34m.\u001b[0m\u001b[0mnum_model_rounds\u001b[0m\u001b[0;34m)\u001b[0m\u001b[0;34m:\u001b[0m\u001b[0;34m\u001b[0m\u001b[0;34m\u001b[0m\u001b[0m\n",
      "\u001b[0;31mValueError\u001b[0m: No candidate models passed threshold."
     ]
    }
   ],
   "source": [
    "from models.Noisy_models.Ensemble import Ensemble_models\n",
    "\n",
    "ensemble_model = Ensemble_models(list_of_models=[NN_model(landscape_oracle, cnn_architecture),\n",
    "                                                NN_model(landscape_oracle, cnn_architecture),\n",
    "                                                NN_model(landscape_oracle, cnn_architecture)])\n",
    "ensemble_model.reset()\n",
    "ensemble_model.update_model(training_sequences)\n",
    "\n",
    "dynappo_explorer = DynaPPO_explorer(\n",
    "    alphabet=alphabet,\n",
    "    oracle=landscape_oracle,\n",
    "    num_experiment_rounds=1,\n",
    "    num_model_rounds=1)\n",
    "dynappo_explorer.debug = True\n",
    "dynappo_explorer.set_model(ensemble_model)\n",
    "\n",
    "dynappo_explorer.learn_policy()"
   ]
  },
  {
   "cell_type": "code",
   "execution_count": 134,
   "metadata": {},
   "outputs": [
    {
     "name": "stdout",
     "output_type": "stream",
     "text": [
      "round: 0, cost: 112, evals: 495, top: 0.8759225662804602\n",
      "round: 1, cost: 212, evals: 1074, top: 0.8813239599224838\n",
      "round: 2, cost: 312, evals: 1758, top: 0.9884550364903311\n",
      "round: 3, cost: 412, evals: 2508, top: 0.9884550364903311\n",
      "round: 4, cost: 512, evals: 3363, top: 0.9884550364903311\n"
     ]
    }
   ],
   "source": [
    "num_of_rounds = 5\n",
    "dynappo_explorer.run(num_of_rounds, verbose=True)"
   ]
  },
  {
   "cell_type": "markdown",
   "metadata": {},
   "source": [
    "### PPO explorer"
   ]
  },
  {
   "cell_type": "code",
   "execution_count": 104,
   "metadata": {},
   "outputs": [],
   "source": [
    "ppo_explorer = PPO_explorer(\n",
    "    alphabet=alphabet)\n",
    "ppo_explorer.debug = True\n",
    "ppo_explorer.set_model(noisy_nn_model)"
   ]
  },
  {
   "cell_type": "code",
   "execution_count": 105,
   "metadata": {},
   "outputs": [
    {
     "name": "stdout",
     "output_type": "stream",
     "text": [
      "Episodes: 0/100\n",
      "Number of measured sequences: 54\n",
      "New top sequence: (0.6781429101554447, 'TTAATTAA', 5)\n"
     ]
    }
   ],
   "source": [
    "ppo_explorer.pretrain_agent()"
   ]
  },
  {
   "cell_type": "code",
   "execution_count": 106,
   "metadata": {},
   "outputs": [
    {
     "name": "stdout",
     "output_type": "stream",
     "text": [
      "round: 0, cost: 5, evals: 98, top: 0.6781429101554447\n",
      "54\n",
      "round: 1, cost: 105, evals: 246, top: 0.8407825835979055\n",
      "154\n",
      "round: 2, cost: 205, evals: 489, top: 0.9295138745722179\n",
      "254\n",
      "round: 3, cost: 305, evals: 749, top: 0.9453057353729436\n",
      "354\n",
      "round: 4, cost: 405, evals: 1002, top: 0.9453057353729436\n",
      "454\n"
     ]
    }
   ],
   "source": [
    "noisy_nn_model=NN_model(landscape_oracle, cnn_architecture)\n",
    "noisy_nn_model.reset()\n",
    "noisy_nn_model.update_model(training_sequences)\n",
    "\n",
    "num_of_rounds = 5\n",
    "ppo_explorer.run(num_of_rounds, verbose=True)"
   ]
  },
  {
   "cell_type": "code",
   "execution_count": null,
   "metadata": {},
   "outputs": [],
   "source": []
  }
 ],
 "metadata": {
  "kernelspec": {
   "display_name": "flrl",
   "language": "python",
   "name": "flrl"
  },
  "language_info": {
   "codemirror_mode": {
    "name": "ipython",
    "version": 3
   },
   "file_extension": ".py",
   "mimetype": "text/x-python",
   "name": "python",
   "nbconvert_exporter": "python",
   "pygments_lexer": "ipython3",
   "version": "3.7.3"
  }
 },
 "nbformat": 4,
 "nbformat_minor": 2
}
