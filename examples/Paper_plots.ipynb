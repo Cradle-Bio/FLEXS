{
 "cells": [
  {
   "cell_type": "code",
   "execution_count": 1,
   "metadata": {},
   "outputs": [],
   "source": [
    "%reload_ext autoreload\n",
    "%autoreload 2\n",
    "%matplotlib inline\n",
    "\n",
    "import editdistance\n",
    "import matplotlib.pyplot as plt\n",
    "import seaborn as sns\n",
    "import pandas as pd\n",
    "import numpy as np"
   ]
  },
  {
   "cell_type": "code",
   "execution_count": 2,
   "metadata": {},
   "outputs": [],
   "source": [
    "import flexs\n",
    "from flexs import baselines\n",
    "import flexs.utils.sequence_utils as s_utils"
   ]
  },
  {
   "cell_type": "markdown",
   "metadata": {},
   "source": [
    "## Figure 1A\n",
    "\n",
    "First, create the landscape and train various models on a 100 sequence dataset"
   ]
  },
  {
   "cell_type": "code",
   "execution_count": 3,
   "metadata": {},
   "outputs": [],
   "source": [
    "problem = flexs.landscapes.rna.registry()['L14_RNA1']\n",
    "wt = problem['starts'][2]\n",
    "landscape = flexs.landscapes.RNABinding(**problem['params'])\n",
    "\n",
    "train_x = np.array(list(s_utils.generate_random_mutant(wt, 0.2*(i%5), alphabet=s_utils.RNAA)\n",
    "                  for i in range(1000)))\n",
    "train_y = landscape.get_fitness(train_x)\n",
    "\n",
    "cnn_ensemble = flexs.Ensemble([\n",
    "    baselines.models.CNN(len(wt), alphabet=s_utils.RNAA, num_filters=32, hidden_size=100, loss='MSE')\n",
    "    for i in range(3)\n",
    "])\n",
    "\n",
    "models = {\n",
    "    'alpha=1': baselines.models.NoisyAbstractModel(landscape, signal_strength=1),\n",
    "    'alpha=0.9': baselines.models.NoisyAbstractModel(landscape, signal_strength=0.9),\n",
    "    'alpha=0.75': baselines.models.NoisyAbstractModel(landscape, signal_strength=0.75),\n",
    "    'alpha=0': baselines.models.NoisyAbstractModel(landscape, signal_strength=0),\n",
    "    'CNN Ensemble': cnn_ensemble\n",
    "}\n",
    "\n",
    "for model in models.values():\n",
    "    model.train(train_x, train_y)"
   ]
  },
  {
   "cell_type": "markdown",
   "metadata": {},
   "source": [
    "Generate the validation set and compute correlation with true score by distance"
   ]
  },
  {
   "cell_type": "code",
   "execution_count": 4,
   "metadata": {},
   "outputs": [],
   "source": [
    "import scipy.stats\n",
    "\n",
    "val_x = np.array(list(s_utils.generate_random_mutant(wt, 0.2*(i%5), alphabet=s_utils.RNAA)\n",
    "                  for i in range(1000)))\n",
    "val_y = landscape.get_fitness(val_x)\n",
    "\n",
    "def get_corr_per_distance(seqs, labels, preds):    \n",
    "    corrs = []\n",
    "    edit_distances = np.array([editdistance.eval(seq, wt) for seq in seqs])\n",
    "    \n",
    "    for dist in range(1, 11):\n",
    "        seqs_at_dist = edit_distances == dist\n",
    "        \n",
    "        if seqs_at_dist.sum() > 50:\n",
    "            corrs.append(\n",
    "                scipy.stats.pearsonr(labels[seqs_at_dist], preds[seqs_at_dist])[0] ** 2\n",
    "            )\n",
    "        else:\n",
    "            corrs.append(np.nan)\n",
    "            \n",
    "    return corrs\n",
    "\n",
    "corrs = {\n",
    "    name: get_corr_per_distance(val_x, val_y, model.get_fitness(val_x))\n",
    "    for name, model in models.items()\n",
    "}"
   ]
  },
  {
   "cell_type": "code",
   "execution_count": 5,
   "metadata": {},
   "outputs": [
    {
     "data": {
      "image/png": "[encoded data removed]",
      "text/plain": [
       "<Figure size 432x288 with 1 Axes>"
      ]
     },
     "metadata": {
      "needs_background": "light"
     },
     "output_type": "display_data"
    }
   ],
   "source": [
    "for name, corr in corrs.items():\n",
    "    plt.plot(range(1, 11), corr, 'o-', label=name)\n",
    "plt.ylabel(\"$r^2$ between true fitness and model estimate\")\n",
    "plt.xlabel(\"Distance from start\")\n",
    "plt.legend()\n",
    "plt.show()"
   ]
  },
  {
   "cell_type": "markdown",
   "metadata": {},
   "source": [
    "## Figure 2B\n",
    "\n",
    "We run Adalead, CbAS, DbAS over "
   ]
  },
  {
   "cell_type": "code",
   "execution_count": 11,
   "metadata": {},
   "outputs": [],
   "source": [
    "problem = flexs.landscapes.rna.registry()['L14_RNA1+2']\n",
    "wt = problem['starts'][2]\n",
    "landscape = flexs.landscapes.RNABinding(**problem['params'])"
   ]
  },
  {
   "cell_type": "code",
   "execution_count": 63,
   "metadata": {},
   "outputs": [
    {
     "name": "stdout",
     "output_type": "stream",
     "text": [
      "\n",
      "Beginning run 0\n",
      "round: 0, top: 0.27879076194752395\n",
      "round: 1, top: 0.4675010852858295\n",
      "round: 2, top: 0.5038493641670606\n",
      "round: 3, top: 0.5913390150604345\n",
      "round: 4, top: 0.5913390150604345\n",
      "round: 5, top: 0.5913390150604345\n",
      "round: 6, top: 0.5913390150604345\n",
      "round: 7, top: 0.5913390150604345\n",
      "round: 8, top: 0.61701335703094\n",
      "round: 9, top: 0.61701335703094\n",
      "round: 10, top: 0.61701335703094\n",
      "\n",
      "Beginning run 1\n",
      "round: 0, top: 0.27879076194752395\n",
      "round: 1, top: 0.5415706951216871\n",
      "round: 2, top: 0.6439571721972801\n",
      "round: 3, top: 0.6439571721972801\n",
      "round: 4, top: 0.6439571721972801\n",
      "round: 5, top: 0.6439571721972801\n",
      "round: 6, top: 0.6843728949467904\n",
      "round: 7, top: 0.6843728949467904\n",
      "round: 8, top: 0.6843728949467904\n",
      "round: 9, top: 0.6843728949467904\n",
      "round: 10, top: 0.6843728949467904\n",
      "\n",
      "Beginning run 2\n",
      "round: 0, top: 0.27879076194752395\n",
      "round: 1, top: 0.5429437985863315\n",
      "round: 2, top: 0.5429437985863315\n",
      "round: 3, top: 0.585794812257223\n",
      "round: 4, top: 0.585794812257223\n",
      "round: 5, top: 0.6048627377780094\n",
      "round: 6, top: 0.629371235833198\n",
      "round: 7, top: 0.629371235833198\n",
      "round: 8, top: 0.629371235833198\n",
      "round: 9, top: 0.629371235833198\n",
      "round: 10, top: 0.629371235833198\n",
      "\n",
      "Beginning run 3\n",
      "round: 0, top: 0.27879076194752395\n",
      "round: 1, top: 0.45234521060964833\n",
      "round: 2, top: 0.5307931793334009\n",
      "round: 3, top: 0.5469594273202056\n",
      "round: 4, top: 0.6224021406207076\n",
      "round: 5, top: 0.6224021406207076\n",
      "round: 6, top: 0.6224021406207076\n",
      "round: 7, top: 0.6224021406207076\n",
      "round: 8, top: 0.6224021406207076\n",
      "round: 9, top: 0.6978448025299604\n",
      "round: 10, top: 0.6978448025299604\n",
      "\n",
      "Beginning run 4\n",
      "round: 0, top: 0.27879076194752395\n",
      "round: 1, top: 0.6062358412426536\n",
      "round: 2, top: 0.6412627804023963\n",
      "round: 3, top: 0.6412627804023963\n",
      "round: 4, top: 0.6412627804023963\n",
      "round: 5, top: 0.6412627804023963\n",
      "round: 6, top: 0.6412627804023963\n",
      "round: 7, top: 0.6412627804023963\n",
      "round: 8, top: 0.6412627804023963\n",
      "round: 9, top: 0.7184153757074874\n",
      "round: 10, top: 0.7184153757074874\n"
     ]
    }
   ],
   "source": [
    "for i in range(5):\n",
    "    print(f'\\nBeginning run {i}')\n",
    "    random = baselines.explorers.Random(\n",
    "        flexs.LandscapeAsModel(landscape),\n",
    "        rounds=10,\n",
    "        mu=1,\n",
    "        starting_sequence=wt,\n",
    "        sequences_batch_size=100,\n",
    "        model_queries_per_batch=1000,\n",
    "        alphabet=s_utils.RNAA,\n",
    "        log_file=f'plots/2b/random/run{i}.csv'\n",
    "    )\n",
    "    random.run(landscape)"
   ]
  },
  {
   "cell_type": "code",
   "execution_count": 18,
   "metadata": {},
   "outputs": [
    {
     "name": "stdout",
     "output_type": "stream",
     "text": [
      "\n",
      "Beginning run 0\n",
      "round: 0, top: 0.27879076194752395\n",
      "round: 1, top: 0.762509948650927\n",
      "round: 2, top: 0.9996155015582209\n",
      "round: 3, top: 0.9996155015582209\n",
      "round: 4, top: 0.9996155015582209\n",
      "round: 5, top: 0.9996155015582209\n",
      "round: 6, top: 1.0023099447443538\n",
      "round: 7, top: 1.0319481003143287\n",
      "round: 8, top: 1.0319481003143287\n",
      "round: 9, top: 1.0319481003143287\n",
      "round: 10, top: 1.0319481003143287\n",
      "\n",
      "Beginning run 1\n",
      "round: 0, top: 0.27879076194752395\n",
      "round: 1, top: 0.8406470537463127\n",
      "round: 2, top: 0.9996155015582209\n",
      "round: 3, top: 1.0319481003143287\n",
      "round: 4, top: 1.0319481003143287\n",
      "round: 5, top: 1.0319481003143287\n",
      "round: 6, top: 1.0319481003143287\n",
      "round: 7, top: 1.0319481003143287\n",
      "round: 8, top: 1.0319481003143287\n",
      "round: 9, top: 1.0319481003143287\n",
      "round: 10, top: 1.0319481003143287\n",
      "\n",
      "Beginning run 2\n",
      "round: 0, top: 0.27879076194752395\n",
      "round: 1, top: 0.6835438557611888\n",
      "round: 2, top: 0.8379526619514288\n",
      "round: 3, top: 0.9915323775648184\n",
      "round: 4, top: 1.0319481003143287\n",
      "round: 5, top: 1.0319481003143287\n",
      "round: 6, top: 1.0319481003143287\n",
      "round: 7, top: 1.0319481003143287\n",
      "round: 8, top: 1.0319481003143287\n",
      "round: 9, top: 1.0319481003143287\n",
      "round: 10, top: 1.0319481003143287\n",
      "\n",
      "Beginning run 3\n",
      "round: 0, top: 0.27879076194752395\n",
      "round: 1, top: 0.7232600950182122\n",
      "round: 2, top: 0.9591997788087105\n",
      "round: 3, top: 1.0319481003143287\n",
      "round: 4, top: 1.0319481003143287\n",
      "round: 5, top: 1.0319481003143287\n",
      "round: 6, top: 1.0319481003143287\n",
      "round: 7, top: 1.0319481003143287\n",
      "round: 8, top: 1.0319481003143287\n",
      "round: 9, top: 1.0319481003143287\n",
      "round: 10, top: 1.0319481003143287\n",
      "\n",
      "Beginning run 4\n",
      "round: 0, top: 0.27879076194752395\n",
      "round: 1, top: 0.7705931240355786\n",
      "round: 2, top: 0.940339190418271\n",
      "round: 3, top: 1.0130356453982352\n",
      "round: 4, top: 1.0130356453982352\n",
      "round: 5, top: 1.0130356453982352\n",
      "round: 6, top: 1.0130356453982352\n",
      "round: 7, top: 1.0130356453982352\n",
      "round: 8, top: 1.0130356453982352\n",
      "round: 9, top: 1.0130356453982352\n",
      "round: 10, top: 1.0130356453982352\n"
     ]
    }
   ],
   "source": [
    "for i in range(5):\n",
    "    print(f'\\nBeginning run {i}')\n",
    "    adalead = baselines.explorers.Adalead(\n",
    "        flexs.LandscapeAsModel(landscape),\n",
    "        rounds=10,\n",
    "        starting_sequence=wt,\n",
    "        sequences_batch_size=100,\n",
    "        model_queries_per_batch=1000,\n",
    "        alphabet=s_utils.RNAA,\n",
    "        log_file=f'plots/2b/adalead/run{i}.csv'\n",
    "    )\n",
    "    adalead.run(landscape)"
   ]
  },
  {
   "cell_type": "code",
   "execution_count": 23,
   "metadata": {},
   "outputs": [
    {
     "name": "stdout",
     "output_type": "stream",
     "text": [
      "\n",
      "Beginning run 0\n",
      "round: 0, top: 0.27879076194752395\n",
      "round: 1, top: 0.6709009873636202\n",
      "round: 2, top: 0.6709009873636202\n",
      "round: 3, top: 0.7553076789775309\n",
      "round: 4, top: 0.7553076789775309\n",
      "round: 5, top: 0.7553076789775309\n",
      "round: 6, top: 0.7553076789775309\n",
      "round: 7, top: 0.7553076789775309\n",
      "round: 8, top: 0.7553076789775309\n",
      "round: 9, top: 0.7553076789775309\n",
      "round: 10, top: 0.7553076789775309\n",
      "\n",
      "Beginning run 1\n",
      "round: 0, top: 0.27879076194752395\n",
      "round: 1, top: 0.6010543433919838\n",
      "round: 2, top: 0.6808494901560751\n",
      "round: 3, top: 0.6808494901560751\n",
      "round: 4, top: 0.6808494901560751\n",
      "round: 5, top: 0.6808494901560751\n",
      "round: 6, top: 0.6808494901560751\n",
      "round: 7, top: 0.6808494901560751\n",
      "round: 8, top: 0.6808494901560751\n",
      "round: 9, top: 0.7045548744499677\n",
      "round: 10, top: 0.7045548744499677\n",
      "\n",
      "Beginning run 2\n",
      "round: 0, top: 0.27879076194752395\n",
      "round: 1, top: 0.6360553823288997\n",
      "round: 2, top: 0.7079487497373381\n",
      "round: 3, top: 0.7079487497373381\n",
      "round: 4, top: 0.7079487497373381\n",
      "round: 5, top: 0.7079487497373381\n",
      "round: 6, top: 0.7079487497373381\n",
      "round: 7, top: 0.7079487497373381\n",
      "round: 8, top: 0.7079487497373381\n",
      "round: 9, top: 0.7079487497373381\n",
      "round: 10, top: 0.7079487497373381\n",
      "\n",
      "Beginning run 3\n",
      "round: 0, top: 0.27879076194752395\n",
      "round: 1, top: 0.6358740482038776\n",
      "round: 2, top: 0.7133893222717402\n",
      "round: 3, top: 0.7133893222717402\n",
      "round: 4, top: 0.7133893222717402\n",
      "round: 5, top: 0.7133893222717402\n",
      "round: 6, top: 0.7133893222717402\n",
      "round: 7, top: 0.7133893222717402\n",
      "round: 8, top: 0.7133893222717402\n",
      "round: 9, top: 0.7133893222717402\n",
      "round: 10, top: 0.7133893222717402\n",
      "\n",
      "Beginning run 4\n",
      "round: 0, top: 0.27879076194752395\n",
      "round: 1, top: 0.5466485636918389\n",
      "round: 2, top: 0.6436203674675649\n",
      "round: 3, top: 0.6436203674675649\n",
      "round: 4, top: 0.6671962222581127\n",
      "round: 5, top: 0.6671962222581127\n",
      "round: 6, top: 0.6671962222581127\n",
      "round: 7, top: 0.6671962222581127\n",
      "round: 8, top: 0.6924042299955583\n",
      "round: 9, top: 0.6924042299955583\n",
      "round: 10, top: 0.6924042299955583\n"
     ]
    }
   ],
   "source": [
    "for i in range(5):\n",
    "    print(f'\\nBeginning run {i}')\n",
    "    vae = baselines.explorers.VAE(len(wt), alphabet=s_utils.RNAA, epochs=20, verbose=False)\n",
    "    cbas = baselines.explorers.CbAS(\n",
    "        flexs.LandscapeAsModel(landscape),\n",
    "        vae,\n",
    "        rounds=10,\n",
    "        starting_sequence=wt,\n",
    "        sequences_batch_size=100,\n",
    "        model_queries_per_batch=1000,\n",
    "        alphabet=s_utils.RNAA,\n",
    "        log_file=f'plots/2b/cbas/run{i}.csv'\n",
    "    )\n",
    "    cbas.run(landscape)"
   ]
  },
  {
   "cell_type": "code",
   "execution_count": 44,
   "metadata": {},
   "outputs": [
    {
     "name": "stdout",
     "output_type": "stream",
     "text": [
      "\n",
      "Beginning run 0\n",
      "round: 0, top: 0.27879076194752395\n"
     ]
    },
    {
     "name": "stderr",
     "output_type": "stream",
     "text": [
      "/opt/anaconda3/lib/python3.7/site-packages/tensorflow/python/data/ops/dataset_ops.py:3350: UserWarning: Even though the tf.config.experimental_run_functions_eagerly option is set, this option does not apply to tf.data functions. tf.data functions are still traced and executed as graphs.\n",
      "  \"Even though the tf.config.experimental_run_functions_eagerly \"\n"
     ]
    },
    {
     "name": "stdout",
     "output_type": "stream",
     "text": [
      "round: 1, top: 0.7301774012860682\n",
      "round: 2, top: 0.7301774012860682\n",
      "round: 3, top: 0.7301774012860682\n",
      "round: 4, top: 0.7301774012860682\n",
      "round: 5, top: 0.7301774012860682\n",
      "round: 6, top: 0.7894537638172672\n",
      "round: 7, top: 0.7894537638172672\n",
      "round: 8, top: 0.7894537638172672\n",
      "round: 9, top: 0.7894537638172672\n",
      "round: 10, top: 0.7894537638172672\n",
      "\n",
      "Beginning run 1\n",
      "round: 0, top: 0.27879076194752395\n",
      "round: 1, top: 0.6048109226436046\n",
      "round: 2, top: 0.6116246248324213\n",
      "round: 3, top: 0.6116246248324213\n",
      "round: 4, top: 0.6425840687326358\n",
      "round: 5, top: 0.6425840687326358\n",
      "round: 6, top: 0.6425840687326358\n",
      "round: 7, top: 0.6425840687326358\n",
      "round: 8, top: 0.7005391943248442\n",
      "round: 9, top: 0.7005391943248442\n",
      "round: 10, top: 0.7005391943248442\n",
      "\n",
      "Beginning run 2\n",
      "round: 0, top: 0.27879076194752395\n",
      "round: 1, top: 0.6864973222398048\n",
      "round: 2, top: 0.6864973222398048\n",
      "round: 3, top: 0.6864973222398048\n",
      "round: 4, top: 0.6864973222398048\n",
      "round: 5, top: 0.6864973222398048\n",
      "round: 6, top: 0.6864973222398048\n",
      "round: 7, top: 0.6864973222398048\n",
      "round: 8, top: 0.6864973222398048\n",
      "round: 9, top: 0.6864973222398048\n",
      "round: 10, top: 0.6864973222398048\n",
      "\n",
      "Beginning run 3\n",
      "round: 0, top: 0.27879076194752395\n",
      "round: 1, top: 0.5447313959481519\n",
      "round: 2, top: 0.5447313959481519\n",
      "round: 3, top: 0.610795560445341\n",
      "round: 4, top: 0.6709009873636202\n",
      "round: 5, top: 0.6709009873636202\n",
      "round: 6, top: 0.6709009873636202\n",
      "round: 7, top: 0.7259544616116174\n",
      "round: 8, top: 0.8675908689126528\n",
      "round: 9, top: 0.8675908689126528\n",
      "round: 10, top: 0.8675908689126528\n",
      "\n",
      "Beginning run 4\n",
      "round: 0, top: 0.27879076194752395\n",
      "round: 1, top: 0.5981527172492512\n",
      "round: 2, top: 0.6439571721972801\n",
      "round: 3, top: 0.6529989057581504\n",
      "round: 4, top: 0.6529989057581504\n",
      "round: 5, top: 0.6622997140027532\n",
      "round: 6, top: 0.6733881196091765\n",
      "round: 7, top: 0.6733881196091765\n",
      "round: 8, top: 0.6733881196091765\n",
      "round: 9, top: 0.6897616785365579\n",
      "round: 10, top: 0.6897616785365579\n"
     ]
    }
   ],
   "source": [
    "for i in range(5):\n",
    "    print(f'\\nBeginning run {i}')\n",
    "    vae = baselines.explorers.VAE(len(wt), alphabet=s_utils.RNAA, epochs=20, verbose=False)\n",
    "    dbas = baselines.explorers.CbAS(\n",
    "        flexs.LandscapeAsModel(landscape),\n",
    "        vae,\n",
    "        algo='dbas',\n",
    "        rounds=10,\n",
    "        starting_sequence=wt,\n",
    "        sequences_batch_size=100,\n",
    "        model_queries_per_batch=1000,\n",
    "        alphabet=s_utils.RNAA,\n",
    "        log_file=f'plots/2b/dbas/run{i}.csv'\n",
    "    )\n",
    "    dbas.run(landscape)"
   ]
  },
  {
   "cell_type": "code",
   "execution_count": 47,
   "metadata": {},
   "outputs": [
    {
     "name": "stdout",
     "output_type": "stream",
     "text": [
      "\n",
      "Beginning run 0\n",
      "round: 0, top: 0.27879076194752395\n",
      "round: 1, top: 0.3650627930758317\n",
      "round: 2, top: 0.4337954344563264\n",
      "round: 3, top: 0.45915888660869475\n",
      "round: 4, top: 0.4894188470164226\n",
      "round: 5, top: 0.4894188470164226\n",
      "round: 6, top: 0.4894188470164226\n",
      "round: 7, top: 0.6870672867416742\n",
      "round: 8, top: 0.7571212164524084\n",
      "round: 9, top: 0.7732875158304624\n",
      "round: 10, top: 0.7732875158304624\n",
      "\n",
      "Beginning run 1\n",
      "round: 0, top: 0.27879076194752395\n",
      "round: 1, top: 0.27879076194752395\n",
      "round: 2, top: 0.30715948261802806\n",
      "round: 3, top: 0.38260217022290544\n",
      "round: 4, top: 0.4903774565838906\n",
      "round: 5, top: 0.61701335703094\n",
      "round: 6, top: 0.7247886176963005\n",
      "round: 7, top: 0.7894537638172672\n",
      "round: 8, top: 0.8756739929060553\n",
      "round: 9, top: 0.9268672828351008\n",
      "round: 10, top: 0.9268672828351008\n",
      "\n",
      "Beginning run 2\n",
      "round: 0, top: 0.27879076194752395\n",
      "round: 1, top: 0.38117726471874147\n",
      "round: 2, top: 0.385400191792453\n",
      "round: 3, top: 0.43928782212513334\n",
      "round: 4, top: 0.43928782212513334\n",
      "round: 5, top: 0.4681228901235824\n",
      "round: 6, top: 0.4681228901235824\n",
      "round: 7, top: 0.5646801748006534\n",
      "round: 8, top: 0.5805096589362648\n",
      "round: 9, top: 0.6559523722367666\n",
      "round: 10, top: 0.657480894914855\n",
      "\n",
      "Beginning run 3\n",
      "round: 0, top: 0.27879076194752395\n",
      "round: 1, top: 0.4081210798850817\n",
      "round: 2, top: 0.44649011798829963\n",
      "round: 3, top: 0.5581774033084954\n",
      "round: 4, top: 0.5744473067655885\n",
      "round: 5, top: 0.5744473067655885\n",
      "round: 6, top: 0.6019610864337981\n",
      "round: 7, top: 0.6307961544322471\n",
      "round: 8, top: 0.715176945823331\n",
      "round: 9, top: 0.715176945823331\n",
      "round: 10, top: 0.715176945823331\n",
      "\n",
      "Beginning run 4\n",
      "round: 0, top: 0.27879076194752395\n",
      "round: 1, top: 0.39876846960095935\n",
      "round: 2, top: 0.39876846960095935\n",
      "round: 3, top: 0.4399355035781004\n",
      "round: 4, top: 0.5354824280394328\n",
      "round: 5, top: 0.6976893833165164\n",
      "round: 6, top: 0.6976893833165164\n",
      "round: 7, top: 0.8244807543682589\n",
      "round: 8, top: 0.9430335308219058\n",
      "round: 9, top: 0.9726716863918807\n",
      "round: 10, top: 0.9726716863918807\n"
     ]
    }
   ],
   "source": [
    "for i in range(5):\n",
    "    print(f'\\nBeginning run {i}')\n",
    "    cmaes = baselines.explorers.CMAES(\n",
    "        flexs.LandscapeAsModel(landscape),\n",
    "        population_size=10,\n",
    "        max_iter=400,\n",
    "        rounds=10,\n",
    "        starting_sequence=wt,\n",
    "        sequences_batch_size=100,\n",
    "        model_queries_per_batch=1000,\n",
    "        alphabet=s_utils.RNAA,\n",
    "        log_file=f'plots/2b/cmaes/run{i}.csv'\n",
    "    )\n",
    "    cmaes.run(landscape)"
   ]
  },
  {
   "cell_type": "code",
   "execution_count": 54,
   "metadata": {},
   "outputs": [
    {
     "name": "stdout",
     "output_type": "stream",
     "text": [
      "\n",
      "Beginning run 0\n",
      "round: 0, top: 0.27879076194752395\n",
      "WARNING:tensorflow:From /Users/stewartslocum/Downloads/FLSD-Sandbox/flexs/baselines/explorers/ppo.py:146: ReplayBuffer.gather_all (from tf_agents.replay_buffers.replay_buffer) is deprecated and will be removed in a future version.\n",
      "Instructions for updating:\n",
      "Use `as_dataset(..., single_deterministic_pass=True)` instead.\n",
      "round: 1, top: 0.6358222330694729\n",
      "round: 2, top: 0.8912184874463563\n",
      "round: 3, top: 0.8912184874463563\n",
      "round: 4, top: 0.9187322923160446\n",
      "round: 5, top: 0.9187322923160446\n",
      "round: 6, top: 0.9187322923160446\n",
      "round: 7, top: 0.9187322923160446\n",
      "round: 8, top: 0.9726716863918807\n",
      "round: 9, top: 0.9726716863918807\n",
      "round: 10, top: 0.9726716863918807\n",
      "\n",
      "Beginning run 1\n",
      "round: 0, top: 0.27879076194752395\n",
      "round: 1, top: 0.7730284002682084\n",
      "round: 2, top: 0.9430335308219058\n",
      "round: 3, top: 0.9430335308219058\n",
      "round: 4, top: 0.9430335308219058\n",
      "round: 5, top: 0.9430335308219058\n",
      "round: 6, top: 0.9430335308219058\n",
      "round: 7, top: 0.9430335308219058\n",
      "round: 8, top: 0.9430335308219058\n",
      "round: 9, top: 1.0319481003143287\n",
      "round: 10, top: 1.0319481003143287\n",
      "\n",
      "Beginning run 2\n",
      "round: 0, top: 0.27879076194752395\n",
      "round: 1, top: 0.8622020853228852\n",
      "round: 2, top: 0.9484223144116734\n",
      "round: 3, top: 0.9484223144116734\n",
      "round: 4, top: 0.9807549131677812\n",
      "round: 5, top: 1.0023099447443538\n",
      "round: 6, top: 1.0023099447443538\n",
      "round: 7, top: 1.0023099447443538\n",
      "round: 8, top: 1.0023099447443538\n",
      "round: 9, top: 1.0023099447443538\n",
      "round: 10, top: 1.0023099447443538\n",
      "\n",
      "Beginning run 3\n",
      "round: 0, top: 0.27879076194752395\n",
      "round: 1, top: 0.761136871376053\n",
      "round: 2, top: 0.9485777588265962\n",
      "round: 3, top: 0.9485777588265962\n",
      "round: 4, top: 0.9705731992119231\n",
      "round: 5, top: 0.9705731992119231\n",
      "round: 6, top: 0.9705731992119231\n",
      "round: 7, top: 0.9705731992119231\n",
      "round: 8, top: 0.9726716863918807\n",
      "round: 9, top: 0.9726716863918807\n",
      "round: 10, top: 0.9915323775648184\n",
      "\n",
      "Beginning run 4\n",
      "round: 0, top: 0.27879076194752395\n",
      "round: 1, top: 0.8945864478221488\n",
      "round: 2, top: 0.8945864478221488\n",
      "round: 3, top: 0.8945864478221488\n",
      "round: 4, top: 0.8945864478221488\n",
      "round: 5, top: 0.8945864478221488\n",
      "round: 6, top: 0.9780604699816483\n",
      "round: 7, top: 1.0238649763209262\n",
      "round: 8, top: 1.0238649763209262\n",
      "round: 9, top: 1.0238649763209262\n",
      "round: 10, top: 1.0238649763209262\n"
     ]
    }
   ],
   "source": [
    "for i in range(5):\n",
    "    print(f'\\nBeginning run {i}')\n",
    "    ppo = baselines.explorers.PPO(\n",
    "        flexs.LandscapeAsModel(landscape),\n",
    "        rounds=10,\n",
    "        starting_sequence=wt,\n",
    "        sequences_batch_size=100,\n",
    "        model_queries_per_batch=1000,\n",
    "        alphabet=s_utils.RNAA,\n",
    "        log_file=f'plots/2b/ppo/run{i}.csv'\n",
    "    )\n",
    "    ppo.run(landscape)"
   ]
  },
  {
   "cell_type": "code",
   "execution_count": 59,
   "metadata": {},
   "outputs": [
    {
     "name": "stdout",
     "output_type": "stream",
     "text": [
      "\n",
      "Beginning run 0\n"
     ]
    },
    {
     "name": "stderr",
     "output_type": "stream",
     "text": [
      "/opt/anaconda3/lib/python3.7/site-packages/sklearn/linear_model/_coordinate_descent.py:476: ConvergenceWarning: Objective did not converge. You might want to increase the number of iterations. Duality gap: 0.0, tolerance: 0.0\n",
      "  positive)\n"
     ]
    },
    {
     "name": "stdout",
     "output_type": "stream",
     "text": [
      "round: 0, top: 0.27879076194752395\n",
      "round: 1, top: 0.6186455351793165\n",
      "round: 2, top: 0.6927928488713867\n",
      "round: 3, top: 0.6927928488713867\n",
      "round: 4, top: 0.7490380410677568\n",
      "round: 5, top: 0.7490380410677568\n",
      "round: 6, top: 0.7490380410677568\n",
      "round: 7, top: 0.7490380410677568\n",
      "round: 8, top: 0.7490380410677568\n",
      "round: 9, top: 0.7490380410677568\n",
      "round: 10, top: 0.7490380410677568\n",
      "\n",
      "Beginning run 1\n"
     ]
    },
    {
     "name": "stderr",
     "output_type": "stream",
     "text": [
      "/opt/anaconda3/lib/python3.7/site-packages/sklearn/linear_model/_coordinate_descent.py:476: ConvergenceWarning: Objective did not converge. You might want to increase the number of iterations. Duality gap: 0.0, tolerance: 0.0\n",
      "  positive)\n"
     ]
    },
    {
     "name": "stdout",
     "output_type": "stream",
     "text": [
      "round: 0, top: 0.27879076194752395\n",
      "round: 1, top: 0.7409549170743546\n",
      "round: 2, top: 0.7490380410677568\n",
      "round: 3, top: 0.7490380410677568\n",
      "round: 4, top: 0.7490380410677568\n",
      "round: 5, top: 0.7490380410677568\n",
      "round: 6, top: 0.7490380410677568\n",
      "round: 7, top: 0.7490380410677568\n",
      "round: 8, top: 0.7490380410677568\n",
      "round: 9, top: 0.7490380410677568\n",
      "round: 10, top: 0.7519138183789119\n",
      "\n",
      "Beginning run 2\n"
     ]
    },
    {
     "name": "stderr",
     "output_type": "stream",
     "text": [
      "/opt/anaconda3/lib/python3.7/site-packages/sklearn/linear_model/_coordinate_descent.py:476: ConvergenceWarning: Objective did not converge. You might want to increase the number of iterations. Duality gap: 0.0, tolerance: 0.0\n",
      "  positive)\n"
     ]
    },
    {
     "name": "stdout",
     "output_type": "stream",
     "text": [
      "round: 0, top: 0.27879076194752395\n",
      "round: 1, top: 0.4406868405013557\n",
      "round: 2, top: 0.6789841627482718\n",
      "round: 3, top: 0.6789841627482718\n",
      "round: 4, top: 0.7680541766556175\n",
      "round: 5, top: 0.7680541766556175\n",
      "round: 6, top: 0.7680541766556175\n",
      "round: 7, top: 0.7680541766556175\n",
      "round: 8, top: 0.7680541766556175\n",
      "round: 9, top: 0.7680541766556175\n",
      "round: 10, top: 0.7680541766556175\n",
      "\n",
      "Beginning run 3\n"
     ]
    },
    {
     "name": "stderr",
     "output_type": "stream",
     "text": [
      "/opt/anaconda3/lib/python3.7/site-packages/sklearn/linear_model/_coordinate_descent.py:476: ConvergenceWarning: Objective did not converge. You might want to increase the number of iterations. Duality gap: 0.0, tolerance: 0.0\n",
      "  positive)\n"
     ]
    },
    {
     "name": "stdout",
     "output_type": "stream",
     "text": [
      "round: 0, top: 0.27879076194752395\n",
      "round: 1, top: 0.6439571721972801\n",
      "round: 2, top: 0.6439571721972801\n",
      "round: 3, top: 0.6439571721972801\n",
      "round: 4, top: 0.6439571721972801\n",
      "round: 5, top: 0.677999652957977\n",
      "round: 6, top: 0.677999652957977\n",
      "round: 7, top: 0.7192962300274937\n",
      "round: 8, top: 0.7192962300274937\n",
      "round: 9, top: 0.7192962300274937\n",
      "round: 10, top: 0.7192962300274937\n",
      "\n",
      "Beginning run 4\n"
     ]
    },
    {
     "name": "stderr",
     "output_type": "stream",
     "text": [
      "/opt/anaconda3/lib/python3.7/site-packages/sklearn/linear_model/_coordinate_descent.py:476: ConvergenceWarning: Objective did not converge. You might want to increase the number of iterations. Duality gap: 0.0, tolerance: 0.0\n",
      "  positive)\n"
     ]
    },
    {
     "name": "stdout",
     "output_type": "stream",
     "text": [
      "round: 0, top: 0.27879076194752395\n",
      "round: 1, top: 0.5968314289190118\n",
      "round: 2, top: 0.600847057652886\n",
      "round: 3, top: 0.6620924544534257\n",
      "round: 4, top: 0.6620924544534257\n",
      "round: 5, top: 0.6620924544534257\n",
      "round: 6, top: 0.6789841627482718\n",
      "round: 7, top: 0.6789841627482718\n",
      "round: 8, top: 0.7087000483642295\n",
      "round: 9, top: 0.7087000483642295\n",
      "round: 10, top: 0.7247886176963005\n"
     ]
    }
   ],
   "source": [
    "for i in range(5):\n",
    "    print(f'\\nBeginning run {i}')\n",
    "    dyna_ppo = baselines.explorers.DynaPPO(\n",
    "        rounds=10,\n",
    "        num_model_rounds=1,\n",
    "        starting_sequence=wt,\n",
    "        sequences_batch_size=100,\n",
    "        model_queries_per_batch=1000,\n",
    "        alphabet=s_utils.RNAA,\n",
    "        log_file=f'plots/2b/dyna_ppo/run{i}.csv'\n",
    "    )\n",
    "    dyna_ppo.run(landscape)"
   ]
  },
  {
   "cell_type": "code",
   "execution_count": 70,
   "metadata": {},
   "outputs": [
    {
     "data": {
      "image/png": "[encoded data removed]",
      "text/plain": [
       "<Figure size 1152x504 with 1 Axes>"
      ]
     },
     "metadata": {
      "needs_background": "light"
     },
     "output_type": "display_data"
    }
   ],
   "source": [
    "import glob\n",
    "import pandas as pd\n",
    "\n",
    "def cumulative_max_per_round(sequences):\n",
    "    num_rounds = sequences['round'].max() + 1\n",
    "    max_per_round = [sequences['true_score'][sequences['round'] == r].max()\n",
    "                     for r in range(num_rounds)]\n",
    "    return np.maximum.accumulate(max_per_round)\n",
    "\n",
    "def compute_scores(run_dir):\n",
    "    rounds = []\n",
    "    scores = []\n",
    "    for fname in glob.glob(f'{run_dir}/*'):\n",
    "        # Skip metadata in header\n",
    "        with open(fname) as f:\n",
    "            next(f)\n",
    "            df = pd.read_csv(f)\n",
    "\n",
    "        max_per_round = cumulative_max_per_round(df)\n",
    "        scores.extend(max_per_round)\n",
    "        rounds.extend(range(len(max_per_round)))\n",
    "    \n",
    "    return rounds, scores\n",
    "\n",
    "plt.figure(figsize=(16, 7))\n",
    "sns.lineplot(*compute_scores('plots/2b/random'), label=\"Random\")\n",
    "sns.lineplot(*compute_scores('plots/2b/adalead'), label=\"AdaLead\")\n",
    "sns.lineplot(*compute_scores('plots/2b/cbas'), label=\"CbAS\")\n",
    "sns.lineplot(*compute_scores('plots/2b/dbas'), label=\"DbAS\")\n",
    "sns.lineplot(*compute_scores('plots/2b/cmaes'), label=\"CMAES\")\n",
    "sns.lineplot(*compute_scores('plots/2b/ppo'), label=\"PPO\")\n",
    "sns.lineplot(*compute_scores('plots/2b/dyna_ppo'), label=\"DynaPPO\")\n",
    "plt.ylim(0)\n",
    "plt.show()"
   ]
  },
  {
   "cell_type": "markdown",
   "metadata": {},
   "source": [
    "## Figure 2D"
   ]
  },
  {
   "cell_type": "code",
   "execution_count": null,
   "metadata": {},
   "outputs": [],
   "source": [
    "def make_adalead(model, ss):\n",
    "    return baselines.explorers.Adalead(\n",
    "        model,\n",
    "        rounds=10,\n",
    "        starting_sequence=wt,\n",
    "        sequences_batch_size=100,\n",
    "        model_queries_per_batch=1000,\n",
    "        alphabet=s_utils.RNAA,\n",
    "        log_file=f'plots/2d/adalead/signal_strength={ss}'\n",
    "    )\n",
    "flexs.evaluate.robustness(landscape, make_explorer)"
   ]
  },
  {
   "cell_type": "markdown",
   "metadata": {},
   "source": [
    "## Comparing our implementation to that in the DyNAPPO paper"
   ]
  },
  {
   "cell_type": "code",
   "execution_count": 82,
   "metadata": {},
   "outputs": [],
   "source": [
    "problem = flexs.landscapes.tf_binding.registry()['SIX6_REF_R1']\n",
    "wt = 'AAAAAAAA'\n",
    "landscape = flexs.landscapes.TFBinding(**problem['params'])"
   ]
  },
  {
   "cell_type": "code",
   "execution_count": 86,
   "metadata": {},
   "outputs": [
    {
     "name": "stdout",
     "output_type": "stream",
     "text": [
      "\n",
      "Beginning run 0\n",
      "round: 0, top: 0.5247495155238527\n",
      "round: 1, top: 0.871881829052076\n",
      "round: 2, top: 0.8994454294314106\n",
      "round: 3, top: 0.9246072650806088\n",
      "round: 4, top: 0.9246072650806088\n",
      "round: 5, top: 0.9246072650806088\n",
      "round: 6, top: 0.9246072650806088\n",
      "round: 7, top: 0.9732094998556879\n",
      "round: 8, top: 0.9794149177421351\n",
      "round: 9, top: 0.9794149177421351\n",
      "round: 10, top: 0.9794149177421351\n",
      "\n",
      "Beginning run 1\n",
      "round: 0, top: 0.5247495155238527\n",
      "round: 1, top: 0.8724693852306932\n",
      "round: 2, top: 0.9030738465344494\n",
      "round: 3, top: 0.9771986970684039\n",
      "round: 4, top: 0.9771986970684039\n",
      "round: 5, top: 0.9771986970684039\n",
      "round: 6, top: 0.9771986970684039\n",
      "round: 7, top: 0.9771986970684039\n",
      "round: 8, top: 0.9771986970684039\n",
      "round: 9, top: 0.9771986970684039\n",
      "round: 10, top: 0.9771986970684039\n",
      "\n",
      "Beginning run 2\n",
      "round: 0, top: 0.5247495155238527\n",
      "round: 1, top: 0.9565414587886034\n",
      "round: 2, top: 0.961973776440028\n",
      "round: 3, top: 0.961973776440028\n",
      "round: 4, top: 0.961973776440028\n",
      "round: 5, top: 0.9692615346555066\n",
      "round: 6, top: 0.9692615346555066\n",
      "round: 7, top: 0.9692615346555066\n",
      "round: 8, top: 0.9692615346555066\n",
      "round: 9, top: 0.9692615346555066\n",
      "round: 10, top: 0.9692615346555066\n",
      "\n",
      "Beginning run 3\n",
      "round: 0, top: 0.5247495155238527\n",
      "round: 1, top: 0.9008988578732527\n",
      "round: 2, top: 0.9008988578732527\n",
      "round: 3, top: 0.9794870737640705\n",
      "round: 4, top: 0.9794870737640705\n",
      "round: 5, top: 0.9794870737640705\n",
      "round: 6, top: 0.9794870737640705\n",
      "round: 7, top: 0.9794870737640705\n",
      "round: 8, top: 0.9935059580258113\n",
      "round: 9, top: 0.9935059580258113\n",
      "round: 10, top: 0.9935059580258113\n",
      "\n",
      "Beginning run 4\n",
      "round: 0, top: 0.5247495155238527\n",
      "round: 1, top: 0.9466663917865831\n",
      "round: 2, top: 0.9466663917865831\n",
      "round: 3, top: 0.9795592297860058\n",
      "round: 4, top: 0.9795592297860058\n",
      "round: 5, top: 0.982589782707294\n",
      "round: 6, top: 0.982589782707294\n",
      "round: 7, top: 0.982589782707294\n",
      "round: 8, top: 0.982589782707294\n",
      "round: 9, top: 0.982589782707294\n",
      "round: 10, top: 0.982589782707294\n"
     ]
    }
   ],
   "source": [
    "for i in range(5):\n",
    "    print(f'\\nBeginning run {i}')\n",
    "    random = baselines.explorers.Random(\n",
    "        flexs.LandscapeAsModel(landscape),\n",
    "        rounds=10,\n",
    "        mu=1,\n",
    "        starting_sequence=wt,\n",
    "        sequences_batch_size=100,\n",
    "        model_queries_per_batch=1000,\n",
    "        alphabet=s_utils.DNAA,\n",
    "    )\n",
    "    random.run(landscape)"
   ]
  },
  {
   "cell_type": "code",
   "execution_count": 96,
   "metadata": {},
   "outputs": [
    {
     "name": "stdout",
     "output_type": "stream",
     "text": [
      "\n",
      "Beginning run 0\n",
      "WARNING:tensorflow:8 out of the last 14 calls to <function Model.make_predict_function.<locals>.predict_function at 0x7fd2760ef5f0> triggered tf.function retracing. Tracing is expensive and the excessive number of tracings could be due to (1) creating @tf.function repeatedly in a loop, (2) passing tensors with different shapes, (3) passing Python objects instead of tensors. For (1), please define your @tf.function outside of the loop. For (2), @tf.function has experimental_relax_shapes=True option that relaxes argument shapes that can avoid unnecessary retracing. For (3), please refer to https://www.tensorflow.org/tutorials/customization/performance#python_or_tensor_args and https://www.tensorflow.org/api_docs/python/tf/function for  more details.\n",
      "WARNING:tensorflow:8 out of the last 11 calls to <function Model.make_predict_function.<locals>.predict_function at 0x7fd20d68bcb0> triggered tf.function retracing. Tracing is expensive and the excessive number of tracings could be due to (1) creating @tf.function repeatedly in a loop, (2) passing tensors with different shapes, (3) passing Python objects instead of tensors. For (1), please define your @tf.function outside of the loop. For (2), @tf.function has experimental_relax_shapes=True option that relaxes argument shapes that can avoid unnecessary retracing. For (3), please refer to https://www.tensorflow.org/tutorials/customization/performance#python_or_tensor_args and https://www.tensorflow.org/api_docs/python/tf/function for  more details.\n"
     ]
    },
    {
     "name": "stderr",
     "output_type": "stream",
     "text": [
      "/opt/anaconda3/lib/python3.7/site-packages/sklearn/linear_model/_coordinate_descent.py:476: ConvergenceWarning: Objective did not converge. You might want to increase the number of iterations. Duality gap: 0.0, tolerance: 0.0\n",
      "  positive)\n",
      "/opt/anaconda3/lib/python3.7/site-packages/scipy/stats/stats.py:3508: PearsonRConstantInputWarning: An input array is constant; the correlation coefficent is not defined.\n",
      "  warnings.warn(PearsonRConstantInputWarning())\n"
     ]
    },
    {
     "name": "stdout",
     "output_type": "stream",
     "text": [
      "WARNING:tensorflow:8 out of the last 11 calls to <function Model.make_predict_function.<locals>.predict_function at 0x7fd23ad1d200> triggered tf.function retracing. Tracing is expensive and the excessive number of tracings could be due to (1) creating @tf.function repeatedly in a loop, (2) passing tensors with different shapes, (3) passing Python objects instead of tensors. For (1), please define your @tf.function outside of the loop. For (2), @tf.function has experimental_relax_shapes=True option that relaxes argument shapes that can avoid unnecessary retracing. For (3), please refer to https://www.tensorflow.org/tutorials/customization/performance#python_or_tensor_args and https://www.tensorflow.org/api_docs/python/tf/function for  more details.\n",
      "round: 0, top: 0.5247495155238527\n"
     ]
    },
    {
     "name": "stderr",
     "output_type": "stream",
     "text": [
      "/opt/anaconda3/lib/python3.7/site-packages/scipy/stats/stats.py:3508: PearsonRConstantInputWarning: An input array is constant; the correlation coefficent is not defined.\n",
      "  warnings.warn(PearsonRConstantInputWarning())\n",
      "/opt/anaconda3/lib/python3.7/site-packages/scipy/stats/stats.py:3508: PearsonRConstantInputWarning: An input array is constant; the correlation coefficent is not defined.\n",
      "  warnings.warn(PearsonRConstantInputWarning())\n",
      "/opt/anaconda3/lib/python3.7/site-packages/scipy/stats/stats.py:3508: PearsonRConstantInputWarning: An input array is constant; the correlation coefficent is not defined.\n",
      "  warnings.warn(PearsonRConstantInputWarning())\n",
      "/opt/anaconda3/lib/python3.7/site-packages/scipy/stats/stats.py:3508: PearsonRConstantInputWarning: An input array is constant; the correlation coefficent is not defined.\n",
      "  warnings.warn(PearsonRConstantInputWarning())\n",
      "/opt/anaconda3/lib/python3.7/site-packages/scipy/stats/stats.py:3508: PearsonRConstantInputWarning: An input array is constant; the correlation coefficent is not defined.\n",
      "  warnings.warn(PearsonRConstantInputWarning())\n",
      "/opt/anaconda3/lib/python3.7/site-packages/scipy/stats/stats.py:3508: PearsonRConstantInputWarning: An input array is constant; the correlation coefficent is not defined.\n",
      "  warnings.warn(PearsonRConstantInputWarning())\n",
      "/opt/anaconda3/lib/python3.7/site-packages/scipy/stats/stats.py:3508: PearsonRConstantInputWarning: An input array is constant; the correlation coefficent is not defined.\n",
      "  warnings.warn(PearsonRConstantInputWarning())\n",
      "/opt/anaconda3/lib/python3.7/site-packages/scipy/stats/stats.py:3508: PearsonRConstantInputWarning: An input array is constant; the correlation coefficent is not defined.\n",
      "  warnings.warn(PearsonRConstantInputWarning())\n"
     ]
    },
    {
     "name": "stdout",
     "output_type": "stream",
     "text": [
      "round: 1, top: 0.8964767245289242\n"
     ]
    },
    {
     "name": "stderr",
     "output_type": "stream",
     "text": [
      "/opt/anaconda3/lib/python3.7/site-packages/scipy/stats/stats.py:3508: PearsonRConstantInputWarning: An input array is constant; the correlation coefficent is not defined.\n",
      "  warnings.warn(PearsonRConstantInputWarning())\n"
     ]
    },
    {
     "name": "stdout",
     "output_type": "stream",
     "text": [
      "round: 2, top: 0.9114336370758258\n"
     ]
    },
    {
     "name": "stderr",
     "output_type": "stream",
     "text": [
      "/opt/anaconda3/lib/python3.7/site-packages/scipy/stats/stats.py:3508: PearsonRConstantInputWarning: An input array is constant; the correlation coefficent is not defined.\n",
      "  warnings.warn(PearsonRConstantInputWarning())\n"
     ]
    },
    {
     "name": "stdout",
     "output_type": "stream",
     "text": [
      "round: 3, top: 0.9616026883272173\n"
     ]
    },
    {
     "name": "stderr",
     "output_type": "stream",
     "text": [
      "/opt/anaconda3/lib/python3.7/site-packages/scipy/stats/stats.py:3508: PearsonRConstantInputWarning: An input array is constant; the correlation coefficent is not defined.\n",
      "  warnings.warn(PearsonRConstantInputWarning())\n"
     ]
    },
    {
     "name": "stdout",
     "output_type": "stream",
     "text": [
      "round: 4, top: 0.9694780027213128\n"
     ]
    },
    {
     "name": "stderr",
     "output_type": "stream",
     "text": [
      "/opt/anaconda3/lib/python3.7/site-packages/scipy/stats/stats.py:3508: PearsonRConstantInputWarning: An input array is constant; the correlation coefficent is not defined.\n",
      "  warnings.warn(PearsonRConstantInputWarning())\n"
     ]
    },
    {
     "name": "stdout",
     "output_type": "stream",
     "text": [
      "round: 5, top: 0.982589782707294\n"
     ]
    },
    {
     "name": "stderr",
     "output_type": "stream",
     "text": [
      "/opt/anaconda3/lib/python3.7/site-packages/scipy/stats/stats.py:3508: PearsonRConstantInputWarning: An input array is constant; the correlation coefficent is not defined.\n",
      "  warnings.warn(PearsonRConstantInputWarning())\n"
     ]
    },
    {
     "name": "stdout",
     "output_type": "stream",
     "text": [
      "round: 6, top: 0.982589782707294\n"
     ]
    },
    {
     "name": "stderr",
     "output_type": "stream",
     "text": [
      "/opt/anaconda3/lib/python3.7/site-packages/scipy/stats/stats.py:3508: PearsonRConstantInputWarning: An input array is constant; the correlation coefficent is not defined.\n",
      "  warnings.warn(PearsonRConstantInputWarning())\n"
     ]
    },
    {
     "name": "stdout",
     "output_type": "stream",
     "text": [
      "round: 7, top: 0.982589782707294\n"
     ]
    },
    {
     "name": "stderr",
     "output_type": "stream",
     "text": [
      "/opt/anaconda3/lib/python3.7/site-packages/scipy/stats/stats.py:3508: PearsonRConstantInputWarning: An input array is constant; the correlation coefficent is not defined.\n",
      "  warnings.warn(PearsonRConstantInputWarning())\n"
     ]
    },
    {
     "name": "stdout",
     "output_type": "stream",
     "text": [
      "round: 8, top: 0.9831051828639755\n"
     ]
    },
    {
     "name": "stderr",
     "output_type": "stream",
     "text": [
      "/opt/anaconda3/lib/python3.7/site-packages/scipy/stats/stats.py:3508: PearsonRConstantInputWarning: An input array is constant; the correlation coefficent is not defined.\n",
      "  warnings.warn(PearsonRConstantInputWarning())\n"
     ]
    },
    {
     "name": "stdout",
     "output_type": "stream",
     "text": [
      "round: 9, top: 0.9831051828639755\n"
     ]
    },
    {
     "name": "stderr",
     "output_type": "stream",
     "text": [
      "/opt/anaconda3/lib/python3.7/site-packages/scipy/stats/stats.py:3508: PearsonRConstantInputWarning: An input array is constant; the correlation coefficent is not defined.\n",
      "  warnings.warn(PearsonRConstantInputWarning())\n"
     ]
    },
    {
     "name": "stdout",
     "output_type": "stream",
     "text": [
      "round: 10, top: 0.9831051828639755\n",
      "\n",
      "Beginning run 1\n"
     ]
    },
    {
     "name": "stderr",
     "output_type": "stream",
     "text": [
      "/opt/anaconda3/lib/python3.7/site-packages/sklearn/linear_model/_coordinate_descent.py:476: ConvergenceWarning: Objective did not converge. You might want to increase the number of iterations. Duality gap: 0.0, tolerance: 0.0\n",
      "  positive)\n",
      "/opt/anaconda3/lib/python3.7/site-packages/scipy/stats/stats.py:3508: PearsonRConstantInputWarning: An input array is constant; the correlation coefficent is not defined.\n",
      "  warnings.warn(PearsonRConstantInputWarning())\n",
      "/opt/anaconda3/lib/python3.7/site-packages/scipy/stats/stats.py:3508: PearsonRConstantInputWarning: An input array is constant; the correlation coefficent is not defined.\n",
      "  warnings.warn(PearsonRConstantInputWarning())\n",
      "/opt/anaconda3/lib/python3.7/site-packages/scipy/stats/stats.py:3508: PearsonRConstantInputWarning: An input array is constant; the correlation coefficent is not defined.\n",
      "  warnings.warn(PearsonRConstantInputWarning())\n",
      "/opt/anaconda3/lib/python3.7/site-packages/scipy/stats/stats.py:3508: PearsonRConstantInputWarning: An input array is constant; the correlation coefficent is not defined.\n",
      "  warnings.warn(PearsonRConstantInputWarning())\n",
      "/opt/anaconda3/lib/python3.7/site-packages/scipy/stats/stats.py:3508: PearsonRConstantInputWarning: An input array is constant; the correlation coefficent is not defined.\n",
      "  warnings.warn(PearsonRConstantInputWarning())\n",
      "/opt/anaconda3/lib/python3.7/site-packages/scipy/stats/stats.py:3508: PearsonRConstantInputWarning: An input array is constant; the correlation coefficent is not defined.\n",
      "  warnings.warn(PearsonRConstantInputWarning())\n",
      "/opt/anaconda3/lib/python3.7/site-packages/scipy/stats/stats.py:3508: PearsonRConstantInputWarning: An input array is constant; the correlation coefficent is not defined.\n",
      "  warnings.warn(PearsonRConstantInputWarning())\n",
      "/opt/anaconda3/lib/python3.7/site-packages/scipy/stats/stats.py:3508: PearsonRConstantInputWarning: An input array is constant; the correlation coefficent is not defined.\n",
      "  warnings.warn(PearsonRConstantInputWarning())\n",
      "/opt/anaconda3/lib/python3.7/site-packages/scipy/stats/stats.py:3508: PearsonRConstantInputWarning: An input array is constant; the correlation coefficent is not defined.\n",
      "  warnings.warn(PearsonRConstantInputWarning())\n"
     ]
    },
    {
     "name": "stdout",
     "output_type": "stream",
     "text": [
      "round: 0, top: 0.5247495155238527\n",
      "round: 1, top: 0.8904362346926153\n"
     ]
    },
    {
     "name": "stderr",
     "output_type": "stream",
     "text": [
      "/opt/anaconda3/lib/python3.7/site-packages/scipy/stats/stats.py:3508: PearsonRConstantInputWarning: An input array is constant; the correlation coefficent is not defined.\n",
      "  warnings.warn(PearsonRConstantInputWarning())\n"
     ]
    },
    {
     "name": "stdout",
     "output_type": "stream",
     "text": [
      "round: 2, top: 0.9719106914608502\n"
     ]
    },
    {
     "name": "stderr",
     "output_type": "stream",
     "text": [
      "/opt/anaconda3/lib/python3.7/site-packages/scipy/stats/stats.py:3508: PearsonRConstantInputWarning: An input array is constant; the correlation coefficent is not defined.\n",
      "  warnings.warn(PearsonRConstantInputWarning())\n"
     ]
    },
    {
     "name": "stdout",
     "output_type": "stream",
     "text": [
      "round: 3, top: 0.9719106914608502\n"
     ]
    },
    {
     "name": "stderr",
     "output_type": "stream",
     "text": [
      "/opt/anaconda3/lib/python3.7/site-packages/scipy/stats/stats.py:3508: PearsonRConstantInputWarning: An input array is constant; the correlation coefficent is not defined.\n",
      "  warnings.warn(PearsonRConstantInputWarning())\n"
     ]
    },
    {
     "name": "stdout",
     "output_type": "stream",
     "text": [
      "round: 4, top: 0.9741062961283141\n"
     ]
    },
    {
     "name": "stderr",
     "output_type": "stream",
     "text": [
      "/opt/anaconda3/lib/python3.7/site-packages/scipy/stats/stats.py:3508: PearsonRConstantInputWarning: An input array is constant; the correlation coefficent is not defined.\n",
      "  warnings.warn(PearsonRConstantInputWarning())\n"
     ]
    },
    {
     "name": "stdout",
     "output_type": "stream",
     "text": [
      "round: 5, top: 0.9741062961283141\n"
     ]
    },
    {
     "name": "stderr",
     "output_type": "stream",
     "text": [
      "/opt/anaconda3/lib/python3.7/site-packages/scipy/stats/stats.py:3508: PearsonRConstantInputWarning: An input array is constant; the correlation coefficent is not defined.\n",
      "  warnings.warn(PearsonRConstantInputWarning())\n"
     ]
    },
    {
     "name": "stdout",
     "output_type": "stream",
     "text": [
      "round: 6, top: 0.9741062961283141\n"
     ]
    },
    {
     "name": "stderr",
     "output_type": "stream",
     "text": [
      "/opt/anaconda3/lib/python3.7/site-packages/scipy/stats/stats.py:3508: PearsonRConstantInputWarning: An input array is constant; the correlation coefficent is not defined.\n",
      "  warnings.warn(PearsonRConstantInputWarning())\n"
     ]
    },
    {
     "name": "stdout",
     "output_type": "stream",
     "text": [
      "round: 7, top: 0.9741062961283141\n"
     ]
    },
    {
     "name": "stderr",
     "output_type": "stream",
     "text": [
      "/opt/anaconda3/lib/python3.7/site-packages/scipy/stats/stats.py:3508: PearsonRConstantInputWarning: An input array is constant; the correlation coefficent is not defined.\n",
      "  warnings.warn(PearsonRConstantInputWarning())\n"
     ]
    },
    {
     "name": "stdout",
     "output_type": "stream",
     "text": [
      "round: 8, top: 0.9942172102420319\n"
     ]
    },
    {
     "name": "stderr",
     "output_type": "stream",
     "text": [
      "/opt/anaconda3/lib/python3.7/site-packages/scipy/stats/stats.py:3508: PearsonRConstantInputWarning: An input array is constant; the correlation coefficent is not defined.\n",
      "  warnings.warn(PearsonRConstantInputWarning())\n"
     ]
    },
    {
     "name": "stdout",
     "output_type": "stream",
     "text": [
      "round: 9, top: 0.9942172102420319\n"
     ]
    },
    {
     "name": "stderr",
     "output_type": "stream",
     "text": [
      "/opt/anaconda3/lib/python3.7/site-packages/scipy/stats/stats.py:3508: PearsonRConstantInputWarning: An input array is constant; the correlation coefficent is not defined.\n",
      "  warnings.warn(PearsonRConstantInputWarning())\n"
     ]
    },
    {
     "name": "stdout",
     "output_type": "stream",
     "text": [
      "round: 10, top: 0.9942172102420319\n",
      "\n",
      "Beginning run 2\n"
     ]
    },
    {
     "name": "stderr",
     "output_type": "stream",
     "text": [
      "/opt/anaconda3/lib/python3.7/site-packages/sklearn/linear_model/_coordinate_descent.py:476: ConvergenceWarning: Objective did not converge. You might want to increase the number of iterations. Duality gap: 0.0, tolerance: 0.0\n",
      "  positive)\n",
      "/opt/anaconda3/lib/python3.7/site-packages/scipy/stats/stats.py:3508: PearsonRConstantInputWarning: An input array is constant; the correlation coefficent is not defined.\n",
      "  warnings.warn(PearsonRConstantInputWarning())\n",
      "/opt/anaconda3/lib/python3.7/site-packages/scipy/stats/stats.py:3508: PearsonRConstantInputWarning: An input array is constant; the correlation coefficent is not defined.\n",
      "  warnings.warn(PearsonRConstantInputWarning())\n",
      "/opt/anaconda3/lib/python3.7/site-packages/scipy/stats/stats.py:3508: PearsonRConstantInputWarning: An input array is constant; the correlation coefficent is not defined.\n",
      "  warnings.warn(PearsonRConstantInputWarning())\n",
      "/opt/anaconda3/lib/python3.7/site-packages/scipy/stats/stats.py:3508: PearsonRConstantInputWarning: An input array is constant; the correlation coefficent is not defined.\n",
      "  warnings.warn(PearsonRConstantInputWarning())\n",
      "/opt/anaconda3/lib/python3.7/site-packages/scipy/stats/stats.py:3508: PearsonRConstantInputWarning: An input array is constant; the correlation coefficent is not defined.\n",
      "  warnings.warn(PearsonRConstantInputWarning())\n",
      "/opt/anaconda3/lib/python3.7/site-packages/scipy/stats/stats.py:3508: PearsonRConstantInputWarning: An input array is constant; the correlation coefficent is not defined.\n",
      "  warnings.warn(PearsonRConstantInputWarning())\n",
      "/opt/anaconda3/lib/python3.7/site-packages/scipy/stats/stats.py:3508: PearsonRConstantInputWarning: An input array is constant; the correlation coefficent is not defined.\n",
      "  warnings.warn(PearsonRConstantInputWarning())\n",
      "/opt/anaconda3/lib/python3.7/site-packages/scipy/stats/stats.py:3508: PearsonRConstantInputWarning: An input array is constant; the correlation coefficent is not defined.\n",
      "  warnings.warn(PearsonRConstantInputWarning())\n",
      "/opt/anaconda3/lib/python3.7/site-packages/scipy/stats/stats.py:3508: PearsonRConstantInputWarning: An input array is constant; the correlation coefficent is not defined.\n",
      "  warnings.warn(PearsonRConstantInputWarning())\n"
     ]
    },
    {
     "name": "stdout",
     "output_type": "stream",
     "text": [
      "round: 0, top: 0.5247495155238527\n",
      "round: 1, top: 0.9302148187853049\n"
     ]
    },
    {
     "name": "stderr",
     "output_type": "stream",
     "text": [
      "/opt/anaconda3/lib/python3.7/site-packages/scipy/stats/stats.py:3508: PearsonRConstantInputWarning: An input array is constant; the correlation coefficent is not defined.\n",
      "  warnings.warn(PearsonRConstantInputWarning())\n"
     ]
    },
    {
     "name": "stdout",
     "output_type": "stream",
     "text": [
      "round: 2, top: 0.9302148187853049\n"
     ]
    },
    {
     "name": "stderr",
     "output_type": "stream",
     "text": [
      "/opt/anaconda3/lib/python3.7/site-packages/scipy/stats/stats.py:3508: PearsonRConstantInputWarning: An input array is constant; the correlation coefficent is not defined.\n",
      "  warnings.warn(PearsonRConstantInputWarning())\n"
     ]
    },
    {
     "name": "stdout",
     "output_type": "stream",
     "text": [
      "round: 3, top: 0.9657155815775369\n"
     ]
    },
    {
     "name": "stderr",
     "output_type": "stream",
     "text": [
      "/opt/anaconda3/lib/python3.7/site-packages/scipy/stats/stats.py:3508: PearsonRConstantInputWarning: An input array is constant; the correlation coefficent is not defined.\n",
      "  warnings.warn(PearsonRConstantInputWarning())\n"
     ]
    },
    {
     "name": "stdout",
     "output_type": "stream",
     "text": [
      "round: 4, top: 0.9692615346555066\n"
     ]
    },
    {
     "name": "stderr",
     "output_type": "stream",
     "text": [
      "/opt/anaconda3/lib/python3.7/site-packages/scipy/stats/stats.py:3508: PearsonRConstantInputWarning: An input array is constant; the correlation coefficent is not defined.\n",
      "  warnings.warn(PearsonRConstantInputWarning())\n"
     ]
    },
    {
     "name": "stdout",
     "output_type": "stream",
     "text": [
      "round: 5, top: 0.989691996866367\n"
     ]
    },
    {
     "name": "stderr",
     "output_type": "stream",
     "text": [
      "/opt/anaconda3/lib/python3.7/site-packages/scipy/stats/stats.py:3508: PearsonRConstantInputWarning: An input array is constant; the correlation coefficent is not defined.\n",
      "  warnings.warn(PearsonRConstantInputWarning())\n"
     ]
    },
    {
     "name": "stdout",
     "output_type": "stream",
     "text": [
      "round: 6, top: 0.989691996866367\n"
     ]
    },
    {
     "name": "stderr",
     "output_type": "stream",
     "text": [
      "/opt/anaconda3/lib/python3.7/site-packages/scipy/stats/stats.py:3508: PearsonRConstantInputWarning: An input array is constant; the correlation coefficent is not defined.\n",
      "  warnings.warn(PearsonRConstantInputWarning())\n"
     ]
    },
    {
     "name": "stdout",
     "output_type": "stream",
     "text": [
      "round: 7, top: 0.989691996866367\n"
     ]
    },
    {
     "name": "stderr",
     "output_type": "stream",
     "text": [
      "/opt/anaconda3/lib/python3.7/site-packages/scipy/stats/stats.py:3508: PearsonRConstantInputWarning: An input array is constant; the correlation coefficent is not defined.\n",
      "  warnings.warn(PearsonRConstantInputWarning())\n"
     ]
    },
    {
     "name": "stdout",
     "output_type": "stream",
     "text": [
      "round: 8, top: 0.989691996866367\n"
     ]
    },
    {
     "name": "stderr",
     "output_type": "stream",
     "text": [
      "/opt/anaconda3/lib/python3.7/site-packages/scipy/stats/stats.py:3508: PearsonRConstantInputWarning: An input array is constant; the correlation coefficent is not defined.\n",
      "  warnings.warn(PearsonRConstantInputWarning())\n"
     ]
    },
    {
     "name": "stdout",
     "output_type": "stream",
     "text": [
      "round: 9, top: 0.9935059580258113\n"
     ]
    },
    {
     "name": "stderr",
     "output_type": "stream",
     "text": [
      "/opt/anaconda3/lib/python3.7/site-packages/scipy/stats/stats.py:3508: PearsonRConstantInputWarning: An input array is constant; the correlation coefficent is not defined.\n",
      "  warnings.warn(PearsonRConstantInputWarning())\n"
     ]
    },
    {
     "name": "stdout",
     "output_type": "stream",
     "text": [
      "round: 10, top: 0.9935059580258113\n",
      "\n",
      "Beginning run 3\n"
     ]
    },
    {
     "name": "stderr",
     "output_type": "stream",
     "text": [
      "/opt/anaconda3/lib/python3.7/site-packages/sklearn/linear_model/_coordinate_descent.py:476: ConvergenceWarning: Objective did not converge. You might want to increase the number of iterations. Duality gap: 0.0, tolerance: 0.0\n",
      "  positive)\n",
      "/opt/anaconda3/lib/python3.7/site-packages/scipy/stats/stats.py:3508: PearsonRConstantInputWarning: An input array is constant; the correlation coefficent is not defined.\n",
      "  warnings.warn(PearsonRConstantInputWarning())\n",
      "/opt/anaconda3/lib/python3.7/site-packages/scipy/stats/stats.py:3508: PearsonRConstantInputWarning: An input array is constant; the correlation coefficent is not defined.\n",
      "  warnings.warn(PearsonRConstantInputWarning())\n",
      "/opt/anaconda3/lib/python3.7/site-packages/scipy/stats/stats.py:3508: PearsonRConstantInputWarning: An input array is constant; the correlation coefficent is not defined.\n",
      "  warnings.warn(PearsonRConstantInputWarning())\n",
      "/opt/anaconda3/lib/python3.7/site-packages/scipy/stats/stats.py:3508: PearsonRConstantInputWarning: An input array is constant; the correlation coefficent is not defined.\n",
      "  warnings.warn(PearsonRConstantInputWarning())\n",
      "/opt/anaconda3/lib/python3.7/site-packages/scipy/stats/stats.py:3508: PearsonRConstantInputWarning: An input array is constant; the correlation coefficent is not defined.\n",
      "  warnings.warn(PearsonRConstantInputWarning())\n",
      "/opt/anaconda3/lib/python3.7/site-packages/scipy/stats/stats.py:3508: PearsonRConstantInputWarning: An input array is constant; the correlation coefficent is not defined.\n",
      "  warnings.warn(PearsonRConstantInputWarning())\n",
      "/opt/anaconda3/lib/python3.7/site-packages/scipy/stats/stats.py:3508: PearsonRConstantInputWarning: An input array is constant; the correlation coefficent is not defined.\n",
      "  warnings.warn(PearsonRConstantInputWarning())\n",
      "/opt/anaconda3/lib/python3.7/site-packages/scipy/stats/stats.py:3508: PearsonRConstantInputWarning: An input array is constant; the correlation coefficent is not defined.\n",
      "  warnings.warn(PearsonRConstantInputWarning())\n",
      "/opt/anaconda3/lib/python3.7/site-packages/scipy/stats/stats.py:3508: PearsonRConstantInputWarning: An input array is constant; the correlation coefficent is not defined.\n",
      "  warnings.warn(PearsonRConstantInputWarning())\n"
     ]
    },
    {
     "name": "stdout",
     "output_type": "stream",
     "text": [
      "round: 0, top: 0.5247495155238527\n",
      "round: 1, top: 0.9761988207644415\n"
     ]
    },
    {
     "name": "stderr",
     "output_type": "stream",
     "text": [
      "/opt/anaconda3/lib/python3.7/site-packages/scipy/stats/stats.py:3508: PearsonRConstantInputWarning: An input array is constant; the correlation coefficent is not defined.\n",
      "  warnings.warn(PearsonRConstantInputWarning())\n"
     ]
    },
    {
     "name": "stdout",
     "output_type": "stream",
     "text": [
      "round: 2, top: 0.9761988207644415\n"
     ]
    },
    {
     "name": "stderr",
     "output_type": "stream",
     "text": [
      "/opt/anaconda3/lib/python3.7/site-packages/scipy/stats/stats.py:3508: PearsonRConstantInputWarning: An input array is constant; the correlation coefficent is not defined.\n",
      "  warnings.warn(PearsonRConstantInputWarning())\n"
     ]
    },
    {
     "name": "stdout",
     "output_type": "stream",
     "text": [
      "round: 3, top: 0.9761988207644415\n"
     ]
    },
    {
     "name": "stderr",
     "output_type": "stream",
     "text": [
      "/opt/anaconda3/lib/python3.7/site-packages/scipy/stats/stats.py:3508: PearsonRConstantInputWarning: An input array is constant; the correlation coefficent is not defined.\n",
      "  warnings.warn(PearsonRConstantInputWarning())\n"
     ]
    },
    {
     "name": "stdout",
     "output_type": "stream",
     "text": [
      "round: 4, top: 0.989691996866367\n"
     ]
    },
    {
     "name": "stderr",
     "output_type": "stream",
     "text": [
      "/opt/anaconda3/lib/python3.7/site-packages/scipy/stats/stats.py:3508: PearsonRConstantInputWarning: An input array is constant; the correlation coefficent is not defined.\n",
      "  warnings.warn(PearsonRConstantInputWarning())\n"
     ]
    },
    {
     "name": "stdout",
     "output_type": "stream",
     "text": [
      "round: 5, top: 0.989691996866367\n"
     ]
    },
    {
     "name": "stderr",
     "output_type": "stream",
     "text": [
      "/opt/anaconda3/lib/python3.7/site-packages/scipy/stats/stats.py:3508: PearsonRConstantInputWarning: An input array is constant; the correlation coefficent is not defined.\n",
      "  warnings.warn(PearsonRConstantInputWarning())\n"
     ]
    },
    {
     "name": "stdout",
     "output_type": "stream",
     "text": [
      "round: 6, top: 0.989691996866367\n"
     ]
    },
    {
     "name": "stderr",
     "output_type": "stream",
     "text": [
      "/opt/anaconda3/lib/python3.7/site-packages/scipy/stats/stats.py:3508: PearsonRConstantInputWarning: An input array is constant; the correlation coefficent is not defined.\n",
      "  warnings.warn(PearsonRConstantInputWarning())\n"
     ]
    },
    {
     "name": "stdout",
     "output_type": "stream",
     "text": [
      "round: 7, top: 0.989691996866367\n"
     ]
    },
    {
     "name": "stderr",
     "output_type": "stream",
     "text": [
      "/opt/anaconda3/lib/python3.7/site-packages/scipy/stats/stats.py:3508: PearsonRConstantInputWarning: An input array is constant; the correlation coefficent is not defined.\n",
      "  warnings.warn(PearsonRConstantInputWarning())\n"
     ]
    },
    {
     "name": "stdout",
     "output_type": "stream",
     "text": [
      "round: 8, top: 0.989691996866367\n"
     ]
    },
    {
     "name": "stderr",
     "output_type": "stream",
     "text": [
      "/opt/anaconda3/lib/python3.7/site-packages/scipy/stats/stats.py:3508: PearsonRConstantInputWarning: An input array is constant; the correlation coefficent is not defined.\n",
      "  warnings.warn(PearsonRConstantInputWarning())\n"
     ]
    },
    {
     "name": "stdout",
     "output_type": "stream",
     "text": [
      "round: 9, top: 0.989691996866367\n"
     ]
    },
    {
     "name": "stderr",
     "output_type": "stream",
     "text": [
      "/opt/anaconda3/lib/python3.7/site-packages/scipy/stats/stats.py:3508: PearsonRConstantInputWarning: An input array is constant; the correlation coefficent is not defined.\n",
      "  warnings.warn(PearsonRConstantInputWarning())\n"
     ]
    },
    {
     "name": "stdout",
     "output_type": "stream",
     "text": [
      "round: 10, top: 0.989691996866367\n",
      "\n",
      "Beginning run 4\n"
     ]
    },
    {
     "name": "stderr",
     "output_type": "stream",
     "text": [
      "/opt/anaconda3/lib/python3.7/site-packages/sklearn/linear_model/_coordinate_descent.py:476: ConvergenceWarning: Objective did not converge. You might want to increase the number of iterations. Duality gap: 0.0, tolerance: 0.0\n",
      "  positive)\n",
      "/opt/anaconda3/lib/python3.7/site-packages/scipy/stats/stats.py:3508: PearsonRConstantInputWarning: An input array is constant; the correlation coefficent is not defined.\n",
      "  warnings.warn(PearsonRConstantInputWarning())\n",
      "/opt/anaconda3/lib/python3.7/site-packages/scipy/stats/stats.py:3508: PearsonRConstantInputWarning: An input array is constant; the correlation coefficent is not defined.\n",
      "  warnings.warn(PearsonRConstantInputWarning())\n",
      "/opt/anaconda3/lib/python3.7/site-packages/scipy/stats/stats.py:3508: PearsonRConstantInputWarning: An input array is constant; the correlation coefficent is not defined.\n",
      "  warnings.warn(PearsonRConstantInputWarning())\n",
      "/opt/anaconda3/lib/python3.7/site-packages/scipy/stats/stats.py:3508: PearsonRConstantInputWarning: An input array is constant; the correlation coefficent is not defined.\n",
      "  warnings.warn(PearsonRConstantInputWarning())\n",
      "/opt/anaconda3/lib/python3.7/site-packages/scipy/stats/stats.py:3508: PearsonRConstantInputWarning: An input array is constant; the correlation coefficent is not defined.\n",
      "  warnings.warn(PearsonRConstantInputWarning())\n",
      "/opt/anaconda3/lib/python3.7/site-packages/scipy/stats/stats.py:3508: PearsonRConstantInputWarning: An input array is constant; the correlation coefficent is not defined.\n",
      "  warnings.warn(PearsonRConstantInputWarning())\n",
      "/opt/anaconda3/lib/python3.7/site-packages/scipy/stats/stats.py:3508: PearsonRConstantInputWarning: An input array is constant; the correlation coefficent is not defined.\n",
      "  warnings.warn(PearsonRConstantInputWarning())\n",
      "/opt/anaconda3/lib/python3.7/site-packages/scipy/stats/stats.py:3508: PearsonRConstantInputWarning: An input array is constant; the correlation coefficent is not defined.\n",
      "  warnings.warn(PearsonRConstantInputWarning())\n",
      "/opt/anaconda3/lib/python3.7/site-packages/scipy/stats/stats.py:3508: PearsonRConstantInputWarning: An input array is constant; the correlation coefficent is not defined.\n",
      "  warnings.warn(PearsonRConstantInputWarning())\n"
     ]
    },
    {
     "name": "stdout",
     "output_type": "stream",
     "text": [
      "round: 0, top: 0.5247495155238527\n",
      "round: 1, top: 0.8862305694140932\n"
     ]
    },
    {
     "name": "stderr",
     "output_type": "stream",
     "text": [
      "/opt/anaconda3/lib/python3.7/site-packages/scipy/stats/stats.py:3508: PearsonRConstantInputWarning: An input array is constant; the correlation coefficent is not defined.\n",
      "  warnings.warn(PearsonRConstantInputWarning())\n"
     ]
    },
    {
     "name": "stdout",
     "output_type": "stream",
     "text": [
      "round: 2, top: 0.8862305694140932\n"
     ]
    },
    {
     "name": "stderr",
     "output_type": "stream",
     "text": [
      "/opt/anaconda3/lib/python3.7/site-packages/scipy/stats/stats.py:3508: PearsonRConstantInputWarning: An input array is constant; the correlation coefficent is not defined.\n",
      "  warnings.warn(PearsonRConstantInputWarning())\n"
     ]
    },
    {
     "name": "stdout",
     "output_type": "stream",
     "text": [
      "round: 3, top: 0.926421473632128\n"
     ]
    },
    {
     "name": "stderr",
     "output_type": "stream",
     "text": [
      "/opt/anaconda3/lib/python3.7/site-packages/scipy/stats/stats.py:3508: PearsonRConstantInputWarning: An input array is constant; the correlation coefficent is not defined.\n",
      "  warnings.warn(PearsonRConstantInputWarning())\n"
     ]
    },
    {
     "name": "stdout",
     "output_type": "stream",
     "text": [
      "round: 4, top: 0.926421473632128\n"
     ]
    },
    {
     "name": "stderr",
     "output_type": "stream",
     "text": [
      "/opt/anaconda3/lib/python3.7/site-packages/scipy/stats/stats.py:3508: PearsonRConstantInputWarning: An input array is constant; the correlation coefficent is not defined.\n",
      "  warnings.warn(PearsonRConstantInputWarning())\n"
     ]
    },
    {
     "name": "stdout",
     "output_type": "stream",
     "text": [
      "round: 5, top: 0.9794561497546695\n"
     ]
    },
    {
     "name": "stderr",
     "output_type": "stream",
     "text": [
      "/opt/anaconda3/lib/python3.7/site-packages/scipy/stats/stats.py:3508: PearsonRConstantInputWarning: An input array is constant; the correlation coefficent is not defined.\n",
      "  warnings.warn(PearsonRConstantInputWarning())\n"
     ]
    },
    {
     "name": "stdout",
     "output_type": "stream",
     "text": [
      "round: 6, top: 0.9794561497546695\n"
     ]
    },
    {
     "name": "stderr",
     "output_type": "stream",
     "text": [
      "/opt/anaconda3/lib/python3.7/site-packages/scipy/stats/stats.py:3508: PearsonRConstantInputWarning: An input array is constant; the correlation coefficent is not defined.\n",
      "  warnings.warn(PearsonRConstantInputWarning())\n"
     ]
    },
    {
     "name": "stdout",
     "output_type": "stream",
     "text": [
      "round: 7, top: 0.9794561497546695\n"
     ]
    },
    {
     "name": "stderr",
     "output_type": "stream",
     "text": [
      "/opt/anaconda3/lib/python3.7/site-packages/scipy/stats/stats.py:3508: PearsonRConstantInputWarning: An input array is constant; the correlation coefficent is not defined.\n",
      "  warnings.warn(PearsonRConstantInputWarning())\n"
     ]
    },
    {
     "name": "stdout",
     "output_type": "stream",
     "text": [
      "round: 8, top: 0.9795592297860058\n"
     ]
    },
    {
     "name": "stderr",
     "output_type": "stream",
     "text": [
      "/opt/anaconda3/lib/python3.7/site-packages/scipy/stats/stats.py:3508: PearsonRConstantInputWarning: An input array is constant; the correlation coefficent is not defined.\n",
      "  warnings.warn(PearsonRConstantInputWarning())\n"
     ]
    },
    {
     "name": "stdout",
     "output_type": "stream",
     "text": [
      "round: 9, top: 0.9795592297860058\n"
     ]
    },
    {
     "name": "stderr",
     "output_type": "stream",
     "text": [
      "/opt/anaconda3/lib/python3.7/site-packages/scipy/stats/stats.py:3508: PearsonRConstantInputWarning: An input array is constant; the correlation coefficent is not defined.\n",
      "  warnings.warn(PearsonRConstantInputWarning())\n"
     ]
    },
    {
     "name": "stdout",
     "output_type": "stream",
     "text": [
      "round: 10, top: 0.9795592297860058\n"
     ]
    }
   ],
   "source": [
    "for i in range(5):\n",
    "    print(f'\\nBeginning run {i}')\n",
    "    dyna_ppo = baselines.explorers.DynaPPO(\n",
    "        rounds=10,\n",
    "        num_model_rounds=1,\n",
    "        starting_sequence=wt,\n",
    "        sequences_batch_size=100,\n",
    "        model_queries_per_batch=1000,\n",
    "        alphabet=s_utils.DNAA,\n",
    "        log_file=f'plots/dyna_ppo_six6/run{i}.csv'\n",
    "    )\n",
    "    dyna_ppo.run(landscape)"
   ]
  },
  {
   "cell_type": "code",
   "execution_count": 98,
   "metadata": {},
   "outputs": [
    {
     "name": "stdout",
     "output_type": "stream",
     "text": [
      "\n",
      "Beginning run 0\n",
      "round: 0, top: 0.5247495155238527\n"
     ]
    },
    {
     "name": "stderr",
     "output_type": "stream",
     "text": [
      "/opt/anaconda3/lib/python3.7/site-packages/tensorflow/python/data/ops/dataset_ops.py:3350: UserWarning: Even though the tf.config.experimental_run_functions_eagerly option is set, this option does not apply to tf.data functions. tf.data functions are still traced and executed as graphs.\n",
      "  \"Even though the tf.config.experimental_run_functions_eagerly \"\n"
     ]
    },
    {
     "name": "stdout",
     "output_type": "stream",
     "text": [
      "round: 1, top: 0.974724776316332\n",
      "round: 2, top: 0.974724776316332\n",
      "round: 3, top: 0.9847338473590895\n"
     ]
    },
    {
     "ename": "KeyboardInterrupt",
     "evalue": "",
     "output_type": "error",
     "traceback": [
      "\u001b[0;31m---------------------------------------------------------------------------\u001b[0m",
      "\u001b[0;31mKeyboardInterrupt\u001b[0m                         Traceback (most recent call last)",
      "\u001b[0;32m<ipython-input-98-ef0e00ceac83>\u001b[0m in \u001b[0;36m<module>\u001b[0;34m\u001b[0m\n\u001b[1;32m     13\u001b[0m         \u001b[0mlog_file\u001b[0m\u001b[0;34m=\u001b[0m\u001b[0;34mf'plots/six6_dyna_ppo_paper/cbas'\u001b[0m\u001b[0;34m\u001b[0m\u001b[0;34m\u001b[0m\u001b[0m\n\u001b[1;32m     14\u001b[0m     )\n\u001b[0;32m---> 15\u001b[0;31m     \u001b[0mcbas\u001b[0m\u001b[0;34m.\u001b[0m\u001b[0mrun\u001b[0m\u001b[0;34m(\u001b[0m\u001b[0mlandscape\u001b[0m\u001b[0;34m)\u001b[0m\u001b[0;34m\u001b[0m\u001b[0;34m\u001b[0m\u001b[0m\n\u001b[0m",
      "\u001b[0;32m~/Downloads/FLSD-Sandbox/flexs/explorer.py\u001b[0m in \u001b[0;36mrun\u001b[0;34m(self, landscape, verbose)\u001b[0m\n\u001b[1;32m    121\u001b[0m             )\n\u001b[1;32m    122\u001b[0m \u001b[0;34m\u001b[0m\u001b[0m\n\u001b[0;32m--> 123\u001b[0;31m             \u001b[0mseqs\u001b[0m\u001b[0;34m,\u001b[0m \u001b[0mpreds\u001b[0m \u001b[0;34m=\u001b[0m \u001b[0mself\u001b[0m\u001b[0;34m.\u001b[0m\u001b[0mpropose_sequences\u001b[0m\u001b[0;34m(\u001b[0m\u001b[0msequences_data\u001b[0m\u001b[0;34m)\u001b[0m\u001b[0;34m\u001b[0m\u001b[0;34m\u001b[0m\u001b[0m\n\u001b[0m\u001b[1;32m    124\u001b[0m             \u001b[0mtrue_score\u001b[0m \u001b[0;34m=\u001b[0m \u001b[0mlandscape\u001b[0m\u001b[0;34m.\u001b[0m\u001b[0mget_fitness\u001b[0m\u001b[0;34m(\u001b[0m\u001b[0mseqs\u001b[0m\u001b[0;34m)\u001b[0m\u001b[0;34m\u001b[0m\u001b[0;34m\u001b[0m\u001b[0m\n\u001b[1;32m    125\u001b[0m \u001b[0;34m\u001b[0m\u001b[0m\n",
      "\u001b[0;32m~/Downloads/FLSD-Sandbox/flexs/baselines/explorers/cbas_dbas.py\u001b[0m in \u001b[0;36mpropose_sequences\u001b[0;34m(self, measured_sequences_data)\u001b[0m\n\u001b[1;32m    381\u001b[0m             \u001b[0;31m# print('New training set size: ', len(all_samples_and_weights[0]))\u001b[0m\u001b[0;34m\u001b[0m\u001b[0;34m\u001b[0m\u001b[0;34m\u001b[0m\u001b[0m\n\u001b[1;32m    382\u001b[0m             self.generator.train_model(\n\u001b[0;32m--> 383\u001b[0;31m                 \u001b[0mall_samples_and_weights\u001b[0m\u001b[0;34m[\u001b[0m\u001b[0;36m0\u001b[0m\u001b[0;34m]\u001b[0m\u001b[0;34m,\u001b[0m \u001b[0mall_samples_and_weights\u001b[0m\u001b[0;34m[\u001b[0m\u001b[0;36m1\u001b[0m\u001b[0;34m]\u001b[0m\u001b[0;34m\u001b[0m\u001b[0;34m\u001b[0m\u001b[0m\n\u001b[0m\u001b[1;32m    384\u001b[0m             )\n\u001b[1;32m    385\u001b[0m \u001b[0;34m\u001b[0m\u001b[0m\n",
      "\u001b[0;32m~/Downloads/FLSD-Sandbox/flexs/baselines/explorers/cbas_dbas.py\u001b[0m in \u001b[0;36mtrain_model\u001b[0;34m(self, samples, weights)\u001b[0m\n\u001b[1;32m    136\u001b[0m             \u001b[0mbatch_size\u001b[0m\u001b[0;34m=\u001b[0m\u001b[0mself\u001b[0m\u001b[0;34m.\u001b[0m\u001b[0mbatch_size\u001b[0m\u001b[0;34m,\u001b[0m\u001b[0;34m\u001b[0m\u001b[0;34m\u001b[0m\u001b[0m\n\u001b[1;32m    137\u001b[0m             \u001b[0mvalidation_split\u001b[0m\u001b[0;34m=\u001b[0m\u001b[0mself\u001b[0m\u001b[0;34m.\u001b[0m\u001b[0mvalidation_split\u001b[0m\u001b[0;34m,\u001b[0m\u001b[0;34m\u001b[0m\u001b[0;34m\u001b[0m\u001b[0m\n\u001b[0;32m--> 138\u001b[0;31m             \u001b[0mcallbacks\u001b[0m\u001b[0;34m=\u001b[0m\u001b[0;34m[\u001b[0m\u001b[0mearly_stop\u001b[0m\u001b[0;34m]\u001b[0m\u001b[0;34m,\u001b[0m\u001b[0;34m\u001b[0m\u001b[0;34m\u001b[0m\u001b[0m\n\u001b[0m\u001b[1;32m    139\u001b[0m         )\n\u001b[1;32m    140\u001b[0m \u001b[0;34m\u001b[0m\u001b[0m\n",
      "\u001b[0;32m/opt/anaconda3/lib/python3.7/site-packages/tensorflow/python/keras/engine/training.py\u001b[0m in \u001b[0;36m_method_wrapper\u001b[0;34m(self, *args, **kwargs)\u001b[0m\n\u001b[1;32m    106\u001b[0m   \u001b[0;32mdef\u001b[0m \u001b[0m_method_wrapper\u001b[0m\u001b[0;34m(\u001b[0m\u001b[0mself\u001b[0m\u001b[0;34m,\u001b[0m \u001b[0;34m*\u001b[0m\u001b[0margs\u001b[0m\u001b[0;34m,\u001b[0m \u001b[0;34m**\u001b[0m\u001b[0mkwargs\u001b[0m\u001b[0;34m)\u001b[0m\u001b[0;34m:\u001b[0m\u001b[0;34m\u001b[0m\u001b[0;34m\u001b[0m\u001b[0m\n\u001b[1;32m    107\u001b[0m     \u001b[0;32mif\u001b[0m \u001b[0;32mnot\u001b[0m \u001b[0mself\u001b[0m\u001b[0;34m.\u001b[0m\u001b[0m_in_multi_worker_mode\u001b[0m\u001b[0;34m(\u001b[0m\u001b[0;34m)\u001b[0m\u001b[0;34m:\u001b[0m  \u001b[0;31m# pylint: disable=protected-access\u001b[0m\u001b[0;34m\u001b[0m\u001b[0;34m\u001b[0m\u001b[0m\n\u001b[0;32m--> 108\u001b[0;31m       \u001b[0;32mreturn\u001b[0m \u001b[0mmethod\u001b[0m\u001b[0;34m(\u001b[0m\u001b[0mself\u001b[0m\u001b[0;34m,\u001b[0m \u001b[0;34m*\u001b[0m\u001b[0margs\u001b[0m\u001b[0;34m,\u001b[0m \u001b[0;34m**\u001b[0m\u001b[0mkwargs\u001b[0m\u001b[0;34m)\u001b[0m\u001b[0;34m\u001b[0m\u001b[0;34m\u001b[0m\u001b[0m\n\u001b[0m\u001b[1;32m    109\u001b[0m \u001b[0;34m\u001b[0m\u001b[0m\n\u001b[1;32m    110\u001b[0m     \u001b[0;31m# Running inside `run_distribute_coordinator` already.\u001b[0m\u001b[0;34m\u001b[0m\u001b[0;34m\u001b[0m\u001b[0;34m\u001b[0m\u001b[0m\n",
      "\u001b[0;32m/opt/anaconda3/lib/python3.7/site-packages/tensorflow/python/keras/engine/training.py\u001b[0m in \u001b[0;36mfit\u001b[0;34m(self, x, y, batch_size, epochs, verbose, callbacks, validation_split, validation_data, shuffle, class_weight, sample_weight, initial_epoch, steps_per_epoch, validation_steps, validation_batch_size, validation_freq, max_queue_size, workers, use_multiprocessing)\u001b[0m\n\u001b[1;32m   1096\u001b[0m                 batch_size=batch_size):\n\u001b[1;32m   1097\u001b[0m               \u001b[0mcallbacks\u001b[0m\u001b[0;34m.\u001b[0m\u001b[0mon_train_batch_begin\u001b[0m\u001b[0;34m(\u001b[0m\u001b[0mstep\u001b[0m\u001b[0;34m)\u001b[0m\u001b[0;34m\u001b[0m\u001b[0;34m\u001b[0m\u001b[0m\n\u001b[0;32m-> 1098\u001b[0;31m               \u001b[0mtmp_logs\u001b[0m \u001b[0;34m=\u001b[0m \u001b[0mtrain_function\u001b[0m\u001b[0;34m(\u001b[0m\u001b[0miterator\u001b[0m\u001b[0;34m)\u001b[0m\u001b[0;34m\u001b[0m\u001b[0;34m\u001b[0m\u001b[0m\n\u001b[0m\u001b[1;32m   1099\u001b[0m               \u001b[0;32mif\u001b[0m \u001b[0mdata_handler\u001b[0m\u001b[0;34m.\u001b[0m\u001b[0mshould_sync\u001b[0m\u001b[0;34m:\u001b[0m\u001b[0;34m\u001b[0m\u001b[0;34m\u001b[0m\u001b[0m\n\u001b[1;32m   1100\u001b[0m                 \u001b[0mcontext\u001b[0m\u001b[0;34m.\u001b[0m\u001b[0masync_wait\u001b[0m\u001b[0;34m(\u001b[0m\u001b[0;34m)\u001b[0m\u001b[0;34m\u001b[0m\u001b[0;34m\u001b[0m\u001b[0m\n",
      "\u001b[0;32m/opt/anaconda3/lib/python3.7/site-packages/tensorflow/python/keras/engine/training.py\u001b[0m in \u001b[0;36mtrain_function\u001b[0;34m(iterator)\u001b[0m\n\u001b[1;32m    804\u001b[0m       \u001b[0;32mdef\u001b[0m \u001b[0mtrain_function\u001b[0m\u001b[0;34m(\u001b[0m\u001b[0miterator\u001b[0m\u001b[0;34m)\u001b[0m\u001b[0;34m:\u001b[0m\u001b[0;34m\u001b[0m\u001b[0;34m\u001b[0m\u001b[0m\n\u001b[1;32m    805\u001b[0m         \u001b[0;34m\"\"\"Runs a training execution with one step.\"\"\"\u001b[0m\u001b[0;34m\u001b[0m\u001b[0;34m\u001b[0m\u001b[0m\n\u001b[0;32m--> 806\u001b[0;31m         \u001b[0;32mreturn\u001b[0m \u001b[0mstep_function\u001b[0m\u001b[0;34m(\u001b[0m\u001b[0mself\u001b[0m\u001b[0;34m,\u001b[0m \u001b[0miterator\u001b[0m\u001b[0;34m)\u001b[0m\u001b[0;34m\u001b[0m\u001b[0;34m\u001b[0m\u001b[0m\n\u001b[0m\u001b[1;32m    807\u001b[0m \u001b[0;34m\u001b[0m\u001b[0m\n\u001b[1;32m    808\u001b[0m     \u001b[0;32melse\u001b[0m\u001b[0;34m:\u001b[0m\u001b[0;34m\u001b[0m\u001b[0;34m\u001b[0m\u001b[0m\n",
      "\u001b[0;32m/opt/anaconda3/lib/python3.7/site-packages/tensorflow/python/keras/engine/training.py\u001b[0m in \u001b[0;36mstep_function\u001b[0;34m(model, iterator)\u001b[0m\n\u001b[1;32m    794\u001b[0m \u001b[0;34m\u001b[0m\u001b[0m\n\u001b[1;32m    795\u001b[0m       \u001b[0mdata\u001b[0m \u001b[0;34m=\u001b[0m \u001b[0mnext\u001b[0m\u001b[0;34m(\u001b[0m\u001b[0miterator\u001b[0m\u001b[0;34m)\u001b[0m\u001b[0;34m\u001b[0m\u001b[0;34m\u001b[0m\u001b[0m\n\u001b[0;32m--> 796\u001b[0;31m       \u001b[0moutputs\u001b[0m \u001b[0;34m=\u001b[0m \u001b[0mmodel\u001b[0m\u001b[0;34m.\u001b[0m\u001b[0mdistribute_strategy\u001b[0m\u001b[0;34m.\u001b[0m\u001b[0mrun\u001b[0m\u001b[0;34m(\u001b[0m\u001b[0mrun_step\u001b[0m\u001b[0;34m,\u001b[0m \u001b[0margs\u001b[0m\u001b[0;34m=\u001b[0m\u001b[0;34m(\u001b[0m\u001b[0mdata\u001b[0m\u001b[0;34m,\u001b[0m\u001b[0;34m)\u001b[0m\u001b[0;34m)\u001b[0m\u001b[0;34m\u001b[0m\u001b[0;34m\u001b[0m\u001b[0m\n\u001b[0m\u001b[1;32m    797\u001b[0m       outputs = reduce_per_replica(\n\u001b[1;32m    798\u001b[0m           outputs, self.distribute_strategy, reduction='first')\n",
      "\u001b[0;32m/opt/anaconda3/lib/python3.7/site-packages/tensorflow/python/distribute/distribute_lib.py\u001b[0m in \u001b[0;36mrun\u001b[0;34m(***failed resolving arguments***)\u001b[0m\n\u001b[1;32m   1209\u001b[0m       fn = autograph.tf_convert(\n\u001b[1;32m   1210\u001b[0m           fn, autograph_ctx.control_status_ctx(), convert_by_default=False)\n\u001b[0;32m-> 1211\u001b[0;31m       \u001b[0;32mreturn\u001b[0m \u001b[0mself\u001b[0m\u001b[0;34m.\u001b[0m\u001b[0m_extended\u001b[0m\u001b[0;34m.\u001b[0m\u001b[0mcall_for_each_replica\u001b[0m\u001b[0;34m(\u001b[0m\u001b[0mfn\u001b[0m\u001b[0;34m,\u001b[0m \u001b[0margs\u001b[0m\u001b[0;34m=\u001b[0m\u001b[0margs\u001b[0m\u001b[0;34m,\u001b[0m \u001b[0mkwargs\u001b[0m\u001b[0;34m=\u001b[0m\u001b[0mkwargs\u001b[0m\u001b[0;34m)\u001b[0m\u001b[0;34m\u001b[0m\u001b[0;34m\u001b[0m\u001b[0m\n\u001b[0m\u001b[1;32m   1212\u001b[0m \u001b[0;34m\u001b[0m\u001b[0m\n\u001b[1;32m   1213\u001b[0m   \u001b[0;31m# TODO(b/151224785): Remove deprecated alias.\u001b[0m\u001b[0;34m\u001b[0m\u001b[0;34m\u001b[0m\u001b[0;34m\u001b[0m\u001b[0m\n",
      "\u001b[0;32m/opt/anaconda3/lib/python3.7/site-packages/tensorflow/python/distribute/distribute_lib.py\u001b[0m in \u001b[0;36mcall_for_each_replica\u001b[0;34m(self, fn, args, kwargs)\u001b[0m\n\u001b[1;32m   2583\u001b[0m       \u001b[0mkwargs\u001b[0m \u001b[0;34m=\u001b[0m \u001b[0;34m{\u001b[0m\u001b[0;34m}\u001b[0m\u001b[0;34m\u001b[0m\u001b[0;34m\u001b[0m\u001b[0m\n\u001b[1;32m   2584\u001b[0m     \u001b[0;32mwith\u001b[0m \u001b[0mself\u001b[0m\u001b[0;34m.\u001b[0m\u001b[0m_container_strategy\u001b[0m\u001b[0;34m(\u001b[0m\u001b[0;34m)\u001b[0m\u001b[0;34m.\u001b[0m\u001b[0mscope\u001b[0m\u001b[0;34m(\u001b[0m\u001b[0;34m)\u001b[0m\u001b[0;34m:\u001b[0m\u001b[0;34m\u001b[0m\u001b[0;34m\u001b[0m\u001b[0m\n\u001b[0;32m-> 2585\u001b[0;31m       \u001b[0;32mreturn\u001b[0m \u001b[0mself\u001b[0m\u001b[0;34m.\u001b[0m\u001b[0m_call_for_each_replica\u001b[0m\u001b[0;34m(\u001b[0m\u001b[0mfn\u001b[0m\u001b[0;34m,\u001b[0m \u001b[0margs\u001b[0m\u001b[0;34m,\u001b[0m \u001b[0mkwargs\u001b[0m\u001b[0;34m)\u001b[0m\u001b[0;34m\u001b[0m\u001b[0;34m\u001b[0m\u001b[0m\n\u001b[0m\u001b[1;32m   2586\u001b[0m \u001b[0;34m\u001b[0m\u001b[0m\n\u001b[1;32m   2587\u001b[0m   \u001b[0;32mdef\u001b[0m \u001b[0m_call_for_each_replica\u001b[0m\u001b[0;34m(\u001b[0m\u001b[0mself\u001b[0m\u001b[0;34m,\u001b[0m \u001b[0mfn\u001b[0m\u001b[0;34m,\u001b[0m \u001b[0margs\u001b[0m\u001b[0;34m,\u001b[0m \u001b[0mkwargs\u001b[0m\u001b[0;34m)\u001b[0m\u001b[0;34m:\u001b[0m\u001b[0;34m\u001b[0m\u001b[0;34m\u001b[0m\u001b[0m\n",
      "\u001b[0;32m/opt/anaconda3/lib/python3.7/site-packages/tensorflow/python/distribute/distribute_lib.py\u001b[0m in \u001b[0;36m_call_for_each_replica\u001b[0;34m(self, fn, args, kwargs)\u001b[0m\n\u001b[1;32m   2943\u001b[0m         \u001b[0mself\u001b[0m\u001b[0;34m.\u001b[0m\u001b[0m_container_strategy\u001b[0m\u001b[0;34m(\u001b[0m\u001b[0;34m)\u001b[0m\u001b[0;34m,\u001b[0m\u001b[0;34m\u001b[0m\u001b[0;34m\u001b[0m\u001b[0m\n\u001b[1;32m   2944\u001b[0m         replica_id_in_sync_group=constant_op.constant(0, dtypes.int32)):\n\u001b[0;32m-> 2945\u001b[0;31m       \u001b[0;32mreturn\u001b[0m \u001b[0mfn\u001b[0m\u001b[0;34m(\u001b[0m\u001b[0;34m*\u001b[0m\u001b[0margs\u001b[0m\u001b[0;34m,\u001b[0m \u001b[0;34m**\u001b[0m\u001b[0mkwargs\u001b[0m\u001b[0;34m)\u001b[0m\u001b[0;34m\u001b[0m\u001b[0;34m\u001b[0m\u001b[0m\n\u001b[0m\u001b[1;32m   2946\u001b[0m \u001b[0;34m\u001b[0m\u001b[0m\n\u001b[1;32m   2947\u001b[0m   \u001b[0;32mdef\u001b[0m \u001b[0m_reduce_to\u001b[0m\u001b[0;34m(\u001b[0m\u001b[0mself\u001b[0m\u001b[0;34m,\u001b[0m \u001b[0mreduce_op\u001b[0m\u001b[0;34m,\u001b[0m \u001b[0mvalue\u001b[0m\u001b[0;34m,\u001b[0m \u001b[0mdestinations\u001b[0m\u001b[0;34m,\u001b[0m \u001b[0mexperimental_hints\u001b[0m\u001b[0;34m)\u001b[0m\u001b[0;34m:\u001b[0m\u001b[0;34m\u001b[0m\u001b[0;34m\u001b[0m\u001b[0m\n",
      "\u001b[0;32m/opt/anaconda3/lib/python3.7/site-packages/tensorflow/python/autograph/impl/api.py\u001b[0m in \u001b[0;36mwrapper\u001b[0;34m(*args, **kwargs)\u001b[0m\n\u001b[1;32m    273\u001b[0m   \u001b[0;32mdef\u001b[0m \u001b[0mwrapper\u001b[0m\u001b[0;34m(\u001b[0m\u001b[0;34m*\u001b[0m\u001b[0margs\u001b[0m\u001b[0;34m,\u001b[0m \u001b[0;34m**\u001b[0m\u001b[0mkwargs\u001b[0m\u001b[0;34m)\u001b[0m\u001b[0;34m:\u001b[0m\u001b[0;34m\u001b[0m\u001b[0;34m\u001b[0m\u001b[0m\n\u001b[1;32m    274\u001b[0m     \u001b[0;32mwith\u001b[0m \u001b[0mag_ctx\u001b[0m\u001b[0;34m.\u001b[0m\u001b[0mControlStatusCtx\u001b[0m\u001b[0;34m(\u001b[0m\u001b[0mstatus\u001b[0m\u001b[0;34m=\u001b[0m\u001b[0mag_ctx\u001b[0m\u001b[0;34m.\u001b[0m\u001b[0mStatus\u001b[0m\u001b[0;34m.\u001b[0m\u001b[0mUNSPECIFIED\u001b[0m\u001b[0;34m)\u001b[0m\u001b[0;34m:\u001b[0m\u001b[0;34m\u001b[0m\u001b[0;34m\u001b[0m\u001b[0m\n\u001b[0;32m--> 275\u001b[0;31m       \u001b[0;32mreturn\u001b[0m \u001b[0mfunc\u001b[0m\u001b[0;34m(\u001b[0m\u001b[0;34m*\u001b[0m\u001b[0margs\u001b[0m\u001b[0;34m,\u001b[0m \u001b[0;34m**\u001b[0m\u001b[0mkwargs\u001b[0m\u001b[0;34m)\u001b[0m\u001b[0;34m\u001b[0m\u001b[0;34m\u001b[0m\u001b[0m\n\u001b[0m\u001b[1;32m    276\u001b[0m \u001b[0;34m\u001b[0m\u001b[0m\n\u001b[1;32m    277\u001b[0m   \u001b[0;32mif\u001b[0m \u001b[0minspect\u001b[0m\u001b[0;34m.\u001b[0m\u001b[0misfunction\u001b[0m\u001b[0;34m(\u001b[0m\u001b[0mfunc\u001b[0m\u001b[0;34m)\u001b[0m \u001b[0;32mor\u001b[0m \u001b[0minspect\u001b[0m\u001b[0;34m.\u001b[0m\u001b[0mismethod\u001b[0m\u001b[0;34m(\u001b[0m\u001b[0mfunc\u001b[0m\u001b[0;34m)\u001b[0m\u001b[0;34m:\u001b[0m\u001b[0;34m\u001b[0m\u001b[0;34m\u001b[0m\u001b[0m\n",
      "\u001b[0;32m/opt/anaconda3/lib/python3.7/site-packages/tensorflow/python/keras/engine/training.py\u001b[0m in \u001b[0;36mrun_step\u001b[0;34m(data)\u001b[0m\n\u001b[1;32m    787\u001b[0m \u001b[0;34m\u001b[0m\u001b[0m\n\u001b[1;32m    788\u001b[0m       \u001b[0;32mdef\u001b[0m \u001b[0mrun_step\u001b[0m\u001b[0;34m(\u001b[0m\u001b[0mdata\u001b[0m\u001b[0;34m)\u001b[0m\u001b[0;34m:\u001b[0m\u001b[0;34m\u001b[0m\u001b[0;34m\u001b[0m\u001b[0m\n\u001b[0;32m--> 789\u001b[0;31m         \u001b[0moutputs\u001b[0m \u001b[0;34m=\u001b[0m \u001b[0mmodel\u001b[0m\u001b[0;34m.\u001b[0m\u001b[0mtrain_step\u001b[0m\u001b[0;34m(\u001b[0m\u001b[0mdata\u001b[0m\u001b[0;34m)\u001b[0m\u001b[0;34m\u001b[0m\u001b[0;34m\u001b[0m\u001b[0m\n\u001b[0m\u001b[1;32m    790\u001b[0m         \u001b[0;31m# Ensure counter is updated only if `train_step` succeeds.\u001b[0m\u001b[0;34m\u001b[0m\u001b[0;34m\u001b[0m\u001b[0;34m\u001b[0m\u001b[0m\n\u001b[1;32m    791\u001b[0m         \u001b[0;32mwith\u001b[0m \u001b[0mops\u001b[0m\u001b[0;34m.\u001b[0m\u001b[0mcontrol_dependencies\u001b[0m\u001b[0;34m(\u001b[0m\u001b[0m_minimum_control_deps\u001b[0m\u001b[0;34m(\u001b[0m\u001b[0moutputs\u001b[0m\u001b[0;34m)\u001b[0m\u001b[0;34m)\u001b[0m\u001b[0;34m:\u001b[0m\u001b[0;34m\u001b[0m\u001b[0;34m\u001b[0m\u001b[0m\n",
      "\u001b[0;32m~/Downloads/FLSD-Sandbox/flexs/baselines/explorers/cbas_dbas.py\u001b[0m in \u001b[0;36mtrain_step\u001b[0;34m(self, data)\u001b[0m\n\u001b[1;32m     68\u001b[0m             \u001b[0mreconstruction\u001b[0m \u001b[0;34m=\u001b[0m \u001b[0mself\u001b[0m\u001b[0;34m.\u001b[0m\u001b[0mdecoder\u001b[0m\u001b[0;34m(\u001b[0m\u001b[0mz\u001b[0m\u001b[0;34m)\u001b[0m\u001b[0;34m\u001b[0m\u001b[0;34m\u001b[0m\u001b[0m\n\u001b[1;32m     69\u001b[0m             reconstruction_loss = self.original_dim * tf.reduce_mean(\n\u001b[0;32m---> 70\u001b[0;31m                 \u001b[0mkeras\u001b[0m\u001b[0;34m.\u001b[0m\u001b[0mlosses\u001b[0m\u001b[0;34m.\u001b[0m\u001b[0mbinary_crossentropy\u001b[0m\u001b[0;34m(\u001b[0m\u001b[0mdata\u001b[0m\u001b[0;34m,\u001b[0m \u001b[0mreconstruction\u001b[0m\u001b[0;34m)\u001b[0m\u001b[0;34m\u001b[0m\u001b[0;34m\u001b[0m\u001b[0m\n\u001b[0m\u001b[1;32m     71\u001b[0m             )\n\u001b[1;32m     72\u001b[0m             kl_loss = -0.5 * tf.reduce_mean(\n",
      "\u001b[0;32m/opt/anaconda3/lib/python3.7/site-packages/tensorflow/python/util/dispatch.py\u001b[0m in \u001b[0;36mwrapper\u001b[0;34m(*args, **kwargs)\u001b[0m\n\u001b[1;32m    199\u001b[0m     \u001b[0;34m\"\"\"Call target, and fall back on dispatchers if there is a TypeError.\"\"\"\u001b[0m\u001b[0;34m\u001b[0m\u001b[0;34m\u001b[0m\u001b[0m\n\u001b[1;32m    200\u001b[0m     \u001b[0;32mtry\u001b[0m\u001b[0;34m:\u001b[0m\u001b[0;34m\u001b[0m\u001b[0;34m\u001b[0m\u001b[0m\n\u001b[0;32m--> 201\u001b[0;31m       \u001b[0;32mreturn\u001b[0m \u001b[0mtarget\u001b[0m\u001b[0;34m(\u001b[0m\u001b[0;34m*\u001b[0m\u001b[0margs\u001b[0m\u001b[0;34m,\u001b[0m \u001b[0;34m**\u001b[0m\u001b[0mkwargs\u001b[0m\u001b[0;34m)\u001b[0m\u001b[0;34m\u001b[0m\u001b[0;34m\u001b[0m\u001b[0m\n\u001b[0m\u001b[1;32m    202\u001b[0m     \u001b[0;32mexcept\u001b[0m \u001b[0;34m(\u001b[0m\u001b[0mTypeError\u001b[0m\u001b[0;34m,\u001b[0m \u001b[0mValueError\u001b[0m\u001b[0;34m)\u001b[0m\u001b[0;34m:\u001b[0m\u001b[0;34m\u001b[0m\u001b[0;34m\u001b[0m\u001b[0m\n\u001b[1;32m    203\u001b[0m       \u001b[0;31m# Note: convert_to_eager_tensor currently raises a ValueError, not a\u001b[0m\u001b[0;34m\u001b[0m\u001b[0;34m\u001b[0m\u001b[0;34m\u001b[0m\u001b[0m\n",
      "\u001b[0;32m/opt/anaconda3/lib/python3.7/site-packages/tensorflow/python/keras/losses.py\u001b[0m in \u001b[0;36mbinary_crossentropy\u001b[0;34m(y_true, y_pred, from_logits, label_smoothing)\u001b[0m\n\u001b[1;32m   1603\u001b[0m                                  _smooth_labels, lambda: y_true)\n\u001b[1;32m   1604\u001b[0m   return K.mean(\n\u001b[0;32m-> 1605\u001b[0;31m       K.binary_crossentropy(y_true, y_pred, from_logits=from_logits), axis=-1)\n\u001b[0m\u001b[1;32m   1606\u001b[0m \u001b[0;34m\u001b[0m\u001b[0m\n\u001b[1;32m   1607\u001b[0m \u001b[0;34m\u001b[0m\u001b[0m\n",
      "\u001b[0;32m/opt/anaconda3/lib/python3.7/site-packages/tensorflow/python/util/dispatch.py\u001b[0m in \u001b[0;36mwrapper\u001b[0;34m(*args, **kwargs)\u001b[0m\n\u001b[1;32m    199\u001b[0m     \u001b[0;34m\"\"\"Call target, and fall back on dispatchers if there is a TypeError.\"\"\"\u001b[0m\u001b[0;34m\u001b[0m\u001b[0;34m\u001b[0m\u001b[0m\n\u001b[1;32m    200\u001b[0m     \u001b[0;32mtry\u001b[0m\u001b[0;34m:\u001b[0m\u001b[0;34m\u001b[0m\u001b[0;34m\u001b[0m\u001b[0m\n\u001b[0;32m--> 201\u001b[0;31m       \u001b[0;32mreturn\u001b[0m \u001b[0mtarget\u001b[0m\u001b[0;34m(\u001b[0m\u001b[0;34m*\u001b[0m\u001b[0margs\u001b[0m\u001b[0;34m,\u001b[0m \u001b[0;34m**\u001b[0m\u001b[0mkwargs\u001b[0m\u001b[0;34m)\u001b[0m\u001b[0;34m\u001b[0m\u001b[0;34m\u001b[0m\u001b[0m\n\u001b[0m\u001b[1;32m    202\u001b[0m     \u001b[0;32mexcept\u001b[0m \u001b[0;34m(\u001b[0m\u001b[0mTypeError\u001b[0m\u001b[0;34m,\u001b[0m \u001b[0mValueError\u001b[0m\u001b[0;34m)\u001b[0m\u001b[0;34m:\u001b[0m\u001b[0;34m\u001b[0m\u001b[0;34m\u001b[0m\u001b[0m\n\u001b[1;32m    203\u001b[0m       \u001b[0;31m# Note: convert_to_eager_tensor currently raises a ValueError, not a\u001b[0m\u001b[0;34m\u001b[0m\u001b[0;34m\u001b[0m\u001b[0;34m\u001b[0m\u001b[0m\n",
      "\u001b[0;32m/opt/anaconda3/lib/python3.7/site-packages/tensorflow/python/keras/backend.py\u001b[0m in \u001b[0;36mbinary_crossentropy\u001b[0;34m(target, output, from_logits)\u001b[0m\n\u001b[1;32m   4827\u001b[0m \u001b[0;34m\u001b[0m\u001b[0m\n\u001b[1;32m   4828\u001b[0m   \u001b[0;31m# Compute cross entropy from probabilities.\u001b[0m\u001b[0;34m\u001b[0m\u001b[0;34m\u001b[0m\u001b[0;34m\u001b[0m\u001b[0m\n\u001b[0;32m-> 4829\u001b[0;31m   \u001b[0mbce\u001b[0m \u001b[0;34m=\u001b[0m \u001b[0mtarget\u001b[0m \u001b[0;34m*\u001b[0m \u001b[0mmath_ops\u001b[0m\u001b[0;34m.\u001b[0m\u001b[0mlog\u001b[0m\u001b[0;34m(\u001b[0m\u001b[0moutput\u001b[0m \u001b[0;34m+\u001b[0m \u001b[0mepsilon\u001b[0m\u001b[0;34m(\u001b[0m\u001b[0;34m)\u001b[0m\u001b[0;34m)\u001b[0m\u001b[0;34m\u001b[0m\u001b[0;34m\u001b[0m\u001b[0m\n\u001b[0m\u001b[1;32m   4830\u001b[0m   \u001b[0mbce\u001b[0m \u001b[0;34m+=\u001b[0m \u001b[0;34m(\u001b[0m\u001b[0;36m1\u001b[0m \u001b[0;34m-\u001b[0m \u001b[0mtarget\u001b[0m\u001b[0;34m)\u001b[0m \u001b[0;34m*\u001b[0m \u001b[0mmath_ops\u001b[0m\u001b[0;34m.\u001b[0m\u001b[0mlog\u001b[0m\u001b[0;34m(\u001b[0m\u001b[0;36m1\u001b[0m \u001b[0;34m-\u001b[0m \u001b[0moutput\u001b[0m \u001b[0;34m+\u001b[0m \u001b[0mepsilon\u001b[0m\u001b[0;34m(\u001b[0m\u001b[0;34m)\u001b[0m\u001b[0;34m)\u001b[0m\u001b[0;34m\u001b[0m\u001b[0;34m\u001b[0m\u001b[0m\n\u001b[1;32m   4831\u001b[0m   \u001b[0;32mreturn\u001b[0m \u001b[0;34m-\u001b[0m\u001b[0mbce\u001b[0m\u001b[0;34m\u001b[0m\u001b[0;34m\u001b[0m\u001b[0m\n",
      "\u001b[0;32m/opt/anaconda3/lib/python3.7/site-packages/tensorflow/python/ops/math_ops.py\u001b[0m in \u001b[0;36mbinary_op_wrapper\u001b[0;34m(x, y)\u001b[0m\n\u001b[1;32m   1123\u001b[0m     \u001b[0;32mwith\u001b[0m \u001b[0mops\u001b[0m\u001b[0;34m.\u001b[0m\u001b[0mname_scope\u001b[0m\u001b[0;34m(\u001b[0m\u001b[0;32mNone\u001b[0m\u001b[0;34m,\u001b[0m \u001b[0mop_name\u001b[0m\u001b[0;34m,\u001b[0m \u001b[0;34m[\u001b[0m\u001b[0mx\u001b[0m\u001b[0;34m,\u001b[0m \u001b[0my\u001b[0m\u001b[0;34m]\u001b[0m\u001b[0;34m)\u001b[0m \u001b[0;32mas\u001b[0m \u001b[0mname\u001b[0m\u001b[0;34m:\u001b[0m\u001b[0;34m\u001b[0m\u001b[0;34m\u001b[0m\u001b[0m\n\u001b[1;32m   1124\u001b[0m       \u001b[0;32mtry\u001b[0m\u001b[0;34m:\u001b[0m\u001b[0;34m\u001b[0m\u001b[0;34m\u001b[0m\u001b[0m\n\u001b[0;32m-> 1125\u001b[0;31m         \u001b[0;32mreturn\u001b[0m \u001b[0mfunc\u001b[0m\u001b[0;34m(\u001b[0m\u001b[0mx\u001b[0m\u001b[0;34m,\u001b[0m \u001b[0my\u001b[0m\u001b[0;34m,\u001b[0m \u001b[0mname\u001b[0m\u001b[0;34m=\u001b[0m\u001b[0mname\u001b[0m\u001b[0;34m)\u001b[0m\u001b[0;34m\u001b[0m\u001b[0;34m\u001b[0m\u001b[0m\n\u001b[0m\u001b[1;32m   1126\u001b[0m       \u001b[0;32mexcept\u001b[0m \u001b[0;34m(\u001b[0m\u001b[0mTypeError\u001b[0m\u001b[0;34m,\u001b[0m \u001b[0mValueError\u001b[0m\u001b[0;34m)\u001b[0m \u001b[0;32mas\u001b[0m \u001b[0me\u001b[0m\u001b[0;34m:\u001b[0m\u001b[0;34m\u001b[0m\u001b[0;34m\u001b[0m\u001b[0m\n\u001b[1;32m   1127\u001b[0m         \u001b[0;31m# Even if dispatching the op failed, the RHS may be a tensor aware\u001b[0m\u001b[0;34m\u001b[0m\u001b[0;34m\u001b[0m\u001b[0;34m\u001b[0m\u001b[0m\n",
      "\u001b[0;32m/opt/anaconda3/lib/python3.7/site-packages/tensorflow/python/ops/math_ops.py\u001b[0m in \u001b[0;36m_mul_dispatch\u001b[0;34m(x, y, name)\u001b[0m\n\u001b[1;32m   1450\u001b[0m \u001b[0;32mdef\u001b[0m \u001b[0m_mul_dispatch\u001b[0m\u001b[0;34m(\u001b[0m\u001b[0mx\u001b[0m\u001b[0;34m,\u001b[0m \u001b[0my\u001b[0m\u001b[0;34m,\u001b[0m \u001b[0mname\u001b[0m\u001b[0;34m=\u001b[0m\u001b[0;32mNone\u001b[0m\u001b[0;34m)\u001b[0m\u001b[0;34m:\u001b[0m\u001b[0;34m\u001b[0m\u001b[0;34m\u001b[0m\u001b[0m\n\u001b[1;32m   1451\u001b[0m   \u001b[0;34m\"\"\"Dispatches cwise mul for \"Dense*Dense\" and \"Dense*Sparse\".\"\"\"\u001b[0m\u001b[0;34m\u001b[0m\u001b[0;34m\u001b[0m\u001b[0m\n\u001b[0;32m-> 1452\u001b[0;31m   \u001b[0;32mif\u001b[0m \u001b[0misinstance\u001b[0m\u001b[0;34m(\u001b[0m\u001b[0my\u001b[0m\u001b[0;34m,\u001b[0m \u001b[0msparse_tensor\u001b[0m\u001b[0;34m.\u001b[0m\u001b[0mSparseTensor\u001b[0m\u001b[0;34m)\u001b[0m\u001b[0;34m:\u001b[0m  \u001b[0;31m# Case: Dense * Sparse.\u001b[0m\u001b[0;34m\u001b[0m\u001b[0;34m\u001b[0m\u001b[0m\n\u001b[0m\u001b[1;32m   1453\u001b[0m     new_vals = gen_sparse_ops.sparse_dense_cwise_mul(y.indices, y.values,\n\u001b[1;32m   1454\u001b[0m                                                      y.dense_shape, x, name)\n",
      "\u001b[0;32m/opt/anaconda3/lib/python3.7/abc.py\u001b[0m in \u001b[0;36m__instancecheck__\u001b[0;34m(cls, instance)\u001b[0m\n\u001b[1;32m    137\u001b[0m         \u001b[0;32mdef\u001b[0m \u001b[0m__instancecheck__\u001b[0m\u001b[0;34m(\u001b[0m\u001b[0mcls\u001b[0m\u001b[0;34m,\u001b[0m \u001b[0minstance\u001b[0m\u001b[0;34m)\u001b[0m\u001b[0;34m:\u001b[0m\u001b[0;34m\u001b[0m\u001b[0;34m\u001b[0m\u001b[0m\n\u001b[1;32m    138\u001b[0m             \u001b[0;34m\"\"\"Override for isinstance(instance, cls).\"\"\"\u001b[0m\u001b[0;34m\u001b[0m\u001b[0;34m\u001b[0m\u001b[0m\n\u001b[0;32m--> 139\u001b[0;31m             \u001b[0;32mreturn\u001b[0m \u001b[0m_abc_instancecheck\u001b[0m\u001b[0;34m(\u001b[0m\u001b[0mcls\u001b[0m\u001b[0;34m,\u001b[0m \u001b[0minstance\u001b[0m\u001b[0;34m)\u001b[0m\u001b[0;34m\u001b[0m\u001b[0;34m\u001b[0m\u001b[0m\n\u001b[0m\u001b[1;32m    140\u001b[0m \u001b[0;34m\u001b[0m\u001b[0m\n\u001b[1;32m    141\u001b[0m         \u001b[0;32mdef\u001b[0m \u001b[0m__subclasscheck__\u001b[0m\u001b[0;34m(\u001b[0m\u001b[0mcls\u001b[0m\u001b[0;34m,\u001b[0m \u001b[0msubclass\u001b[0m\u001b[0;34m)\u001b[0m\u001b[0;34m:\u001b[0m\u001b[0;34m\u001b[0m\u001b[0;34m\u001b[0m\u001b[0m\n",
      "\u001b[0;31mKeyboardInterrupt\u001b[0m: "
     ]
    }
   ],
   "source": [
    "for i in range(5):\n",
    "    print(f'\\nBeginning run {i}')\n",
    "    mlp = baselines.models.MLP(len(wt), hidden_size=100, alphabet=s_utils.DNAA, loss='MSE')\n",
    "    vae = baselines.explorers.VAE(len(wt), alphabet=s_utils.DNAA, epochs=10, verbose=False)\n",
    "    cbas = baselines.explorers.CbAS(\n",
    "        mlp,\n",
    "        vae,\n",
    "        rounds=10,\n",
    "        starting_sequence=wt,\n",
    "        sequences_batch_size=100,\n",
    "        model_queries_per_batch=1000,\n",
    "        alphabet=s_utils.DNAA,\n",
    "        log_file=f'plots/six6_dyna_ppo_paper/cbas'\n",
    "    )\n",
    "    cbas.run(landscape)"
   ]
  },
  {
   "cell_type": "code",
   "execution_count": 97,
   "metadata": {},
   "outputs": [
    {
     "data": {
      "image/png": "[encoded data removed]",
      "text/plain": [
       "<Figure size 1152x504 with 1 Axes>"
      ]
     },
     "metadata": {
      "needs_background": "light"
     },
     "output_type": "display_data"
    }
   ],
   "source": [
    "plt.figure(figsize=(16, 7))\n",
    "sns.lineplot(*compute_scores('plots/dyna_ppo_six6'), label=\"DynaPPO\")\n",
    "plt.ylim(0)\n",
    "plt.show()"
   ]
  },
  {
   "cell_type": "code",
   "execution_count": null,
   "metadata": {},
   "outputs": [],
   "source": []
  }
 ],
 "metadata": {
  "kernelspec": {
   "display_name": "Python 3",
   "language": "python",
   "name": "python3"
  },
  "language_info": {
   "codemirror_mode": {
    "name": "ipython",
    "version": 3
   },
   "file_extension": ".py",
   "mimetype": "text/x-python",
   "name": "python",
   "nbconvert_exporter": "python",
   "pygments_lexer": "ipython3",
   "version": "3.7.6"
  }
 },
 "nbformat": 4,
 "nbformat_minor": 4
}
