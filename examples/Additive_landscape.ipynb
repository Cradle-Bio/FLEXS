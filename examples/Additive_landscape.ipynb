{
 "cells": [
  {
   "cell_type": "code",
   "execution_count": 1,
   "metadata": {},
   "outputs": [],
   "source": [
    "%reload_ext autoreload\n",
    "%autoreload 2\n",
    "%matplotlib inline\n",
    "import editdistance\n",
    "import matplotlib.pyplot as plt\n",
    "import seaborn as sns\n",
    "import pandas as pd\n",
    "import json"
   ]
  },
  {
   "cell_type": "code",
   "execution_count": 60,
   "metadata": {},
   "outputs": [],
   "source": [
    "AAV2_WT=\"MAADGYLPDWLEDTLSEGIRQWWKLKPGPPPPKPAERHKDDSRGLVLPGYKYLGPFNGLD\\\n",
    "KGEPVNEADAAALEHDKAYDRQLDSGDNPYLKYNHADAEFQERLKEDTSFGGNLGRAVFQ\\\n",
    "AKKRVLEPLGLVEEPVKTAPGKKRPVEHSPVEPDSSSGTGKAGQQPARKRLNFGQTGDAD\\\n",
    "SVPDPQPLGQPPAAPSGLGTNTMATGSGAPMADNNEGADGVGNSSGNWHCDSTWMGDRVI\\\n",
    "TTSTRTWALPTYNNHLYKQISSQSGASNDNHYFGYSTPWGYFDFNRFHCHFSPRDWQRLI\\\n",
    "NNNWGFRPKRLNFKLFNIQVKEVTQNDGTTTIANNLTSTVQVFTDSEYQLPYVLGSAHQG\\\n",
    "CLPPFPADVFMVPQYGYLTLNNGSQAVGRSSFYCLEYFPSQMLRTGNNFTFSYTFEDVPF\\\n",
    "HSSYAHSQSLDRLMNPLIDQYLYYLSRTNTPSGTTTQSRLQFSQAGASDIRDQSRNWLPG\\\n",
    "PCYRQQRVSKTSADNNNSEYSWTGATKYHLNGRDSLVNPGPAMASHKDDEEKFFPQSGVL\\\n",
    "IFGKQGSEKTNVDIEKVMITDEEEIRTTNPVATEQYGSVSTNLQRGNRQAATADVNTQGV\\\n",
    "LPGMVWQDRDVYLQGPIWAKIPHTDGHFHPSPLMGGFGLKHPPPQILIKNTPVPANPSTT\\\n",
    "FSAAKFASFITQYSTGQVSVEIEWELQKENSKRWNPEIQYTSNYNKSVNVDFTVDTNGVY\\\n",
    "SEPRPIGTRYLTRNL\""
   ]
  },
  {
   "cell_type": "code",
   "execution_count": 61,
   "metadata": {},
   "outputs": [],
   "source": [
    "import sys"
   ]
  },
  {
   "cell_type": "code",
   "execution_count": 110,
   "metadata": {},
   "outputs": [],
   "source": [
    "sys.path.append(\"../\")\n",
    "from models.Ground_truth_oracles.Additive_models import Additive_landscape_constructor\n"
   ]
  },
  {
   "cell_type": "code",
   "execution_count": 111,
   "metadata": {},
   "outputs": [],
   "source": [
    "cons=Additive_landscape_constructor()"
   ]
  },
  {
   "cell_type": "code",
   "execution_count": 112,
   "metadata": {},
   "outputs": [],
   "source": [
    "cons.load_landscapes(landscapes_to_test=[\"liver\"])"
   ]
  },
  {
   "cell_type": "code",
   "execution_count": 113,
   "metadata": {},
   "outputs": [],
   "source": [
    "landscape_gen=cons.generate_from_loaded_landscapes()"
   ]
  },
  {
   "cell_type": "code",
   "execution_count": 114,
   "metadata": {},
   "outputs": [
    {
     "data": {
      "text/plain": [
       "{'liver:450:540:0': {'phenotype': 'liver',\n",
       "  'start': 450,\n",
       "  'end': 540,\n",
       "  'noise': 0},\n",
       " 'liver:450:540:0.01': {'phenotype': 'liver',\n",
       "  'start': 450,\n",
       "  'end': 540,\n",
       "  'noise': 0.01},\n",
       " 'liver:450:540:0.1': {'phenotype': 'liver',\n",
       "  'start': 450,\n",
       "  'end': 540,\n",
       "  'noise': 0.1}}"
      ]
     },
     "execution_count": 114,
     "metadata": {},
     "output_type": "execute_result"
    }
   ],
   "source": [
    "cons.loaded_landscapes"
   ]
  },
  {
   "cell_type": "code",
   "execution_count": 115,
   "metadata": {},
   "outputs": [],
   "source": [
    "x=next(landscape_gen)"
   ]
  },
  {
   "cell_type": "code",
   "execution_count": 116,
   "metadata": {},
   "outputs": [],
   "source": [
    "landscape_x=x[\"landscape_oracle\"]"
   ]
  },
  {
   "cell_type": "code",
   "execution_count": 117,
   "metadata": {},
   "outputs": [
    {
     "data": {
      "text/plain": [
       "{'landscape_id': 'liver:450:540:0',\n",
       " 'starting_seqs': {'AAV2:450-540': 'PSGTTTQSRLQFSQAGASDIRDQSRNWLPGPCYRQQRVSKTSADNNNSEYSWTGATKYHLNGRDSLVNPGPAMASHKDDEEKFFPQSGVL'},\n",
       " 'landscape_oracle': <models.Ground_truth_oracles.Additive_models.Additive_landscape_AAV at 0x1a36533208>}"
      ]
     },
     "execution_count": 117,
     "metadata": {},
     "output_type": "execute_result"
    }
   ],
   "source": [
    "x"
   ]
  },
  {
   "cell_type": "code",
   "execution_count": 118,
   "metadata": {},
   "outputs": [
    {
     "data": {
      "text/plain": [
       "'PAGTTVTPMNWFSQPGCIHLKNQGKQWMPGPIQRQNRVSKCAMDNHQMEYSWTGACKYHLNGRDSIISPGIPMTHSQDDEEIFFPQSGVL'"
      ]
     },
     "execution_count": 118,
     "metadata": {},
     "output_type": "execute_result"
    }
   ],
   "source": [
    "landscape_x.top_seq"
   ]
  },
  {
   "cell_type": "code",
   "execution_count": 77,
   "metadata": {},
   "outputs": [
    {
     "data": {
      "text/plain": [
       "0.5"
      ]
     },
     "execution_count": 77,
     "metadata": {},
     "output_type": "execute_result"
    }
   ],
   "source": [
    "landscape_x.get_fitness(x['starting_seqs'][0])"
   ]
  },
  {
   "cell_type": "code",
   "execution_count": 44,
   "metadata": {},
   "outputs": [
    {
     "data": {
      "text/plain": [
       "47.871582973321054"
      ]
     },
     "execution_count": 44,
     "metadata": {},
     "output_type": "execute_result"
    }
   ],
   "source": [
    "landscape_x._get_raw_fitness(landscape_x.top_seq)"
   ]
  },
  {
   "cell_type": "code",
   "execution_count": 45,
   "metadata": {},
   "outputs": [],
   "source": [
    "landscape1=landscape_x"
   ]
  },
  {
   "cell_type": "code",
   "execution_count": 4,
   "metadata": {},
   "outputs": [],
   "source": [
    "with open('../data/AAV_Additive_landscapes/AAV2_single_subs.json','r') as infile:\n",
    "    dataj=json.load(infile)"
   ]
  },
  {
   "cell_type": "code",
   "execution_count": 5,
   "metadata": {},
   "outputs": [],
   "source": [
    "phenotypes=['log2_lung_v_wt','log2_packaging_v_wt','log2_liver_v_wt',\\\n",
    "            'log2_kidney_v_wt','log2_spleen_v_wt','log2_heart_v_wt', 'log2_blood_v_wt']"
   ]
  },
  {
   "cell_type": "code",
   "execution_count": 6,
   "metadata": {},
   "outputs": [
    {
     "data": {
      "text/plain": [
       "735"
      ]
     },
     "execution_count": 6,
     "metadata": {},
     "output_type": "execute_result"
    }
   ],
   "source": [
    "len(AAV2_WT)"
   ]
  },
  {
   "cell_type": "code",
   "execution_count": 10,
   "metadata": {},
   "outputs": [
    {
     "data": {
      "text/plain": [
       "{'heart:560:588:0': {'phenotype': 'heart',\n",
       "  'start': 560,\n",
       "  'end': 588,\n",
       "  'noise': 0},\n",
       " 'lung:560:588:0': {'phenotype': 'lung', 'start': 560, 'end': 588, 'noise': 0},\n",
       " 'kidney:560:588:0': {'phenotype': 'kidney',\n",
       "  'start': 560,\n",
       "  'end': 588,\n",
       "  'noise': 0},\n",
       " 'liver:560:588:0': {'phenotype': 'liver',\n",
       "  'start': 560,\n",
       "  'end': 588,\n",
       "  'noise': 0},\n",
       " 'blood:560:588:0': {'phenotype': 'blood',\n",
       "  'start': 560,\n",
       "  'end': 588,\n",
       "  'noise': 0},\n",
       " 'spleen:560:588:0': {'phenotype': 'spleen',\n",
       "  'start': 560,\n",
       "  'end': 588,\n",
       "  'noise': 0},\n",
       " 'heart:560:588:0.01': {'phenotype': 'heart',\n",
       "  'start': 560,\n",
       "  'end': 588,\n",
       "  'noise': 0.01},\n",
       " 'lung:560:588:0.01': {'phenotype': 'lung',\n",
       "  'start': 560,\n",
       "  'end': 588,\n",
       "  'noise': 0.01},\n",
       " 'kidney:560:588:0.01': {'phenotype': 'kidney',\n",
       "  'start': 560,\n",
       "  'end': 588,\n",
       "  'noise': 0.01},\n",
       " 'liver:560:588:0.01': {'phenotype': 'liver',\n",
       "  'start': 560,\n",
       "  'end': 588,\n",
       "  'noise': 0.01},\n",
       " 'blood:560:588:0.01': {'phenotype': 'blood',\n",
       "  'start': 560,\n",
       "  'end': 588,\n",
       "  'noise': 0.01},\n",
       " 'spleen:560:588:0.01': {'phenotype': 'spleen',\n",
       "  'start': 560,\n",
       "  'end': 588,\n",
       "  'noise': 0.01},\n",
       " 'heart:560:588:0.1': {'phenotype': 'heart',\n",
       "  'start': 560,\n",
       "  'end': 588,\n",
       "  'noise': 0.1},\n",
       " 'lung:560:588:0.1': {'phenotype': 'lung',\n",
       "  'start': 560,\n",
       "  'end': 588,\n",
       "  'noise': 0.1},\n",
       " 'kidney:560:588:0.1': {'phenotype': 'kidney',\n",
       "  'start': 560,\n",
       "  'end': 588,\n",
       "  'noise': 0.1},\n",
       " 'liver:560:588:0.1': {'phenotype': 'liver',\n",
       "  'start': 560,\n",
       "  'end': 588,\n",
       "  'noise': 0.1},\n",
       " 'blood:560:588:0.1': {'phenotype': 'blood',\n",
       "  'start': 560,\n",
       "  'end': 588,\n",
       "  'noise': 0.1},\n",
       " 'spleen:560:588:0.1': {'phenotype': 'spleen',\n",
       "  'start': 560,\n",
       "  'end': 588,\n",
       "  'noise': 0.1},\n",
       " 'heart:450:540:0': {'phenotype': 'heart',\n",
       "  'start': 450,\n",
       "  'end': 540,\n",
       "  'noise': 0},\n",
       " 'lung:450:540:0': {'phenotype': 'lung', 'start': 450, 'end': 540, 'noise': 0},\n",
       " 'kidney:450:540:0': {'phenotype': 'kidney',\n",
       "  'start': 450,\n",
       "  'end': 540,\n",
       "  'noise': 0},\n",
       " 'liver:450:540:0': {'phenotype': 'liver',\n",
       "  'start': 450,\n",
       "  'end': 540,\n",
       "  'noise': 0},\n",
       " 'blood:450:540:0': {'phenotype': 'blood',\n",
       "  'start': 450,\n",
       "  'end': 540,\n",
       "  'noise': 0},\n",
       " 'spleen:450:540:0': {'phenotype': 'spleen',\n",
       "  'start': 450,\n",
       "  'end': 540,\n",
       "  'noise': 0},\n",
       " 'heart:450:540:0.01': {'phenotype': 'heart',\n",
       "  'start': 450,\n",
       "  'end': 540,\n",
       "  'noise': 0.01},\n",
       " 'lung:450:540:0.01': {'phenotype': 'lung',\n",
       "  'start': 450,\n",
       "  'end': 540,\n",
       "  'noise': 0.01},\n",
       " 'kidney:450:540:0.01': {'phenotype': 'kidney',\n",
       "  'start': 450,\n",
       "  'end': 540,\n",
       "  'noise': 0.01},\n",
       " 'liver:450:540:0.01': {'phenotype': 'liver',\n",
       "  'start': 450,\n",
       "  'end': 540,\n",
       "  'noise': 0.01},\n",
       " 'blood:450:540:0.01': {'phenotype': 'blood',\n",
       "  'start': 450,\n",
       "  'end': 540,\n",
       "  'noise': 0.01},\n",
       " 'spleen:450:540:0.01': {'phenotype': 'spleen',\n",
       "  'start': 450,\n",
       "  'end': 540,\n",
       "  'noise': 0.01},\n",
       " 'heart:450:540:0.1': {'phenotype': 'heart',\n",
       "  'start': 450,\n",
       "  'end': 540,\n",
       "  'noise': 0.1},\n",
       " 'lung:450:540:0.1': {'phenotype': 'lung',\n",
       "  'start': 450,\n",
       "  'end': 540,\n",
       "  'noise': 0.1},\n",
       " 'kidney:450:540:0.1': {'phenotype': 'kidney',\n",
       "  'start': 450,\n",
       "  'end': 540,\n",
       "  'noise': 0.1},\n",
       " 'liver:450:540:0.1': {'phenotype': 'liver',\n",
       "  'start': 450,\n",
       "  'end': 540,\n",
       "  'noise': 0.1},\n",
       " 'blood:450:540:0.1': {'phenotype': 'blood',\n",
       "  'start': 450,\n",
       "  'end': 540,\n",
       "  'noise': 0.1},\n",
       " 'spleen:450:540:0.1': {'phenotype': 'spleen',\n",
       "  'start': 450,\n",
       "  'end': 540,\n",
       "  'noise': 0.1},\n",
       " 'heart:450:735:0': {'phenotype': 'heart',\n",
       "  'start': 450,\n",
       "  'end': 735,\n",
       "  'noise': 0},\n",
       " 'lung:450:735:0': {'phenotype': 'lung', 'start': 450, 'end': 735, 'noise': 0},\n",
       " 'kidney:450:735:0': {'phenotype': 'kidney',\n",
       "  'start': 450,\n",
       "  'end': 735,\n",
       "  'noise': 0},\n",
       " 'liver:450:735:0': {'phenotype': 'liver',\n",
       "  'start': 450,\n",
       "  'end': 735,\n",
       "  'noise': 0},\n",
       " 'blood:450:735:0': {'phenotype': 'blood',\n",
       "  'start': 450,\n",
       "  'end': 735,\n",
       "  'noise': 0},\n",
       " 'spleen:450:735:0': {'phenotype': 'spleen',\n",
       "  'start': 450,\n",
       "  'end': 735,\n",
       "  'noise': 0},\n",
       " 'heart:450:735:0.01': {'phenotype': 'heart',\n",
       "  'start': 450,\n",
       "  'end': 735,\n",
       "  'noise': 0.01},\n",
       " 'lung:450:735:0.01': {'phenotype': 'lung',\n",
       "  'start': 450,\n",
       "  'end': 735,\n",
       "  'noise': 0.01},\n",
       " 'kidney:450:735:0.01': {'phenotype': 'kidney',\n",
       "  'start': 450,\n",
       "  'end': 735,\n",
       "  'noise': 0.01},\n",
       " 'liver:450:735:0.01': {'phenotype': 'liver',\n",
       "  'start': 450,\n",
       "  'end': 735,\n",
       "  'noise': 0.01},\n",
       " 'blood:450:735:0.01': {'phenotype': 'blood',\n",
       "  'start': 450,\n",
       "  'end': 735,\n",
       "  'noise': 0.01},\n",
       " 'spleen:450:735:0.01': {'phenotype': 'spleen',\n",
       "  'start': 450,\n",
       "  'end': 735,\n",
       "  'noise': 0.01},\n",
       " 'heart:450:735:0.1': {'phenotype': 'heart',\n",
       "  'start': 450,\n",
       "  'end': 735,\n",
       "  'noise': 0.1},\n",
       " 'lung:450:735:0.1': {'phenotype': 'lung',\n",
       "  'start': 450,\n",
       "  'end': 735,\n",
       "  'noise': 0.1},\n",
       " 'kidney:450:735:0.1': {'phenotype': 'kidney',\n",
       "  'start': 450,\n",
       "  'end': 735,\n",
       "  'noise': 0.1},\n",
       " 'liver:450:735:0.1': {'phenotype': 'liver',\n",
       "  'start': 450,\n",
       "  'end': 735,\n",
       "  'noise': 0.1},\n",
       " 'blood:450:735:0.1': {'phenotype': 'blood',\n",
       "  'start': 450,\n",
       "  'end': 735,\n",
       "  'noise': 0.1},\n",
       " 'spleen:450:735:0.1': {'phenotype': 'spleen',\n",
       "  'start': 450,\n",
       "  'end': 735,\n",
       "  'noise': 0.1},\n",
       " 'heart:0:735:0': {'phenotype': 'heart', 'start': 0, 'end': 735, 'noise': 0},\n",
       " 'lung:0:735:0': {'phenotype': 'lung', 'start': 0, 'end': 735, 'noise': 0},\n",
       " 'kidney:0:735:0': {'phenotype': 'kidney', 'start': 0, 'end': 735, 'noise': 0},\n",
       " 'liver:0:735:0': {'phenotype': 'liver', 'start': 0, 'end': 735, 'noise': 0},\n",
       " 'blood:0:735:0': {'phenotype': 'blood', 'start': 0, 'end': 735, 'noise': 0},\n",
       " 'spleen:0:735:0': {'phenotype': 'spleen', 'start': 0, 'end': 735, 'noise': 0},\n",
       " 'heart:0:735:0.01': {'phenotype': 'heart',\n",
       "  'start': 0,\n",
       "  'end': 735,\n",
       "  'noise': 0.01},\n",
       " 'lung:0:735:0.01': {'phenotype': 'lung',\n",
       "  'start': 0,\n",
       "  'end': 735,\n",
       "  'noise': 0.01},\n",
       " 'kidney:0:735:0.01': {'phenotype': 'kidney',\n",
       "  'start': 0,\n",
       "  'end': 735,\n",
       "  'noise': 0.01},\n",
       " 'liver:0:735:0.01': {'phenotype': 'liver',\n",
       "  'start': 0,\n",
       "  'end': 735,\n",
       "  'noise': 0.01},\n",
       " 'blood:0:735:0.01': {'phenotype': 'blood',\n",
       "  'start': 0,\n",
       "  'end': 735,\n",
       "  'noise': 0.01},\n",
       " 'spleen:0:735:0.01': {'phenotype': 'spleen',\n",
       "  'start': 0,\n",
       "  'end': 735,\n",
       "  'noise': 0.01},\n",
       " 'heart:0:735:0.1': {'phenotype': 'heart',\n",
       "  'start': 0,\n",
       "  'end': 735,\n",
       "  'noise': 0.1},\n",
       " 'lung:0:735:0.1': {'phenotype': 'lung', 'start': 0, 'end': 735, 'noise': 0.1},\n",
       " 'kidney:0:735:0.1': {'phenotype': 'kidney',\n",
       "  'start': 0,\n",
       "  'end': 735,\n",
       "  'noise': 0.1},\n",
       " 'liver:0:735:0.1': {'phenotype': 'liver',\n",
       "  'start': 0,\n",
       "  'end': 735,\n",
       "  'noise': 0.1},\n",
       " 'blood:0:735:0.1': {'phenotype': 'blood',\n",
       "  'start': 0,\n",
       "  'end': 735,\n",
       "  'noise': 0.1},\n",
       " 'spleen:0:735:0.1': {'phenotype': 'spleen',\n",
       "  'start': 0,\n",
       "  'end': 735,\n",
       "  'noise': 0.1}}"
      ]
     },
     "execution_count": 10,
     "metadata": {},
     "output_type": "execute_result"
    }
   ],
   "source": [
    "phenotypes=[\"heart\",\"lung\",\"kidney\",\"liver\",\"blood\",\"spleen\"]\n",
    "noise=[0,0.01,0.1]\n",
    "start_ends=[(560,588),(450,540),(450,735),(0,735)]\n",
    "output_dict={}\n",
    "for se in start_ends:        \n",
    "    for n in noise:\n",
    "        for phenotype in phenotypes:\n",
    "            key=f'{phenotype}:{se[0]}:{se[1]}:{n}'\n",
    "            output_dict[key]={'phenotype':phenotype, 'start':se[0],'end':se[1],'noise':n}\n",
    "        "
   ]
  },
  {
   "cell_type": "code",
   "execution_count": 11,
   "metadata": {},
   "outputs": [],
   "source": [
    "with open('../data/AAV_Additive_landscapes/landscapes.json', 'w') as outfile:\n",
    "    json.dump(output_dict, outfile,indent=4)"
   ]
  },
  {
   "cell_type": "code",
   "execution_count": 94,
   "metadata": {},
   "outputs": [],
   "source": [
    "import sys\n",
    "\n",
    "sys.path.append('../')\n",
    "\n",
    "\n",
    "            "
   ]
  },
  {
   "cell_type": "code",
   "execution_count": 340,
   "metadata": {},
   "outputs": [],
   "source": [
    "from models.Ground_truth_oracles.Additive_models import Additive_landscape_AAV"
   ]
  },
  {
   "cell_type": "code",
   "execution_count": 496,
   "metadata": {},
   "outputs": [],
   "source": [
    "st=450\n",
    "end=750"
   ]
  },
  {
   "cell_type": "code",
   "execution_count": 497,
   "metadata": {},
   "outputs": [],
   "source": [
    "landscape1=Additive_landscape_AAV('../data/AAV_Additive_landscapes/AAV2_single_subs.json','liver',0,1, start=st, end=end)"
   ]
  },
  {
   "cell_type": "code",
   "execution_count": 498,
   "metadata": {},
   "outputs": [
    {
     "data": {
      "text/plain": [
       "'PAGTTVTPMNWFSQPGCIHLKNQGKQWMPGPIQRQNRVSKCAMDNHQMEYSWTGACKYHLNGRDSIISPGIPMTHSQDDEEIFFPQSGVLHFGEMDTTMDNADCETVQICCEMEIVQTNCVSTEPWGEVASNIQRGNRQPQTEDVNAIGVIPGMVWMDRDVYLAGPIWARIPQVAGYCKPSPLAGGFGCCDPPYVIFIKNTSVPANPHLWFFDSYMKQWITQYSTGCITVCVTWECLKENSKRWNPFVQFTNNYYKSWWVDFTVDHNGMYAEPRPIGTRWLTRPI'"
      ]
     },
     "execution_count": 498,
     "metadata": {},
     "output_type": "execute_result"
    }
   ],
   "source": [
    "landscape1.top_seq"
   ]
  },
  {
   "cell_type": "code",
   "execution_count": 499,
   "metadata": {},
   "outputs": [
    {
     "data": {
      "text/plain": [
       "1.0"
      ]
     },
     "execution_count": 499,
     "metadata": {},
     "output_type": "execute_result"
    }
   ],
   "source": [
    "landscape1.get_fitness(landscape1.top_seq)"
   ]
  },
  {
   "cell_type": "code",
   "execution_count": 500,
   "metadata": {},
   "outputs": [
    {
     "data": {
      "text/plain": [
       "'PAGTTVTPMNWFSQPGCIHLKNQGKQWMPGPIQRQNRVSKCAMDNHQMEYSWTGACKYHLNGRDSIISPGIPMTHSQDDEEIFFPQSGVLHFGEMDTTMDNADCETVQICCEMEIVQTNCVSTEPWGEVASNIQRGNRQPQTEDVNAIGVIPGMVWMDRDVYLAGPIWARIPQVAGYCKPSPLAGGFGCCDPPYVIFIKNTSVPANPHLWFFDSYMKQWITQYSTGCITVCVTWECLKENSKRWNPFVQFTNNYYKSWWVDFTVDHNGMYAEPRPIGTRWLTRPI'"
      ]
     },
     "execution_count": 500,
     "metadata": {},
     "output_type": "execute_result"
    }
   ],
   "source": [
    "landscape1.top_seq"
   ]
  },
  {
   "cell_type": "code",
   "execution_count": 501,
   "metadata": {},
   "outputs": [
    {
     "data": {
      "text/plain": [
       "60.56711578885409"
      ]
     },
     "execution_count": 501,
     "metadata": {},
     "output_type": "execute_result"
    }
   ],
   "source": [
    "landscape1.max_possible"
   ]
  },
  {
   "cell_type": "code",
   "execution_count": 502,
   "metadata": {},
   "outputs": [
    {
     "data": {
      "text/plain": [
       "121.13423157770818"
      ]
     },
     "execution_count": 502,
     "metadata": {},
     "output_type": "execute_result"
    }
   ],
   "source": [
    "landscape1._get_raw_fitness(landscape1.top_seq)"
   ]
  },
  {
   "cell_type": "code",
   "execution_count": 46,
   "metadata": {},
   "outputs": [],
   "source": [
    "from utils.sequence_utils import *"
   ]
  },
  {
   "cell_type": "code",
   "execution_count": 47,
   "metadata": {},
   "outputs": [],
   "source": [
    "mutants=list(set([generate_random_mutant(landscape1.top_seq,0.005, alphabet=AAS) for i in range(10000)]))"
   ]
  },
  {
   "cell_type": "code",
   "execution_count": 48,
   "metadata": {},
   "outputs": [
    {
     "data": {
      "text/plain": [
       "0"
      ]
     },
     "execution_count": 48,
     "metadata": {},
     "output_type": "execute_result"
    }
   ],
   "source": [
    "landscape1.get_fitness(mutants[5])"
   ]
  },
  {
   "cell_type": "code",
   "execution_count": 49,
   "metadata": {},
   "outputs": [],
   "source": [
    "fitnesses=[]\n",
    "distances=[]\n",
    "for m in mutants:\n",
    "   fitnesses.append(landscape1.get_fitness(m))\n",
    "   distances.append(editdistance.eval(landscape1.top_seq, m))"
   ]
  },
  {
   "cell_type": "code",
   "execution_count": 50,
   "metadata": {},
   "outputs": [
    {
     "data": {
      "text/plain": [
       "2082"
      ]
     },
     "execution_count": 50,
     "metadata": {},
     "output_type": "execute_result"
    }
   ],
   "source": [
    "len(fitnesses)"
   ]
  },
  {
   "cell_type": "code",
   "execution_count": 51,
   "metadata": {},
   "outputs": [
    {
     "data": {
      "text/plain": [
       "(array([396.,   0.,   0.,   0.,   0.,  31.,  28., 448., 192., 987.]),\n",
       " array([0. , 0.1, 0.2, 0.3, 0.4, 0.5, 0.6, 0.7, 0.8, 0.9, 1. ]),\n",
       " <a list of 10 Patch objects>)"
      ]
     },
     "execution_count": 51,
     "metadata": {},
     "output_type": "execute_result"
    },
    {
     "data": {
      "image/png": "[encoded data removed]",
      "text/plain": [
       "<Figure size 432x288 with 1 Axes>"
      ]
     },
     "metadata": {
      "needs_background": "light"
     },
     "output_type": "display_data"
    }
   ],
   "source": [
    "plt.hist(fitnesses)"
   ]
  },
  {
   "cell_type": "code",
   "execution_count": 52,
   "metadata": {},
   "outputs": [
    {
     "data": {
      "text/plain": [
       "(array([1.000e+00, 0.000e+00, 1.378e+03, 0.000e+00, 0.000e+00, 6.330e+02,\n",
       "        0.000e+00, 5.700e+01, 0.000e+00, 1.300e+01]),\n",
       " array([0. , 0.4, 0.8, 1.2, 1.6, 2. , 2.4, 2.8, 3.2, 3.6, 4. ]),\n",
       " <a list of 10 Patch objects>)"
      ]
     },
     "execution_count": 52,
     "metadata": {},
     "output_type": "execute_result"
    },
    {
     "data": {
      "image/png": "[encoded data removed]",
      "text/plain": [
       "<Figure size 432x288 with 1 Axes>"
      ]
     },
     "metadata": {
      "needs_background": "light"
     },
     "output_type": "display_data"
    }
   ],
   "source": [
    "plt.hist(distances)"
   ]
  },
  {
   "cell_type": "code",
   "execution_count": 53,
   "metadata": {},
   "outputs": [
    {
     "name": "stderr",
     "output_type": "stream",
     "text": [
      "/anaconda3/envs/tf3/lib/python3.6/site-packages/scipy/stats/stats.py:1713: FutureWarning: Using a non-tuple sequence for multidimensional indexing is deprecated; use `arr[tuple(seq)]` instead of `arr[seq]`. In the future this will be interpreted as an array index, `arr[np.array(seq)]`, which will result either in an error or a different result.\n",
      "  return np.add.reduce(sorted[indexer] * weights, axis=axis) / sumval\n"
     ]
    },
    {
     "data": {
      "text/plain": [
       "<seaborn.axisgrid.JointGrid at 0x1a2556a6d8>"
      ]
     },
     "execution_count": 53,
     "metadata": {},
     "output_type": "execute_result"
    },
    {
     "data": {
      "image/png": "[encoded data removed]",
      "text/plain": [
       "<Figure size 432x432 with 3 Axes>"
      ]
     },
     "metadata": {
      "needs_background": "light"
     },
     "output_type": "display_data"
    }
   ],
   "source": [
    "sns.jointplot(distances,fitnesses)"
   ]
  },
  {
   "cell_type": "code",
   "execution_count": 57,
   "metadata": {},
   "outputs": [],
   "source": [
    "from explorers.elitist_explorers import Greedy\n",
    "from explorers.evolutionary_explorers import WF, ML_WF\n"
   ]
  },
  {
   "cell_type": "code",
   "execution_count": 58,
   "metadata": {},
   "outputs": [],
   "source": [
    "greedy_exp= Greedy(recomb_rate=0.2, threshold=0.2, mu=1, virtual_screen=20,alphabet=AAS, path='../simulations/')\n"
   ]
  },
  {
   "cell_type": "code",
   "execution_count": 513,
   "metadata": {},
   "outputs": [],
   "source": [
    "random_exp = Random_explorer(mu=0.01,path='../simulations/')"
   ]
  },
  {
   "cell_type": "code",
   "execution_count": 514,
   "metadata": {},
   "outputs": [],
   "source": [
    "start_seq=AAV2_WT[st:end]\n"
   ]
  },
  {
   "cell_type": "code",
   "execution_count": 515,
   "metadata": {},
   "outputs": [
    {
     "name": "stdout",
     "output_type": "stream",
     "text": [
      "round: 0, cost: 1, evals: 0, top: 0.5\n",
      "round: 1, cost: 101, evals: 100, top: 0.5072529983392513\n",
      "round: 2, cost: 201, evals: 200, top: 0.5072529983392513\n",
      "round: 3, cost: 301, evals: 300, top: 0.5072529983392513\n",
      "round: 4, cost: 401, evals: 400, top: 0.5072529983392513\n",
      "round: 5, cost: 501, evals: 500, top: 0.5072529983392513\n",
      "round: 6, cost: 601, evals: 600, top: 0.5072529983392513\n",
      "round: 7, cost: 701, evals: 700, top: 0.5072529983392513\n",
      "round: 8, cost: 801, evals: 800, top: 0.5072529983392513\n",
      "round: 9, cost: 901, evals: 900, top: 0.5072529983392513\n"
     ]
    },
    {
     "name": "stderr",
     "output_type": "stream",
     "text": [
      "/anaconda3/envs/tf3/lib/python3.6/site-packages/scipy/stats/stats.py:3010: RuntimeWarning: invalid value encountered in double_scalars\n",
      "  r = r_num / r_den\n"
     ]
    }
   ],
   "source": [
    "from models.Noisy_models.Noisy_abstract_model import Noisy_abstract_model\n",
    "\n",
    "noisy_landscape = Noisy_abstract_model(landscape1,signal_strength=1)\n",
    "\n",
    "noisy_landscape.reset([start_seq])\n",
    "random_exp.set_model(noisy_landscape)\n",
    "random_exp.run(10,overwrite=False) \n"
   ]
  },
  {
   "cell_type": "code",
   "execution_count": 516,
   "metadata": {},
   "outputs": [
    {
     "data": {
      "text/plain": [
       "<matplotlib.collections.PathCollection at 0x1a4adcf470>"
      ]
     },
     "execution_count": 516,
     "metadata": {},
     "output_type": "execute_result"
    },
    {
     "data": {
      "image/png": "[encoded data removed]",
      "text/plain": [
       "<Figure size 432x288 with 1 Axes>"
      ]
     },
     "metadata": {
      "needs_background": "light"
     },
     "output_type": "display_data"
    }
   ],
   "source": [
    "fitnesses=[]\n",
    "distances=[]\n",
    "for seq in noisy_landscape.measured_sequences:\n",
    "    fitnesses.append(noisy_landscape.measured_sequences[seq])\n",
    "    distances.append(editdistance.eval(AAV2_WT[st:end],seq))\n",
    "plt.scatter(distances,fitnesses)"
   ]
  },
  {
   "cell_type": "code",
   "execution_count": 522,
   "metadata": {},
   "outputs": [
    {
     "name": "stdout",
     "output_type": "stream",
     "text": [
      "round: 0, cost: 1, evals: 0, top: 0.5\n",
      "round: 1, cost: 101, evals: 2048, top: 0.5036122402586988\n",
      "round: 2, cost: 201, evals: 4515, top: 0.5081386111012771\n",
      "round: 3, cost: 301, evals: 7109, top: 0.5146777359037529\n",
      "round: 4, cost: 401, evals: 9915, top: 0.5158981024329686\n",
      "round: 5, cost: 501, evals: 12805, top: 0.5158981024329686\n",
      "round: 6, cost: 601, evals: 15680, top: 0.5158981024329686\n",
      "round: 7, cost: 701, evals: 18559, top: 0.5158981024329686\n",
      "round: 8, cost: 801, evals: 21396, top: 0.5158981024329686\n",
      "round: 9, cost: 901, evals: 24239, top: 0.5158981024329686\n",
      "round: 10, cost: 1001, evals: 27133, top: 0.5158981024329686\n",
      "round: 11, cost: 1101, evals: 29924, top: 0.5158981024329686\n",
      "round: 12, cost: 1201, evals: 32703, top: 0.5158981024329686\n",
      "round: 13, cost: 1301, evals: 35468, top: 0.5158981024329686\n",
      "round: 14, cost: 1401, evals: 38250, top: 0.5158981024329686\n",
      "round: 15, cost: 1501, evals: 41033, top: 0.5158981024329686\n",
      "round: 16, cost: 1601, evals: 43765, top: 0.5158981024329686\n",
      "round: 17, cost: 1701, evals: 46516, top: 0.5174572678200732\n",
      "round: 18, cost: 1801, evals: 49290, top: 0.5255392879408045\n",
      "round: 19, cost: 1901, evals: 52039, top: 0.5255392879408045\n",
      "round: 20, cost: 2001, evals: 54811, top: 0.5255392879408045\n",
      "round: 21, cost: 2101, evals: 57612, top: 0.5298295233152817\n",
      "round: 22, cost: 2201, evals: 60429, top: 0.5298295233152817\n",
      "round: 23, cost: 2301, evals: 63207, top: 0.5298295233152817\n",
      "round: 24, cost: 2401, evals: 65950, top: 0.5298295233152817\n",
      "round: 25, cost: 2501, evals: 68672, top: 0.529852207148074\n",
      "round: 26, cost: 2601, evals: 71459, top: 0.529852207148074\n",
      "round: 27, cost: 2701, evals: 74207, top: 0.529852207148074\n",
      "round: 28, cost: 2801, evals: 76955, top: 0.5385193646158314\n",
      "round: 29, cost: 2901, evals: 79642, top: 0.5385193646158314\n"
     ]
    }
   ],
   "source": [
    "\n",
    "noisy_landscape = Noisy_abstract_model(landscape1,signal_strength=0.9)\n",
    "\n",
    "noisy_landscape.reset([start_seq])\n",
    "greedy_exp.set_model(noisy_landscape)\n",
    "greedy_exp.run(30,overwrite=False) "
   ]
  },
  {
   "cell_type": "code",
   "execution_count": 523,
   "metadata": {},
   "outputs": [
    {
     "data": {
      "text/plain": [
       "<matplotlib.collections.PathCollection at 0x1a4dc61b70>"
      ]
     },
     "execution_count": 523,
     "metadata": {},
     "output_type": "execute_result"
    },
    {
     "data": {
      "image/png": "[encoded data removed]",
      "text/plain": [
       "<Figure size 432x288 with 1 Axes>"
      ]
     },
     "metadata": {
      "needs_background": "light"
     },
     "output_type": "display_data"
    }
   ],
   "source": [
    "fitnesses=[]\n",
    "distances=[]\n",
    "for seq in noisy_landscape.measured_sequences:\n",
    "    fitnesses.append(noisy_landscape.measured_sequences[seq])\n",
    "    distances.append(editdistance.eval(AAV2_WT[st:end],seq))\n",
    "plt.scatter(distances,fitnesses)"
   ]
  },
  {
   "cell_type": "code",
   "execution_count": 519,
   "metadata": {},
   "outputs": [
    {
     "name": "stdout",
     "output_type": "stream",
     "text": [
      "SKLinear\n",
      "round: 0, cost: 1, evals: 0, top: 0.5\n"
     ]
    },
    {
     "name": "stderr",
     "output_type": "stream",
     "text": [
      "/anaconda3/envs/tf3/lib/python3.6/site-packages/scipy/stats/stats.py:3010: RuntimeWarning: invalid value encountered in double_scalars\n",
      "  r = r_num / r_den\n"
     ]
    },
    {
     "name": "stdout",
     "output_type": "stream",
     "text": [
      "round: 1, cost: 101, evals: 2018, top: 0.5079579080588105\n",
      "round: 2, cost: 201, evals: 4426, top: 0.5079579080588105\n",
      "round: 3, cost: 301, evals: 7056, top: 0.5168927220817608\n",
      "round: 4, cost: 401, evals: 9887, top: 0.5168927220817608\n",
      "round: 5, cost: 501, evals: 12810, top: 0.5168927220817608\n",
      "round: 6, cost: 601, evals: 15817, top: 0.5168927220817608\n",
      "round: 7, cost: 701, evals: 18716, top: 0.5168927220817608\n",
      "round: 8, cost: 801, evals: 21590, top: 0.5168927220817608\n",
      "round: 9, cost: 901, evals: 24505, top: 0.5168927220817608\n",
      "LNN\n",
      "round: 0, cost: 1, evals: 0, top: 0.5\n",
      "round: 1, cost: 101, evals: 2049, top: 0.5062539140127836\n",
      "round: 2, cost: 201, evals: 4368, top: 0.5062539140127836\n",
      "round: 3, cost: 301, evals: 7004, top: 0.5062539140127836\n",
      "round: 4, cost: 401, evals: 9685, top: 0.5062539140127836\n",
      "round: 5, cost: 501, evals: 12388, top: 0.5062539140127836\n",
      "round: 6, cost: 601, evals: 15071, top: 0.5062539140127836\n",
      "round: 7, cost: 701, evals: 17801, top: 0.5062539140127836\n",
      "round: 8, cost: 801, evals: 20553, top: 0.5062539140127836\n",
      "round: 9, cost: 901, evals: 23283, top: 0.5062539140127836\n",
      "SKRF\n",
      "round: 0, cost: 1, evals: 0, top: 0.5\n"
     ]
    },
    {
     "name": "stderr",
     "output_type": "stream",
     "text": [
      "/anaconda3/envs/tf3/lib/python3.6/site-packages/scipy/stats/stats.py:3010: RuntimeWarning: invalid value encountered in double_scalars\n",
      "  r = r_num / r_den\n"
     ]
    },
    {
     "name": "stdout",
     "output_type": "stream",
     "text": [
      "round: 1, cost: 101, evals: 2024, top: 0.5151165420705299\n",
      "round: 2, cost: 201, evals: 4492, top: 0.5151165420705299\n",
      "round: 3, cost: 301, evals: 7272, top: 0.5151165420705299\n",
      "round: 4, cost: 401, evals: 9983, top: 0.5151165420705299\n",
      "round: 5, cost: 501, evals: 12604, top: 0.5151165420705299\n",
      "round: 6, cost: 601, evals: 15263, top: 0.5151165420705299\n",
      "round: 7, cost: 701, evals: 17900, top: 0.5151165420705299\n",
      "round: 8, cost: 801, evals: 20564, top: 0.521151840234825\n",
      "round: 9, cost: 901, evals: 23369, top: 0.521151840234825\n",
      "NLNN_hd50\n"
     ]
    },
    {
     "name": "stderr",
     "output_type": "stream",
     "text": [
      "/anaconda3/envs/tf3/lib/python3.6/site-packages/scipy/stats/stats.py:3010: RuntimeWarning: invalid value encountered in double_scalars\n",
      "  r = r_num / r_den\n"
     ]
    },
    {
     "name": "stdout",
     "output_type": "stream",
     "text": [
      "round: 0, cost: 1, evals: 0, top: 0.5\n",
      "round: 1, cost: 101, evals: 2012, top: 0.5069215012837934\n",
      "round: 2, cost: 201, evals: 4325, top: 0.5069215012837934\n",
      "round: 3, cost: 301, evals: 6915, top: 0.5069215012837934\n",
      "round: 4, cost: 401, evals: 9640, top: 0.5069215012837934\n",
      "round: 5, cost: 501, evals: 12350, top: 0.5069215012837934\n",
      "round: 6, cost: 601, evals: 15052, top: 0.5069215012837934\n",
      "round: 7, cost: 701, evals: 17833, top: 0.5069215012837934\n",
      "round: 8, cost: 801, evals: 20492, top: 0.5069215012837934\n",
      "round: 9, cost: 901, evals: 23229, top: 0.5069215012837934\n",
      "CNNa_hd100_f50\n",
      "round: 0, cost: 1, evals: 0, top: 0.5\n",
      "round: 1, cost: 101, evals: 2036, top: 0.5029268284542584\n",
      "round: 2, cost: 201, evals: 4286, top: 0.5029268284542584\n",
      "round: 3, cost: 301, evals: 6836, top: 0.5029268284542584\n",
      "round: 4, cost: 401, evals: 9524, top: 0.5029268284542584\n",
      "round: 5, cost: 501, evals: 12186, top: 0.5029268284542584\n",
      "round: 6, cost: 601, evals: 14954, top: 0.5029268284542584\n",
      "round: 7, cost: 701, evals: 17713, top: 0.5029268284542584\n",
      "round: 8, cost: 801, evals: 20479, top: 0.5029268284542584\n",
      "round: 9, cost: 901, evals: 23175, top: 0.5029268284542584\n"
     ]
    }
   ],
   "source": [
    "nnlandscapes = []\n",
    "from utils.model_architectures import SKLinear,SKRF, NLNN, CNNa, Linear\n",
    "from models.Noisy_models.Neural_network_models import NN_model\n",
    "\n",
    "for arch in [SKLinear, Linear, SKRF, NLNN, CNNa]:\n",
    "    nn_model = arch(len(start_seq), alphabet = greedy_exp.alphabet)\n",
    "    nnlandscape = NN_model(landscape1,nn_model)\n",
    "    print(nn_model.architecture_name)\n",
    "    nnlandscape.update_model([start_seq])\n",
    "\n",
    "    greedy_exp.set_model(nnlandscape)\n",
    "    greedy_exp.run(10,overwrite=False) "
   ]
  },
  {
   "cell_type": "code",
   "execution_count": 520,
   "metadata": {},
   "outputs": [],
   "source": [
    "fitnesses=[]\n",
    "distances=[]\n",
    "for seq in nnlandscape.measured_sequences:\n",
    "    fitnesses.append(nnlandscape.measured_sequences[seq])\n",
    "    distances.append(editdistance.eval(AAV2_WT[st:end],seq))"
   ]
  },
  {
   "cell_type": "code",
   "execution_count": 521,
   "metadata": {},
   "outputs": [
    {
     "data": {
      "text/plain": [
       "<matplotlib.collections.PathCollection at 0x1a39467048>"
      ]
     },
     "execution_count": 521,
     "metadata": {},
     "output_type": "execute_result"
    },
    {
     "data": {
      "image/png": "[encoded data removed]",
      "text/plain": [
       "<Figure size 432x288 with 1 Axes>"
      ]
     },
     "metadata": {
      "needs_background": "light"
     },
     "output_type": "display_data"
    }
   ],
   "source": [
    "plt.scatter(distances,fitnesses)"
   ]
  },
  {
   "cell_type": "code",
   "execution_count": 119,
   "metadata": {},
   "outputs": [],
   "source": [
    "%autoreload 2\n",
    "import sys\n",
    "\n",
    "sys.path.append(\"../\")\n",
    "\n",
    "\n",
    "from evaluators.Evaluator import Evaluator\n",
    "from explorers.elitist_explorers import Greedy\n",
    "LANDSCAPE_TYPES_GFP = {\"Additive\": [\"heart\",\"liver\"]}\n"
   ]
  },
  {
   "cell_type": "code",
   "execution_count": 120,
   "metadata": {},
   "outputs": [
    {
     "name": "stdout",
     "output_type": "stream",
     "text": [
      "loading landscapes RNA: None, TF: None, Protein: None, GFP: None, Additive: ['heart', 'liver']\n",
      "Loading complete.\n"
     ]
    }
   ],
   "source": [
    "bo_explorer_prod = Greedy(virtual_screen=20, alphabet=AAS)\n",
    "bo_explorer_prod.debug = False\n",
    "evaluator_bo = Evaluator(\n",
    "    bo_explorer_prod,\n",
    "    landscape_types=LANDSCAPE_TYPES_GFP,\n",
    "    path=\"../simulations/Protein/eval_Additive/\",\n",
    ")"
   ]
  },
  {
   "cell_type": "code",
   "execution_count": null,
   "metadata": {},
   "outputs": [
    {
     "name": "stdout",
     "output_type": "stream",
     "text": [
      "Running on heart:450:540:0\n",
      "start seq AAV2:450-540\n",
      "Evaluating for signal_strength: 0\n",
      "Running  NAM {'landscape_id': 'heart:450:540:0', 'start_id': 'AAV2:450-540', 'signal_strength': 0}\n",
      "[0.3333333333333333, 0.3333333333333333, 0.3333333333333333]\n",
      "round: 0, cost: 1, evals: 0.0, top: 0.5\n",
      "[0.3333333333333333, 0.3333333333333333, 0.3333333333333333]\n",
      "round: 1, cost: 101, evals: 2003.0, top: 0.5\n",
      "[0.01731151654889208, 0.7637959229234047, 0.21889256052770317]\n",
      "round: 2, cost: 201, evals: 4036.0, top: 0.5053879726511574\n",
      "[0.1937352831929907, 0.4880870741346386, 0.3181776426723707]\n",
      "round: 3, cost: 301, evals: 6092.0, top: 0.5219518542339199\n",
      "[0.5677745365755754, 0.2628733353937764, 0.1693521280306481]\n",
      "round: 4, cost: 401, evals: 8121.0, top: 0.5437802440636462\n"
     ]
    }
   ],
   "source": [
    "evaluator_bo.evaluate_for_landscapes(evaluator_bo.consistency_robustness_independence, num_starts=3)"
   ]
  },
  {
   "cell_type": "code",
   "execution_count": null,
   "metadata": {},
   "outputs": [],
   "source": []
  }
 ],
 "metadata": {
  "kernelspec": {
   "display_name": "Python 3",
   "language": "python",
   "name": "python3"
  },
  "language_info": {
   "codemirror_mode": {
    "name": "ipython",
    "version": 3
   },
   "file_extension": ".py",
   "mimetype": "text/x-python",
   "name": "python",
   "nbconvert_exporter": "python",
   "pygments_lexer": "ipython3",
   "version": "3.6.6"
  }
 },
 "nbformat": 4,
 "nbformat_minor": 2
}
