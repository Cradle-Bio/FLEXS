{
 "cells": [
  {
   "cell_type": "code",
   "execution_count": 1,
   "metadata": {},
   "outputs": [],
   "source": [
    "%reload_ext autoreload\n",
    "%autoreload 2\n",
    "%matplotlib inline\n",
    "import editdistance\n",
    "import matplotlib.pyplot as plt\n",
    "import seaborn as sns\n",
    "import pandas as pd\n",
    "import json"
   ]
  },
  {
   "cell_type": "code",
   "execution_count": 60,
   "metadata": {},
   "outputs": [],
   "source": [
    "AAV2_WT=\"MAADGYLPDWLEDTLSEGIRQWWKLKPGPPPPKPAERHKDDSRGLVLPGYKYLGPFNGLD\\\n",
    "KGEPVNEADAAALEHDKAYDRQLDSGDNPYLKYNHADAEFQERLKEDTSFGGNLGRAVFQ\\\n",
    "AKKRVLEPLGLVEEPVKTAPGKKRPVEHSPVEPDSSSGTGKAGQQPARKRLNFGQTGDAD\\\n",
    "SVPDPQPLGQPPAAPSGLGTNTMATGSGAPMADNNEGADGVGNSSGNWHCDSTWMGDRVI\\\n",
    "TTSTRTWALPTYNNHLYKQISSQSGASNDNHYFGYSTPWGYFDFNRFHCHFSPRDWQRLI\\\n",
    "NNNWGFRPKRLNFKLFNIQVKEVTQNDGTTTIANNLTSTVQVFTDSEYQLPYVLGSAHQG\\\n",
    "CLPPFPADVFMVPQYGYLTLNNGSQAVGRSSFYCLEYFPSQMLRTGNNFTFSYTFEDVPF\\\n",
    "HSSYAHSQSLDRLMNPLIDQYLYYLSRTNTPSGTTTQSRLQFSQAGASDIRDQSRNWLPG\\\n",
    "PCYRQQRVSKTSADNNNSEYSWTGATKYHLNGRDSLVNPGPAMASHKDDEEKFFPQSGVL\\\n",
    "IFGKQGSEKTNVDIEKVMITDEEEIRTTNPVATEQYGSVSTNLQRGNRQAATADVNTQGV\\\n",
    "LPGMVWQDRDVYLQGPIWAKIPHTDGHFHPSPLMGGFGLKHPPPQILIKNTPVPANPSTT\\\n",
    "FSAAKFASFITQYSTGQVSVEIEWELQKENSKRWNPEIQYTSNYNKSVNVDFTVDTNGVY\\\n",
    "SEPRPIGTRYLTRNL\""
   ]
  },
  {
   "cell_type": "code",
   "execution_count": 61,
   "metadata": {},
   "outputs": [],
   "source": [
    "import sys"
   ]
  },
  {
   "cell_type": "code",
   "execution_count": 110,
   "metadata": {},
   "outputs": [],
   "source": [
    "sys.path.append(\"../\")\n",
    "from models.Ground_truth_oracles.Additive_models import Additive_landscape_constructor\n"
   ]
  },
  {
   "cell_type": "code",
   "execution_count": 111,
   "metadata": {},
   "outputs": [],
   "source": [
    "cons=Additive_landscape_constructor()"
   ]
  },
  {
   "cell_type": "code",
   "execution_count": 112,
   "metadata": {},
   "outputs": [],
   "source": [
    "cons.load_landscapes(landscapes_to_test=[\"liver\"])"
   ]
  },
  {
   "cell_type": "code",
   "execution_count": 113,
   "metadata": {},
   "outputs": [],
   "source": [
    "landscape_gen=cons.generate_from_loaded_landscapes()"
   ]
  },
  {
   "cell_type": "code",
   "execution_count": 114,
   "metadata": {},
   "outputs": [
    {
     "data": {
      "text/plain": [
       "{'liver:450:540:0': {'phenotype': 'liver',\n",
       "  'start': 450,\n",
       "  'end': 540,\n",
       "  'noise': 0},\n",
       " 'liver:450:540:0.01': {'phenotype': 'liver',\n",
       "  'start': 450,\n",
       "  'end': 540,\n",
       "  'noise': 0.01},\n",
       " 'liver:450:540:0.1': {'phenotype': 'liver',\n",
       "  'start': 450,\n",
       "  'end': 540,\n",
       "  'noise': 0.1}}"
      ]
     },
     "execution_count": 114,
     "metadata": {},
     "output_type": "execute_result"
    }
   ],
   "source": [
    "cons.loaded_landscapes"
   ]
  },
  {
   "cell_type": "code",
   "execution_count": 115,
   "metadata": {},
   "outputs": [],
   "source": [
    "x=next(landscape_gen)"
   ]
  },
  {
   "cell_type": "code",
   "execution_count": 116,
   "metadata": {},
   "outputs": [],
   "source": [
    "landscape_x=x[\"landscape_oracle\"]"
   ]
  },
  {
   "cell_type": "code",
   "execution_count": 117,
   "metadata": {},
   "outputs": [
    {
     "data": {
      "text/plain": [
       "{'landscape_id': 'liver:450:540:0',\n",
       " 'starting_seqs': {'AAV2:450-540': 'PSGTTTQSRLQFSQAGASDIRDQSRNWLPGPCYRQQRVSKTSADNNNSEYSWTGATKYHLNGRDSLVNPGPAMASHKDDEEKFFPQSGVL'},\n",
       " 'landscape_oracle': <models.Ground_truth_oracles.Additive_models.Additive_landscape_AAV at 0x1a36533208>}"
      ]
     },
     "execution_count": 117,
     "metadata": {},
     "output_type": "execute_result"
    }
   ],
   "source": [
    "x"
   ]
  },
  {
   "cell_type": "code",
   "execution_count": 118,
   "metadata": {},
   "outputs": [
    {
     "data": {
      "text/plain": [
       "'PAGTTVTPMNWFSQPGCIHLKNQGKQWMPGPIQRQNRVSKCAMDNHQMEYSWTGACKYHLNGRDSIISPGIPMTHSQDDEEIFFPQSGVL'"
      ]
     },
     "execution_count": 118,
     "metadata": {},
     "output_type": "execute_result"
    }
   ],
   "source": [
    "landscape_x.top_seq"
   ]
  },
  {
   "cell_type": "code",
   "execution_count": 77,
   "metadata": {},
   "outputs": [
    {
     "data": {
      "text/plain": [
       "0.5"
      ]
     },
     "execution_count": 77,
     "metadata": {},
     "output_type": "execute_result"
    }
   ],
   "source": [
    "landscape_x.get_fitness(x['starting_seqs'][0])"
   ]
  },
  {
   "cell_type": "code",
   "execution_count": 44,
   "metadata": {},
   "outputs": [
    {
     "data": {
      "text/plain": [
       "47.871582973321054"
      ]
     },
     "execution_count": 44,
     "metadata": {},
     "output_type": "execute_result"
    }
   ],
   "source": [
    "landscape_x._get_raw_fitness(landscape_x.top_seq)"
   ]
  },
  {
   "cell_type": "code",
   "execution_count": 45,
   "metadata": {},
   "outputs": [],
   "source": [
    "landscape1=landscape_x"
   ]
  },
  {
   "cell_type": "code",
   "execution_count": 4,
   "metadata": {},
   "outputs": [],
   "source": [
    "with open('../data/AAV_Additive_landscapes/AAV2_single_subs.json','r') as infile:\n",
    "    dataj=json.load(infile)"
   ]
  },
  {
   "cell_type": "code",
   "execution_count": 5,
   "metadata": {},
   "outputs": [],
   "source": [
    "phenotypes=['log2_lung_v_wt','log2_packaging_v_wt','log2_liver_v_wt',\\\n",
    "            'log2_kidney_v_wt','log2_spleen_v_wt','log2_heart_v_wt', 'log2_blood_v_wt']"
   ]
  },
  {
   "cell_type": "code",
   "execution_count": 6,
   "metadata": {},
   "outputs": [
    {
     "data": {
      "text/plain": [
       "735"
      ]
     },
     "execution_count": 6,
     "metadata": {},
     "output_type": "execute_result"
    }
   ],
   "source": [
    "len(AAV2_WT)"
   ]
  },
  {
   "cell_type": "code",
   "execution_count": 10,
   "metadata": {},
   "outputs": [
    {
     "data": {
      "text/plain": [
       "{'heart:560:588:0': {'phenotype': 'heart',\n",
       "  'start': 560,\n",
       "  'end': 588,\n",
       "  'noise': 0},\n",
       " 'lung:560:588:0': {'phenotype': 'lung', 'start': 560, 'end': 588, 'noise': 0},\n",
       " 'kidney:560:588:0': {'phenotype': 'kidney',\n",
       "  'start': 560,\n",
       "  'end': 588,\n",
       "  'noise': 0},\n",
       " 'liver:560:588:0': {'phenotype': 'liver',\n",
       "  'start': 560,\n",
       "  'end': 588,\n",
       "  'noise': 0},\n",
       " 'blood:560:588:0': {'phenotype': 'blood',\n",
       "  'start': 560,\n",
       "  'end': 588,\n",
       "  'noise': 0},\n",
       " 'spleen:560:588:0': {'phenotype': 'spleen',\n",
       "  'start': 560,\n",
       "  'end': 588,\n",
       "  'noise': 0},\n",
       " 'heart:560:588:0.01': {'phenotype': 'heart',\n",
       "  'start': 560,\n",
       "  'end': 588,\n",
       "  'noise': 0.01},\n",
       " 'lung:560:588:0.01': {'phenotype': 'lung',\n",
       "  'start': 560,\n",
       "  'end': 588,\n",
       "  'noise': 0.01},\n",
       " 'kidney:560:588:0.01': {'phenotype': 'kidney',\n",
       "  'start': 560,\n",
       "  'end': 588,\n",
       "  'noise': 0.01},\n",
       " 'liver:560:588:0.01': {'phenotype': 'liver',\n",
       "  'start': 560,\n",
       "  'end': 588,\n",
       "  'noise': 0.01},\n",
       " 'blood:560:588:0.01': {'phenotype': 'blood',\n",
       "  'start': 560,\n",
       "  'end': 588,\n",
       "  'noise': 0.01},\n",
       " 'spleen:560:588:0.01': {'phenotype': 'spleen',\n",
       "  'start': 560,\n",
       "  'end': 588,\n",
       "  'noise': 0.01},\n",
       " 'heart:560:588:0.1': {'phenotype': 'heart',\n",
       "  'start': 560,\n",
       "  'end': 588,\n",
       "  'noise': 0.1},\n",
       " 'lung:560:588:0.1': {'phenotype': 'lung',\n",
       "  'start': 560,\n",
       "  'end': 588,\n",
       "  'noise': 0.1},\n",
       " 'kidney:560:588:0.1': {'phenotype': 'kidney',\n",
       "  'start': 560,\n",
       "  'end': 588,\n",
       "  'noise': 0.1},\n",
       " 'liver:560:588:0.1': {'phenotype': 'liver',\n",
       "  'start': 560,\n",
       "  'end': 588,\n",
       "  'noise': 0.1},\n",
       " 'blood:560:588:0.1': {'phenotype': 'blood',\n",
       "  'start': 560,\n",
       "  'end': 588,\n",
       "  'noise': 0.1},\n",
       " 'spleen:560:588:0.1': {'phenotype': 'spleen',\n",
       "  'start': 560,\n",
       "  'end': 588,\n",
       "  'noise': 0.1},\n",
       " 'heart:450:540:0': {'phenotype': 'heart',\n",
       "  'start': 450,\n",
       "  'end': 540,\n",
       "  'noise': 0},\n",
       " 'lung:450:540:0': {'phenotype': 'lung', 'start': 450, 'end': 540, 'noise': 0},\n",
       " 'kidney:450:540:0': {'phenotype': 'kidney',\n",
       "  'start': 450,\n",
       "  'end': 540,\n",
       "  'noise': 0},\n",
       " 'liver:450:540:0': {'phenotype': 'liver',\n",
       "  'start': 450,\n",
       "  'end': 540,\n",
       "  'noise': 0},\n",
       " 'blood:450:540:0': {'phenotype': 'blood',\n",
       "  'start': 450,\n",
       "  'end': 540,\n",
       "  'noise': 0},\n",
       " 'spleen:450:540:0': {'phenotype': 'spleen',\n",
       "  'start': 450,\n",
       "  'end': 540,\n",
       "  'noise': 0},\n",
       " 'heart:450:540:0.01': {'phenotype': 'heart',\n",
       "  'start': 450,\n",
       "  'end': 540,\n",
       "  'noise': 0.01},\n",
       " 'lung:450:540:0.01': {'phenotype': 'lung',\n",
       "  'start': 450,\n",
       "  'end': 540,\n",
       "  'noise': 0.01},\n",
       " 'kidney:450:540:0.01': {'phenotype': 'kidney',\n",
       "  'start': 450,\n",
       "  'end': 540,\n",
       "  'noise': 0.01},\n",
       " 'liver:450:540:0.01': {'phenotype': 'liver',\n",
       "  'start': 450,\n",
       "  'end': 540,\n",
       "  'noise': 0.01},\n",
       " 'blood:450:540:0.01': {'phenotype': 'blood',\n",
       "  'start': 450,\n",
       "  'end': 540,\n",
       "  'noise': 0.01},\n",
       " 'spleen:450:540:0.01': {'phenotype': 'spleen',\n",
       "  'start': 450,\n",
       "  'end': 540,\n",
       "  'noise': 0.01},\n",
       " 'heart:450:540:0.1': {'phenotype': 'heart',\n",
       "  'start': 450,\n",
       "  'end': 540,\n",
       "  'noise': 0.1},\n",
       " 'lung:450:540:0.1': {'phenotype': 'lung',\n",
       "  'start': 450,\n",
       "  'end': 540,\n",
       "  'noise': 0.1},\n",
       " 'kidney:450:540:0.1': {'phenotype': 'kidney',\n",
       "  'start': 450,\n",
       "  'end': 540,\n",
       "  'noise': 0.1},\n",
       " 'liver:450:540:0.1': {'phenotype': 'liver',\n",
       "  'start': 450,\n",
       "  'end': 540,\n",
       "  'noise': 0.1},\n",
       " 'blood:450:540:0.1': {'phenotype': 'blood',\n",
       "  'start': 450,\n",
       "  'end': 540,\n",
       "  'noise': 0.1},\n",
       " 'spleen:450:540:0.1': {'phenotype': 'spleen',\n",
       "  'start': 450,\n",
       "  'end': 540,\n",
       "  'noise': 0.1},\n",
       " 'heart:450:735:0': {'phenotype': 'heart',\n",
       "  'start': 450,\n",
       "  'end': 735,\n",
       "  'noise': 0},\n",
       " 'lung:450:735:0': {'phenotype': 'lung', 'start': 450, 'end': 735, 'noise': 0},\n",
       " 'kidney:450:735:0': {'phenotype': 'kidney',\n",
       "  'start': 450,\n",
       "  'end': 735,\n",
       "  'noise': 0},\n",
       " 'liver:450:735:0': {'phenotype': 'liver',\n",
       "  'start': 450,\n",
       "  'end': 735,\n",
       "  'noise': 0},\n",
       " 'blood:450:735:0': {'phenotype': 'blood',\n",
       "  'start': 450,\n",
       "  'end': 735,\n",
       "  'noise': 0},\n",
       " 'spleen:450:735:0': {'phenotype': 'spleen',\n",
       "  'start': 450,\n",
       "  'end': 735,\n",
       "  'noise': 0},\n",
       " 'heart:450:735:0.01': {'phenotype': 'heart',\n",
       "  'start': 450,\n",
       "  'end': 735,\n",
       "  'noise': 0.01},\n",
       " 'lung:450:735:0.01': {'phenotype': 'lung',\n",
       "  'start': 450,\n",
       "  'end': 735,\n",
       "  'noise': 0.01},\n",
       " 'kidney:450:735:0.01': {'phenotype': 'kidney',\n",
       "  'start': 450,\n",
       "  'end': 735,\n",
       "  'noise': 0.01},\n",
       " 'liver:450:735:0.01': {'phenotype': 'liver',\n",
       "  'start': 450,\n",
       "  'end': 735,\n",
       "  'noise': 0.01},\n",
       " 'blood:450:735:0.01': {'phenotype': 'blood',\n",
       "  'start': 450,\n",
       "  'end': 735,\n",
       "  'noise': 0.01},\n",
       " 'spleen:450:735:0.01': {'phenotype': 'spleen',\n",
       "  'start': 450,\n",
       "  'end': 735,\n",
       "  'noise': 0.01},\n",
       " 'heart:450:735:0.1': {'phenotype': 'heart',\n",
       "  'start': 450,\n",
       "  'end': 735,\n",
       "  'noise': 0.1},\n",
       " 'lung:450:735:0.1': {'phenotype': 'lung',\n",
       "  'start': 450,\n",
       "  'end': 735,\n",
       "  'noise': 0.1},\n",
       " 'kidney:450:735:0.1': {'phenotype': 'kidney',\n",
       "  'start': 450,\n",
       "  'end': 735,\n",
       "  'noise': 0.1},\n",
       " 'liver:450:735:0.1': {'phenotype': 'liver',\n",
       "  'start': 450,\n",
       "  'end': 735,\n",
       "  'noise': 0.1},\n",
       " 'blood:450:735:0.1': {'phenotype': 'blood',\n",
       "  'start': 450,\n",
       "  'end': 735,\n",
       "  'noise': 0.1},\n",
       " 'spleen:450:735:0.1': {'phenotype': 'spleen',\n",
       "  'start': 450,\n",
       "  'end': 735,\n",
       "  'noise': 0.1},\n",
       " 'heart:0:735:0': {'phenotype': 'heart', 'start': 0, 'end': 735, 'noise': 0},\n",
       " 'lung:0:735:0': {'phenotype': 'lung', 'start': 0, 'end': 735, 'noise': 0},\n",
       " 'kidney:0:735:0': {'phenotype': 'kidney', 'start': 0, 'end': 735, 'noise': 0},\n",
       " 'liver:0:735:0': {'phenotype': 'liver', 'start': 0, 'end': 735, 'noise': 0},\n",
       " 'blood:0:735:0': {'phenotype': 'blood', 'start': 0, 'end': 735, 'noise': 0},\n",
       " 'spleen:0:735:0': {'phenotype': 'spleen', 'start': 0, 'end': 735, 'noise': 0},\n",
       " 'heart:0:735:0.01': {'phenotype': 'heart',\n",
       "  'start': 0,\n",
       "  'end': 735,\n",
       "  'noise': 0.01},\n",
       " 'lung:0:735:0.01': {'phenotype': 'lung',\n",
       "  'start': 0,\n",
       "  'end': 735,\n",
       "  'noise': 0.01},\n",
       " 'kidney:0:735:0.01': {'phenotype': 'kidney',\n",
       "  'start': 0,\n",
       "  'end': 735,\n",
       "  'noise': 0.01},\n",
       " 'liver:0:735:0.01': {'phenotype': 'liver',\n",
       "  'start': 0,\n",
       "  'end': 735,\n",
       "  'noise': 0.01},\n",
       " 'blood:0:735:0.01': {'phenotype': 'blood',\n",
       "  'start': 0,\n",
       "  'end': 735,\n",
       "  'noise': 0.01},\n",
       " 'spleen:0:735:0.01': {'phenotype': 'spleen',\n",
       "  'start': 0,\n",
       "  'end': 735,\n",
       "  'noise': 0.01},\n",
       " 'heart:0:735:0.1': {'phenotype': 'heart',\n",
       "  'start': 0,\n",
       "  'end': 735,\n",
       "  'noise': 0.1},\n",
       " 'lung:0:735:0.1': {'phenotype': 'lung', 'start': 0, 'end': 735, 'noise': 0.1},\n",
       " 'kidney:0:735:0.1': {'phenotype': 'kidney',\n",
       "  'start': 0,\n",
       "  'end': 735,\n",
       "  'noise': 0.1},\n",
       " 'liver:0:735:0.1': {'phenotype': 'liver',\n",
       "  'start': 0,\n",
       "  'end': 735,\n",
       "  'noise': 0.1},\n",
       " 'blood:0:735:0.1': {'phenotype': 'blood',\n",
       "  'start': 0,\n",
       "  'end': 735,\n",
       "  'noise': 0.1},\n",
       " 'spleen:0:735:0.1': {'phenotype': 'spleen',\n",
       "  'start': 0,\n",
       "  'end': 735,\n",
       "  'noise': 0.1}}"
      ]
     },
     "execution_count": 10,
     "metadata": {},
     "output_type": "execute_result"
    }
   ],
   "source": [
    "phenotypes=[\"heart\",\"lung\",\"kidney\",\"liver\",\"blood\",\"spleen\"]\n",
    "noise=[0,0.01,0.1]\n",
    "start_ends=[(560,588),(450,540),(450,735),(0,735)]\n",
    "output_dict={}\n",
    "for se in start_ends:        \n",
    "    for n in noise:\n",
    "        for phenotype in phenotypes:\n",
    "            key=f'{phenotype}:{se[0]}:{se[1]}:{n}'\n",
    "            output_dict[key]={'phenotype':phenotype, 'start':se[0],'end':se[1],'noise':n}\n",
    "        "
   ]
  },
  {
   "cell_type": "code",
   "execution_count": 11,
   "metadata": {},
   "outputs": [],
   "source": [
    "with open('../data/AAV_Additive_landscapes/landscapes.json', 'w') as outfile:\n",
    "    json.dump(output_dict, outfile,indent=4)"
   ]
  },
  {
   "cell_type": "code",
   "execution_count": 94,
   "metadata": {},
   "outputs": [],
   "source": [
    "import sys\n",
    "\n",
    "sys.path.append('../')\n",
    "\n",
    "\n",
    "            "
   ]
  },
  {
   "cell_type": "code",
   "execution_count": 340,
   "metadata": {},
   "outputs": [],
   "source": [
    "from models.Ground_truth_oracles.Additive_models import Additive_landscape_AAV"
   ]
  },
  {
   "cell_type": "code",
   "execution_count": 496,
   "metadata": {},
   "outputs": [],
   "source": [
    "st=450\n",
    "end=750"
   ]
  },
  {
   "cell_type": "code",
   "execution_count": 497,
   "metadata": {},
   "outputs": [],
   "source": [
    "landscape1=Additive_landscape_AAV('../data/AAV_Additive_landscapes/AAV2_single_subs.json','liver',0,1, start=st, end=end)"
   ]
  },
  {
   "cell_type": "code",
   "execution_count": 498,
   "metadata": {},
   "outputs": [
    {
     "data": {
      "text/plain": [
       "'PAGTTVTPMNWFSQPGCIHLKNQGKQWMPGPIQRQNRVSKCAMDNHQMEYSWTGACKYHLNGRDSIISPGIPMTHSQDDEEIFFPQSGVLHFGEMDTTMDNADCETVQICCEMEIVQTNCVSTEPWGEVASNIQRGNRQPQTEDVNAIGVIPGMVWMDRDVYLAGPIWARIPQVAGYCKPSPLAGGFGCCDPPYVIFIKNTSVPANPHLWFFDSYMKQWITQYSTGCITVCVTWECLKENSKRWNPFVQFTNNYYKSWWVDFTVDHNGMYAEPRPIGTRWLTRPI'"
      ]
     },
     "execution_count": 498,
     "metadata": {},
     "output_type": "execute_result"
    }
   ],
   "source": [
    "landscape1.top_seq"
   ]
  },
  {
   "cell_type": "code",
   "execution_count": 499,
   "metadata": {},
   "outputs": [
    {
     "data": {
      "text/plain": [
       "1.0"
      ]
     },
     "execution_count": 499,
     "metadata": {},
     "output_type": "execute_result"
    }
   ],
   "source": [
    "landscape1.get_fitness(landscape1.top_seq)"
   ]
  },
  {
   "cell_type": "code",
   "execution_count": 500,
   "metadata": {},
   "outputs": [
    {
     "data": {
      "text/plain": [
       "'PAGTTVTPMNWFSQPGCIHLKNQGKQWMPGPIQRQNRVSKCAMDNHQMEYSWTGACKYHLNGRDSIISPGIPMTHSQDDEEIFFPQSGVLHFGEMDTTMDNADCETVQICCEMEIVQTNCVSTEPWGEVASNIQRGNRQPQTEDVNAIGVIPGMVWMDRDVYLAGPIWARIPQVAGYCKPSPLAGGFGCCDPPYVIFIKNTSVPANPHLWFFDSYMKQWITQYSTGCITVCVTWECLKENSKRWNPFVQFTNNYYKSWWVDFTVDHNGMYAEPRPIGTRWLTRPI'"
      ]
     },
     "execution_count": 500,
     "metadata": {},
     "output_type": "execute_result"
    }
   ],
   "source": [
    "landscape1.top_seq"
   ]
  },
  {
   "cell_type": "code",
   "execution_count": 501,
   "metadata": {},
   "outputs": [
    {
     "data": {
      "text/plain": [
       "60.56711578885409"
      ]
     },
     "execution_count": 501,
     "metadata": {},
     "output_type": "execute_result"
    }
   ],
   "source": [
    "landscape1.max_possible"
   ]
  },
  {
   "cell_type": "code",
   "execution_count": 502,
   "metadata": {},
   "outputs": [
    {
     "data": {
      "text/plain": [
       "121.13423157770818"
      ]
     },
     "execution_count": 502,
     "metadata": {},
     "output_type": "execute_result"
    }
   ],
   "source": [
    "landscape1._get_raw_fitness(landscape1.top_seq)"
   ]
  },
  {
   "cell_type": "code",
   "execution_count": 46,
   "metadata": {},
   "outputs": [],
   "source": [
    "from utils.sequence_utils import *"
   ]
  },
  {
   "cell_type": "code",
   "execution_count": 47,
   "metadata": {},
   "outputs": [],
   "source": [
    "mutants=list(set([generate_random_mutant(landscape1.top_seq,0.005, alphabet=AAS) for i in range(10000)]))"
   ]
  },
  {
   "cell_type": "code",
   "execution_count": 48,
   "metadata": {},
   "outputs": [
    {
     "data": {
      "text/plain": [
       "0"
      ]
     },
     "execution_count": 48,
     "metadata": {},
     "output_type": "execute_result"
    }
   ],
   "source": [
    "landscape1.get_fitness(mutants[5])"
   ]
  },
  {
   "cell_type": "code",
   "execution_count": 49,
   "metadata": {},
   "outputs": [],
   "source": [
    "fitnesses=[]\n",
    "distances=[]\n",
    "for m in mutants:\n",
    "   fitnesses.append(landscape1.get_fitness(m))\n",
    "   distances.append(editdistance.eval(landscape1.top_seq, m))"
   ]
  },
  {
   "cell_type": "code",
   "execution_count": 50,
   "metadata": {},
   "outputs": [
    {
     "data": {
      "text/plain": [
       "2082"
      ]
     },
     "execution_count": 50,
     "metadata": {},
     "output_type": "execute_result"
    }
   ],
   "source": [
    "len(fitnesses)"
   ]
  },
  {
   "cell_type": "code",
   "execution_count": 51,
   "metadata": {},
   "outputs": [
    {
     "data": {
      "text/plain": [
       "(array([396.,   0.,   0.,   0.,   0.,  31.,  28., 448., 192., 987.]),\n",
       " array([0. , 0.1, 0.2, 0.3, 0.4, 0.5, 0.6, 0.7, 0.8, 0.9, 1. ]),\n",
       " <a list of 10 Patch objects>)"
      ]
     },
     "execution_count": 51,
     "metadata": {},
     "output_type": "execute_result"
    },
    {
     "data": {
      "image/png": "[encoded data removed]",
      "text/plain": [
       "<Figure size 432x288 with 1 Axes>"
      ]
     },
     "metadata": {
      "needs_background": "light"
     },
     "output_type": "display_data"
    }
   ],
   "source": [
    "plt.hist(fitnesses)"
   ]
  },
  {
   "cell_type": "code",
   "execution_count": 52,
   "metadata": {},
   "outputs": [
    {
     "data": {
      "text/plain": [
       "(array([1.000e+00, 0.000e+00, 1.378e+03, 0.000e+00, 0.000e+00, 6.330e+02,\n",
       "        0.000e+00, 5.700e+01, 0.000e+00, 1.300e+01]),\n",
       " array([0. , 0.4, 0.8, 1.2, 1.6, 2. , 2.4, 2.8, 3.2, 3.6, 4. ]),\n",
       " <a list of 10 Patch objects>)"
      ]
     },
     "execution_count": 52,
     "metadata": {},
     "output_type": "execute_result"
    },
    {
     "data": {
      "image/png": "[encoded data removed]",
      "text/plain": [
       "<Figure size 432x288 with 1 Axes>"
      ]
     },
     "metadata": {
      "needs_background": "light"
     },
     "output_type": "display_data"
    }
   ],
   "source": [
    "plt.hist(distances)"
   ]
  },
  {
   "cell_type": "code",
   "execution_count": 53,
   "metadata": {},
   "outputs": [
    {
     "name": "stderr",
     "output_type": "stream",
     "text": [
      "/anaconda3/envs/tf3/lib/python3.6/site-packages/scipy/stats/stats.py:1713: FutureWarning: Using a non-tuple sequence for multidimensional indexing is deprecated; use `arr[tuple(seq)]` instead of `arr[seq]`. In the future this will be interpreted as an array index, `arr[np.array(seq)]`, which will result either in an error or a different result.\n",
      "  return np.add.reduce(sorted[indexer] * weights, axis=axis) / sumval\n"
     ]
    },
    {
     "data": {
      "text/plain": [
       "<seaborn.axisgrid.JointGrid at 0x1a2556a6d8>"
      ]
     },
     "execution_count": 53,
     "metadata": {},
     "output_type": "execute_result"
    },
    {
     "data": {
      "image/png": "[encoded data removed]",
      "text/plain": [
       "<Figure size 432x432 with 3 Axes>"
      ]
     },
     "metadata": {
      "needs_background": "light"
     },
     "output_type": "display_data"
    }
   ],
   "source": [
    "sns.jointplot(distances,fitnesses)"
   ]
  },
  {
   "cell_type": "code",
   "execution_count": 57,
   "metadata": {},
   "outputs": [],
   "source": [
    "from explorers.elitist_explorers import Greedy\n",
    "from explorers.evolutionary_explorers import WF, ML_WF\n"
   ]
  },
  {
   "cell_type": "code",
   "execution_count": 58,
   "metadata": {},
   "outputs": [],
   "source": [
    "greedy_exp= Greedy(recomb_rate=0.2, threshold=0.2, mu=1, virtual_screen=20,alphabet=AAS, path='../simulations/')\n"
   ]
  },
  {
   "cell_type": "code",
   "execution_count": 513,
   "metadata": {},
   "outputs": [],
   "source": [
    "random_exp = Random_explorer(mu=0.01,path='../simulations/')"
   ]
  },
  {
   "cell_type": "code",
   "execution_count": 514,
   "metadata": {},
   "outputs": [],
   "source": [
    "start_seq=AAV2_WT[st:end]\n"
   ]
  },
  {
   "cell_type": "code",
   "execution_count": 515,
   "metadata": {},
   "outputs": [
    {
     "name": "stdout",
     "output_type": "stream",
     "text": [
      "round: 0, cost: 1, evals: 0, top: 0.5\n",
      "round: 1, cost: 101, evals: 100, top: 0.5072529983392513\n",
      "round: 2, cost: 201, evals: 200, top: 0.5072529983392513\n",
      "round: 3, cost: 301, evals: 300, top: 0.5072529983392513\n",
      "round: 4, cost: 401, evals: 400, top: 0.5072529983392513\n",
      "round: 5, cost: 501, evals: 500, top: 0.5072529983392513\n",
      "round: 6, cost: 601, evals: 600, top: 0.5072529983392513\n",
      "round: 7, cost: 701, evals: 700, top: 0.5072529983392513\n",
      "round: 8, cost: 801, evals: 800, top: 0.5072529983392513\n",
      "round: 9, cost: 901, evals: 900, top: 0.5072529983392513\n"
     ]
    },
    {
     "name": "stderr",
     "output_type": "stream",
     "text": [
      "/anaconda3/envs/tf3/lib/python3.6/site-packages/scipy/stats/stats.py:3010: RuntimeWarning: invalid value encountered in double_scalars\n",
      "  r = r_num / r_den\n"
     ]
    }
   ],
   "source": [
    "from models.Noisy_models.Noisy_abstract_model import Noisy_abstract_model\n",
    "\n",
    "noisy_landscape = Noisy_abstract_model(landscape1,signal_strength=1)\n",
    "\n",
    "noisy_landscape.reset([start_seq])\n",
    "random_exp.set_model(noisy_landscape)\n",
    "random_exp.run(10,overwrite=False) \n"
   ]
  },
  {
   "cell_type": "code",
   "execution_count": 516,
   "metadata": {},
   "outputs": [
    {
     "data": {
      "text/plain": [
       "<matplotlib.collections.PathCollection at 0x1a4adcf470>"
      ]
     },
     "execution_count": 516,
     "metadata": {},
     "output_type": "execute_result"
    },
    {
     "data": {
      "image/png": "[encoded data removed]",
      "text/plain": [
       "<Figure size 432x288 with 1 Axes>"
      ]
     },
     "metadata": {
      "needs_background": "light"
     },
     "output_type": "display_data"
    }
   ],
   "source": [
    "fitnesses=[]\n",
    "distances=[]\n",
    "for seq in noisy_landscape.measured_sequences:\n",
    "    fitnesses.append(noisy_landscape.measured_sequences[seq])\n",
    "    distances.append(editdistance.eval(AAV2_WT[st:end],seq))\n",
    "plt.scatter(distances,fitnesses)"
   ]
  },
  {
   "cell_type": "code",
   "execution_count": 522,
   "metadata": {},
   "outputs": [
    {
     "name": "stdout",
     "output_type": "stream",
     "text": [
      "round: 0, cost: 1, evals: 0, top: 0.5\n",
      "round: 1, cost: 101, evals: 2048, top: 0.5036122402586988\n",
      "round: 2, cost: 201, evals: 4515, top: 0.5081386111012771\n",
      "round: 3, cost: 301, evals: 7109, top: 0.5146777359037529\n",
      "round: 4, cost: 401, evals: 9915, top: 0.5158981024329686\n",
      "round: 5, cost: 501, evals: 12805, top: 0.5158981024329686\n",
      "round: 6, cost: 601, evals: 15680, top: 0.5158981024329686\n",
      "round: 7, cost: 701, evals: 18559, top: 0.5158981024329686\n",
      "round: 8, cost: 801, evals: 21396, top: 0.5158981024329686\n",
      "round: 9, cost: 901, evals: 24239, top: 0.5158981024329686\n",
      "round: 10, cost: 1001, evals: 27133, top: 0.5158981024329686\n",
      "round: 11, cost: 1101, evals: 29924, top: 0.5158981024329686\n",
      "round: 12, cost: 1201, evals: 32703, top: 0.5158981024329686\n",
      "round: 13, cost: 1301, evals: 35468, top: 0.5158981024329686\n",
      "round: 14, cost: 1401, evals: 38250, top: 0.5158981024329686\n",
      "round: 15, cost: 1501, evals: 41033, top: 0.5158981024329686\n",
      "round: 16, cost: 1601, evals: 43765, top: 0.5158981024329686\n",
      "round: 17, cost: 1701, evals: 46516, top: 0.5174572678200732\n",
      "round: 18, cost: 1801, evals: 49290, top: 0.5255392879408045\n",
      "round: 19, cost: 1901, evals: 52039, top: 0.5255392879408045\n",
      "round: 20, cost: 2001, evals: 54811, top: 0.5255392879408045\n",
      "round: 21, cost: 2101, evals: 57612, top: 0.5298295233152817\n",
      "round: 22, cost: 2201, evals: 60429, top: 0.5298295233152817\n",
      "round: 23, cost: 2301, evals: 63207, top: 0.5298295233152817\n",
      "round: 24, cost: 2401, evals: 65950, top: 0.5298295233152817\n",
      "round: 25, cost: 2501, evals: 68672, top: 0.529852207148074\n",
      "round: 26, cost: 2601, evals: 71459, top: 0.529852207148074\n",
      "round: 27, cost: 2701, evals: 74207, top: 0.529852207148074\n",
      "round: 28, cost: 2801, evals: 76955, top: 0.5385193646158314\n",
      "round: 29, cost: 2901, evals: 79642, top: 0.5385193646158314\n"
     ]
    }
   ],
   "source": [
    "\n",
    "noisy_landscape = Noisy_abstract_model(landscape1,signal_strength=0.9)\n",
    "\n",
    "noisy_landscape.reset([start_seq])\n",
    "greedy_exp.set_model(noisy_landscape)\n",
    "greedy_exp.run(30,overwrite=False) "
   ]
  },
  {
   "cell_type": "code",
   "execution_count": 523,
   "metadata": {},
   "outputs": [
    {
     "data": {
      "text/plain": [
       "<matplotlib.collections.PathCollection at 0x1a4dc61b70>"
      ]
     },
     "execution_count": 523,
     "metadata": {},
     "output_type": "execute_result"
    },
    {
     "data": {
      "image/png": "[encoded data removed]",
      "text/plain": [
       "<Figure size 432x288 with 1 Axes>"
      ]
     },
     "metadata": {
      "needs_background": "light"
     },
     "output_type": "display_data"
    }
   ],
   "source": [
    "fitnesses=[]\n",
    "distances=[]\n",
    "for seq in noisy_landscape.measured_sequences:\n",
    "    fitnesses.append(noisy_landscape.measured_sequences[seq])\n",
    "    distances.append(editdistance.eval(AAV2_WT[st:end],seq))\n",
    "plt.scatter(distances,fitnesses)"
   ]
  },
  {
   "cell_type": "code",
   "execution_count": 519,
   "metadata": {},
   "outputs": [
    {
     "name": "stdout",
     "output_type": "stream",
     "text": [
      "SKLinear\n",
      "round: 0, cost: 1, evals: 0, top: 0.5\n"
     ]
    },
    {
     "name": "stderr",
     "output_type": "stream",
     "text": [
      "/anaconda3/envs/tf3/lib/python3.6/site-packages/scipy/stats/stats.py:3010: RuntimeWarning: invalid value encountered in double_scalars\n",
      "  r = r_num / r_den\n"
     ]
    },
    {
     "name": "stdout",
     "output_type": "stream",
     "text": [
      "round: 1, cost: 101, evals: 2018, top: 0.5079579080588105\n",
      "round: 2, cost: 201, evals: 4426, top: 0.5079579080588105\n",
      "round: 3, cost: 301, evals: 7056, top: 0.5168927220817608\n",
      "round: 4, cost: 401, evals: 9887, top: 0.5168927220817608\n",
      "round: 5, cost: 501, evals: 12810, top: 0.5168927220817608\n",
      "round: 6, cost: 601, evals: 15817, top: 0.5168927220817608\n",
      "round: 7, cost: 701, evals: 18716, top: 0.5168927220817608\n",
      "round: 8, cost: 801, evals: 21590, top: 0.5168927220817608\n",
      "round: 9, cost: 901, evals: 24505, top: 0.5168927220817608\n",
      "LNN\n",
      "round: 0, cost: 1, evals: 0, top: 0.5\n",
      "round: 1, cost: 101, evals: 2049, top: 0.5062539140127836\n",
      "round: 2, cost: 201, evals: 4368, top: 0.5062539140127836\n",
      "round: 3, cost: 301, evals: 7004, top: 0.5062539140127836\n",
      "round: 4, cost: 401, evals: 9685, top: 0.5062539140127836\n",
      "round: 5, cost: 501, evals: 12388, top: 0.5062539140127836\n",
      "round: 6, cost: 601, evals: 15071, top: 0.5062539140127836\n",
      "round: 7, cost: 701, evals: 17801, top: 0.5062539140127836\n",
      "round: 8, cost: 801, evals: 20553, top: 0.5062539140127836\n",
      "round: 9, cost: 901, evals: 23283, top: 0.5062539140127836\n",
      "SKRF\n",
      "round: 0, cost: 1, evals: 0, top: 0.5\n"
     ]
    },
    {
     "name": "stderr",
     "output_type": "stream",
     "text": [
      "/anaconda3/envs/tf3/lib/python3.6/site-packages/scipy/stats/stats.py:3010: RuntimeWarning: invalid value encountered in double_scalars\n",
      "  r = r_num / r_den\n"
     ]
    },
    {
     "name": "stdout",
     "output_type": "stream",
     "text": [
      "round: 1, cost: 101, evals: 2024, top: 0.5151165420705299\n",
      "round: 2, cost: 201, evals: 4492, top: 0.5151165420705299\n",
      "round: 3, cost: 301, evals: 7272, top: 0.5151165420705299\n",
      "round: 4, cost: 401, evals: 9983, top: 0.5151165420705299\n",
      "round: 5, cost: 501, evals: 12604, top: 0.5151165420705299\n",
      "round: 6, cost: 601, evals: 15263, top: 0.5151165420705299\n",
      "round: 7, cost: 701, evals: 17900, top: 0.5151165420705299\n",
      "round: 8, cost: 801, evals: 20564, top: 0.521151840234825\n",
      "round: 9, cost: 901, evals: 23369, top: 0.521151840234825\n",
      "NLNN_hd50\n"
     ]
    },
    {
     "name": "stderr",
     "output_type": "stream",
     "text": [
      "/anaconda3/envs/tf3/lib/python3.6/site-packages/scipy/stats/stats.py:3010: RuntimeWarning: invalid value encountered in double_scalars\n",
      "  r = r_num / r_den\n"
     ]
    },
    {
     "name": "stdout",
     "output_type": "stream",
     "text": [
      "round: 0, cost: 1, evals: 0, top: 0.5\n",
      "round: 1, cost: 101, evals: 2012, top: 0.5069215012837934\n",
      "round: 2, cost: 201, evals: 4325, top: 0.5069215012837934\n",
      "round: 3, cost: 301, evals: 6915, top: 0.5069215012837934\n",
      "round: 4, cost: 401, evals: 9640, top: 0.5069215012837934\n",
      "round: 5, cost: 501, evals: 12350, top: 0.5069215012837934\n",
      "round: 6, cost: 601, evals: 15052, top: 0.5069215012837934\n",
      "round: 7, cost: 701, evals: 17833, top: 0.5069215012837934\n",
      "round: 8, cost: 801, evals: 20492, top: 0.5069215012837934\n",
      "round: 9, cost: 901, evals: 23229, top: 0.5069215012837934\n",
      "CNNa_hd100_f50\n",
      "round: 0, cost: 1, evals: 0, top: 0.5\n",
      "round: 1, cost: 101, evals: 2036, top: 0.5029268284542584\n",
      "round: 2, cost: 201, evals: 4286, top: 0.5029268284542584\n",
      "round: 3, cost: 301, evals: 6836, top: 0.5029268284542584\n",
      "round: 4, cost: 401, evals: 9524, top: 0.5029268284542584\n",
      "round: 5, cost: 501, evals: 12186, top: 0.5029268284542584\n",
      "round: 6, cost: 601, evals: 14954, top: 0.5029268284542584\n",
      "round: 7, cost: 701, evals: 17713, top: 0.5029268284542584\n",
      "round: 8, cost: 801, evals: 20479, top: 0.5029268284542584\n",
      "round: 9, cost: 901, evals: 23175, top: 0.5029268284542584\n"
     ]
    }
   ],
   "source": [
    "nnlandscapes = []\n",
    "from utils.model_architectures import SKLinear,SKRF, NLNN, CNNa, Linear\n",
    "from models.Noisy_models.Neural_network_models import NN_model\n",
    "\n",
    "for arch in [SKLinear, Linear, SKRF, NLNN, CNNa]:\n",
    "    nn_model = arch(len(start_seq), alphabet = greedy_exp.alphabet)\n",
    "    nnlandscape = NN_model(landscape1,nn_model)\n",
    "    print(nn_model.architecture_name)\n",
    "    nnlandscape.update_model([start_seq])\n",
    "\n",
    "    greedy_exp.set_model(nnlandscape)\n",
    "    greedy_exp.run(10,overwrite=False) "
   ]
  },
  {
   "cell_type": "code",
   "execution_count": 520,
   "metadata": {},
   "outputs": [],
   "source": [
    "fitnesses=[]\n",
    "distances=[]\n",
    "for seq in nnlandscape.measured_sequences:\n",
    "    fitnesses.append(nnlandscape.measured_sequences[seq])\n",
    "    distances.append(editdistance.eval(AAV2_WT[st:end],seq))"
   ]
  },
  {
   "cell_type": "code",
   "execution_count": 521,
   "metadata": {},
   "outputs": [
    {
     "data": {
      "text/plain": [
       "<matplotlib.collections.PathCollection at 0x1a39467048>"
      ]
     },
     "execution_count": 521,
     "metadata": {},
     "output_type": "execute_result"
    },
    {
     "data": {
      "image/png": "[encoded data removed]",
      "text/plain": [
       "<Figure size 432x288 with 1 Axes>"
      ]
     },
     "metadata": {
      "needs_background": "light"
     },
     "output_type": "display_data"
    }
   ],
   "source": [
    "plt.scatter(distances,fitnesses)"
   ]
  },
  {
   "cell_type": "code",
   "execution_count": 119,
   "metadata": {},
   "outputs": [],
   "source": [
    "%autoreload 2\n",
    "import sys\n",
    "\n",
    "sys.path.append(\"../\")\n",
    "\n",
    "\n",
    "from evaluators.Evaluator import Evaluator\n",
    "from explorers.elitist_explorers import Greedy\n",
    "LANDSCAPE_TYPES_Additive = {\"Additive\": [\"heart\",\"liver\",\"lung\",\"blood\",\"kidney\",\"spleen\"]}\n"
   ]
  },
  {
   "cell_type": "code",
   "execution_count": 120,
   "metadata": {},
   "outputs": [
    {
     "name": "stdout",
     "output_type": "stream",
     "text": [
      "loading landscapes RNA: None, TF: None, Protein: None, GFP: None, Additive: ['heart', 'liver']\n",
      "Loading complete.\n"
     ]
    }
   ],
   "source": [
    "bo_explorer_prod = Greedy(virtual_screen=20, alphabet=AAS)\n",
    "bo_explorer_prod.debug = False\n",
    "evaluator_bo = Evaluator(\n",
    "    bo_explorer_prod,\n",
    "    landscape_types=LANDSCAPE_TYPES_GFP,\n",
    "    path=\"../simulations/Protein/eval_Additive/\",\n",
    ")"
   ]
  },
  {
   "cell_type": "code",
   "execution_count": 121,
   "metadata": {},
   "outputs": [
    {
     "name": "stdout",
     "output_type": "stream",
     "text": [
      "Running on heart:450:540:0\n",
      "start seq AAV2:450-540\n",
      "Evaluating for signal_strength: 0\n",
      "Running  NAM {'landscape_id': 'heart:450:540:0', 'start_id': 'AAV2:450-540', 'signal_strength': 0}\n",
      "[0.3333333333333333, 0.3333333333333333, 0.3333333333333333]\n",
      "round: 0, cost: 1, evals: 0.0, top: 0.5\n",
      "[0.3333333333333333, 0.3333333333333333, 0.3333333333333333]\n",
      "round: 1, cost: 101, evals: 2003.0, top: 0.5\n",
      "[0.01731151654889208, 0.7637959229234047, 0.21889256052770317]\n",
      "round: 2, cost: 201, evals: 4036.0, top: 0.5053879726511574\n",
      "[0.1937352831929907, 0.4880870741346386, 0.3181776426723707]\n",
      "round: 3, cost: 301, evals: 6092.0, top: 0.5219518542339199\n",
      "[0.5677745365755754, 0.2628733353937764, 0.1693521280306481]\n",
      "round: 4, cost: 401, evals: 8121.0, top: 0.5437802440636462\n",
      "[0.6138775572699307, 0.365042739770643, 0.021079702959426298]\n",
      "round: 5, cost: 501, evals: 10136.0, top: 0.5501163123325434\n",
      "[0.465211879600184, 0.053448695747598224, 0.4813394246522178]\n",
      "round: 6, cost: 601, evals: 12180.0, top: 0.5501163123325434\n",
      "[0.1500164785687391, 0.4790454612524124, 0.3709380601788485]\n",
      "round: 7, cost: 701, evals: 14223.0, top: 0.5541052743330496\n",
      "[0.07169515572796983, 0.5499317212606394, 0.3783731230113909]\n",
      "round: 8, cost: 801, evals: 16254.0, top: 0.5541052743330496\n",
      "[0.19825764440038526, 0.2941996360678525, 0.5075427195317622]\n",
      "round: 9, cost: 901, evals: 18303.0, top: 0.5541052743330496\n",
      "[0.0795689368878726, 0.5532632543184869, 0.36716780879364047]\n",
      "Evaluating for signal_strength: 0.5\n",
      "Running  NAM {'landscape_id': 'heart:450:540:0', 'start_id': 'AAV2:450-540', 'signal_strength': 0.5}\n",
      "[0.3333333333333333, 0.3333333333333333, 0.3333333333333333]\n",
      "round: 0, cost: 1, evals: 0.0, top: 0.5\n",
      "[0.1592388841936982, 0.11355248682561718, 0.7272086289806846]\n",
      "round: 1, cost: 101, evals: 2010.0, top: 0.5045033430597335\n",
      "[0.3462997810479901, 0.05495301852810988, 0.5987472004239]\n",
      "round: 2, cost: 201, evals: 4028.0, top: 0.5352925105978296\n",
      "[0.3333333333333333, 0.3333333333333333, 0.3333333333333333]\n",
      "round: 3, cost: 301, evals: 6043.0, top: 0.5400899774804373\n",
      "[0.016039590970631613, 0.8432054646771553, 0.14075494435221308]\n",
      "round: 4, cost: 401, evals: 8084.0, top: 0.5749837714898454\n",
      "[0.4384215975147515, 0.20358397047025303, 0.35799443201499553]\n",
      "round: 5, cost: 501, evals: 10121.0, top: 0.5805441643200072\n",
      "[0.11471578669783285, 0.08026026635884599, 0.8050239469433212]\n",
      "round: 6, cost: 601, evals: 12129.0, top: 0.5830979750791355\n",
      "[0.2344718027139743, 0.05765428713576946, 0.7078739101502562]\n",
      "round: 7, cost: 701, evals: 14161.0, top: 0.5919831849456282\n",
      "[0.46482923735471093, 0.27949003263209665, 0.2556807300131924]\n",
      "round: 8, cost: 801, evals: 16213.0, top: 0.5919831849456282\n",
      "[0.3045779890954188, 0.02077870558232666, 0.6746433053222546]\n",
      "round: 9, cost: 901, evals: 18221.0, top: 0.5919831849456282\n",
      "[0.1149509313461526, 0.16891474830142886, 0.7161343203524186]\n",
      "Evaluating for signal_strength: 0.9\n",
      "Running  NAM {'landscape_id': 'heart:450:540:0', 'start_id': 'AAV2:450-540', 'signal_strength': 0.9}\n",
      "[0.3333333333333333, 0.3333333333333333, 0.3333333333333333]\n",
      "round: 0, cost: 1, evals: 0.0, top: 0.5\n",
      "[0.013181284886847517, 0.8238195061971421, 0.16299920891601039]\n",
      "round: 1, cost: 101, evals: 2006.0, top: 0.5267236976107471\n",
      "[0.4294746151684347, 0.20339889220429144, 0.3671264926272738]\n",
      "round: 2, cost: 201, evals: 4057.0, top: 0.5472604626976268\n",
      "[0.4452772496042874, 0.4787804005211225, 0.07594234987459005]\n",
      "round: 3, cost: 301, evals: 6077.0, top: 0.5698272607784102\n",
      "[0.09866010165180449, 0.011225587286017512, 0.890114311062178]\n",
      "round: 4, cost: 401, evals: 8096.0, top: 0.5889431782128345\n",
      "[0.594549032782888, 0.2521170720819898, 0.15333389513512216]\n",
      "round: 5, cost: 501, evals: 10141.0, top: 0.6042074240107731\n",
      "[0.44502542856185734, 0.10262406813010182, 0.4523505033080409]\n",
      "round: 6, cost: 601, evals: 12162.0, top: 0.6242718384536957\n",
      "[0.0037987242570263697, 0.7489975451305697, 0.24720373061240394]\n",
      "round: 7, cost: 701, evals: 14215.0, top: 0.6280560992470318\n",
      "[0.5258725438681936, 0.20896127691295108, 0.2651661792188553]\n",
      "round: 8, cost: 801, evals: 16249.0, top: 0.6408199596426266\n",
      "[0.6640923346957186, 0.00862204154437431, 0.3272856237599072]\n",
      "round: 9, cost: 901, evals: 18266.0, top: 0.6470797487830786\n",
      "[0.15893350138052684, 0.6480377916602791, 0.1930287069591942]\n",
      "Evaluating for signal_strength: 1\n",
      "Running  NAM {'landscape_id': 'heart:450:540:0', 'start_id': 'AAV2:450-540', 'signal_strength': 1}\n",
      "[0.3333333333333333, 0.3333333333333333, 0.3333333333333333]\n",
      "round: 0, cost: 1, evals: 0.0, top: 0.5\n",
      "[0.3333333333333333, 0.3333333333333333, 0.3333333333333333]\n",
      "round: 1, cost: 101, evals: 2047.0, top: 0.5340512209488082\n",
      "[0.3333333333333333, 0.3333333333333333, 0.3333333333333333]\n",
      "round: 2, cost: 201, evals: 4057.0, top: 0.5519275096071659\n",
      "[0.3333333333333333, 0.3333333333333333, 0.3333333333333333]\n",
      "round: 3, cost: 301, evals: 6064.0, top: 0.5706387333547197\n",
      "[0.3333333333333333, 0.3333333333333333, 0.3333333333333333]\n",
      "round: 4, cost: 401, evals: 8103.0, top: 0.590620326096482\n",
      "[0.3333333333333333, 0.3333333333333333, 0.3333333333333333]\n",
      "round: 5, cost: 501, evals: 10139.0, top: 0.6025508671718206\n",
      "[0.3333333333333333, 0.3333333333333333, 0.3333333333333333]\n",
      "round: 6, cost: 601, evals: 12173.0, top: 0.6315780964549991\n",
      "[0.3333333333333333, 0.3333333333333333, 0.3333333333333333]\n",
      "round: 7, cost: 701, evals: 14219.0, top: 0.6474858335191183\n",
      "[0.3333333333333333, 0.3333333333333333, 0.3333333333333333]\n",
      "round: 8, cost: 801, evals: 16251.0, top: 0.659657975011057\n",
      "[0.3333333333333333, 0.3333333333333333, 0.3333333333333333]\n",
      "round: 9, cost: 901, evals: 18299.0, top: 0.6814958660197867\n",
      "[0.3333333333333333, 0.3333333333333333, 0.3333333333333333]\n",
      "Running NN {'landscape_id': 'heart:450:540:0', 'start_id': 'AAV2:450-540'}\n"
     ]
    },
    {
     "name": "stderr",
     "output_type": "stream",
     "text": [
      "/anaconda3/envs/tf3/lib/python3.6/site-packages/scipy/stats/stats.py:3010: RuntimeWarning: invalid value encountered in double_scalars\n",
      "  r = r_num / r_den\n"
     ]
    },
    {
     "name": "stdout",
     "output_type": "stream",
     "text": [
      "[0.3333333333333333, 0.3333333333333333, 0.3333333333333333]\n",
      "round: 0, cost: 1, evals: 0.0, top: 0.5\n",
      "[0.44755534438276273, 0.06926525475382053, 0.48317940086341676]\n",
      "round: 1, cost: 101, evals: 2025.0, top: 0.5217466896355893\n",
      "[0.3757583074350821, 0.2632890853764647, 0.3609526071884532]\n",
      "round: 2, cost: 201, evals: 4052.0, top: 0.5304477883634945\n",
      "[0.47068609086861635, 0.04672652534619822, 0.48258738378518545]\n",
      "round: 3, cost: 301, evals: 6062.0, top: 0.53574605091637\n",
      "[0.40885630454839234, 0.5805031513441973, 0.01064054410741043]\n",
      "round: 4, cost: 401, evals: 8085.0, top: 0.53574605091637\n",
      "[0.4460070986611989, 0.011276556688766714, 0.5427163446500343]\n",
      "round: 5, cost: 501, evals: 10092.0, top: 0.53574605091637\n",
      "[0.13640128192549525, 0.13640128192549525, 0.7271974361490096]\n",
      "round: 6, cost: 601, evals: 12114.0, top: 0.5496236121648205\n",
      "[0.4879076291985352, 0.01380742900023224, 0.4982849418012326]\n",
      "round: 7, cost: 701, evals: 14120.0, top: 0.5526452230897945\n",
      "[0.1585764237798603, 0.04476375996330248, 0.7966598162568371]\n",
      "round: 8, cost: 801, evals: 16142.0, top: 0.5581458296437151\n",
      "[0.12900936477451272, 0.6773720938479301, 0.19361854137755724]\n",
      "round: 9, cost: 901, evals: 18183.0, top: 0.5613369841400859\n",
      "[0.5328933623534645, 0.07702880902811302, 0.39007782861842244]\n",
      "Running null  {'landscape_id': 'heart:450:540:0', 'start_id': 'AAV2:450-540'}\n",
      "[0.3333333333333333, 0.3333333333333333, 0.3333333333333333]\n",
      "round: 0, cost: 1, evals: 0.0, top: 0.5\n",
      "[0.43258094472289765, 0.4553146099994039, 0.11210444527769833]\n",
      "round: 1, cost: 101, evals: 2035.0, top: 0.5199294687420833\n",
      "[0.08498035111743413, 0.256107349349235, 0.6589122995333307]\n",
      "round: 2, cost: 201, evals: 4060.0, top: 0.5232395537625814\n",
      "[0.0247484622431554, 0.6160530173044234, 0.3591985204524212]\n",
      "round: 3, cost: 301, evals: 6077.0, top: 0.5232395537625814\n",
      "[0.014380429092162987, 0.47274248117485074, 0.5128770897329864]\n",
      "round: 4, cost: 401, evals: 8101.0, top: 0.5232395537625814\n",
      "[0.48325640627276834, 0.14726272105110572, 0.3694808726761259]\n",
      "round: 5, cost: 501, evals: 10117.0, top: 0.5407855097289066\n",
      "[0.04701223625202519, 0.6214039255591374, 0.33158383818883735]\n",
      "round: 6, cost: 601, evals: 12138.0, top: 0.5748367306777148\n",
      "[0.11523483124231838, 0.11523483124231838, 0.7695303375153633]\n",
      "round: 7, cost: 701, evals: 14161.0, top: 0.5935438038817218\n",
      "[0.14698754122476548, 0.7510668504766177, 0.10194560829861693]\n",
      "round: 8, cost: 801, evals: 16204.0, top: 0.5935438038817218\n",
      "[0.057766389275693844, 0.5508693040634995, 0.3913643066608066]\n",
      "round: 9, cost: 901, evals: 18205.0, top: 0.5945348434743947\n",
      "[0.3333333333333333, 0.3333333333333333, 0.3333333333333333]\n",
      "Running on liver:450:540:0\n",
      "start seq AAV2:450-540\n",
      "Evaluating for signal_strength: 0\n",
      "Running  NAM {'landscape_id': 'liver:450:540:0', 'start_id': 'AAV2:450-540', 'signal_strength': 0}\n",
      "[0.3333333333333333, 0.3333333333333333, 0.3333333333333333]\n",
      "round: 0, cost: 1, evals: 0.0, top: 0.5\n",
      "[0.2198946441665161, 0.5602107116669678, 0.2198946441665161]\n",
      "round: 1, cost: 101, evals: 2030.0, top: 0.5286873037796247\n",
      "[0.1987195244514185, 0.1987195244514185, 0.6025609510971629]\n",
      "round: 2, cost: 201, evals: 4071.0, top: 0.5342221851200628\n",
      "[0.2755354911220595, 0.028333164407297207, 0.6961313444706434]\n",
      "round: 3, cost: 301, evals: 6111.0, top: 0.5448311215212718\n",
      "[0.057798505613399415, 0.672592721195973, 0.26960877319062765]\n",
      "round: 4, cost: 401, evals: 8122.0, top: 0.5476048153572426\n",
      "[0.32689519956909685, 0.3771366734846615, 0.29596812694624164]\n",
      "round: 5, cost: 501, evals: 10138.0, top: 0.549176247175781\n",
      "[0.3333333333333333, 0.3333333333333333, 0.3333333333333333]\n",
      "round: 6, cost: 601, evals: 12191.0, top: 0.571710189459824\n",
      "[0.13684182231188932, 0.18265703120207993, 0.6805011464860308]\n",
      "round: 7, cost: 701, evals: 14243.0, top: 0.5723143832245238\n",
      "[0.81327579248973, 0.051482548093646906, 0.13524165941662317]\n",
      "round: 8, cost: 801, evals: 16298.0, top: 0.5772880175223158\n",
      "[0.8145706734342438, 0.1564505848492459, 0.028978741716510305]\n",
      "round: 9, cost: 901, evals: 18340.0, top: 0.6003797876191417\n",
      "[0.7004756466548294, 0.21357238969421827, 0.0859519636509523]\n",
      "Evaluating for signal_strength: 0.5\n",
      "Running  NAM {'landscape_id': 'liver:450:540:0', 'start_id': 'AAV2:450-540', 'signal_strength': 0.5}\n",
      "[0.3333333333333333, 0.3333333333333333, 0.3333333333333333]\n",
      "round: 0, cost: 1, evals: 0.0, top: 0.5\n",
      "[0.4193105960809587, 0.49634772955131745, 0.08434167436772397]\n",
      "round: 1, cost: 101, evals: 2024.0, top: 0.5\n",
      "[0.8618013385072893, 0.07289155310167199, 0.0653071083910387]\n",
      "round: 2, cost: 201, evals: 4078.0, top: 0.5132373376625733\n",
      "[0.4232007718780907, 0.02334454464917268, 0.5534546834727366]\n",
      "round: 3, cost: 301, evals: 6107.0, top: 0.5272188635583852\n",
      "[0.6866785909629781, 0.035941789850686016, 0.27737961918633586]\n",
      "round: 4, cost: 401, evals: 8135.0, top: 0.5285115317925708\n",
      "[0.020455152352523143, 0.49283960037189684, 0.48670524727558007]\n",
      "round: 5, cost: 501, evals: 10179.0, top: 0.5399876705354466\n",
      "[0.4846923935945398, 0.13874684650337707, 0.37656075990208315]\n",
      "round: 6, cost: 601, evals: 12230.0, top: 0.5826009564534738\n",
      "[0.5484597721594162, 0.0803746138032423, 0.3711656140373414]\n",
      "round: 7, cost: 701, evals: 14236.0, top: 0.5855970916725047\n",
      "[0.025865487980263217, 0.8323045087871067, 0.1418300032326301]\n",
      "round: 8, cost: 801, evals: 16258.0, top: 0.5855970916725047\n",
      "[0.23518400282862006, 0.6902925340147177, 0.07452346315666211]\n",
      "round: 9, cost: 901, evals: 18271.0, top: 0.5855970916725047\n",
      "[0.09907730101378125, 0.8718149714529791, 0.029107727533239695]\n",
      "Evaluating for signal_strength: 0.9\n",
      "Running  NAM {'landscape_id': 'liver:450:540:0', 'start_id': 'AAV2:450-540', 'signal_strength': 0.9}\n",
      "[0.3333333333333333, 0.3333333333333333, 0.3333333333333333]\n",
      "round: 0, cost: 1, evals: 0.0, top: 0.5\n",
      "[0.2877066047844107, 0.027491599557301315, 0.684801795658288]\n",
      "round: 1, cost: 101, evals: 2010.0, top: 0.5426132859180272\n",
      "[0.17876004347115879, 0.4379783251101285, 0.3832616314187126]\n",
      "round: 2, cost: 201, evals: 4020.0, top: 0.5676023726862801\n",
      "[0.7236984519324952, 0.01127173252519875, 0.2650298155423061]\n",
      "round: 3, cost: 301, evals: 6022.0, top: 0.5923766507928674\n",
      "[0.02131376668373243, 0.9749283434075962, 0.0037578899086715607]\n",
      "round: 4, cost: 401, evals: 8022.0, top: 0.6174284257914956\n",
      "[0.5090887547250394, 0.12904841255756558, 0.3618628327173949]\n",
      "round: 5, cost: 501, evals: 10023.0, top: 0.6307019933107857\n",
      "[0.18140772561033675, 0.6631120676699221, 0.15548020671974108]\n",
      "round: 6, cost: 601, evals: 12054.0, top: 0.6406458291793705\n",
      "[0.4663502614165756, 0.35088805145120394, 0.18276168713222044]\n",
      "round: 7, cost: 701, evals: 14070.0, top: 0.6472281084802823\n",
      "[0.8027188184529993, 0.0735098062502709, 0.12377137529672984]\n",
      "round: 8, cost: 801, evals: 16093.0, top: 0.6669907553800165\n",
      "[0.16375273895246378, 0.4296646267346924, 0.4065826343128438]\n",
      "round: 9, cost: 901, evals: 18106.0, top: 0.6771124268022267\n",
      "[0.3766737905878739, 0.05103116947231533, 0.5722950399398108]\n",
      "Evaluating for signal_strength: 1\n",
      "Running  NAM {'landscape_id': 'liver:450:540:0', 'start_id': 'AAV2:450-540', 'signal_strength': 1}\n",
      "[0.3333333333333333, 0.3333333333333333, 0.3333333333333333]\n",
      "round: 0, cost: 1, evals: 0.0, top: 0.5\n",
      "[0.3333333333333333, 0.3333333333333333, 0.3333333333333333]\n",
      "round: 1, cost: 101, evals: 2032.0, top: 0.5370377514742758\n",
      "[0.3333333333333333, 0.3333333333333333, 0.3333333333333333]\n",
      "round: 2, cost: 201, evals: 4039.0, top: 0.561328060274597\n",
      "[0.3333333333333333, 0.3333333333333333, 0.3333333333333333]\n",
      "round: 3, cost: 301, evals: 6056.0, top: 0.5836917124134551\n",
      "[0.3333333333333333, 0.3333333333333333, 0.3333333333333333]\n",
      "round: 4, cost: 401, evals: 8094.0, top: 0.6207294638877309\n",
      "[0.3333333333333333, 0.3333333333333333, 0.3333333333333333]\n",
      "round: 5, cost: 501, evals: 10137.0, top: 0.6461164979854047\n",
      "[0.3333333333333333, 0.3333333333333333, 0.3333333333333333]\n",
      "round: 6, cost: 601, evals: 12161.0, top: 0.6510522420159356\n",
      "[0.3333333333333333, 0.3333333333333333, 0.3333333333333333]\n",
      "round: 7, cost: 701, evals: 14166.0, top: 0.6691208992337581\n",
      "[0.3333333333333333, 0.3333333333333333, 0.3333333333333333]\n",
      "round: 8, cost: 801, evals: 16197.0, top: 0.6967238559280896\n",
      "[0.3333333333333333, 0.3333333333333333, 0.3333333333333333]\n",
      "round: 9, cost: 901, evals: 18232.0, top: 0.7192577982121328\n"
     ]
    },
    {
     "name": "stdout",
     "output_type": "stream",
     "text": [
      "[0.3333333333333333, 0.3333333333333333, 0.3333333333333333]\n",
      "Running NN {'landscape_id': 'liver:450:540:0', 'start_id': 'AAV2:450-540'}\n",
      "[0.3333333333333333, 0.3333333333333333, 0.3333333333333333]\n",
      "round: 0, cost: 1, evals: 0.0, top: 0.5\n",
      "[0.5699675941355984, 0.06665787091843965, 0.36337453494596195]\n",
      "round: 1, cost: 101, evals: 2011.0, top: 0.5241601953768473\n",
      "[0.3841845468020044, 0.5241114634794034, 0.09170398971859223]\n",
      "round: 2, cost: 201, evals: 4017.0, top: 0.529587914418017\n",
      "[0.15669199015820395, 0.5649077898457628, 0.27840021999603315]\n",
      "round: 3, cost: 301, evals: 6062.0, top: 0.529587914418017\n",
      "[0.08459386379498485, 0.6400618722187693, 0.2753442639862458]\n",
      "round: 4, cost: 401, evals: 8104.0, top: 0.529587914418017\n",
      "[0.048535681289126206, 0.6089895556392011, 0.3424747630716727]\n",
      "round: 5, cost: 501, evals: 10117.0, top: 0.529587914418017\n",
      "[0.12080279738939921, 0.41104621090340904, 0.46815099170719177]\n",
      "round: 6, cost: 601, evals: 12124.0, top: 0.529587914418017\n",
      "[0.2614452598703149, 0.6833352933361577, 0.055219446793527235]\n",
      "round: 7, cost: 701, evals: 14145.0, top: 0.529587914418017\n",
      "[0.1093803378459945, 0.7071856154417085, 0.1834340467122969]\n",
      "round: 8, cost: 801, evals: 16176.0, top: 0.5314886309064264\n",
      "[0.2715039964371107, 0.052348451149485706, 0.6761475524134036]\n",
      "round: 9, cost: 901, evals: 18191.0, top: 0.557439974045234\n",
      "[0.5809991401076905, 0.35197555845372674, 0.06702530143858285]\n",
      "Running null  {'landscape_id': 'liver:450:540:0', 'start_id': 'AAV2:450-540'}\n",
      "[0.3333333333333333, 0.3333333333333333, 0.3333333333333333]\n",
      "round: 0, cost: 1, evals: 0.0, top: 0.5\n",
      "[0.046789065924400894, 0.6569303159449917, 0.2962806181306074]\n",
      "round: 1, cost: 101, evals: 2021.0, top: 0.5194867478582911\n",
      "[0.24929863622688603, 0.7257398469089704, 0.02496151686414346]\n",
      "round: 2, cost: 201, evals: 4045.0, top: 0.5194867478582911\n",
      "[0.046664820757265885, 0.9285556012587677, 0.024779577983966385]\n",
      "round: 3, cost: 301, evals: 6068.0, top: 0.5213958460524267\n",
      "[0.05129379048341262, 0.05129379048341262, 0.8974124190331748]\n",
      "round: 4, cost: 401, evals: 8104.0, top: 0.5435924246588479\n",
      "[0.13082978682611077, 0.73900284484291, 0.13016736833097914]\n",
      "round: 5, cost: 501, evals: 10142.0, top: 0.5644064099897957\n",
      "[0.12746439050336533, 0.8147705529980662, 0.05776505649856835]\n",
      "round: 6, cost: 601, evals: 12163.0, top: 0.5644064099897957\n",
      "[0.5825305714143727, 0.3113570963492717, 0.10611233223635562]\n",
      "round: 7, cost: 701, evals: 14208.0, top: 0.5841313352529741\n",
      "[0.4432480423737554, 0.5222961905926738, 0.03445576703357067]\n",
      "round: 8, cost: 801, evals: 16255.0, top: 0.6211690867272499\n",
      "[0.07992013382559303, 0.3084565747629049, 0.6116232914115021]\n",
      "round: 9, cost: 901, evals: 18270.0, top: 0.6211690867272499\n",
      "[0.16912210357321392, 0.02596904314604228, 0.8049088532807438]\n",
      "Running on heart:450:540:0.01\n",
      "start seq AAV2:450-540\n",
      "Evaluating for signal_strength: 0\n",
      "Running  NAM {'landscape_id': 'heart:450:540:0.01', 'start_id': 'AAV2:450-540', 'signal_strength': 0}\n",
      "[0.3333333333333333, 0.3333333333333333, 0.3333333333333333]\n",
      "round: 0, cost: 1, evals: 0.0, top: 0.511037789792071\n",
      "[0.3349863725384419, 0.31484087632192076, 0.3501727511396373]\n",
      "round: 1, cost: 101, evals: 2005.0, top: 0.5226414010465532\n",
      "[0.7809136711086978, 0.07722246010105253, 0.14186386879024954]\n",
      "round: 2, cost: 201, evals: 4027.0, top: 0.5317630170505252\n",
      "[0.31483956096680743, 0.11201275249054553, 0.5731476865426471]\n",
      "round: 3, cost: 301, evals: 6047.0, top: 0.5531400033075152\n",
      "[0.5752824768430687, 0.01716063926246381, 0.4075568838944676]\n",
      "round: 4, cost: 401, evals: 8092.0, top: 0.5531400033075152\n",
      "[0.654144129509798, 0.26638597403212744, 0.0794698964580745]\n",
      "round: 5, cost: 501, evals: 10143.0, top: 0.5531400033075152\n",
      "[0.03876946496267835, 0.6453499064613001, 0.3158806285760215]\n",
      "round: 6, cost: 601, evals: 12163.0, top: 0.5601744032754812\n",
      "[0.2816257987195003, 0.647196274790283, 0.07117792649021683]\n",
      "round: 7, cost: 701, evals: 14219.0, top: 0.5601744032754812\n",
      "[0.11889072666151652, 0.8276987403389884, 0.05341053299949516]\n",
      "round: 8, cost: 801, evals: 16255.0, top: 0.5744070920157677\n",
      "[0.7226061994153656, 0.13778141918213196, 0.13961238140250243]\n",
      "round: 9, cost: 901, evals: 18261.0, top: 0.5922384722402648\n",
      "[0.2608359916532861, 0.3871337085866431, 0.3520302997600709]\n",
      "Evaluating for signal_strength: 0.5\n",
      "Running  NAM {'landscape_id': 'heart:450:540:0.01', 'start_id': 'AAV2:450-540', 'signal_strength': 0.5}\n",
      "[0.3333333333333333, 0.3333333333333333, 0.3333333333333333]\n",
      "round: 0, cost: 1, evals: 0.0, top: 0.4932114549087479\n",
      "[0.5336078085841303, 0.43105905363457175, 0.03533313778129789]\n",
      "round: 1, cost: 101, evals: 2029.0, top: 0.5212812511124879\n",
      "[0.14116738044374003, 0.6435836127555068, 0.21524900680075318]\n",
      "round: 2, cost: 201, evals: 4052.0, top: 0.5212812511124879\n",
      "[0.037246583466979316, 0.7083872502725947, 0.2543661662604259]\n",
      "round: 3, cost: 301, evals: 6102.0, top: 0.5405431674571719\n",
      "[0.7935017254672215, 0.013145161166691632, 0.1933531133660869]\n",
      "round: 4, cost: 401, evals: 8141.0, top: 0.5458602331199665\n",
      "[0.10167496166782657, 0.885804044511241, 0.012520993820932542]\n",
      "round: 5, cost: 501, evals: 10174.0, top: 0.5458602331199665\n",
      "[0.07747421587977274, 0.9104405754076381, 0.012085208712589146]\n",
      "round: 6, cost: 601, evals: 12223.0, top: 0.5458602331199665\n",
      "[0.03467947813619647, 0.1613604297946252, 0.8039600920691783]\n",
      "round: 7, cost: 701, evals: 14239.0, top: 0.5458602331199665\n",
      "[0.6774710016182198, 0.1003359041543242, 0.22219309422745587]\n",
      "round: 8, cost: 801, evals: 16255.0, top: 0.5458602331199665\n",
      "[0.1360074342836725, 0.727985131432655, 0.1360074342836725]\n",
      "round: 9, cost: 901, evals: 18274.0, top: 0.5458602331199665\n",
      "[0.12957275968762003, 0.8537064645890526, 0.016720775723327377]\n",
      "Evaluating for signal_strength: 0.9\n",
      "Running  NAM {'landscape_id': 'heart:450:540:0.01', 'start_id': 'AAV2:450-540', 'signal_strength': 0.9}\n",
      "[0.3333333333333333, 0.3333333333333333, 0.3333333333333333]\n",
      "round: 0, cost: 1, evals: 0.0, top: 0.5077438992479966\n",
      "[0.048300734578324636, 0.9404499002818597, 0.011249365139815705]\n",
      "round: 1, cost: 101, evals: 2031.0, top: 0.5355988931971704\n",
      "[0.35513439491887944, 0.035802517420956824, 0.6090630876601637]\n",
      "round: 2, cost: 201, evals: 4076.0, top: 0.5511877929599416\n",
      "[0.21000403521922711, 0.681315847422295, 0.10868011735847789]\n",
      "round: 3, cost: 301, evals: 6129.0, top: 0.5556008748629405\n",
      "[0.3343983545790208, 0.32281412576233953, 0.34278751965863963]\n",
      "round: 4, cost: 401, evals: 8151.0, top: 0.5853862654527502\n",
      "[0.286818977669543, 0.6889310830450792, 0.024249939285377862]\n",
      "round: 5, cost: 501, evals: 10164.0, top: 0.5993912719567016\n",
      "[0.2615509006161234, 0.128544561602675, 0.6099045377812016]\n",
      "round: 6, cost: 601, evals: 12186.0, top: 0.6205688631110441\n",
      "[0.46112807281616175, 0.11332064398937267, 0.4255512831944656]\n",
      "round: 7, cost: 701, evals: 14187.0, top: 0.6402129295987865\n",
      "[0.3946023514599867, 0.5611554928010779, 0.04424215573893542]\n",
      "round: 8, cost: 801, evals: 16242.0, top: 0.661424914263304\n",
      "[0.25091163397018623, 0.09939281091734911, 0.6496955551124646]\n",
      "round: 9, cost: 901, evals: 18267.0, top: 0.6674475008724103\n",
      "[0.1481433010020428, 0.3688118192911317, 0.4830448797068255]\n",
      "Evaluating for signal_strength: 1\n",
      "Running  NAM {'landscape_id': 'heart:450:540:0.01', 'start_id': 'AAV2:450-540', 'signal_strength': 1}\n",
      "[0.3333333333333333, 0.3333333333333333, 0.3333333333333333]\n",
      "round: 0, cost: 1, evals: 0.0, top: 0.4907741490563143\n",
      "[0.4316770523825926, 0.24859847303379923, 0.3197244745836082]\n",
      "round: 1, cost: 101, evals: 2012.0, top: 0.5388055980542592\n",
      "[0.33467216376809844, 0.3976451310003264, 0.26768270523157517]\n",
      "round: 2, cost: 201, evals: 4064.0, top: 0.5691946263932879\n",
      "[0.08118992849121534, 0.19881444886283553, 0.7199956226459491]\n",
      "round: 3, cost: 301, evals: 6118.0, top: 0.5794120589357424\n",
      "[0.3151169833585905, 0.21174571091206204, 0.47313730572934737]\n",
      "round: 4, cost: 401, evals: 8135.0, top: 0.5912114530944595\n",
      "[0.4921404219267479, 0.2376065784640209, 0.2702529996092313]\n",
      "round: 5, cost: 501, evals: 10189.0, top: 0.6113414367595237\n",
      "[0.21986632253959015, 0.3531988850231963, 0.42693479243721366]\n",
      "round: 6, cost: 601, evals: 12202.0, top: 0.6277999424132881\n",
      "[0.25278662858241097, 0.46785091909505233, 0.27936245232253676]\n",
      "round: 7, cost: 701, evals: 14258.0, top: 0.6421034998629261\n",
      "[0.4043374260789884, 0.39870997400933245, 0.19695259991167907]\n",
      "round: 8, cost: 801, evals: 16288.0, top: 0.6653550168956809\n"
     ]
    },
    {
     "name": "stdout",
     "output_type": "stream",
     "text": [
      "[0.24241196628010606, 0.4936360538691146, 0.26395197985077945]\n",
      "round: 9, cost: 901, evals: 18303.0, top: 0.6747509942701155\n",
      "[0.41710503483035943, 0.13142895190079154, 0.451466013268849]\n",
      "Running NN {'landscape_id': 'heart:450:540:0.01', 'start_id': 'AAV2:450-540'}\n",
      "[0.3333333333333333, 0.3333333333333333, 0.3333333333333333]\n",
      "round: 0, cost: 1, evals: 0.0, top: 0.5167414672125303\n",
      "[0.9450212564421431, 0.019516814882468404, 0.035461928675388575]\n",
      "round: 1, cost: 101, evals: 2003.0, top: 0.5306871378236385\n",
      "[0.34791348733104827, 0.524275787272367, 0.12781072539658475]\n",
      "round: 2, cost: 201, evals: 4014.0, top: 0.5342971476240692\n",
      "[0.15711203402482166, 0.7887798752137909, 0.05410809076138737]\n",
      "round: 3, cost: 301, evals: 6037.0, top: 0.5382097707528637\n",
      "[0.3526790932486991, 0.3236604533756504, 0.3236604533756504]\n",
      "round: 4, cost: 401, evals: 8082.0, top: 0.5473077770987261\n",
      "[0.3839409445585839, 0.32067649479332055, 0.29538256064809554]\n",
      "round: 5, cost: 501, evals: 10127.0, top: 0.5473077770987261\n",
      "[0.10404304547539193, 0.06577737717326208, 0.830179577351346]\n",
      "round: 6, cost: 601, evals: 12137.0, top: 0.5473077770987261\n",
      "[0.15582218285751687, 0.16467351519098228, 0.6795043019515009]\n",
      "round: 7, cost: 701, evals: 14137.0, top: 0.5473077770987261\n",
      "[0.13661619006717643, 0.018717135619378406, 0.8446666743134452]\n",
      "round: 8, cost: 801, evals: 16186.0, top: 0.5556793596682461\n",
      "[0.17521006088611324, 0.011964402592047904, 0.8128255365218388]\n",
      "round: 9, cost: 901, evals: 18222.0, top: 0.5734413896947435\n",
      "[0.47352531198659037, 0.11779853959139994, 0.4086761484220097]\n",
      "Running null  {'landscape_id': 'heart:450:540:0.01', 'start_id': 'AAV2:450-540'}\n",
      "[0.3333333333333333, 0.3333333333333333, 0.3333333333333333]\n",
      "round: 0, cost: 1, evals: 0.0, top: 0.48550064764533757\n",
      "[0.6440754598985108, 0.3182993142544745, 0.03762522584701475]\n",
      "round: 1, cost: 101, evals: 2012.0, top: 0.5103257664085196\n",
      "[0.22169671740440977, 0.09454092813226771, 0.6837623544633226]\n",
      "round: 2, cost: 201, evals: 4031.0, top: 0.5238825291066472\n",
      "[0.05323659274357919, 0.28547173569525125, 0.6612916715611696]\n",
      "round: 3, cost: 301, evals: 6039.0, top: 0.5238825291066472\n",
      "[0.3692695241735108, 0.36520400659577146, 0.2655264692307177]\n",
      "round: 4, cost: 401, evals: 8047.0, top: 0.5373418536847122\n",
      "[0.3250809850971547, 0.5195444804052489, 0.15537453449759633]\n",
      "round: 5, cost: 501, evals: 10103.0, top: 0.5373418536847122\n",
      "[0.046997036625815725, 0.4978397649531624, 0.4551631984210218]\n",
      "round: 6, cost: 601, evals: 12104.0, top: 0.548196833734755\n",
      "[0.09270687216979481, 0.09270687216979481, 0.8145862556604104]\n",
      "round: 7, cost: 701, evals: 14117.0, top: 0.548196833734755\n",
      "[0.8417713494055534, 0.10669324039798482, 0.05153541019646173]\n",
      "round: 8, cost: 801, evals: 16156.0, top: 0.548196833734755\n",
      "[0.6231766806829651, 0.2693572404123474, 0.10746607890468751]\n",
      "round: 9, cost: 901, evals: 18199.0, top: 0.5589659284680695\n",
      "[0.04472250216213838, 0.5966569275840161, 0.3586205702538456]\n",
      "Running on liver:450:540:0.01\n",
      "start seq AAV2:450-540\n",
      "Evaluating for signal_strength: 0\n",
      "Running  NAM {'landscape_id': 'liver:450:540:0.01', 'start_id': 'AAV2:450-540', 'signal_strength': 0}\n",
      "[0.3333333333333333, 0.3333333333333333, 0.3333333333333333]\n",
      "round: 0, cost: 1, evals: 0.0, top: 0.4847380046987358\n",
      "[0.23317771600835155, 0.23317771600835155, 0.533644567983297]\n",
      "round: 1, cost: 101, evals: 2017.0, top: 0.5477757616550837\n",
      "[0.4518748974763704, 0.29946865008904566, 0.24865645243458395]\n",
      "round: 2, cost: 201, evals: 4048.0, top: 0.5685175627243113\n",
      "[0.03742466907950795, 0.118571417140486, 0.844003913780006]\n",
      "round: 3, cost: 301, evals: 6065.0, top: 0.5876433539278408\n",
      "[0.09027807139295169, 0.578716150401362, 0.3310057782056864]\n",
      "round: 4, cost: 401, evals: 8096.0, top: 0.5876433539278408\n",
      "[0.41472188247542585, 0.2926390587622871, 0.2926390587622871]\n",
      "round: 5, cost: 501, evals: 10121.0, top: 0.5876433539278408\n",
      "[0.1624311038731071, 0.8066176513844668, 0.030951244742425936]\n",
      "round: 6, cost: 601, evals: 12154.0, top: 0.5963070107860169\n",
      "[0.010025338542095705, 0.9807234637691907, 0.0092511976887136]\n",
      "round: 7, cost: 701, evals: 14158.0, top: 0.6102075115084905\n",
      "[0.02429309658805911, 0.08882605671746488, 0.886880846694476]\n",
      "round: 8, cost: 801, evals: 16185.0, top: 0.6282561925290056\n",
      "[0.8016974936093053, 0.08759763261256014, 0.1107048737781344]\n",
      "round: 9, cost: 901, evals: 18199.0, top: 0.6282561925290056\n",
      "[0.09807827970205484, 0.6969865841453662, 0.20493513615257902]\n",
      "Evaluating for signal_strength: 0.5\n",
      "Running  NAM {'landscape_id': 'liver:450:540:0.01', 'start_id': 'AAV2:450-540', 'signal_strength': 0.5}\n",
      "[0.3333333333333333, 0.3333333333333333, 0.3333333333333333]\n",
      "round: 0, cost: 1, evals: 0.0, top: 0.47720822345012043\n",
      "[0.7874574239519602, 0.11798049339842111, 0.09456208264961864]\n",
      "round: 1, cost: 101, evals: 2000.0, top: 0.5453260227418991\n",
      "[0.35555359513641194, 0.5902516399624382, 0.05419476490114973]\n",
      "round: 2, cost: 201, evals: 4006.0, top: 0.5558349826560045\n",
      "[0.3690652957749737, 0.031249371739122633, 0.5996853324859036]\n",
      "round: 3, cost: 301, evals: 6031.0, top: 0.5558349826560045\n",
      "[0.6403145956971652, 0.28491121634857636, 0.07477418795425847]\n",
      "round: 4, cost: 401, evals: 8061.0, top: 0.5704454080071999\n",
      "[0.47525652105561716, 0.4844967734848872, 0.04024670545949565]\n",
      "round: 5, cost: 501, evals: 10112.0, top: 0.5704454080071999\n",
      "[0.06920987796957552, 0.7882912790149136, 0.14249884301551108]\n",
      "round: 6, cost: 601, evals: 12162.0, top: 0.576201213421162\n",
      "[0.14204755089624635, 0.14204755089624635, 0.7159048982075074]\n",
      "round: 7, cost: 701, evals: 14211.0, top: 0.5885993363607493\n",
      "[0.8984214657815687, 0.08040748365116335, 0.021171050567267913]\n",
      "round: 8, cost: 801, evals: 16226.0, top: 0.6150150680563973\n",
      "[0.0357192710413259, 0.6347879722020728, 0.3294927567566013]\n",
      "round: 9, cost: 901, evals: 18272.0, top: 0.6308232777164076\n",
      "[0.7792871312317825, 0.09041060904391632, 0.13030225972430107]\n",
      "Evaluating for signal_strength: 0.9\n",
      "Running  NAM {'landscape_id': 'liver:450:540:0.01', 'start_id': 'AAV2:450-540', 'signal_strength': 0.9}\n",
      "[0.3333333333333333, 0.3333333333333333, 0.3333333333333333]\n",
      "round: 0, cost: 1, evals: 0.0, top: 0.493322578073965\n",
      "[0.08480838238445756, 0.4074589332097442, 0.5077326844057982]\n",
      "round: 1, cost: 101, evals: 2009.0, top: 0.5472351109017037\n",
      "[0.9245413726005257, 0.07327037166217999, 0.0021882557372941993]\n",
      "round: 2, cost: 201, evals: 4063.0, top: 0.5821247658337374\n",
      "[0.054242969796305114, 0.345774508615951, 0.5999825215877438]\n",
      "round: 3, cost: 301, evals: 6064.0, top: 0.597000328129254\n",
      "[0.7789230745291069, 0.03208824491771301, 0.1889886805531801]\n",
      "round: 4, cost: 401, evals: 8086.0, top: 0.6241544509444068\n",
      "[0.2921410493708787, 0.3639724951044264, 0.34388645552469477]\n",
      "round: 5, cost: 501, evals: 10099.0, top: 0.6628990614659068\n",
      "[0.04012352880609228, 0.46070059719393347, 0.4991758739999743]\n",
      "round: 6, cost: 601, evals: 12102.0, top: 0.6770125064123684\n",
      "[0.6514235304046879, 0.004235097624075028, 0.3443413719712371]\n",
      "round: 7, cost: 701, evals: 14107.0, top: 0.6977789607472744\n",
      "[0.15723676910585743, 0.7109592857075316, 0.1318039451866109]\n",
      "round: 8, cost: 801, evals: 16118.0, top: 0.7306579187636824\n",
      "[0.4289547283381774, 0.34669724308903693, 0.2243480285727857]\n",
      "round: 9, cost: 901, evals: 18156.0, top: 0.7380700545095927\n",
      "[0.34361322319263804, 0.001863137264188921, 0.6545236395431729]\n",
      "Evaluating for signal_strength: 1\n",
      "Running  NAM {'landscape_id': 'liver:450:540:0.01', 'start_id': 'AAV2:450-540', 'signal_strength': 1}\n",
      "[0.3333333333333333, 0.3333333333333333, 0.3333333333333333]\n",
      "round: 0, cost: 1, evals: 0.0, top: 0.5124160349959705\n",
      "[0.3711894699577019, 0.33462227287672813, 0.29418825716556996]\n",
      "round: 1, cost: 101, evals: 2004.0, top: 0.5529769891021155\n",
      "[0.3616452942939796, 0.27188327844317767, 0.3664714272628426]\n",
      "round: 2, cost: 201, evals: 4051.0, top: 0.575149317931957\n",
      "[0.3282638656806454, 0.40154858545574956, 0.2701875488636049]\n",
      "round: 3, cost: 301, evals: 6075.0, top: 0.606265668275191\n",
      "[0.3172752420048853, 0.2985373052924697, 0.38418745270264504]\n",
      "round: 4, cost: 401, evals: 8128.0, top: 0.6385023649044999\n",
      "[0.2925203474559588, 0.3637027124823472, 0.3437769400616941]\n",
      "round: 5, cost: 501, evals: 10172.0, top: 0.6670371024818312\n",
      "[0.3342483236764432, 0.30970440752480655, 0.3560472687987504]\n",
      "round: 6, cost: 601, evals: 12172.0, top: 0.6882359711485316\n"
     ]
    },
    {
     "name": "stdout",
     "output_type": "stream",
     "text": [
      "[0.32586103594804877, 0.314333172576491, 0.3598057914754601]\n",
      "round: 7, cost: 701, evals: 14213.0, top: 0.7027872889043028\n",
      "[0.2982952552304284, 0.3758692331343007, 0.3258355116352708]\n",
      "round: 8, cost: 801, evals: 16236.0, top: 0.7258146399412503\n",
      "[0.5004121314526175, 0.1726440244537219, 0.3269438440936605]\n",
      "round: 9, cost: 901, evals: 18281.0, top: 0.7377989895015248\n",
      "[0.32338216631942035, 0.3488207871569259, 0.3277970465236539]\n",
      "Running NN {'landscape_id': 'liver:450:540:0.01', 'start_id': 'AAV2:450-540'}\n",
      "[0.3333333333333333, 0.3333333333333333, 0.3333333333333333]\n",
      "round: 0, cost: 1, evals: 0.0, top: 0.5032946463967922\n",
      "[0.28635073122951243, 0.014688298083625713, 0.6989609706868617]\n",
      "round: 1, cost: 101, evals: 2012.0, top: 0.5239189148339167\n",
      "[0.16804899981697757, 0.149864557695302, 0.6820864424877204]\n",
      "round: 2, cost: 201, evals: 4040.0, top: 0.579129010597968\n",
      "[0.5437330901507942, 0.36883311060793916, 0.08743379924126664]\n",
      "round: 3, cost: 301, evals: 6071.0, top: 0.6006764602347218\n",
      "[0.6826420947945796, 0.1535449371633845, 0.16381296804203602]\n",
      "round: 4, cost: 401, evals: 8122.0, top: 0.6279721612084507\n",
      "[0.05878730111873031, 0.30823785334578235, 0.6329748455354873]\n",
      "round: 5, cost: 501, evals: 10144.0, top: 0.6283452535720109\n",
      "[0.11961480139112712, 0.6852966992148758, 0.19508849939399708]\n",
      "round: 6, cost: 601, evals: 12197.0, top: 0.6427924084834816\n",
      "[0.6186756932898829, 0.06913219469844477, 0.3121921120116723]\n",
      "round: 7, cost: 701, evals: 14229.0, top: 0.6446667808708704\n",
      "[0.10992530451637146, 0.5095573913780369, 0.3805173041055917]\n",
      "round: 8, cost: 801, evals: 16280.0, top: 0.6606010318878026\n",
      "[0.8285026610642751, 0.133786416313869, 0.03771092262185596]\n",
      "round: 9, cost: 901, evals: 18291.0, top: 0.69481393382398\n",
      "[0.25971799215013497, 0.18674484675753306, 0.553537161092332]\n",
      "Running null  {'landscape_id': 'liver:450:540:0.01', 'start_id': 'AAV2:450-540'}\n",
      "[0.3333333333333333, 0.3333333333333333, 0.3333333333333333]\n",
      "round: 0, cost: 1, evals: 0.0, top: 0.5010462056699887\n",
      "[0.1334476277256454, 0.11395587754977737, 0.7525964947245772]\n",
      "round: 1, cost: 101, evals: 2045.0, top: 0.5276310438441615\n",
      "[0.1593184880194858, 0.062119619912802536, 0.7785618920677115]\n",
      "round: 2, cost: 201, evals: 4080.0, top: 0.5428266360611695\n",
      "[0.3250749817900102, 0.3250749817900102, 0.34985003641997947]\n",
      "round: 3, cost: 301, evals: 6097.0, top: 0.5428266360611695\n",
      "[0.3333333333333333, 0.3333333333333333, 0.3333333333333333]\n",
      "round: 4, cost: 401, evals: 8137.0, top: 0.5467271751201386\n",
      "[0.06804127686103383, 0.14459387713986718, 0.7873648459990991]\n",
      "round: 5, cost: 501, evals: 10163.0, top: 0.5633971600363545\n",
      "[0.23109309189044572, 0.07252836405985372, 0.6963785440497006]\n",
      "round: 6, cost: 601, evals: 12184.0, top: 0.5633971600363545\n",
      "[0.08275280594616247, 0.08275280594616247, 0.8344943881076751]\n",
      "round: 7, cost: 701, evals: 14189.0, top: 0.5677023229302853\n",
      "[0.0593808942014703, 0.6765455028988244, 0.2640736028997053]\n",
      "round: 8, cost: 801, evals: 16210.0, top: 0.5763225150966017\n",
      "[0.060946783905912134, 0.8304020235942466, 0.10865119249984126]\n",
      "round: 9, cost: 901, evals: 18266.0, top: 0.5854180224162461\n",
      "[0.02072706870263624, 0.41949060231441054, 0.5597823289829533]\n",
      "Running on heart:450:540:0.1\n",
      "start seq AAV2:450-540\n",
      "Evaluating for signal_strength: 0\n",
      "Running  NAM {'landscape_id': 'heart:450:540:0.1', 'start_id': 'AAV2:450-540', 'signal_strength': 0}\n",
      "[0.3333333333333333, 0.3333333333333333, 0.3333333333333333]\n",
      "round: 0, cost: 1, evals: 0.0, top: 0.6200399183067561\n",
      "[0.08644355832043243, 0.08644355832043243, 0.8271128833591351]\n",
      "round: 1, cost: 101, evals: 2028.0, top: 0.6646191563031287\n",
      "[0.10778138142714165, 0.06886164927968762, 0.8233569692931708]\n",
      "round: 2, cost: 201, evals: 4035.0, top: 0.6711501316891209\n",
      "[0.41580232727932925, 0.3884430822296342, 0.19575459049103666]\n",
      "round: 3, cost: 301, evals: 6081.0, top: 0.7084653167502156\n",
      "[0.07285041151993633, 0.5960547342663753, 0.3310948542136884]\n",
      "round: 4, cost: 401, evals: 8128.0, top: 0.7346673896174751\n",
      "[0.14602883454997573, 0.10226389254136008, 0.7517072729086641]\n",
      "round: 5, cost: 501, evals: 10157.0, top: 0.7404709280312202\n",
      "[0.3333333333333333, 0.3333333333333333, 0.3333333333333333]\n",
      "round: 6, cost: 601, evals: 12178.0, top: 0.8532141016895487\n",
      "[0.3333333333333333, 0.3333333333333333, 0.3333333333333333]\n",
      "round: 7, cost: 701, evals: 14202.0, top: 0.8532141016895487\n",
      "[0.02277995580091906, 0.4660057787045691, 0.5112142654945118]\n",
      "round: 8, cost: 801, evals: 16210.0, top: 0.8532141016895487\n",
      "[0.4360558741290619, 0.0881135273891617, 0.4758305984817765]\n",
      "round: 9, cost: 901, evals: 18213.0, top: 0.8532141016895487\n",
      "[0.6054095372189255, 0.1114516645135557, 0.28313879826751887]\n",
      "Evaluating for signal_strength: 0.5\n",
      "Running  NAM {'landscape_id': 'heart:450:540:0.1', 'start_id': 'AAV2:450-540', 'signal_strength': 0.5}\n",
      "[0.3333333333333333, 0.3333333333333333, 0.3333333333333333]\n",
      "round: 0, cost: 1, evals: 0.0, top: 0.37098123028034935\n",
      "[0.6067682000778708, 0.05077730726814328, 0.3424544926539859]\n",
      "round: 1, cost: 101, evals: 2005.0, top: 0.7145670286668324\n",
      "[0.04478973613287956, 0.7360859420771718, 0.21912432178994867]\n",
      "round: 2, cost: 201, evals: 4012.0, top: 0.7145670286668324\n",
      "[0.5047685821159721, 0.12449412382915291, 0.370737294054875]\n",
      "round: 3, cost: 301, evals: 6050.0, top: 0.7145670286668324\n",
      "[0.6020398332352476, 0.15242333319803325, 0.24553683356671924]\n",
      "round: 4, cost: 401, evals: 8081.0, top: 0.7145670286668324\n",
      "[0.48401778165256704, 0.04045442814005054, 0.4755277902073824]\n",
      "round: 5, cost: 501, evals: 10104.0, top: 0.7145670286668324\n",
      "[0.08736810348512834, 0.0365403488504823, 0.8760915476643892]\n",
      "round: 6, cost: 601, evals: 12133.0, top: 0.7145670286668324\n",
      "[0.5964262003803822, 0.25224792681421154, 0.15132587280540627]\n",
      "round: 7, cost: 701, evals: 14134.0, top: 0.7145670286668324\n",
      "[0.4172137407760727, 0.5365335004553035, 0.04625275876862382]\n",
      "round: 8, cost: 801, evals: 16139.0, top: 0.7145670286668324\n",
      "[0.5278913984200868, 0.051581679119200426, 0.4205269224607127]\n",
      "round: 9, cost: 901, evals: 18172.0, top: 0.7145670286668324\n",
      "[0.05961582323481578, 0.12587293217817228, 0.8145112445870119]\n",
      "Evaluating for signal_strength: 0.9\n",
      "Running  NAM {'landscape_id': 'heart:450:540:0.1', 'start_id': 'AAV2:450-540', 'signal_strength': 0.9}\n",
      "[0.3333333333333333, 0.3333333333333333, 0.3333333333333333]\n",
      "round: 0, cost: 1, evals: 0.0, top: 0.6428205600514089\n",
      "[0.04076867795044617, 0.21182303753650614, 0.7474082845130476]\n",
      "round: 1, cost: 101, evals: 2011.0, top: 0.700377552910185\n",
      "[0.63142430232735, 0.3044724163498804, 0.06410328132276955]\n",
      "round: 2, cost: 201, evals: 4032.0, top: 0.7412899450888615\n",
      "[0.02003493470465898, 0.02003493470465898, 0.959930130590682]\n",
      "round: 3, cost: 301, evals: 6051.0, top: 0.7697707529026926\n",
      "[0.43650783857690856, 0.3826874127754235, 0.18080474864766785]\n",
      "round: 4, cost: 401, evals: 8070.0, top: 0.7697707529026926\n",
      "[0.08266670651927811, 0.12959452088307175, 0.7877387725976501]\n",
      "round: 5, cost: 501, evals: 10100.0, top: 0.7697707529026926\n",
      "[0.4894251136465439, 0.4593168576966048, 0.05125802865685136]\n",
      "round: 6, cost: 601, evals: 12125.0, top: 0.7940780192644896\n",
      "[0.8747112294117845, 0.11543246512688114, 0.009856305461334485]\n",
      "round: 7, cost: 701, evals: 14158.0, top: 0.7940780192644896\n",
      "[0.19230837047601473, 0.37603266608225694, 0.43165896344172844]\n",
      "round: 8, cost: 801, evals: 16177.0, top: 0.7940780192644896\n",
      "[0.6307864580394648, 0.013830569029430449, 0.35538297293110466]\n",
      "round: 9, cost: 901, evals: 18210.0, top: 0.8309383376438331\n",
      "[0.3406276489231504, 0.31904243964507273, 0.3403299114317769]\n",
      "Evaluating for signal_strength: 1\n",
      "Running  NAM {'landscape_id': 'heart:450:540:0.1', 'start_id': 'AAV2:450-540', 'signal_strength': 1}\n",
      "[0.3333333333333333, 0.3333333333333333, 0.3333333333333333]\n",
      "round: 0, cost: 1, evals: 0.0, top: 0.46895313015553564\n",
      "[0.2509214676051777, 0.35876123189750364, 0.39031730049731866]\n",
      "round: 1, cost: 101, evals: 2013.0, top: 0.7586186785081439\n",
      "[0.023955741738308937, 0.030195648048614538, 0.9458486102130764]\n",
      "round: 2, cost: 201, evals: 4050.0, top: 0.7586186785081439\n",
      "[0.06326369821204204, 0.46098681098931305, 0.4757494907986449]\n",
      "round: 3, cost: 301, evals: 6059.0, top: 0.7586186785081439\n",
      "[0.588774826873491, 0.2056125865632545, 0.2056125865632545]\n",
      "round: 4, cost: 401, evals: 8094.0, top: 0.7586186785081439\n"
     ]
    },
    {
     "name": "stdout",
     "output_type": "stream",
     "text": [
      "[0.7765836799094264, 0.06757201885387935, 0.15584430123669413]\n",
      "round: 5, cost: 501, evals: 10116.0, top: 0.7708842619580831\n",
      "[0.012991774564458256, 0.09218212542518701, 0.8948261000103547]\n",
      "round: 6, cost: 601, evals: 12120.0, top: 0.7708842619580831\n",
      "[0.017411587641838762, 0.8296151671753945, 0.15297324518276667]\n",
      "round: 7, cost: 701, evals: 14158.0, top: 0.7708842619580831\n",
      "[0.8510210804377459, 0.07014829460746634, 0.0788306249547876]\n",
      "round: 8, cost: 801, evals: 16189.0, top: 0.7708842619580831\n",
      "[0.3197191430048548, 0.3982786638744767, 0.2820021931206684]\n",
      "round: 9, cost: 901, evals: 18191.0, top: 0.7708842619580831\n",
      "[0.024081366154568965, 0.9518372676908621, 0.024081366154568965]\n",
      "Running NN {'landscape_id': 'heart:450:540:0.1', 'start_id': 'AAV2:450-540'}\n",
      "[0.3333333333333333, 0.3333333333333333, 0.3333333333333333]\n",
      "round: 0, cost: 1, evals: 0.0, top: 0.5007046030899548\n",
      "[0.15392665311437465, 0.7647443601417931, 0.08132898674383231]\n",
      "round: 1, cost: 101, evals: 2028.0, top: 0.7073562042545465\n",
      "[0.3664970717194218, 0.47773754157135906, 0.15576538670921902]\n",
      "round: 2, cost: 201, evals: 4058.0, top: 0.7073562042545465\n",
      "[0.13496629732883758, 0.7102325323094968, 0.15480117036166569]\n",
      "round: 3, cost: 301, evals: 6084.0, top: 0.7280652893570831\n",
      "[0.2304888096162636, 0.3550472527326582, 0.41446393765107825]\n",
      "round: 4, cost: 401, evals: 8096.0, top: 0.7280652893570831\n",
      "[0.42802129042469567, 0.5595939806817746, 0.01238472889352971]\n",
      "round: 5, cost: 501, evals: 10108.0, top: 0.7280652893570831\n",
      "[0.04484843036840406, 0.2503376249470307, 0.7048139446845653]\n",
      "round: 6, cost: 601, evals: 12118.0, top: 0.7280652893570831\n",
      "[0.7972035158170658, 0.1408362899935447, 0.061960194189389424]\n",
      "round: 7, cost: 701, evals: 14149.0, top: 0.7280652893570831\n",
      "[0.021913214745605265, 0.32199736040011906, 0.6560894248542758]\n",
      "round: 8, cost: 801, evals: 16188.0, top: 0.7280652893570831\n",
      "[0.0942416634737756, 0.8787749376601613, 0.026983398866063175]\n",
      "round: 9, cost: 901, evals: 18227.0, top: 0.7280652893570831\n",
      "[0.5046447277172458, 0.03120141428651591, 0.4641538579962384]\n",
      "Running null  {'landscape_id': 'heart:450:540:0.1', 'start_id': 'AAV2:450-540'}\n",
      "[0.3333333333333333, 0.3333333333333333, 0.3333333333333333]\n",
      "round: 0, cost: 1, evals: 0.0, top: 0.6458158037402822\n",
      "[0.46589852582139796, 0.0804473943869611, 0.453654079791641]\n",
      "round: 1, cost: 101, evals: 2028.0, top: 0.7803929427693106\n",
      "[0.2483127557607678, 0.2483127557607678, 0.5033744884784643]\n",
      "round: 2, cost: 201, evals: 4058.0, top: 0.7803929427693106\n",
      "[0.02339058516798389, 0.7303950179678066, 0.24621439686420948]\n",
      "round: 3, cost: 301, evals: 6061.0, top: 0.7803929427693106\n",
      "[0.5121710732978239, 0.16495208841459114, 0.322876838287585]\n",
      "round: 4, cost: 401, evals: 8104.0, top: 0.7803929427693106\n",
      "[0.25712834093210946, 0.6033531697042017, 0.1395184893636888]\n",
      "round: 5, cost: 501, evals: 10126.0, top: 0.7803929427693106\n",
      "[0.21311046540908982, 0.48512580570192476, 0.3017637288889855]\n",
      "round: 6, cost: 601, evals: 12148.0, top: 0.7803929427693106\n",
      "[0.748463800466644, 0.1257680997666781, 0.1257680997666781]\n",
      "round: 7, cost: 701, evals: 14163.0, top: 0.7803929427693106\n",
      "[0.5642943947857679, 0.09153957628856822, 0.3441660289256638]\n",
      "round: 8, cost: 801, evals: 16175.0, top: 0.7803929427693106\n",
      "[0.03496251404410914, 0.6481015974457541, 0.3169358885101367]\n",
      "round: 9, cost: 901, evals: 18195.0, top: 0.7803929427693106\n",
      "[0.3749114984925443, 0.5160797441603545, 0.10900875734710128]\n",
      "Running on liver:450:540:0.1\n",
      "start seq AAV2:450-540\n",
      "Evaluating for signal_strength: 0\n",
      "Running  NAM {'landscape_id': 'liver:450:540:0.1', 'start_id': 'AAV2:450-540', 'signal_strength': 0}\n",
      "[0.3333333333333333, 0.3333333333333333, 0.3333333333333333]\n",
      "round: 0, cost: 1, evals: 0.0, top: 0.5536353403639896\n",
      "[0.11074614582945126, 0.09055723307274535, 0.7986966210978035]\n",
      "round: 1, cost: 101, evals: 2027.0, top: 0.6599896548077704\n",
      "[0.12959212534616246, 0.08066000287122735, 0.7897478717826102]\n",
      "round: 2, cost: 201, evals: 4057.0, top: 0.6599896548077704\n",
      "[0.7493155638129892, 0.12698283248214626, 0.12370160370486452]\n",
      "round: 3, cost: 301, evals: 6063.0, top: 0.6599896548077704\n",
      "[0.32576284177211456, 0.34847431645577076, 0.32576284177211456]\n",
      "round: 4, cost: 401, evals: 8082.0, top: 0.6599896548077704\n",
      "[0.27669757722375454, 0.1934521695878913, 0.5298502531883542]\n",
      "round: 5, cost: 501, evals: 10119.0, top: 0.6599896548077704\n",
      "[0.11159071339142031, 0.38617505055066575, 0.502234236057914]\n",
      "round: 6, cost: 601, evals: 12161.0, top: 0.6599896548077704\n",
      "[0.0336947760497207, 0.4768509408628081, 0.4894542830874712]\n",
      "round: 7, cost: 701, evals: 14175.0, top: 0.6599896548077704\n",
      "[0.11617432841356867, 0.11428457075815766, 0.7695411008282736]\n",
      "round: 8, cost: 801, evals: 16178.0, top: 0.6599896548077704\n",
      "[0.554453993948075, 0.2441747876186316, 0.2013712184332933]\n",
      "round: 9, cost: 901, evals: 18213.0, top: 0.6599896548077704\n",
      "[0.08335994395826157, 0.05782779861721571, 0.8588122574245227]\n",
      "Evaluating for signal_strength: 0.5\n",
      "Running  NAM {'landscape_id': 'liver:450:540:0.1', 'start_id': 'AAV2:450-540', 'signal_strength': 0.5}\n",
      "[0.3333333333333333, 0.3333333333333333, 0.3333333333333333]\n",
      "round: 0, cost: 1, evals: 0.0, top: 0.5875876847918302\n",
      "[0.06220764507418771, 0.33782803711747933, 0.599964317808333]\n",
      "round: 1, cost: 101, evals: 2027.0, top: 0.6417404298642531\n",
      "[0.8216762030978061, 0.010032076405023013, 0.16829172049717098]\n",
      "round: 2, cost: 201, evals: 4050.0, top: 0.6417404298642531\n",
      "[0.820283686897239, 0.06972115028900074, 0.10999516281376036]\n",
      "round: 3, cost: 301, evals: 6083.0, top: 0.6417404298642531\n",
      "[0.043360890435920785, 0.936860863580946, 0.019778245983133186]\n",
      "round: 4, cost: 401, evals: 8109.0, top: 0.7639500073043815\n",
      "[0.15145845610006264, 0.04906287281172107, 0.7994786710882164]\n",
      "round: 5, cost: 501, evals: 10144.0, top: 0.7639500073043815\n",
      "[0.1939552179104533, 0.7837363163607988, 0.02230846572874787]\n",
      "round: 6, cost: 601, evals: 12186.0, top: 0.7639500073043815\n",
      "[0.8161593778363108, 0.1601437014970053, 0.023696920666683954]\n",
      "round: 7, cost: 701, evals: 14220.0, top: 0.7639500073043815\n",
      "[0.03188373610793189, 0.8315424243787161, 0.13657383951335217]\n",
      "round: 8, cost: 801, evals: 16228.0, top: 0.7639500073043815\n",
      "[0.07049793984729162, 0.6553425801331662, 0.2741594800195423]\n",
      "round: 9, cost: 901, evals: 18228.0, top: 0.7639500073043815\n",
      "[0.1471467956933295, 0.3209576373575757, 0.5318955669490948]\n",
      "Evaluating for signal_strength: 0.9\n",
      "Running  NAM {'landscape_id': 'liver:450:540:0.1', 'start_id': 'AAV2:450-540', 'signal_strength': 0.9}\n",
      "[0.3333333333333333, 0.3333333333333333, 0.3333333333333333]\n",
      "round: 0, cost: 1, evals: 0.0, top: 0.6773951172705691\n",
      "[0.043706891730961775, 0.043706891730961775, 0.9125862165380765]\n",
      "round: 1, cost: 101, evals: 2033.0, top: 0.6773951172705691\n",
      "[0.5657694760548697, 0.2011009220298798, 0.23312960191525056]\n",
      "round: 2, cost: 201, evals: 4039.0, top: 0.7440479478636931\n",
      "[0.4973735381771136, 0.47194689119670796, 0.030679570626178335]\n",
      "round: 3, cost: 301, evals: 6058.0, top: 0.7562765293971141\n",
      "[0.03809871829005019, 0.04408092252590487, 0.917820359184045]\n",
      "round: 4, cost: 401, evals: 8071.0, top: 0.7562765293971141\n",
      "[0.5230473014539873, 0.4539998104882317, 0.02295288805778107]\n",
      "round: 5, cost: 501, evals: 10114.0, top: 0.7618247281641322\n",
      "[0.12063935137026148, 0.12705937677208878, 0.7523012718576497]\n",
      "round: 6, cost: 601, evals: 12139.0, top: 0.7618247281641322\n",
      "[0.15749673412055729, 0.2904707979042304, 0.5520324679752122]\n",
      "round: 7, cost: 701, evals: 14158.0, top: 0.7618247281641322\n",
      "[0.06296432732904916, 0.029428737491203137, 0.9076069351797477]\n",
      "round: 8, cost: 801, evals: 16172.0, top: 0.7618247281641322\n",
      "[0.4627082583279771, 0.367135366453109, 0.1701563752189139]\n",
      "round: 9, cost: 901, evals: 18193.0, top: 0.7618247281641322\n",
      "[0.048041807877702326, 0.26793857307260505, 0.6840196190496927]\n",
      "Evaluating for signal_strength: 1\n",
      "Running  NAM {'landscape_id': 'liver:450:540:0.1', 'start_id': 'AAV2:450-540', 'signal_strength': 1}\n",
      "[0.3333333333333333, 0.3333333333333333, 0.3333333333333333]\n",
      "round: 0, cost: 1, evals: 0.0, top: 0.4047369546449174\n",
      "[0.13695278571588232, 0.09315710917739546, 0.7698901051067222]\n",
      "round: 1, cost: 101, evals: 2025.0, top: 0.6968321615831558\n",
      "[0.026402666319206996, 0.6414311867395667, 0.3321661469412264]\n",
      "round: 2, cost: 201, evals: 4060.0, top: 0.8250431512171064\n"
     ]
    },
    {
     "name": "stdout",
     "output_type": "stream",
     "text": [
      "[0.5744282751326554, 0.04180286930140278, 0.38376885556594187]\n",
      "round: 3, cost: 301, evals: 6082.0, top: 0.8250431512171064\n",
      "[0.08413884741823006, 0.3479817683044737, 0.5678793842772963]\n",
      "round: 4, cost: 401, evals: 8115.0, top: 0.8250431512171064\n",
      "[0.09436663967277065, 0.018702400852221152, 0.8869309594750082]\n",
      "round: 5, cost: 501, evals: 10154.0, top: 0.8250431512171064\n",
      "[0.3927554820951228, 0.036709524918985555, 0.5705349929858916]\n",
      "round: 6, cost: 601, evals: 12178.0, top: 0.8250431512171064\n",
      "[0.6106905471493006, 0.061962235536842734, 0.3273472173138566]\n",
      "round: 7, cost: 701, evals: 14223.0, top: 0.8250431512171064\n",
      "[0.3397307495484693, 0.143690287297203, 0.5165789631543277]\n",
      "round: 8, cost: 801, evals: 16227.0, top: 0.8250431512171064\n",
      "[0.22844405784899616, 0.1371387196899302, 0.6344172224610737]\n",
      "round: 9, cost: 901, evals: 18231.0, top: 0.8250431512171064\n",
      "[0.4909281219571611, 0.4923155033462647, 0.0167563746965741]\n",
      "Running NN {'landscape_id': 'liver:450:540:0.1', 'start_id': 'AAV2:450-540'}\n",
      "[0.3333333333333333, 0.3333333333333333, 0.3333333333333333]\n",
      "round: 0, cost: 1, evals: 0.0, top: 0.5118347398275823\n",
      "[0.07565823724222835, 0.15576927556386985, 0.7685724871939018]\n",
      "round: 1, cost: 101, evals: 2037.0, top: 0.6260157796379451\n",
      "[0.6750311506377509, 0.16248442468112453, 0.16248442468112453]\n",
      "round: 2, cost: 201, evals: 4039.0, top: 0.6260157796379451\n",
      "[0.3366382687655939, 0.5050587183783752, 0.1583030128560307]\n",
      "round: 3, cost: 301, evals: 6080.0, top: 0.6260157796379451\n",
      "[0.37445997730536157, 0.07862496532161062, 0.5469150573730278]\n",
      "round: 4, cost: 401, evals: 8107.0, top: 0.6270533291925839\n",
      "[0.09612255463094752, 0.3044021493532713, 0.5994752960157811]\n",
      "round: 5, cost: 501, evals: 10122.0, top: 0.6481973021546973\n",
      "[0.6156402617717522, 0.2932728570114558, 0.09108688121679187]\n",
      "round: 6, cost: 601, evals: 12132.0, top: 0.7175084177850574\n",
      "[0.11493955920760036, 0.8206850093306678, 0.06437543146173175]\n",
      "round: 7, cost: 701, evals: 14151.0, top: 0.7175084177850574\n",
      "[0.022712468879977327, 0.6372612180260124, 0.3400263130940102]\n",
      "round: 8, cost: 801, evals: 16156.0, top: 0.7175084177850574\n",
      "[0.38916451327475526, 0.08165805629628065, 0.5291774304289641]\n",
      "round: 9, cost: 901, evals: 18186.0, top: 0.7175084177850574\n",
      "[0.49333301319882084, 0.4257660356435069, 0.08090095115767218]\n",
      "Running null  {'landscape_id': 'liver:450:540:0.1', 'start_id': 'AAV2:450-540'}\n",
      "[0.3333333333333333, 0.3333333333333333, 0.3333333333333333]\n",
      "round: 0, cost: 1, evals: 0.0, top: 0.5702845240216048\n",
      "[0.014174992952975321, 0.014174992952975321, 0.9716500140940494]\n",
      "round: 1, cost: 101, evals: 2008.0, top: 0.6790836356323791\n",
      "[0.021774500781597043, 0.4545785814325252, 0.5236469177858777]\n",
      "round: 2, cost: 201, evals: 4042.0, top: 0.6790836356323791\n",
      "[0.10571986813618564, 0.6651740018671921, 0.22910612999662214]\n",
      "round: 3, cost: 301, evals: 6061.0, top: 0.6790836356323791\n",
      "[0.8437216861071569, 0.08366305159353678, 0.07261526229930632]\n",
      "round: 4, cost: 401, evals: 8069.0, top: 0.6790836356323791\n",
      "[0.8293375367763174, 0.11435363412637695, 0.05630882909730566]\n",
      "round: 5, cost: 501, evals: 10105.0, top: 0.6790836356323791\n",
      "[0.207933290656243, 0.4363791004942284, 0.35568760884952866]\n",
      "round: 6, cost: 601, evals: 12117.0, top: 0.6790836356323791\n",
      "[0.0874917547558238, 0.8366955000801359, 0.07581274516404035]\n",
      "round: 7, cost: 701, evals: 14130.0, top: 0.6790836356323791\n",
      "[0.9130288017628347, 0.0434855991185826, 0.0434855991185826]\n",
      "round: 8, cost: 801, evals: 16140.0, top: 0.6790836356323791\n",
      "[0.10358320751388347, 0.7928335849722331, 0.10358320751388347]\n",
      "round: 9, cost: 901, evals: 18167.0, top: 0.6790836356323791\n",
      "[0.4171448308960277, 0.13329523301528884, 0.44955993608868344]\n"
     ]
    }
   ],
   "source": [
    "evaluator_bo.evaluate_for_landscapes(evaluator_bo.consistency_robustness_independence, num_starts=3)"
   ]
  },
  {
   "cell_type": "code",
   "execution_count": null,
   "metadata": {},
   "outputs": [],
   "source": []
  }
 ],
 "metadata": {
  "kernelspec": {
   "display_name": "Python 3",
   "language": "python",
   "name": "python3"
  },
  "language_info": {
   "codemirror_mode": {
    "name": "ipython",
    "version": 3
   },
   "file_extension": ".py",
   "mimetype": "text/x-python",
   "name": "python",
   "nbconvert_exporter": "python",
   "pygments_lexer": "ipython3",
   "version": "3.6.6"
  }
 },
 "nbformat": 4,
 "nbformat_minor": 2
}
